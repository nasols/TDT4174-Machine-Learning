{
 "cells": [
  {
   "cell_type": "code",
   "execution_count": 1,
   "metadata": {},
   "outputs": [],
   "source": [
    "import os\n",
    "import pandas as pd\n",
    "import shutil"
   ]
  },
  {
   "cell_type": "code",
   "execution_count": 2,
   "metadata": {},
   "outputs": [],
   "source": [
    "def export_parquet_to_csv(directory):\n",
    "    # Create a new directory for CSV files\n",
    "    csv_dir = os.path.join(directory, 'csv_files')\n",
    "    if not os.path.exists(csv_dir):\n",
    "        os.makedirs(csv_dir)\n",
    "\n",
    "    # List all parquet files in the directory\n",
    "    parquet_files = [f for f in os.listdir(directory) if f.endswith('.parquet')]\n",
    "\n",
    "    # Convert each parquet file to CSV\n",
    "    for pq_file in parquet_files:\n",
    "        data = pd.read_parquet(os.path.join(directory, pq_file))\n",
    "        csv_file_name = os.path.splitext(pq_file)[0] + '.csv'\n",
    "        data.to_csv(os.path.join(csv_dir, csv_file_name), index=False)\n"
   ]
  },
  {
   "cell_type": "code",
   "execution_count": 3,
   "metadata": {},
   "outputs": [
    {
     "data": {
      "text/plain": [
       "['X_train_estimated.csv',\n",
       " 'X_train_observed.csv',\n",
       " 'train_targets.csv',\n",
       " 'X_test_estimated.csv']"
      ]
     },
     "execution_count": 3,
     "metadata": {},
     "output_type": "execute_result"
    }
   ],
   "source": [
    "# Export parquet files in 'A' directory to CSV\n",
    "export_parquet_to_csv('A')\n",
    "\n",
    "# List the CSV files created\n",
    "os.listdir(os.path.join('A', 'csv_files'))"
   ]
  },
  {
   "cell_type": "code",
   "execution_count": 4,
   "metadata": {},
   "outputs": [
    {
     "data": {
      "text/plain": [
       "['X_train_estimated.csv',\n",
       " 'X_train_observed.csv',\n",
       " 'train_targets.csv',\n",
       " 'X_test_estimated.csv']"
      ]
     },
     "execution_count": 4,
     "metadata": {},
     "output_type": "execute_result"
    }
   ],
   "source": [
    "# Export parquet files in 'B' directory to CSV\n",
    "export_parquet_to_csv('B')\n",
    "\n",
    "# List the CSV files created\n",
    "os.listdir(os.path.join('B', 'csv_files'))"
   ]
  },
  {
   "cell_type": "code",
   "execution_count": 5,
   "metadata": {},
   "outputs": [
    {
     "data": {
      "text/plain": [
       "['X_train_estimated.csv',\n",
       " 'X_train_observed.csv',\n",
       " 'train_targets.csv',\n",
       " 'X_test_estimated.csv']"
      ]
     },
     "execution_count": 5,
     "metadata": {},
     "output_type": "execute_result"
    }
   ],
   "source": [
    "# Export parquet files in 'C' directory to CSV\n",
    "export_parquet_to_csv('C')\n",
    "\n",
    "# List the CSV files created\n",
    "os.listdir(os.path.join('C', 'csv_files'))"
   ]
  }
 ],
 "metadata": {
  "kernelspec": {
   "display_name": "Python 3",
   "language": "python",
   "name": "python3"
  },
  "language_info": {
   "codemirror_mode": {
    "name": "ipython",
    "version": 3
   },
   "file_extension": ".py",
   "mimetype": "text/x-python",
   "name": "python",
   "nbconvert_exporter": "python",
   "pygments_lexer": "ipython3",
   "version": "3.11.0"
  }
 },
 "nbformat": 4,
 "nbformat_minor": 2
}
