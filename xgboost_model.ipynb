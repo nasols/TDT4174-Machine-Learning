{
 "cells": [
  {
   "cell_type": "markdown",
   "metadata": {},
   "source": [
    "# Notebook for XGBoost testing"
   ]
  },
  {
   "cell_type": "markdown",
   "metadata": {},
   "source": [
    "## Getting data"
   ]
  },
  {
   "cell_type": "code",
   "execution_count": 104,
   "metadata": {},
   "outputs": [
    {
     "data": {
      "text/plain": [
       "(136242, 43)"
      ]
     },
     "execution_count": 104,
     "metadata": {},
     "output_type": "execute_result"
    }
   ],
   "source": [
    "%store -r dm \n",
    "\n",
    "from sklearn.model_selection import train_test_split\n",
    "\n",
    "dm = dm\n",
    "\n",
    "X_A_train = dm.data_A.iloc[:, 2:-1]\n",
    "y_A_train = dm.data_A.iloc[:,0]\n",
    "X_B_train = dm.data_B.iloc[:, 2:-1]\n",
    "y_B_train = dm.data_B.iloc[:,0]\n",
    "X_C_train = dm.data_C.iloc[:, 2:-1]\n",
    "y_C_train = dm.data_C.iloc[:,0]\n",
    "\n",
    "X_train_A, X_test_A, y_train_A, y_test_A = train_test_split(X_A_train, y_A_train, shuffle=True)\n",
    "X_train_B, X_test_B, y_train_B, y_test_B = train_test_split(X_B_train, y_B_train, shuffle=True)\n",
    "X_train_C, X_test_C, y_train_C, y_test_C = train_test_split(X_C_train, y_C_train, shuffle=True)\n",
    "\n",
    "X_A_submission = dm.X_test_estimated_a[dm.X_test_estimated_a.columns.intersection(X_A_train.columns)]\n",
    "X_B_submission = dm.X_test_estimated_b[dm.X_test_estimated_b.columns.intersection(X_B_train.columns)]\n",
    "X_C_submission = dm.X_test_estimated_c[dm.X_test_estimated_c.columns.intersection(X_C_train.columns)]\n",
    "\n",
    "X_A_train.shape"
   ]
  },
  {
   "cell_type": "markdown",
   "metadata": {},
   "source": [
    "## Using time series to split our data\n"
   ]
  },
  {
   "cell_type": "code",
   "execution_count": 105,
   "metadata": {},
   "outputs": [],
   "source": [
    "from sklearn.model_selection import TimeSeriesSplit\n",
    "\n",
    "ts_cv = TimeSeriesSplit(\n",
    "    n_splits=10,\n",
    "    gap=15,\n",
    "    max_train_size=10000,\n",
    "    test_size=1000,\n",
    ")\n",
    "\n",
    "all_splits_A = list(ts_cv.split(X_A_train, y_A_train))\n",
    "all_splits_B = list(ts_cv.split(X_B_train, y_B_train))\n",
    "all_splits_C = list(ts_cv.split(X_C_train, y_C_train))\n"
   ]
  },
  {
   "cell_type": "markdown",
   "metadata": {},
   "source": [
    "## Splitting our data normally"
   ]
  },
  {
   "cell_type": "code",
   "execution_count": 106,
   "metadata": {},
   "outputs": [],
   "source": [
    "\n",
    "X_train_A, X_test_A, y_train_A, y_test_A = train_test_split(X_A_train, y_A_train, shuffle=False, test_size=0.1)\n",
    "X_train_B, X_test_B, y_train_B, y_test_B = train_test_split(X_B_train, y_B_train, shuffle=False, test_size=0.1)\n",
    "X_train_C, X_test_C, y_train_C, y_test_C = train_test_split(X_C_train, y_C_train, shuffle=False, test_size=0.1)\n",
    "\n",
    "X_A_submission = dm.X_test_estimated_a[dm.X_test_estimated_a.columns.intersection(X_A_train.columns)]\n",
    "X_B_submission = dm.X_test_estimated_b[dm.X_test_estimated_b.columns.intersection(X_B_train.columns)]\n",
    "X_C_submission = dm.X_test_estimated_c[dm.X_test_estimated_c.columns.intersection(X_C_train.columns)]"
   ]
  },
  {
   "cell_type": "markdown",
   "metadata": {},
   "source": [
    "## Defining our model"
   ]
  },
  {
   "cell_type": "code",
   "execution_count": 110,
   "metadata": {},
   "outputs": [],
   "source": [
    "from xgboost import XGBRegressor\n",
    "\n",
    "xgb_A = XGBRegressor()\n",
    "xgb_B = XGBRegressor()\n",
    "xgb_C = XGBRegressor()\n"
   ]
  },
  {
   "cell_type": "markdown",
   "metadata": {},
   "source": [
    "## Training our model on time series"
   ]
  },
  {
   "cell_type": "code",
   "execution_count": 90,
   "metadata": {},
   "outputs": [
    {
     "name": "stdout",
     "output_type": "stream",
     "text": [
      "CURRENT SCORING A ----->    104.46614614170701\n",
      "CURRENT SCORING A ----->    108.72018849105918\n",
      "CURRENT SCORING A ----->    136.54284475366848\n",
      "CURRENT SCORING A ----->    260.17068012964376\n",
      "CURRENT SCORING A ----->    237.7066067611975\n",
      "CURRENT SCORING A ----->    504.82350545372844\n",
      "CURRENT SCORING A ----->    405.95321643406186\n",
      "CURRENT SCORING A ----->    669.4257213162938\n",
      "CURRENT SCORING A ----->    501.50392677930034\n",
      "CURRENT SCORING B ----->    7.77049536560415\n",
      "CURRENT SCORING B ----->    10.05257697996823\n",
      "CURRENT SCORING B ----->    17.45583734098516\n",
      "CURRENT SCORING B ----->    15.318454764519581\n",
      "CURRENT SCORING B ----->    25.990018080952023\n",
      "CURRENT SCORING B ----->    22.397877188516315\n",
      "CURRENT SCORING B ----->    70.49825163632556\n",
      "CURRENT SCORING B ----->    55.56585218903334\n",
      "CURRENT SCORING B ----->    77.41648554553643\n",
      "CURRENT SCORING B ----->    73.48194939061443\n",
      "CURRENT SCORING C ----->    4.145165840937271\n",
      "CURRENT SCORING C ----->    3.9330962650755557\n",
      "CURRENT SCORING C ----->    4.007325524149593\n",
      "CURRENT SCORING C ----->    29.72844538595463\n",
      "CURRENT SCORING C ----->    16.93883659684722\n",
      "CURRENT SCORING C ----->    27.246380983438915\n",
      "CURRENT SCORING C ----->    80.11829782531589\n",
      "CURRENT SCORING C ----->    59.437070333741026\n",
      "CURRENT SCORING C ----->    66.34238711701238\n",
      "CURRENT SCORING C ----->    64.89496429754085\n"
     ]
    }
   ],
   "source": [
    "\n",
    "from sklearn.metrics import mean_absolute_error\n",
    "import pandas as pd\n",
    "\n",
    "xgb_A.fit(X_A_train.iloc[all_splits_A[0][0]], y_A_train.iloc[all_splits_A[0][0]], eval_set=[(X_A_train.iloc[all_splits_A[0][1]], y_A_train.iloc[all_splits_A[0][1]])], verbose=0)\n",
    "xgb_B.fit(X_B_train.iloc[all_splits_B[0][0]], y_B_train.iloc[all_splits_B[0][0]], eval_set=[(X_B_train.iloc[all_splits_B[0][1]], y_B_train.iloc[all_splits_B[0][1]])], verbose=0)\n",
    "xgb_C.fit(X_C_train.iloc[all_splits_C[0][0]], y_C_train.iloc[all_splits_C[0][0]], eval_set=[(X_C_train.iloc[all_splits_C[0][1]], y_C_train.iloc[all_splits_C[0][1]])], verbose=0)\n",
    "\n",
    "\n",
    "for train, test in (all_splits_A[1:]): \n",
    "\n",
    "    xgb_A.fit(X_A_train.iloc[train], y_A_train.iloc[train], eval_set=[(X_A_train.iloc[test], y_A_train.iloc[test])], xgb_model=xgb_A, verbose=0)\n",
    "\n",
    "    preds_A = pd.DataFrame(xgb_A.predict(X_A_train.iloc[test]))\n",
    "    actual = y_A_train.iloc[test]\n",
    "    \n",
    "    print(\"CURRENT SCORING A ----->   \", mean_absolute_error(actual, preds_A))\n",
    "\n",
    "for train, test in (all_splits_B): \n",
    "\n",
    "    xgb_B.fit(X_B_train.iloc[train], y_B_train.iloc[train], eval_set=[(X_B_train.iloc[test], y_B_train.iloc[test])], xgb_model=xgb_B, verbose=0)\n",
    "\n",
    "    preds_B = pd.DataFrame(xgb_B.predict(X_B_train.iloc[test]))\n",
    "    actual = y_B_train.iloc[test]\n",
    "\n",
    "    print(\"CURRENT SCORING B ----->   \", mean_absolute_error(actual, preds_B))\n",
    "\n",
    "for train, test in (all_splits_C): \n",
    "\n",
    "    xgb_C.fit(X_C_train.iloc[train], y_C_train.iloc[train], eval_set=[(X_C_train.iloc[test], y_C_train.iloc[test])], xgb_model=xgb_C, verbose=0)\n",
    "\n",
    "    preds_C = pd.DataFrame(xgb_C.predict(X_C_train.iloc[test]))\n",
    "    actual = y_C_train.iloc[test]\n",
    "\n",
    "    print(\"CURRENT SCORING C ----->   \", mean_absolute_error(actual, preds_C))\n",
    "\n"
   ]
  },
  {
   "cell_type": "markdown",
   "metadata": {},
   "source": [
    "## Training our model on normal train/test/split"
   ]
  },
  {
   "cell_type": "code",
   "execution_count": 108,
   "metadata": {},
   "outputs": [
    {
     "data": {
      "text/html": [
       "<style>#sk-container-id-4 {color: black;background-color: white;}#sk-container-id-4 pre{padding: 0;}#sk-container-id-4 div.sk-toggleable {background-color: white;}#sk-container-id-4 label.sk-toggleable__label {cursor: pointer;display: block;width: 100%;margin-bottom: 0;padding: 0.3em;box-sizing: border-box;text-align: center;}#sk-container-id-4 label.sk-toggleable__label-arrow:before {content: \"▸\";float: left;margin-right: 0.25em;color: #696969;}#sk-container-id-4 label.sk-toggleable__label-arrow:hover:before {color: black;}#sk-container-id-4 div.sk-estimator:hover label.sk-toggleable__label-arrow:before {color: black;}#sk-container-id-4 div.sk-toggleable__content {max-height: 0;max-width: 0;overflow: hidden;text-align: left;background-color: #f0f8ff;}#sk-container-id-4 div.sk-toggleable__content pre {margin: 0.2em;color: black;border-radius: 0.25em;background-color: #f0f8ff;}#sk-container-id-4 input.sk-toggleable__control:checked~div.sk-toggleable__content {max-height: 200px;max-width: 100%;overflow: auto;}#sk-container-id-4 input.sk-toggleable__control:checked~label.sk-toggleable__label-arrow:before {content: \"▾\";}#sk-container-id-4 div.sk-estimator input.sk-toggleable__control:checked~label.sk-toggleable__label {background-color: #d4ebff;}#sk-container-id-4 div.sk-label input.sk-toggleable__control:checked~label.sk-toggleable__label {background-color: #d4ebff;}#sk-container-id-4 input.sk-hidden--visually {border: 0;clip: rect(1px 1px 1px 1px);clip: rect(1px, 1px, 1px, 1px);height: 1px;margin: -1px;overflow: hidden;padding: 0;position: absolute;width: 1px;}#sk-container-id-4 div.sk-estimator {font-family: monospace;background-color: #f0f8ff;border: 1px dotted black;border-radius: 0.25em;box-sizing: border-box;margin-bottom: 0.5em;}#sk-container-id-4 div.sk-estimator:hover {background-color: #d4ebff;}#sk-container-id-4 div.sk-parallel-item::after {content: \"\";width: 100%;border-bottom: 1px solid gray;flex-grow: 1;}#sk-container-id-4 div.sk-label:hover label.sk-toggleable__label {background-color: #d4ebff;}#sk-container-id-4 div.sk-serial::before {content: \"\";position: absolute;border-left: 1px solid gray;box-sizing: border-box;top: 0;bottom: 0;left: 50%;z-index: 0;}#sk-container-id-4 div.sk-serial {display: flex;flex-direction: column;align-items: center;background-color: white;padding-right: 0.2em;padding-left: 0.2em;position: relative;}#sk-container-id-4 div.sk-item {position: relative;z-index: 1;}#sk-container-id-4 div.sk-parallel {display: flex;align-items: stretch;justify-content: center;background-color: white;position: relative;}#sk-container-id-4 div.sk-item::before, #sk-container-id-4 div.sk-parallel-item::before {content: \"\";position: absolute;border-left: 1px solid gray;box-sizing: border-box;top: 0;bottom: 0;left: 50%;z-index: -1;}#sk-container-id-4 div.sk-parallel-item {display: flex;flex-direction: column;z-index: 1;position: relative;background-color: white;}#sk-container-id-4 div.sk-parallel-item:first-child::after {align-self: flex-end;width: 50%;}#sk-container-id-4 div.sk-parallel-item:last-child::after {align-self: flex-start;width: 50%;}#sk-container-id-4 div.sk-parallel-item:only-child::after {width: 0;}#sk-container-id-4 div.sk-dashed-wrapped {border: 1px dashed gray;margin: 0 0.4em 0.5em 0.4em;box-sizing: border-box;padding-bottom: 0.4em;background-color: white;}#sk-container-id-4 div.sk-label label {font-family: monospace;font-weight: bold;display: inline-block;line-height: 1.2em;}#sk-container-id-4 div.sk-label-container {text-align: center;}#sk-container-id-4 div.sk-container {/* jupyter's `normalize.less` sets `[hidden] { display: none; }` but bootstrap.min.css set `[hidden] { display: none !important; }` so we also need the `!important` here to be able to override the default hidden behavior on the sphinx rendered scikit-learn.org. See: https://github.com/scikit-learn/scikit-learn/issues/21755 */display: inline-block !important;position: relative;}#sk-container-id-4 div.sk-text-repr-fallback {display: none;}</style><div id=\"sk-container-id-4\" class=\"sk-top-container\"><div class=\"sk-text-repr-fallback\"><pre>XGBRegressor(base_score=None, booster=None, callbacks=None,\n",
       "             colsample_bylevel=None, colsample_bynode=None,\n",
       "             colsample_bytree=None, device=None, early_stopping_rounds=None,\n",
       "             enable_categorical=False, eval_metric=None, feature_types=None,\n",
       "             gamma=None, grow_policy=None, importance_type=None,\n",
       "             interaction_constraints=None, learning_rate=None, max_bin=None,\n",
       "             max_cat_threshold=None, max_cat_to_onehot=None,\n",
       "             max_delta_step=None, max_depth=None, max_leaves=None,\n",
       "             min_child_weight=None, missing=nan, monotone_constraints=None,\n",
       "             multi_strategy=None, n_estimators=None, n_jobs=None,\n",
       "             num_parallel_tree=None, random_state=None, ...)</pre><b>In a Jupyter environment, please rerun this cell to show the HTML representation or trust the notebook. <br />On GitHub, the HTML representation is unable to render, please try loading this page with nbviewer.org.</b></div><div class=\"sk-container\" hidden><div class=\"sk-item\"><div class=\"sk-estimator sk-toggleable\"><input class=\"sk-toggleable__control sk-hidden--visually\" id=\"sk-estimator-id-4\" type=\"checkbox\" checked><label for=\"sk-estimator-id-4\" class=\"sk-toggleable__label sk-toggleable__label-arrow\">XGBRegressor</label><div class=\"sk-toggleable__content\"><pre>XGBRegressor(base_score=None, booster=None, callbacks=None,\n",
       "             colsample_bylevel=None, colsample_bynode=None,\n",
       "             colsample_bytree=None, device=None, early_stopping_rounds=None,\n",
       "             enable_categorical=False, eval_metric=None, feature_types=None,\n",
       "             gamma=None, grow_policy=None, importance_type=None,\n",
       "             interaction_constraints=None, learning_rate=None, max_bin=None,\n",
       "             max_cat_threshold=None, max_cat_to_onehot=None,\n",
       "             max_delta_step=None, max_depth=None, max_leaves=None,\n",
       "             min_child_weight=None, missing=nan, monotone_constraints=None,\n",
       "             multi_strategy=None, n_estimators=None, n_jobs=None,\n",
       "             num_parallel_tree=None, random_state=None, ...)</pre></div></div></div></div></div>"
      ],
      "text/plain": [
       "XGBRegressor(base_score=None, booster=None, callbacks=None,\n",
       "             colsample_bylevel=None, colsample_bynode=None,\n",
       "             colsample_bytree=None, device=None, early_stopping_rounds=None,\n",
       "             enable_categorical=False, eval_metric=None, feature_types=None,\n",
       "             gamma=None, grow_policy=None, importance_type=None,\n",
       "             interaction_constraints=None, learning_rate=None, max_bin=None,\n",
       "             max_cat_threshold=None, max_cat_to_onehot=None,\n",
       "             max_delta_step=None, max_depth=None, max_leaves=None,\n",
       "             min_child_weight=None, missing=nan, monotone_constraints=None,\n",
       "             multi_strategy=None, n_estimators=None, n_jobs=None,\n",
       "             num_parallel_tree=None, random_state=None, ...)"
      ]
     },
     "execution_count": 108,
     "metadata": {},
     "output_type": "execute_result"
    }
   ],
   "source": [
    "xgb_A.fit(X_train_A, y_train_A, eval_set=[(X_test_A, y_test_A)], verbose=0)\n",
    "xgb_B.fit(X_train_B, y_train_B, eval_set=[(X_test_B, y_test_B)], verbose=0)\n",
    "xgb_C.fit(X_train_C, y_train_C, eval_set=[(X_test_C, y_test_C)], verbose=0)\n"
   ]
  },
  {
   "cell_type": "markdown",
   "metadata": {},
   "source": [
    "## Evaluating using MAE"
   ]
  },
  {
   "cell_type": "code",
   "execution_count": 109,
   "metadata": {},
   "outputs": [
    {
     "name": "stdout",
     "output_type": "stream",
     "text": [
      "140.65942055361336\n",
      "27.630429422420423\n",
      "28.12795247065992\n"
     ]
    }
   ],
   "source": [
    "from sklearn.metrics import mean_absolute_error\n",
    "import pandas as pd\n",
    "\n",
    "\n",
    "preds_A = pd.DataFrame(xgb_A.predict(X_test_A))\n",
    "actual = y_test_A\n",
    "\n",
    "print(mean_absolute_error(actual, preds_A))\n",
    "\n",
    "preds_B = pd.DataFrame(xgb_B.predict(X_test_B))\n",
    "actual = y_test_B\n",
    "\n",
    "print(mean_absolute_error(actual, preds_B))\n",
    "\n",
    "preds_C = pd.DataFrame(xgb_C.predict(X_test_C))\n",
    "actual = y_test_C\n",
    "\n",
    "print(mean_absolute_error(actual, preds_C))\n",
    "\n"
   ]
  },
  {
   "cell_type": "markdown",
   "metadata": {},
   "source": [
    "## Make preds"
   ]
  },
  {
   "cell_type": "code",
   "execution_count": 103,
   "metadata": {},
   "outputs": [
    {
     "data": {
      "text/html": [
       "<div>\n",
       "<style scoped>\n",
       "    .dataframe tbody tr th:only-of-type {\n",
       "        vertical-align: middle;\n",
       "    }\n",
       "\n",
       "    .dataframe tbody tr th {\n",
       "        vertical-align: top;\n",
       "    }\n",
       "\n",
       "    .dataframe thead th {\n",
       "        text-align: right;\n",
       "    }\n",
       "</style>\n",
       "<table border=\"1\" class=\"dataframe\">\n",
       "  <thead>\n",
       "    <tr style=\"text-align: right;\">\n",
       "      <th></th>\n",
       "      <th>prediction</th>\n",
       "    </tr>\n",
       "  </thead>\n",
       "  <tbody>\n",
       "    <tr>\n",
       "      <th>0</th>\n",
       "      <td>-0.898888</td>\n",
       "    </tr>\n",
       "    <tr>\n",
       "      <th>1</th>\n",
       "      <td>0.307747</td>\n",
       "    </tr>\n",
       "    <tr>\n",
       "      <th>2</th>\n",
       "      <td>5.864113</td>\n",
       "    </tr>\n",
       "    <tr>\n",
       "      <th>3</th>\n",
       "      <td>197.614258</td>\n",
       "    </tr>\n",
       "    <tr>\n",
       "      <th>4</th>\n",
       "      <td>429.093323</td>\n",
       "    </tr>\n",
       "    <tr>\n",
       "      <th>...</th>\n",
       "      <td>...</td>\n",
       "    </tr>\n",
       "    <tr>\n",
       "      <th>2155</th>\n",
       "      <td>30.773670</td>\n",
       "    </tr>\n",
       "    <tr>\n",
       "      <th>2156</th>\n",
       "      <td>7.342603</td>\n",
       "    </tr>\n",
       "    <tr>\n",
       "      <th>2157</th>\n",
       "      <td>-4.318516</td>\n",
       "    </tr>\n",
       "    <tr>\n",
       "      <th>2158</th>\n",
       "      <td>0.093121</td>\n",
       "    </tr>\n",
       "    <tr>\n",
       "      <th>2159</th>\n",
       "      <td>0.656687</td>\n",
       "    </tr>\n",
       "  </tbody>\n",
       "</table>\n",
       "<p>2160 rows × 1 columns</p>\n",
       "</div>"
      ],
      "text/plain": [
       "      prediction\n",
       "0      -0.898888\n",
       "1       0.307747\n",
       "2       5.864113\n",
       "3     197.614258\n",
       "4     429.093323\n",
       "...          ...\n",
       "2155   30.773670\n",
       "2156    7.342603\n",
       "2157   -4.318516\n",
       "2158    0.093121\n",
       "2159    0.656687\n",
       "\n",
       "[2160 rows x 1 columns]"
      ]
     },
     "execution_count": 103,
     "metadata": {},
     "output_type": "execute_result"
    }
   ],
   "source": [
    "## Specify the model to be used\n",
    "pred_A = xgb_A.predict(X_A_submission)\n",
    "pred_B = xgb_B.predict(X_B_submission)\n",
    "pred_C = xgb_C.predict(X_C_submission)\n",
    " \n",
    "test = pd.read_csv('test.csv')\n",
    "\n",
    "df_A = pd.DataFrame()\n",
    "\n",
    "df_A[\"prediction\"] = pred_A\n",
    "df_A[\"location\"] = \"A\"\n",
    "\n",
    "df_B = pd.DataFrame()\n",
    "\n",
    "df_B[\"prediction\"] = pred_B\n",
    "df_B[\"location\"] = \"B\"\n",
    "\n",
    "df_C = pd.DataFrame()\n",
    "\n",
    "df_C[\"prediction\"] = pred_C\n",
    "df_C[\"location\"] = \"C\"\n",
    "\n",
    "df_mid = pd.concat([df_A, df_B], ignore_index=True)\n",
    "\n",
    "df = pd.concat([df_mid, df_C], join=\"inner\", ignore_index=True)\n",
    "\n",
    "\n",
    "\n",
    "df = df.drop(\"location\", axis=1)\n",
    "\n",
    "\n",
    "# df[\"id\"] = test[\"id\"]\n",
    "\n",
    "# df = df[[\"id\", \"prediction\"]]\n",
    "\n",
    "#df[df<0] = 0\n",
    "\n",
    "# NAME THE FILE \n",
    "df.to_csv(\"sub33.csv\")\n",
    "\n",
    "df"
   ]
  }
 ],
 "metadata": {
  "kernelspec": {
   "display_name": "Python 3",
   "language": "python",
   "name": "python3"
  },
  "language_info": {
   "codemirror_mode": {
    "name": "ipython",
    "version": 3
   },
   "file_extension": ".py",
   "mimetype": "text/x-python",
   "name": "python",
   "nbconvert_exporter": "python",
   "pygments_lexer": "ipython3",
   "version": "3.10.7"
  }
 },
 "nbformat": 4,
 "nbformat_minor": 2
}
