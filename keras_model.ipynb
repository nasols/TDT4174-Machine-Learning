{
 "cells": [
  {
   "cell_type": "markdown",
   "metadata": {},
   "source": [
    "ALL MODELS DESCIRBED HERE RUN THE ENTIRE DATA PREP AND FEATURE ENGINEERING NOTEBOOKS \n",
    "ALSO RUNNING ON HOUR FREQUENCY \n",
    "BATCH SIZE 128\n",
    "EPOCHS 25\n",
    "\n",
    "sub 39 : \n",
    "        model_A = Sequential()\n",
    "\n",
    "        model_A.add(LSTM(128, return_sequences=True, input_shape=(X_train_A.shape[1], X_train_A.shape[2])))  # returns a sequence of vectors of dimension 32\n",
    "        model_A.add(LSTM(64, return_sequences=True))  # returns a sequence of vectors of dimension 32\n",
    "        model_A.add(GRU(64, activity_regularizer=\"l1_l2\"))\n",
    "        model_A.add(Dense(64, activity_regularizer=\"l1_l2\"))\n",
    "        model_A.add(Dropout(0.4))\n",
    "        model_A.add(Dense(32, activity_regularizer=\"l1_l2\"))\n",
    "        model_A.add(Dropout(0.4))\n",
    "        model_A.add(Dense(16, activity_regularizer=\"l1_l2\"))\n",
    "        model_A.add(Dropout(0.4))\n",
    "        model_A.add(Dense(1))\n",
    "        model_A.build(input_shape=(1,21))\n",
    "        model_A.summary()\n",
    "        model_A.compile(loss='mean_absolute_error', optimizer='adam')\n",
    "\n",
    "        local loss 39: \n",
    "                64/64 [==============================] - 1s 8ms/step\n",
    "                1095.9252690802348\n",
    "                77/77 [==============================] - 1s 8ms/step\n",
    "                108.4554586038961\n",
    "                76/76 [==============================] - 3s 10ms/step\n",
    "                91.25587557006634\n",
    "\n",
    "sub 40: \n",
    "        model_A.add(LSTM(128, return_sequences=True, input_shape=(X_train_A.shape[1], X_train_A.shape[2])))  # returns a sequence of vectors of dimension 32\n",
    "        model_A.add(LSTM(64, return_sequences=True))  # returns a sequence of vectors of dimension 32\n",
    "        model_A.add(GRU(64, activity_regularizer=\"l2\"))\n",
    "        model_A.add(Dense(64, activity_regularizer=\"l2\"))\n",
    "        model_A.add(Dropout(0.4))\n",
    "        model_A.add(Dense(32, activity_regularizer=\"l2\"))\n",
    "        model_A.add(Dropout(0.4))\n",
    "        model_A.add(Dense(16, activity_regularizer=\"l2\"))\n",
    "        model_A.add(Dropout(0.4))\n",
    "        model_A.add(Dense(1))\n",
    "        model_A.build(input_shape=(1,21))\n",
    "        model_A.summary()\n",
    "        model_A.compile(loss='mean_absolute_error', optimizer='adam')\n",
    "\n",
    "        local loss 40: \n",
    "                64/64 [==============================] - 0s 7ms/step\n",
    "                997.0125978473582\n",
    "                77/77 [==============================] - 0s 5ms/step\n",
    "                112.36317978896103\n",
    "                76/76 [==============================] - 4s 12ms/step\n",
    "                74.19562992330016\n",
    "\n",
    "sub 41: \n",
    "\n",
    "        model_A.add(LSTM(128, return_sequences=True, input_shape=(X_train_A.shape[1], X_train_A.shape[2])))  # returns a sequence of vectors of dimension 32\n",
    "        model_A.add(LSTM(64, return_sequences=True))  # returns a sequence of vectors of dimension 32\n",
    "        model_A.add(GRU(64, activity_regularizer=\"l2\"))\n",
    "        model_A.add(Dense(64, activity_regularizer=\"l2\"))\n",
    "        model_A.add(Dense(32, activity_regularizer=\"l2\"))\n",
    "        model_A.add(Dense(16, activity_regularizer=\"l2\"))\n",
    "        model_A.add(Dense(1))\n",
    "        model_A.build(input_shape=(1,21))\n",
    "        model_A.summary()\n",
    "        model_A.compile(loss='mean_absolute_error', optimizer='adam')\n",
    "\n",
    "        local loss 41: \n",
    "                64/64 [==============================] - 3s 12ms/step\n",
    "                1141.0985812133072\n",
    "                77/77 [==============================] - 2s 6ms/step\n",
    "                114.32893668831169\n",
    "                76/76 [==============================] - 3s 11ms/step\n",
    "                93.95477041873964\n",
    "                \n",
    "\n",
    "\n",
    "\n",
    "\n",
    "\n",
    "\n",
    "\n",
    "\n"
   ]
  },
  {
   "cell_type": "code",
   "execution_count": 2,
   "metadata": {},
   "outputs": [],
   "source": [
    "%load_ext autoreload\n",
    "%autoreload 2"
   ]
  },
  {
   "cell_type": "markdown",
   "metadata": {},
   "source": [
    "# Notebook for running RNN model\n",
    "\n",
    "RNN models (Recurent Neural Network) have LSTM neurons that hopefully can pick up on patterns evolving over time. "
   ]
  },
  {
   "cell_type": "code",
   "execution_count": 3,
   "metadata": {},
   "outputs": [],
   "source": [
    "import tensorflow\n",
    "import numpy as np \n",
    "import pandas as pd\n",
    "import matplotlib.pyplot as plt \n"
   ]
  },
  {
   "cell_type": "code",
   "execution_count": 2,
   "metadata": {},
   "outputs": [],
   "source": [
    "%store -r dm \n",
    "dm = dm\n"
   ]
  },
  {
   "cell_type": "code",
   "execution_count": 4,
   "metadata": {},
   "outputs": [
    {
     "name": "stdout",
     "output_type": "stream",
     "text": [
      "['X_test_estimated_a', 'data_A']\n",
      "['X_test_estimated_b', 'data_B']\n",
      "['X_test_estimated_c', 'data_C']\n"
     ]
    }
   ],
   "source": [
    "dm.combine_all_data()"
   ]
  },
  {
   "cell_type": "code",
   "execution_count": 19,
   "metadata": {},
   "outputs": [
    {
     "name": "stdout",
     "output_type": "stream",
     "text": [
      "(61234, 46) (61234,) (2160, 46)\n"
     ]
    }
   ],
   "source": [
    "\n",
    "from sklearn.model_selection import train_test_split\n",
    "\n",
    "\n",
    "X = dm.data.iloc[:, 2:]\n",
    "y = dm.data.iloc[:, 1]\n",
    "\n",
    "\n",
    "from sklearn.preprocessing import MinMaxScaler\n",
    "scaler = MinMaxScaler()\n",
    "cols = X.columns\n",
    "locs = X[\"location\"]\n",
    "X = X.drop(\"location\", axis=1)\n",
    "X = pd.DataFrame(scaler.fit_transform(X))\n",
    "X[\"location\"] = locs\n",
    "X.columns = cols\n",
    "\n",
    "\n",
    "X_A = X[X[\"location\"] == 0].iloc[:, 2:-1]\n",
    "y_A = dm.data_A.iloc[:, 1]\n",
    "X_B = X[X[\"location\"] == 1].iloc[:, 2:-1]\n",
    "y_B = dm.data_B.iloc[:, 1]\n",
    "X_C = X[X[\"location\"] == 2].iloc[:, 2:-1]\n",
    "y_C = dm.data_C.iloc[:, 1]\n",
    "\n",
    "X_A = dm.add_location(X_A, \"A\")\n",
    "X_B = dm.add_location(X_B, \"B\")\n",
    "X_C = dm.add_location(X_C, \"C\")\n",
    "\n",
    "X_train_A = X_A.iloc[0:int(0.7*X_A.shape[0]):]\n",
    "y_train_A = y_A.iloc[0:int(0.7*y_A.shape[0]):]\n",
    "X_test_A = X_A.iloc[-int(0.3*X_A.shape[0]):] \n",
    "y_test_A = y_A.iloc[-int(0.3*y_A.shape[0]):]\n",
    "\n",
    "X_test_A, X_validate_A, y_test_A, y_validate_A = train_test_split(X_test_A, y_test_A, train_size=0.4)\n",
    "\n",
    "X_train_B = X_B.iloc[0:int(0.7*X_B.shape[0]):]\n",
    "y_train_B = y_B.iloc[0:int(0.7*y_B.shape[0]):]\n",
    "X_test_B = X_B.iloc[-int(0.3*X_B.shape[0]):] \n",
    "y_test_B = y_B.iloc[-int(0.3*y_B.shape[0]):] \n",
    "\n",
    "X_test_B, X_validate_B, y_test_B, y_validate_B = train_test_split(X_test_B, y_test_B, train_size=0.4)\n",
    "\n",
    "X_train_C = X_C.iloc[0:int(0.7*X_C.shape[0]):]\n",
    "y_train_C = y_C.iloc[0:int(0.7*y_C.shape[0]):]\n",
    "X_test_C = X_C.iloc[-int(0.3*X_C.shape[0]):] \n",
    "y_test_C = y_C.iloc[-int(0.3*y_C.shape[0]):] \n",
    "\n",
    "X_test_C, X_validate_C, y_test_C, y_validate_C = train_test_split(X_test_C, y_test_C, train_size=0.4)\n",
    "\n",
    "X_train = pd.concat([X_train_A, X_train_B, X_train_C], ignore_index=True)\n",
    "X_validate = pd.concat([X_validate_A, X_validate_B, X_validate_C], ignore_index=True)\n",
    "X_test = pd.concat([X_test_A, X_test_B, X_test_C], ignore_index=True)\n",
    "\n",
    "y_train = pd.concat([y_train_A, y_train_B, y_train_C], ignore_index=True)\n",
    "y_validate = pd.concat([y_validate_A, y_validate_B, y_validate_C], ignore_index=True)\n",
    "y_test = pd.concat([y_test_A, y_test_B, y_test_C], ignore_index=True)\n",
    "\n",
    "\n",
    "\n",
    "\n",
    "# X_train_A, X_validate_A, y_train_A, y_validate_A = train_test_split(X_A_train, y_A_train, shuffle=False, train_size=0.9)\n",
    "# #X_validate_A, X_test_A, y_validate_A, y_test_A = train_test_split(X_validate_A, y_validate_A, shuffle=False, test_size=0.3)\n",
    "\n",
    "# X_train_B, X_validate_B, y_train_B, y_validate_B = train_test_split(X_B_train, y_B_train, shuffle=False, train_size=0.9)\n",
    "# #X_validate_B, X_test_B, y_validate_B, y_test_B = train_test_split(X_validate_B, y_validate_B, shuffle=False, test_size=0.3)\n",
    "\n",
    "# X_train_C, X_validate_C, y_train_C, y_validate_C = train_test_split(X_C_train, y_C_train, shuffle=False, train_size=0.9)\n",
    "# #X_validate_C, X_test_C, y_validate_C, y_test_C = train_test_split(X_validate_C, y_validate_C, shuffle=False, test_size=0.3)\n",
    "\n",
    "# X, X_validate, y, y_validate = train_test_split(X_train, y_train, shuffle=False, train_size=0.8)\n",
    "\n",
    "# X_A_submission = dm.X_test_estimated_a[dm.X_test_estimated_a.columns.intersection(X_A_train.columns)]\n",
    "# X_B_submission = dm.X_test_estimated_b[dm.X_test_estimated_b.columns.intersection(X_B_train.columns)]\n",
    "# X_C_submission = dm.X_test_estimated_c[dm.X_test_estimated_c.columns.intersection(X_C_train.columns)]\n",
    "X_submission = dm.X_test_estimated[dm.X_test_estimated.columns.intersection(X_A.columns)]\n",
    "\n",
    "from sklearn.preprocessing import MinMaxScaler\n",
    "scaler_sub = MinMaxScaler()\n",
    "cols = X_submission.columns\n",
    "locs = X_submission[\"location\"]\n",
    "X_submission = X_submission.drop(\"location\", axis=1)\n",
    "X_submission = pd.DataFrame(scaler_sub.fit_transform(X_submission))\n",
    "X_submission[\"location\"] = locs\n",
    "X_submission.columns = cols\n",
    "\n",
    "# print(X_train_A.shape, y_train_A.shape, X_validate_A.shape, y_validate_A.shape)\n",
    "# print(X_train_B.shape, y_train_B.shape, X_validate_B.shape, y_validate_B.shape)\n",
    "# print(X_train_C.shape, y_train_C.shape, X_validate_C.shape, y_validate_C.shape)\n",
    "\n",
    "print(X_train.shape, y_train.shape, X_submission.shape)"
   ]
  },
  {
   "cell_type": "code",
   "execution_count": 22,
   "metadata": {},
   "outputs": [
    {
     "name": "stdout",
     "output_type": "stream",
     "text": [
      "Model: \"sequential_2\"\n",
      "_________________________________________________________________\n",
      " Layer (type)                Output Shape              Param #   \n",
      "=================================================================\n",
      " bidirectional_4 (Bidirecti  (None, 1, 120)            52320     \n",
      " onal)                                                           \n",
      "                                                                 \n",
      " bidirectional_5 (Bidirecti  (None, 1, 120)            86880     \n",
      " onal)                                                           \n",
      "                                                                 \n",
      " time_distributed_6 (TimeDi  (None, 1, 64)             7744      \n",
      " stributed)                                                      \n",
      "                                                                 \n",
      " time_distributed_7 (TimeDi  (None, 1, 48)             3120      \n",
      " stributed)                                                      \n",
      "                                                                 \n",
      " time_distributed_8 (TimeDi  (None, 1, 1)              49        \n",
      " stributed)                                                      \n",
      "                                                                 \n",
      "=================================================================\n",
      "Total params: 150113 (586.38 KB)\n",
      "Trainable params: 150113 (586.38 KB)\n",
      "Non-trainable params: 0 (0.00 Byte)\n",
      "_________________________________________________________________\n"
     ]
    }
   ],
   "source": [
    "import LSTM_class\n",
    "\n",
    "model_number_features = X.shape[1]\n",
    "model_number_timesteps = 1\n",
    "\n",
    "super_model = LSTM_class.RNN_Network() ## initialize LSTM Class \n",
    "super_model.create_model(model_number_features, model_number_timesteps) ## builds model for A B and C, builds same for each \n",
    "\n"
   ]
  },
  {
   "cell_type": "code",
   "execution_count": 23,
   "metadata": {},
   "outputs": [
    {
     "name": "stderr",
     "output_type": "stream",
     "text": [
      "  0%|          | 0/100 [00:00<?, ?it/s]2023-11-07 17:10:04.347273: I tensorflow/core/grappler/optimizers/custom_graph_optimizer_registry.cc:117] Plugin optimizer for device_type GPU is enabled.\n"
     ]
    },
    {
     "name": "stdout",
     "output_type": "stream",
     "text": [
      "141/141 [==============================] - 31s 90ms/step - loss: 113.9167 - val_loss: 77.8593\n",
      "141/141 [==============================] - 6s 40ms/step - loss: 112.6503 - val_loss: 149.5403\n",
      "141/141 [==============================] - 6s 39ms/step - loss: 125.3153 - val_loss: 117.5634\n",
      "141/141 [==============================] - 6s 39ms/step - loss: 118.6924 - val_loss: 55.9847\n",
      "141/141 [==============================] - 6s 39ms/step - loss: 98.8010 - val_loss: 40.7820\n"
     ]
    },
    {
     "name": "stderr",
     "output_type": "stream",
     "text": [
      "  1%|          | 1/100 [00:53<1:28:38, 53.72s/it]"
     ]
    },
    {
     "name": "stdout",
     "output_type": "stream",
     "text": [
      "141/141 [==============================] - 5s 39ms/step - loss: 110.4168 - val_loss: 62.0952\n",
      "141/141 [==============================] - 5s 39ms/step - loss: 110.3875 - val_loss: 146.3506\n",
      "141/141 [==============================] - 6s 39ms/step - loss: 124.2075 - val_loss: 114.2157\n",
      "141/141 [==============================] - 6s 39ms/step - loss: 117.8901 - val_loss: 55.3502\n",
      "141/141 [==============================] - 5s 39ms/step - loss: 98.1458 - val_loss: 39.7983\n"
     ]
    },
    {
     "name": "stderr",
     "output_type": "stream",
     "text": [
      "  2%|▏         | 2/100 [01:21<1:02:42, 38.39s/it]"
     ]
    },
    {
     "name": "stdout",
     "output_type": "stream",
     "text": [
      "141/141 [==============================] - 6s 39ms/step - loss: 109.8460 - val_loss: 60.0473\n",
      "141/141 [==============================] - 6s 39ms/step - loss: 109.7833 - val_loss: 145.1945\n",
      "141/141 [==============================] - 5s 39ms/step - loss: 123.7250 - val_loss: 111.7258\n",
      "141/141 [==============================] - 5s 39ms/step - loss: 117.4354 - val_loss: 55.0880\n",
      "141/141 [==============================] - 6s 39ms/step - loss: 97.8639 - val_loss: 39.5250\n"
     ]
    },
    {
     "name": "stderr",
     "output_type": "stream",
     "text": [
      "  3%|▎         | 3/100 [01:49<54:11, 33.52s/it]  "
     ]
    },
    {
     "name": "stdout",
     "output_type": "stream",
     "text": [
      "141/141 [==============================] - 6s 39ms/step - loss: 109.5731 - val_loss: 59.5219\n",
      "141/141 [==============================] - 5s 39ms/step - loss: 109.5547 - val_loss: 144.1823\n",
      "141/141 [==============================] - 5s 39ms/step - loss: 123.5341 - val_loss: 111.1945\n",
      "141/141 [==============================] - 5s 39ms/step - loss: 117.2631 - val_loss: 55.0358\n",
      "141/141 [==============================] - 6s 39ms/step - loss: 97.7396 - val_loss: 39.5588\n"
     ]
    },
    {
     "name": "stderr",
     "output_type": "stream",
     "text": [
      "  4%|▍         | 4/100 [02:16<49:55, 31.20s/it]"
     ]
    },
    {
     "name": "stdout",
     "output_type": "stream",
     "text": [
      "141/141 [==============================] - 6s 39ms/step - loss: 109.4352 - val_loss: 59.4112\n",
      "141/141 [==============================] - 5s 39ms/step - loss: 109.4383 - val_loss: 143.4656\n",
      "141/141 [==============================] - 6s 39ms/step - loss: 123.3903 - val_loss: 111.0257\n",
      "141/141 [==============================] - 5s 39ms/step - loss: 117.1483 - val_loss: 54.9835\n",
      "141/141 [==============================] - 6s 39ms/step - loss: 97.6426 - val_loss: 39.5316\n"
     ]
    },
    {
     "name": "stderr",
     "output_type": "stream",
     "text": [
      "  5%|▌         | 5/100 [02:44<47:25, 29.95s/it]"
     ]
    },
    {
     "name": "stdout",
     "output_type": "stream",
     "text": [
      "141/141 [==============================] - 6s 39ms/step - loss: 109.3304 - val_loss: 59.3745\n",
      "141/141 [==============================] - 6s 39ms/step - loss: 109.3488 - val_loss: 143.1677\n",
      "141/141 [==============================] - 5s 39ms/step - loss: 123.2670 - val_loss: 110.9540\n",
      "141/141 [==============================] - 6s 39ms/step - loss: 117.0704 - val_loss: 54.9652\n",
      "141/141 [==============================] - 6s 39ms/step - loss: 97.5725 - val_loss: 39.4969\n"
     ]
    },
    {
     "name": "stderr",
     "output_type": "stream",
     "text": [
      "  6%|▌         | 6/100 [03:12<45:46, 29.22s/it]"
     ]
    },
    {
     "name": "stdout",
     "output_type": "stream",
     "text": [
      "141/141 [==============================] - 6s 40ms/step - loss: 109.2623 - val_loss: 59.3527\n",
      "141/141 [==============================] - 5s 39ms/step - loss: 109.2920 - val_loss: 142.9814\n",
      "141/141 [==============================] - 6s 40ms/step - loss: 123.1883 - val_loss: 110.9060\n",
      "141/141 [==============================] - 6s 39ms/step - loss: 117.0109 - val_loss: 54.9603\n",
      "141/141 [==============================] - 6s 39ms/step - loss: 97.5290 - val_loss: 39.4592\n"
     ]
    },
    {
     "name": "stderr",
     "output_type": "stream",
     "text": [
      "  7%|▋         | 7/100 [03:40<44:36, 28.78s/it]"
     ]
    },
    {
     "name": "stdout",
     "output_type": "stream",
     "text": [
      "141/141 [==============================] - 6s 40ms/step - loss: 109.2097 - val_loss: 59.3352\n",
      "141/141 [==============================] - 5s 39ms/step - loss: 109.2447 - val_loss: 142.8051\n",
      "141/141 [==============================] - 6s 39ms/step - loss: 123.1253 - val_loss: 110.8674\n",
      "141/141 [==============================] - 5s 39ms/step - loss: 116.9522 - val_loss: 54.9929\n",
      "141/141 [==============================] - 5s 39ms/step - loss: 97.4873 - val_loss: 39.6150\n"
     ]
    },
    {
     "name": "stderr",
     "output_type": "stream",
     "text": [
      "  8%|▊         | 8/100 [04:08<43:40, 28.48s/it]"
     ]
    },
    {
     "name": "stdout",
     "output_type": "stream",
     "text": [
      "141/141 [==============================] - 5s 39ms/step - loss: 109.1701 - val_loss: 59.3185\n",
      "141/141 [==============================] - 5s 39ms/step - loss: 109.1962 - val_loss: 142.6589\n",
      "141/141 [==============================] - 6s 39ms/step - loss: 123.0644 - val_loss: 110.8555\n",
      "141/141 [==============================] - 5s 39ms/step - loss: 116.9030 - val_loss: 54.9980\n",
      "141/141 [==============================] - 6s 39ms/step - loss: 97.4544 - val_loss: 39.4237\n"
     ]
    },
    {
     "name": "stderr",
     "output_type": "stream",
     "text": [
      "  9%|▉         | 9/100 [04:35<42:48, 28.23s/it]"
     ]
    },
    {
     "name": "stdout",
     "output_type": "stream",
     "text": [
      "141/141 [==============================] - 6s 40ms/step - loss: 109.1295 - val_loss: 59.3027\n",
      "141/141 [==============================] - 5s 39ms/step - loss: 109.1595 - val_loss: 142.5648\n",
      "141/141 [==============================] - 5s 39ms/step - loss: 123.0271 - val_loss: 110.8369\n",
      "141/141 [==============================] - 6s 39ms/step - loss: 116.8641 - val_loss: 54.9896\n",
      "141/141 [==============================] - 6s 39ms/step - loss: 97.4168 - val_loss: 39.4100\n"
     ]
    },
    {
     "name": "stderr",
     "output_type": "stream",
     "text": [
      " 10%|█         | 10/100 [05:03<42:08, 28.09s/it]"
     ]
    },
    {
     "name": "stdout",
     "output_type": "stream",
     "text": [
      "141/141 [==============================] - 5s 39ms/step - loss: 109.0965 - val_loss: 59.2879\n",
      "141/141 [==============================] - 5s 39ms/step - loss: 109.1277 - val_loss: 142.4800\n",
      "141/141 [==============================] - 6s 40ms/step - loss: 122.9799 - val_loss: 110.8639\n",
      "141/141 [==============================] - 5s 39ms/step - loss: 116.8310 - val_loss: 55.0209\n",
      "141/141 [==============================] - 5s 39ms/step - loss: 97.3859 - val_loss: 39.4200\n"
     ]
    },
    {
     "name": "stderr",
     "output_type": "stream",
     "text": [
      " 11%|█         | 11/100 [05:31<41:29, 27.97s/it]"
     ]
    },
    {
     "name": "stdout",
     "output_type": "stream",
     "text": [
      "141/141 [==============================] - 6s 39ms/step - loss: 109.0657 - val_loss: 59.2691\n",
      "141/141 [==============================] - 5s 39ms/step - loss: 109.0904 - val_loss: 142.3953\n",
      "141/141 [==============================] - 5s 39ms/step - loss: 122.9374 - val_loss: 110.8761\n",
      "141/141 [==============================] - 6s 39ms/step - loss: 116.7943 - val_loss: 55.0136\n",
      "141/141 [==============================] - 6s 39ms/step - loss: 97.3601 - val_loss: 39.3813\n"
     ]
    },
    {
     "name": "stderr",
     "output_type": "stream",
     "text": [
      " 12%|█▏        | 12/100 [05:58<40:55, 27.91s/it]"
     ]
    },
    {
     "name": "stdout",
     "output_type": "stream",
     "text": [
      "141/141 [==============================] - 6s 40ms/step - loss: 109.0453 - val_loss: 59.2635\n",
      "141/141 [==============================] - 6s 40ms/step - loss: 109.0690 - val_loss: 142.3461\n",
      "141/141 [==============================] - 5s 39ms/step - loss: 122.9107 - val_loss: 110.9194\n",
      "141/141 [==============================] - 6s 39ms/step - loss: 116.7716 - val_loss: 54.9622\n",
      "141/141 [==============================] - 5s 39ms/step - loss: 97.3393 - val_loss: 39.3732\n"
     ]
    },
    {
     "name": "stderr",
     "output_type": "stream",
     "text": [
      " 13%|█▎        | 13/100 [06:26<40:29, 27.92s/it]"
     ]
    },
    {
     "name": "stdout",
     "output_type": "stream",
     "text": [
      "141/141 [==============================] - 6s 39ms/step - loss: 109.0268 - val_loss: 59.2562\n",
      "141/141 [==============================] - 5s 39ms/step - loss: 109.0477 - val_loss: 142.3385\n",
      "141/141 [==============================] - 5s 39ms/step - loss: 122.8837 - val_loss: 110.9530\n",
      "141/141 [==============================] - 5s 39ms/step - loss: 116.7461 - val_loss: 54.9216\n",
      "141/141 [==============================] - 6s 39ms/step - loss: 97.3190 - val_loss: 39.3666\n"
     ]
    },
    {
     "name": "stderr",
     "output_type": "stream",
     "text": [
      " 14%|█▍        | 14/100 [06:54<39:57, 27.88s/it]"
     ]
    },
    {
     "name": "stdout",
     "output_type": "stream",
     "text": [
      "141/141 [==============================] - 6s 39ms/step - loss: 109.0032 - val_loss: 59.2452\n",
      "141/141 [==============================] - 6s 39ms/step - loss: 109.0222 - val_loss: 142.2986\n",
      "141/141 [==============================] - 5s 39ms/step - loss: 122.8541 - val_loss: 110.9349\n",
      "141/141 [==============================] - 6s 39ms/step - loss: 116.7222 - val_loss: 55.0095\n",
      "141/141 [==============================] - 6s 39ms/step - loss: 97.3027 - val_loss: 39.3637\n"
     ]
    },
    {
     "name": "stderr",
     "output_type": "stream",
     "text": [
      " 15%|█▌        | 15/100 [07:22<39:28, 27.87s/it]"
     ]
    },
    {
     "name": "stdout",
     "output_type": "stream",
     "text": [
      "141/141 [==============================] - 6s 40ms/step - loss: 108.9856 - val_loss: 59.2416\n",
      "141/141 [==============================] - 6s 39ms/step - loss: 109.0032 - val_loss: 142.2651\n",
      "141/141 [==============================] - 6s 39ms/step - loss: 122.8337 - val_loss: 110.9488\n",
      "141/141 [==============================] - 5s 39ms/step - loss: 116.7047 - val_loss: 54.9201\n",
      "141/141 [==============================] - 6s 39ms/step - loss: 97.2873 - val_loss: 39.3561\n"
     ]
    },
    {
     "name": "stderr",
     "output_type": "stream",
     "text": [
      " 16%|█▌        | 16/100 [07:50<39:01, 27.88s/it]"
     ]
    },
    {
     "name": "stdout",
     "output_type": "stream",
     "text": [
      "141/141 [==============================] - 6s 39ms/step - loss: 108.9698 - val_loss: 59.2391\n",
      "141/141 [==============================] - 6s 39ms/step - loss: 108.9854 - val_loss: 142.2711\n",
      "141/141 [==============================] - 6s 39ms/step - loss: 122.8092 - val_loss: 110.9419\n",
      "141/141 [==============================] - 5s 39ms/step - loss: 116.6866 - val_loss: 54.9975\n",
      "141/141 [==============================] - 6s 39ms/step - loss: 97.2734 - val_loss: 39.4699\n"
     ]
    },
    {
     "name": "stderr",
     "output_type": "stream",
     "text": [
      " 17%|█▋        | 17/100 [08:18<38:31, 27.85s/it]"
     ]
    },
    {
     "name": "stdout",
     "output_type": "stream",
     "text": [
      "141/141 [==============================] - 5s 39ms/step - loss: 108.9562 - val_loss: 59.2336\n",
      "141/141 [==============================] - 5s 39ms/step - loss: 108.9705 - val_loss: 142.2181\n",
      "141/141 [==============================] - 5s 39ms/step - loss: 122.7936 - val_loss: 110.9202\n",
      "141/141 [==============================] - 6s 41ms/step - loss: 116.6699 - val_loss: 55.0063\n",
      "141/141 [==============================] - 6s 39ms/step - loss: 97.2607 - val_loss: 39.4081\n"
     ]
    },
    {
     "name": "stderr",
     "output_type": "stream",
     "text": [
      " 18%|█▊        | 18/100 [08:46<38:06, 27.89s/it]"
     ]
    },
    {
     "name": "stdout",
     "output_type": "stream",
     "text": [
      "141/141 [==============================] - 6s 40ms/step - loss: 108.9413 - val_loss: 59.2287\n",
      "141/141 [==============================] - 6s 40ms/step - loss: 108.9552 - val_loss: 142.1908\n",
      "141/141 [==============================] - 6s 40ms/step - loss: 122.7772 - val_loss: 110.9251\n",
      "141/141 [==============================] - 6s 41ms/step - loss: 116.6557 - val_loss: 55.0122\n",
      "141/141 [==============================] - 6s 40ms/step - loss: 97.2481 - val_loss: 39.3477\n"
     ]
    },
    {
     "name": "stderr",
     "output_type": "stream",
     "text": [
      " 19%|█▉        | 19/100 [09:14<37:50, 28.03s/it]"
     ]
    },
    {
     "name": "stdout",
     "output_type": "stream",
     "text": [
      "141/141 [==============================] - 6s 40ms/step - loss: 108.9265 - val_loss: 59.2251\n",
      "141/141 [==============================] - 6s 40ms/step - loss: 108.9400 - val_loss: 142.1702\n",
      "141/141 [==============================] - 6s 40ms/step - loss: 122.7590 - val_loss: 110.8951\n",
      "141/141 [==============================] - 6s 40ms/step - loss: 116.6407 - val_loss: 54.9124\n",
      "141/141 [==============================] - 6s 40ms/step - loss: 97.2346 - val_loss: 39.3525\n"
     ]
    },
    {
     "name": "stderr",
     "output_type": "stream",
     "text": [
      " 20%|██        | 20/100 [09:42<37:30, 28.13s/it]"
     ]
    },
    {
     "name": "stdout",
     "output_type": "stream",
     "text": [
      "141/141 [==============================] - 6s 40ms/step - loss: 108.9095 - val_loss: 59.2150\n",
      "141/141 [==============================] - 6s 39ms/step - loss: 108.9243 - val_loss: 142.1523\n",
      "141/141 [==============================] - 6s 40ms/step - loss: 122.7400 - val_loss: 110.8702\n",
      "141/141 [==============================] - 6s 39ms/step - loss: 116.6253 - val_loss: 54.9063\n",
      "141/141 [==============================] - 6s 39ms/step - loss: 97.2252 - val_loss: 39.3388\n"
     ]
    },
    {
     "name": "stderr",
     "output_type": "stream",
     "text": [
      " 21%|██        | 21/100 [10:10<37:00, 28.11s/it]"
     ]
    },
    {
     "name": "stdout",
     "output_type": "stream",
     "text": [
      "141/141 [==============================] - 6s 39ms/step - loss: 108.8976 - val_loss: 59.2146\n",
      "141/141 [==============================] - 6s 39ms/step - loss: 108.9132 - val_loss: 142.1004\n",
      "141/141 [==============================] - 6s 39ms/step - loss: 122.7305 - val_loss: 110.8137\n",
      "141/141 [==============================] - 6s 39ms/step - loss: 116.6150 - val_loss: 54.9233\n",
      "141/141 [==============================] - 6s 39ms/step - loss: 97.2168 - val_loss: 39.3480\n"
     ]
    },
    {
     "name": "stderr",
     "output_type": "stream",
     "text": [
      " 22%|██▏       | 22/100 [10:38<36:26, 28.03s/it]"
     ]
    },
    {
     "name": "stdout",
     "output_type": "stream",
     "text": [
      "141/141 [==============================] - 5s 39ms/step - loss: 108.8923 - val_loss: 59.2234\n",
      "141/141 [==============================] - 5s 39ms/step - loss: 108.9051 - val_loss: 142.0861\n",
      "141/141 [==============================] - 5s 39ms/step - loss: 122.7233 - val_loss: 110.8059\n",
      "141/141 [==============================] - 5s 39ms/step - loss: 116.6048 - val_loss: 54.9928\n",
      "141/141 [==============================] - 5s 39ms/step - loss: 97.2121 - val_loss: 39.3432\n"
     ]
    },
    {
     "name": "stderr",
     "output_type": "stream",
     "text": [
      " 23%|██▎       | 23/100 [11:06<35:46, 27.88s/it]"
     ]
    },
    {
     "name": "stdout",
     "output_type": "stream",
     "text": [
      "141/141 [==============================] - 5s 39ms/step - loss: 108.8871 - val_loss: 59.2171\n",
      "141/141 [==============================] - 5s 38ms/step - loss: 108.8969 - val_loss: 142.0402\n",
      "141/141 [==============================] - 5s 38ms/step - loss: 122.7117 - val_loss: 110.8153\n",
      "141/141 [==============================] - 5s 39ms/step - loss: 116.5983 - val_loss: 54.9051\n",
      "141/141 [==============================] - 5s 39ms/step - loss: 97.2063 - val_loss: 39.3351\n"
     ]
    },
    {
     "name": "stderr",
     "output_type": "stream",
     "text": [
      " 24%|██▍       | 24/100 [11:33<35:08, 27.74s/it]"
     ]
    },
    {
     "name": "stdout",
     "output_type": "stream",
     "text": [
      "141/141 [==============================] - 6s 39ms/step - loss: 108.8796 - val_loss: 59.2083\n",
      "141/141 [==============================] - 5s 39ms/step - loss: 108.8880 - val_loss: 142.0280\n",
      "141/141 [==============================] - 6s 39ms/step - loss: 122.7008 - val_loss: 110.8156\n",
      "141/141 [==============================] - 6s 39ms/step - loss: 116.5860 - val_loss: 54.9428\n",
      "141/141 [==============================] - 5s 39ms/step - loss: 97.1993 - val_loss: 39.3301\n"
     ]
    },
    {
     "name": "stderr",
     "output_type": "stream",
     "text": [
      " 25%|██▌       | 25/100 [12:01<34:40, 27.74s/it]"
     ]
    },
    {
     "name": "stdout",
     "output_type": "stream",
     "text": [
      "141/141 [==============================] - 5s 39ms/step - loss: 108.8695 - val_loss: 59.2153\n",
      "141/141 [==============================] - 5s 39ms/step - loss: 108.8798 - val_loss: 142.0158\n",
      "141/141 [==============================] - 5s 39ms/step - loss: 122.6902 - val_loss: 110.7915\n",
      "141/141 [==============================] - 5s 39ms/step - loss: 116.5778 - val_loss: 54.9247\n",
      "141/141 [==============================] - 5s 39ms/step - loss: 97.1925 - val_loss: 39.3201\n"
     ]
    },
    {
     "name": "stderr",
     "output_type": "stream",
     "text": [
      " 26%|██▌       | 26/100 [12:29<34:08, 27.69s/it]"
     ]
    },
    {
     "name": "stdout",
     "output_type": "stream",
     "text": [
      "141/141 [==============================] - 6s 39ms/step - loss: 108.8626 - val_loss: 59.2191\n",
      "141/141 [==============================] - 5s 39ms/step - loss: 108.8707 - val_loss: 141.9965\n",
      "141/141 [==============================] - 5s 39ms/step - loss: 122.6845 - val_loss: 110.7590\n",
      "141/141 [==============================] - 5s 39ms/step - loss: 116.5682 - val_loss: 54.9049\n",
      "141/141 [==============================] - 5s 39ms/step - loss: 97.1868 - val_loss: 39.3205\n"
     ]
    },
    {
     "name": "stderr",
     "output_type": "stream",
     "text": [
      " 27%|██▋       | 27/100 [12:56<33:38, 27.65s/it]"
     ]
    },
    {
     "name": "stdout",
     "output_type": "stream",
     "text": [
      "141/141 [==============================] - 5s 39ms/step - loss: 108.8550 - val_loss: 59.2282\n",
      "141/141 [==============================] - 5s 39ms/step - loss: 108.8620 - val_loss: 141.9747\n",
      "141/141 [==============================] - 5s 39ms/step - loss: 122.6772 - val_loss: 110.7602\n",
      "141/141 [==============================] - 6s 39ms/step - loss: 116.5626 - val_loss: 54.8997\n",
      "141/141 [==============================] - 5s 39ms/step - loss: 97.1799 - val_loss: 39.3304\n"
     ]
    },
    {
     "name": "stderr",
     "output_type": "stream",
     "text": [
      " 28%|██▊       | 28/100 [13:24<33:09, 27.64s/it]"
     ]
    },
    {
     "name": "stdout",
     "output_type": "stream",
     "text": [
      "141/141 [==============================] - 5s 39ms/step - loss: 108.8498 - val_loss: 59.2081\n",
      "141/141 [==============================] - 5s 38ms/step - loss: 108.8576 - val_loss: 141.9624\n",
      "141/141 [==============================] - 5s 39ms/step - loss: 122.6722 - val_loss: 110.7468\n",
      "141/141 [==============================] - 5s 39ms/step - loss: 116.5571 - val_loss: 54.8980\n",
      "141/141 [==============================] - 5s 39ms/step - loss: 97.1779 - val_loss: 39.3206\n"
     ]
    },
    {
     "name": "stderr",
     "output_type": "stream",
     "text": [
      " 29%|██▉       | 29/100 [13:51<32:38, 27.58s/it]"
     ]
    },
    {
     "name": "stdout",
     "output_type": "stream",
     "text": [
      "141/141 [==============================] - 5s 39ms/step - loss: 108.8484 - val_loss: 59.2084\n",
      "141/141 [==============================] - 6s 39ms/step - loss: 108.8518 - val_loss: 141.9471\n",
      "141/141 [==============================] - 6s 39ms/step - loss: 122.6632 - val_loss: 110.7643\n",
      "141/141 [==============================] - 5s 39ms/step - loss: 116.5494 - val_loss: 55.0133\n",
      "141/141 [==============================] - 5s 39ms/step - loss: 97.1748 - val_loss: 39.3213\n"
     ]
    },
    {
     "name": "stderr",
     "output_type": "stream",
     "text": [
      " 30%|███       | 30/100 [14:19<32:12, 27.61s/it]"
     ]
    },
    {
     "name": "stdout",
     "output_type": "stream",
     "text": [
      "141/141 [==============================] - 5s 39ms/step - loss: 108.8412 - val_loss: 59.2052\n",
      "141/141 [==============================] - 6s 39ms/step - loss: 108.8451 - val_loss: 141.9418\n",
      "141/141 [==============================] - 6s 39ms/step - loss: 122.6542 - val_loss: 110.7637\n",
      "141/141 [==============================] - 5s 39ms/step - loss: 116.5426 - val_loss: 54.8990\n",
      "141/141 [==============================] - 5s 39ms/step - loss: 97.1679 - val_loss: 39.3261\n"
     ]
    },
    {
     "name": "stderr",
     "output_type": "stream",
     "text": [
      " 31%|███       | 31/100 [14:47<31:47, 27.65s/it]"
     ]
    },
    {
     "name": "stdout",
     "output_type": "stream",
     "text": [
      "141/141 [==============================] - 6s 39ms/step - loss: 108.8366 - val_loss: 59.2058\n",
      "141/141 [==============================] - 5s 39ms/step - loss: 108.8398 - val_loss: 141.9451\n",
      "141/141 [==============================] - 6s 39ms/step - loss: 122.6507 - val_loss: 110.7421\n",
      "141/141 [==============================] - 5s 39ms/step - loss: 116.5351 - val_loss: 54.9978\n",
      "141/141 [==============================] - 6s 39ms/step - loss: 97.1655 - val_loss: 39.3121\n"
     ]
    },
    {
     "name": "stderr",
     "output_type": "stream",
     "text": [
      " 32%|███▏      | 32/100 [15:14<31:21, 27.67s/it]"
     ]
    },
    {
     "name": "stdout",
     "output_type": "stream",
     "text": [
      "141/141 [==============================] - 5s 39ms/step - loss: 108.8305 - val_loss: 59.1974\n",
      "141/141 [==============================] - 5s 39ms/step - loss: 108.8356 - val_loss: 141.9518\n",
      "141/141 [==============================] - 5s 39ms/step - loss: 122.6475 - val_loss: 110.7229\n",
      "141/141 [==============================] - 5s 39ms/step - loss: 116.5261 - val_loss: 54.9204\n",
      "141/141 [==============================] - 5s 38ms/step - loss: 97.1621 - val_loss: 39.3168\n"
     ]
    },
    {
     "name": "stderr",
     "output_type": "stream",
     "text": [
      " 33%|███▎      | 33/100 [15:42<30:49, 27.61s/it]"
     ]
    },
    {
     "name": "stdout",
     "output_type": "stream",
     "text": [
      "141/141 [==============================] - 5s 38ms/step - loss: 108.8260 - val_loss: 59.2083\n",
      "141/141 [==============================] - 5s 39ms/step - loss: 108.8310 - val_loss: 141.9590\n",
      "141/141 [==============================] - 6s 39ms/step - loss: 122.6404 - val_loss: 110.6963\n",
      "141/141 [==============================] - 5s 39ms/step - loss: 116.5216 - val_loss: 54.8828\n",
      "141/141 [==============================] - 5s 39ms/step - loss: 97.1584 - val_loss: 39.3080\n"
     ]
    },
    {
     "name": "stderr",
     "output_type": "stream",
     "text": [
      " 34%|███▍      | 34/100 [16:09<30:20, 27.58s/it]"
     ]
    },
    {
     "name": "stdout",
     "output_type": "stream",
     "text": [
      "141/141 [==============================] - 6s 39ms/step - loss: 108.8230 - val_loss: 59.1985\n",
      "141/141 [==============================] - 6s 39ms/step - loss: 108.8212 - val_loss: 141.9655\n",
      "141/141 [==============================] - 5s 39ms/step - loss: 122.6356 - val_loss: 110.6839\n",
      "141/141 [==============================] - 5s 39ms/step - loss: 116.5145 - val_loss: 54.8822\n",
      "141/141 [==============================] - 6s 39ms/step - loss: 97.1534 - val_loss: 39.3069\n"
     ]
    },
    {
     "name": "stderr",
     "output_type": "stream",
     "text": [
      " 35%|███▌      | 35/100 [16:37<29:55, 27.62s/it]"
     ]
    },
    {
     "name": "stdout",
     "output_type": "stream",
     "text": [
      "141/141 [==============================] - 6s 40ms/step - loss: 108.8186 - val_loss: 59.2040\n",
      "141/141 [==============================] - 6s 40ms/step - loss: 108.8145 - val_loss: 141.9603\n",
      "141/141 [==============================] - 6s 40ms/step - loss: 122.6310 - val_loss: 110.6465\n",
      "141/141 [==============================] - 5s 39ms/step - loss: 116.5065 - val_loss: 54.8697\n",
      "141/141 [==============================] - 5s 39ms/step - loss: 97.1475 - val_loss: 39.3876\n"
     ]
    },
    {
     "name": "stderr",
     "output_type": "stream",
     "text": [
      " 36%|███▌      | 36/100 [17:05<29:32, 27.70s/it]"
     ]
    },
    {
     "name": "stdout",
     "output_type": "stream",
     "text": [
      "141/141 [==============================] - 6s 39ms/step - loss: 108.8166 - val_loss: 59.1990\n",
      "141/141 [==============================] - 6s 39ms/step - loss: 108.8061 - val_loss: 141.9718\n",
      "141/141 [==============================] - 5s 39ms/step - loss: 122.6263 - val_loss: 110.6367\n",
      "141/141 [==============================] - 5s 39ms/step - loss: 116.4999 - val_loss: 54.8503\n",
      "141/141 [==============================] - 5s 39ms/step - loss: 97.1419 - val_loss: 39.4041\n"
     ]
    },
    {
     "name": "stderr",
     "output_type": "stream",
     "text": [
      " 37%|███▋      | 37/100 [17:32<29:03, 27.67s/it]"
     ]
    },
    {
     "name": "stdout",
     "output_type": "stream",
     "text": [
      "141/141 [==============================] - 5s 39ms/step - loss: 108.8118 - val_loss: 59.1941\n",
      "141/141 [==============================] - 5s 39ms/step - loss: 108.8006 - val_loss: 141.9885\n",
      "141/141 [==============================] - 5s 38ms/step - loss: 122.6189 - val_loss: 110.6679\n",
      "141/141 [==============================] - 5s 39ms/step - loss: 116.4910 - val_loss: 54.9088\n",
      "141/141 [==============================] - 5s 39ms/step - loss: 97.1320 - val_loss: 39.4588\n"
     ]
    },
    {
     "name": "stderr",
     "output_type": "stream",
     "text": [
      " 38%|███▊      | 38/100 [18:00<28:31, 27.61s/it]"
     ]
    },
    {
     "name": "stdout",
     "output_type": "stream",
     "text": [
      "141/141 [==============================] - 5s 39ms/step - loss: 108.8067 - val_loss: 59.2029\n",
      "141/141 [==============================] - 5s 39ms/step - loss: 108.7922 - val_loss: 141.9704\n",
      "141/141 [==============================] - 5s 39ms/step - loss: 122.6119 - val_loss: 110.6603\n",
      "141/141 [==============================] - 5s 39ms/step - loss: 116.4868 - val_loss: 54.8357\n",
      "141/141 [==============================] - 5s 39ms/step - loss: 97.1241 - val_loss: 39.3416\n"
     ]
    },
    {
     "name": "stderr",
     "output_type": "stream",
     "text": [
      " 39%|███▉      | 39/100 [18:28<28:03, 27.59s/it]"
     ]
    },
    {
     "name": "stdout",
     "output_type": "stream",
     "text": [
      "141/141 [==============================] - 5s 39ms/step - loss: 108.8059 - val_loss: 59.1930\n",
      "141/141 [==============================] - 5s 39ms/step - loss: 108.7905 - val_loss: 141.9703\n",
      "141/141 [==============================] - 5s 39ms/step - loss: 122.6073 - val_loss: 110.6276\n",
      "141/141 [==============================] - 5s 39ms/step - loss: 116.4786 - val_loss: 54.8688\n",
      "141/141 [==============================] - 6s 39ms/step - loss: 97.1189 - val_loss: 39.3265\n"
     ]
    },
    {
     "name": "stderr",
     "output_type": "stream",
     "text": [
      " 40%|████      | 40/100 [18:55<27:35, 27.59s/it]"
     ]
    },
    {
     "name": "stdout",
     "output_type": "stream",
     "text": [
      "141/141 [==============================] - 5s 39ms/step - loss: 108.8079 - val_loss: 59.2071\n",
      "141/141 [==============================] - 6s 39ms/step - loss: 108.7833 - val_loss: 141.9775\n",
      "141/141 [==============================] - 5s 39ms/step - loss: 122.6019 - val_loss: 110.6370\n",
      "141/141 [==============================] - 5s 39ms/step - loss: 116.4751 - val_loss: 54.8689\n",
      "141/141 [==============================] - 5s 39ms/step - loss: 97.1142 - val_loss: 39.3805\n"
     ]
    },
    {
     "name": "stderr",
     "output_type": "stream",
     "text": [
      " 41%|████      | 41/100 [19:23<27:07, 27.59s/it]"
     ]
    },
    {
     "name": "stdout",
     "output_type": "stream",
     "text": [
      "141/141 [==============================] - 6s 39ms/step - loss: 108.8084 - val_loss: 59.1883\n",
      "141/141 [==============================] - 6s 39ms/step - loss: 108.7825 - val_loss: 141.9723\n",
      "141/141 [==============================] - 5s 39ms/step - loss: 122.5986 - val_loss: 110.6388\n",
      "141/141 [==============================] - 5s 39ms/step - loss: 116.4704 - val_loss: 54.8131\n",
      "141/141 [==============================] - 5s 39ms/step - loss: 97.1130 - val_loss: 39.2778\n"
     ]
    },
    {
     "name": "stderr",
     "output_type": "stream",
     "text": [
      " 42%|████▏     | 42/100 [19:50<26:40, 27.60s/it]"
     ]
    },
    {
     "name": "stdout",
     "output_type": "stream",
     "text": [
      "141/141 [==============================] - 5s 38ms/step - loss: 108.8102 - val_loss: 59.2064\n",
      "141/141 [==============================] - 5s 38ms/step - loss: 108.7815 - val_loss: 141.9801\n",
      "141/141 [==============================] - 5s 39ms/step - loss: 122.5972 - val_loss: 110.6302\n",
      "141/141 [==============================] - 5s 39ms/step - loss: 116.4647 - val_loss: 54.8800\n",
      "141/141 [==============================] - 5s 39ms/step - loss: 97.1092 - val_loss: 39.2734\n"
     ]
    },
    {
     "name": "stderr",
     "output_type": "stream",
     "text": [
      " 43%|████▎     | 43/100 [20:18<26:09, 27.54s/it]"
     ]
    },
    {
     "name": "stdout",
     "output_type": "stream",
     "text": [
      "141/141 [==============================] - 6s 39ms/step - loss: 108.8144 - val_loss: 59.1852\n",
      "141/141 [==============================] - 5s 39ms/step - loss: 108.7817 - val_loss: 141.9766\n",
      "141/141 [==============================] - 6s 39ms/step - loss: 122.5909 - val_loss: 110.6373\n",
      "141/141 [==============================] - 5s 39ms/step - loss: 116.4621 - val_loss: 54.8210\n",
      "141/141 [==============================] - 5s 39ms/step - loss: 97.1062 - val_loss: 39.3643\n"
     ]
    },
    {
     "name": "stderr",
     "output_type": "stream",
     "text": [
      " 44%|████▍     | 44/100 [20:45<25:43, 27.57s/it]"
     ]
    },
    {
     "name": "stdout",
     "output_type": "stream",
     "text": [
      "141/141 [==============================] - 5s 39ms/step - loss: 108.8141 - val_loss: 59.1832\n",
      "141/141 [==============================] - 5s 39ms/step - loss: 108.7786 - val_loss: 141.9810\n",
      "141/141 [==============================] - 5s 39ms/step - loss: 122.5837 - val_loss: 110.6288\n",
      "141/141 [==============================] - 5s 39ms/step - loss: 116.4563 - val_loss: 54.8748\n",
      "141/141 [==============================] - 5s 39ms/step - loss: 97.1021 - val_loss: 39.2843\n"
     ]
    },
    {
     "name": "stderr",
     "output_type": "stream",
     "text": [
      " 45%|████▌     | 45/100 [21:13<25:15, 27.56s/it]"
     ]
    },
    {
     "name": "stdout",
     "output_type": "stream",
     "text": [
      "141/141 [==============================] - 5s 39ms/step - loss: 108.8075 - val_loss: 59.1906\n",
      "141/141 [==============================] - 5s 39ms/step - loss: 108.7726 - val_loss: 141.9681\n",
      "141/141 [==============================] - 5s 39ms/step - loss: 122.5759 - val_loss: 110.6307\n",
      "141/141 [==============================] - 5s 39ms/step - loss: 116.4502 - val_loss: 54.8256\n",
      "141/141 [==============================] - 5s 39ms/step - loss: 97.0971 - val_loss: 39.2820\n"
     ]
    },
    {
     "name": "stderr",
     "output_type": "stream",
     "text": [
      " 46%|████▌     | 46/100 [21:40<24:48, 27.57s/it]"
     ]
    },
    {
     "name": "stdout",
     "output_type": "stream",
     "text": [
      "141/141 [==============================] - 5s 39ms/step - loss: 108.7994 - val_loss: 59.1838\n",
      "141/141 [==============================] - 5s 39ms/step - loss: 108.7619 - val_loss: 141.9727\n",
      "141/141 [==============================] - 6s 39ms/step - loss: 122.5693 - val_loss: 110.6018\n",
      "141/141 [==============================] - 5s 39ms/step - loss: 116.4389 - val_loss: 54.8735\n",
      "141/141 [==============================] - 5s 38ms/step - loss: 97.0903 - val_loss: 39.3351\n"
     ]
    },
    {
     "name": "stderr",
     "output_type": "stream",
     "text": [
      " 47%|████▋     | 47/100 [22:08<24:19, 27.54s/it]"
     ]
    },
    {
     "name": "stdout",
     "output_type": "stream",
     "text": [
      "141/141 [==============================] - 5s 39ms/step - loss: 108.7957 - val_loss: 59.2027\n",
      "141/141 [==============================] - 5s 39ms/step - loss: 108.7605 - val_loss: 141.9541\n",
      "141/141 [==============================] - 5s 39ms/step - loss: 122.5603 - val_loss: 110.5764\n",
      "141/141 [==============================] - 6s 39ms/step - loss: 116.4343 - val_loss: 54.8186\n",
      "141/141 [==============================] - 5s 39ms/step - loss: 97.0835 - val_loss: 39.3170\n"
     ]
    },
    {
     "name": "stderr",
     "output_type": "stream",
     "text": [
      " 48%|████▊     | 48/100 [22:36<23:52, 27.55s/it]"
     ]
    },
    {
     "name": "stdout",
     "output_type": "stream",
     "text": [
      "141/141 [==============================] - 5s 39ms/step - loss: 108.7890 - val_loss: 59.1862\n",
      "141/141 [==============================] - 5s 39ms/step - loss: 108.7570 - val_loss: 141.9556\n",
      "141/141 [==============================] - 5s 39ms/step - loss: 122.5543 - val_loss: 110.5594\n",
      "141/141 [==============================] - 5s 39ms/step - loss: 116.4292 - val_loss: 54.8298\n",
      "141/141 [==============================] - 5s 39ms/step - loss: 97.0783 - val_loss: 39.3586\n"
     ]
    },
    {
     "name": "stderr",
     "output_type": "stream",
     "text": [
      " 49%|████▉     | 49/100 [23:03<23:25, 27.55s/it]"
     ]
    },
    {
     "name": "stdout",
     "output_type": "stream",
     "text": [
      "141/141 [==============================] - 6s 39ms/step - loss: 108.7812 - val_loss: 59.1771\n",
      "141/141 [==============================] - 5s 39ms/step - loss: 108.7501 - val_loss: 141.9408\n",
      "141/141 [==============================] - 5s 39ms/step - loss: 122.5483 - val_loss: 110.5413\n",
      "141/141 [==============================] - 6s 39ms/step - loss: 116.4208 - val_loss: 54.8404\n",
      "141/141 [==============================] - 5s 39ms/step - loss: 97.0718 - val_loss: 39.3298\n"
     ]
    },
    {
     "name": "stderr",
     "output_type": "stream",
     "text": [
      " 50%|█████     | 50/100 [23:31<22:59, 27.59s/it]"
     ]
    },
    {
     "name": "stdout",
     "output_type": "stream",
     "text": [
      "141/141 [==============================] - 5s 39ms/step - loss: 108.7762 - val_loss: 59.1790\n",
      "141/141 [==============================] - 5s 39ms/step - loss: 108.7449 - val_loss: 141.9136\n",
      "141/141 [==============================] - 5s 39ms/step - loss: 122.5380 - val_loss: 110.5402\n",
      "141/141 [==============================] - 5s 39ms/step - loss: 116.4129 - val_loss: 54.9003\n",
      "141/141 [==============================] - 5s 39ms/step - loss: 97.0684 - val_loss: 39.3204\n"
     ]
    },
    {
     "name": "stderr",
     "output_type": "stream",
     "text": [
      " 51%|█████     | 51/100 [23:58<22:31, 27.58s/it]"
     ]
    },
    {
     "name": "stdout",
     "output_type": "stream",
     "text": [
      "141/141 [==============================] - 5s 39ms/step - loss: 108.7707 - val_loss: 59.1961\n",
      "141/141 [==============================] - 5s 39ms/step - loss: 108.7417 - val_loss: 141.8950\n",
      "141/141 [==============================] - 5s 38ms/step - loss: 122.5326 - val_loss: 110.5217\n",
      "141/141 [==============================] - 5s 39ms/step - loss: 116.4064 - val_loss: 54.8244\n",
      "141/141 [==============================] - 5s 39ms/step - loss: 97.0663 - val_loss: 39.3330\n"
     ]
    },
    {
     "name": "stderr",
     "output_type": "stream",
     "text": [
      " 52%|█████▏    | 52/100 [24:26<22:01, 27.53s/it]"
     ]
    },
    {
     "name": "stdout",
     "output_type": "stream",
     "text": [
      "141/141 [==============================] - 5s 39ms/step - loss: 108.7704 - val_loss: 59.1787\n",
      "141/141 [==============================] - 5s 39ms/step - loss: 108.7390 - val_loss: 141.9114\n",
      "141/141 [==============================] - 5s 39ms/step - loss: 122.5292 - val_loss: 110.5103\n",
      "141/141 [==============================] - 6s 39ms/step - loss: 116.4012 - val_loss: 54.9519\n",
      "141/141 [==============================] - 5s 39ms/step - loss: 97.0633 - val_loss: 39.3592\n"
     ]
    },
    {
     "name": "stderr",
     "output_type": "stream",
     "text": [
      " 53%|█████▎    | 53/100 [24:53<21:34, 27.54s/it]"
     ]
    },
    {
     "name": "stdout",
     "output_type": "stream",
     "text": [
      "141/141 [==============================] - 5s 39ms/step - loss: 108.7696 - val_loss: 59.1825\n",
      "141/141 [==============================] - 5s 39ms/step - loss: 108.7382 - val_loss: 141.8893\n",
      "141/141 [==============================] - 5s 39ms/step - loss: 122.5258 - val_loss: 110.4987\n",
      "141/141 [==============================] - 5s 39ms/step - loss: 116.3964 - val_loss: 54.7936\n",
      "141/141 [==============================] - 5s 39ms/step - loss: 97.0573 - val_loss: 39.2501\n"
     ]
    },
    {
     "name": "stderr",
     "output_type": "stream",
     "text": [
      " 54%|█████▍    | 54/100 [25:21<21:07, 27.56s/it]"
     ]
    },
    {
     "name": "stdout",
     "output_type": "stream",
     "text": [
      "141/141 [==============================] - 6s 39ms/step - loss: 108.7676 - val_loss: 59.2039\n",
      "141/141 [==============================] - 5s 39ms/step - loss: 108.7370 - val_loss: 141.8747\n",
      "141/141 [==============================] - 5s 39ms/step - loss: 122.5258 - val_loss: 110.4911\n",
      "141/141 [==============================] - 5s 39ms/step - loss: 116.3938 - val_loss: 54.8652\n",
      "141/141 [==============================] - 5s 39ms/step - loss: 97.0590 - val_loss: 39.3401\n"
     ]
    },
    {
     "name": "stderr",
     "output_type": "stream",
     "text": [
      " 55%|█████▌    | 55/100 [25:49<20:41, 27.58s/it]"
     ]
    },
    {
     "name": "stdout",
     "output_type": "stream",
     "text": [
      "141/141 [==============================] - 5s 39ms/step - loss: 108.7662 - val_loss: 59.1893\n",
      "141/141 [==============================] - 6s 39ms/step - loss: 108.7337 - val_loss: 141.8746\n",
      "141/141 [==============================] - 6s 39ms/step - loss: 122.5221 - val_loss: 110.4806\n",
      "141/141 [==============================] - 6s 41ms/step - loss: 116.3910 - val_loss: 54.8794\n",
      "141/141 [==============================] - 5s 39ms/step - loss: 97.0589 - val_loss: 39.3111\n"
     ]
    },
    {
     "name": "stderr",
     "output_type": "stream",
     "text": [
      " 56%|█████▌    | 56/100 [26:16<20:17, 27.68s/it]"
     ]
    },
    {
     "name": "stdout",
     "output_type": "stream",
     "text": [
      "141/141 [==============================] - 5s 38ms/step - loss: 108.7629 - val_loss: 59.1824\n",
      "141/141 [==============================] - 5s 39ms/step - loss: 108.7332 - val_loss: 141.8841\n",
      "141/141 [==============================] - 5s 39ms/step - loss: 122.5169 - val_loss: 110.4690\n",
      "141/141 [==============================] - 6s 39ms/step - loss: 116.3889 - val_loss: 54.8828\n",
      "141/141 [==============================] - 5s 39ms/step - loss: 97.0549 - val_loss: 39.3095\n"
     ]
    },
    {
     "name": "stderr",
     "output_type": "stream",
     "text": [
      " 57%|█████▋    | 57/100 [26:44<19:47, 27.63s/it]"
     ]
    },
    {
     "name": "stdout",
     "output_type": "stream",
     "text": [
      "141/141 [==============================] - 5s 39ms/step - loss: 108.7638 - val_loss: 59.2124\n",
      "141/141 [==============================] - 5s 39ms/step - loss: 108.7314 - val_loss: 141.8785\n",
      "141/141 [==============================] - 5s 39ms/step - loss: 122.5164 - val_loss: 110.4499\n",
      "141/141 [==============================] - 5s 39ms/step - loss: 116.3843 - val_loss: 54.8379\n",
      "141/141 [==============================] - 5s 39ms/step - loss: 97.0543 - val_loss: 39.3132\n"
     ]
    },
    {
     "name": "stderr",
     "output_type": "stream",
     "text": [
      " 58%|█████▊    | 58/100 [27:12<19:19, 27.62s/it]"
     ]
    },
    {
     "name": "stdout",
     "output_type": "stream",
     "text": [
      "141/141 [==============================] - 6s 39ms/step - loss: 108.7627 - val_loss: 59.1831\n",
      "141/141 [==============================] - 6s 39ms/step - loss: 108.7296 - val_loss: 141.8724\n",
      "141/141 [==============================] - 5s 39ms/step - loss: 122.5166 - val_loss: 110.4344\n",
      "141/141 [==============================] - 6s 39ms/step - loss: 116.3791 - val_loss: 54.8172\n",
      "141/141 [==============================] - 5s 39ms/step - loss: 97.0546 - val_loss: 39.3066\n"
     ]
    },
    {
     "name": "stderr",
     "output_type": "stream",
     "text": [
      " 59%|█████▉    | 59/100 [27:39<18:53, 27.65s/it]"
     ]
    },
    {
     "name": "stdout",
     "output_type": "stream",
     "text": [
      "141/141 [==============================] - 6s 39ms/step - loss: 108.7632 - val_loss: 59.2033\n",
      "141/141 [==============================] - 6s 39ms/step - loss: 108.7303 - val_loss: 141.8617\n",
      "141/141 [==============================] - 5s 39ms/step - loss: 122.5177 - val_loss: 110.4225\n",
      "141/141 [==============================] - 5s 39ms/step - loss: 116.3766 - val_loss: 54.8427\n",
      "141/141 [==============================] - 5s 39ms/step - loss: 97.0510 - val_loss: 39.3206\n"
     ]
    },
    {
     "name": "stderr",
     "output_type": "stream",
     "text": [
      " 60%|██████    | 60/100 [28:07<18:25, 27.63s/it]"
     ]
    },
    {
     "name": "stdout",
     "output_type": "stream",
     "text": [
      "141/141 [==============================] - 5s 39ms/step - loss: 108.7627 - val_loss: 59.2024\n",
      "141/141 [==============================] - 5s 39ms/step - loss: 108.7279 - val_loss: 141.8802\n",
      "141/141 [==============================] - 5s 39ms/step - loss: 122.5156 - val_loss: 110.4063\n",
      "141/141 [==============================] - 5s 38ms/step - loss: 116.3758 - val_loss: 54.8009\n",
      "141/141 [==============================] - 6s 39ms/step - loss: 97.0452 - val_loss: 39.3069\n"
     ]
    },
    {
     "name": "stderr",
     "output_type": "stream",
     "text": [
      " 61%|██████    | 61/100 [28:34<17:55, 27.59s/it]"
     ]
    },
    {
     "name": "stdout",
     "output_type": "stream",
     "text": [
      "141/141 [==============================] - 5s 39ms/step - loss: 108.7602 - val_loss: 59.2160\n",
      "141/141 [==============================] - 5s 39ms/step - loss: 108.7281 - val_loss: 141.8620\n",
      "141/141 [==============================] - 5s 39ms/step - loss: 122.5176 - val_loss: 110.3899\n",
      "141/141 [==============================] - 5s 39ms/step - loss: 116.3720 - val_loss: 54.8789\n",
      "141/141 [==============================] - 6s 39ms/step - loss: 97.0426 - val_loss: 39.3549\n"
     ]
    },
    {
     "name": "stderr",
     "output_type": "stream",
     "text": [
      " 62%|██████▏   | 62/100 [29:02<17:28, 27.59s/it]"
     ]
    },
    {
     "name": "stdout",
     "output_type": "stream",
     "text": [
      "141/141 [==============================] - 5s 39ms/step - loss: 108.7637 - val_loss: 59.1876\n",
      "141/141 [==============================] - 6s 39ms/step - loss: 108.7248 - val_loss: 141.8483\n",
      "141/141 [==============================] - 5s 39ms/step - loss: 122.5163 - val_loss: 110.3743\n",
      "141/141 [==============================] - 5s 39ms/step - loss: 116.3706 - val_loss: 54.8322\n",
      "141/141 [==============================] - 5s 39ms/step - loss: 97.0418 - val_loss: 39.4357\n"
     ]
    },
    {
     "name": "stderr",
     "output_type": "stream",
     "text": [
      " 63%|██████▎   | 63/100 [29:30<17:01, 27.60s/it]"
     ]
    },
    {
     "name": "stdout",
     "output_type": "stream",
     "text": [
      "141/141 [==============================] - 5s 39ms/step - loss: 108.7620 - val_loss: 59.2173\n",
      "141/141 [==============================] - 5s 39ms/step - loss: 108.7287 - val_loss: 141.8416\n",
      "141/141 [==============================] - 5s 39ms/step - loss: 122.5154 - val_loss: 110.3699\n",
      "141/141 [==============================] - 5s 39ms/step - loss: 116.3682 - val_loss: 54.8986\n",
      "141/141 [==============================] - 5s 39ms/step - loss: 97.0408 - val_loss: 39.2728\n"
     ]
    },
    {
     "name": "stderr",
     "output_type": "stream",
     "text": [
      " 64%|██████▍   | 64/100 [29:57<16:32, 27.58s/it]"
     ]
    },
    {
     "name": "stdout",
     "output_type": "stream",
     "text": [
      "141/141 [==============================] - 5s 39ms/step - loss: 108.7617 - val_loss: 59.2080\n",
      "141/141 [==============================] - 5s 39ms/step - loss: 108.7287 - val_loss: 141.8285\n",
      "141/141 [==============================] - 6s 39ms/step - loss: 122.5151 - val_loss: 110.3672\n",
      "141/141 [==============================] - 5s 39ms/step - loss: 116.3703 - val_loss: 54.8300\n",
      "141/141 [==============================] - 5s 39ms/step - loss: 97.0378 - val_loss: 39.2738\n"
     ]
    },
    {
     "name": "stderr",
     "output_type": "stream",
     "text": [
      " 65%|██████▌   | 65/100 [30:25<16:05, 27.57s/it]"
     ]
    },
    {
     "name": "stdout",
     "output_type": "stream",
     "text": [
      "141/141 [==============================] - 5s 39ms/step - loss: 108.7611 - val_loss: 59.2224\n",
      "141/141 [==============================] - 6s 39ms/step - loss: 108.7316 - val_loss: 141.8192\n",
      "141/141 [==============================] - 5s 38ms/step - loss: 122.5151 - val_loss: 110.3782\n",
      "141/141 [==============================] - 5s 39ms/step - loss: 116.3675 - val_loss: 54.8038\n",
      "141/141 [==============================] - 5s 39ms/step - loss: 97.0396 - val_loss: 39.4720\n"
     ]
    },
    {
     "name": "stderr",
     "output_type": "stream",
     "text": [
      " 66%|██████▌   | 66/100 [30:52<15:36, 27.55s/it]"
     ]
    },
    {
     "name": "stdout",
     "output_type": "stream",
     "text": [
      "141/141 [==============================] - 6s 39ms/step - loss: 108.7595 - val_loss: 59.1900\n",
      "141/141 [==============================] - 5s 39ms/step - loss: 108.7347 - val_loss: 141.8116\n",
      "141/141 [==============================] - 5s 39ms/step - loss: 122.5157 - val_loss: 110.3679\n",
      "141/141 [==============================] - 5s 38ms/step - loss: 116.3665 - val_loss: 54.8002\n",
      "141/141 [==============================] - 5s 39ms/step - loss: 97.0394 - val_loss: 39.2648\n"
     ]
    },
    {
     "name": "stderr",
     "output_type": "stream",
     "text": [
      " 67%|██████▋   | 67/100 [31:20<15:09, 27.55s/it]"
     ]
    },
    {
     "name": "stdout",
     "output_type": "stream",
     "text": [
      "141/141 [==============================] - 5s 39ms/step - loss: 108.7561 - val_loss: 59.1961\n",
      "141/141 [==============================] - 5s 39ms/step - loss: 108.7375 - val_loss: 141.7973\n",
      "141/141 [==============================] - 5s 39ms/step - loss: 122.5177 - val_loss: 110.3769\n",
      "141/141 [==============================] - 5s 39ms/step - loss: 116.3676 - val_loss: 54.7946\n",
      "141/141 [==============================] - 6s 39ms/step - loss: 97.0376 - val_loss: 39.2567\n"
     ]
    },
    {
     "name": "stderr",
     "output_type": "stream",
     "text": [
      " 68%|██████▊   | 68/100 [31:47<14:41, 27.56s/it]"
     ]
    },
    {
     "name": "stdout",
     "output_type": "stream",
     "text": [
      "141/141 [==============================] - 5s 39ms/step - loss: 108.7568 - val_loss: 59.1962\n",
      "141/141 [==============================] - 5s 39ms/step - loss: 108.7337 - val_loss: 141.7850\n",
      "141/141 [==============================] - 5s 39ms/step - loss: 122.5196 - val_loss: 110.3841\n",
      "141/141 [==============================] - 5s 39ms/step - loss: 116.3669 - val_loss: 54.8579\n",
      "141/141 [==============================] - 5s 38ms/step - loss: 97.0369 - val_loss: 39.2631\n"
     ]
    },
    {
     "name": "stderr",
     "output_type": "stream",
     "text": [
      " 69%|██████▉   | 69/100 [32:15<14:13, 27.54s/it]"
     ]
    },
    {
     "name": "stdout",
     "output_type": "stream",
     "text": [
      "141/141 [==============================] - 5s 39ms/step - loss: 108.7576 - val_loss: 59.2191\n",
      "141/141 [==============================] - 5s 39ms/step - loss: 108.7368 - val_loss: 141.7793\n",
      "141/141 [==============================] - 6s 39ms/step - loss: 122.5206 - val_loss: 110.3692\n",
      "141/141 [==============================] - 5s 39ms/step - loss: 116.3668 - val_loss: 54.8598\n",
      "141/141 [==============================] - 5s 39ms/step - loss: 97.0373 - val_loss: 39.2630\n"
     ]
    },
    {
     "name": "stderr",
     "output_type": "stream",
     "text": [
      " 70%|███████   | 70/100 [32:42<13:46, 27.56s/it]"
     ]
    },
    {
     "name": "stdout",
     "output_type": "stream",
     "text": [
      "141/141 [==============================] - 5s 39ms/step - loss: 108.7606 - val_loss: 59.2038\n",
      "141/141 [==============================] - 5s 38ms/step - loss: 108.7379 - val_loss: 141.7908\n",
      "141/141 [==============================] - 5s 39ms/step - loss: 122.5231 - val_loss: 110.3530\n",
      "141/141 [==============================] - 5s 39ms/step - loss: 116.3686 - val_loss: 54.8239\n",
      "141/141 [==============================] - 6s 39ms/step - loss: 97.0363 - val_loss: 39.2647\n"
     ]
    },
    {
     "name": "stderr",
     "output_type": "stream",
     "text": [
      " 71%|███████   | 71/100 [33:10<13:18, 27.54s/it]"
     ]
    },
    {
     "name": "stdout",
     "output_type": "stream",
     "text": [
      "141/141 [==============================] - 6s 39ms/step - loss: 108.7618 - val_loss: 59.2181\n",
      "141/141 [==============================] - 5s 39ms/step - loss: 108.7380 - val_loss: 141.7838\n",
      "141/141 [==============================] - 6s 39ms/step - loss: 122.5239 - val_loss: 110.3415\n",
      "141/141 [==============================] - 6s 39ms/step - loss: 116.3662 - val_loss: 54.7708\n",
      "141/141 [==============================] - 6s 40ms/step - loss: 97.0343 - val_loss: 39.3213\n"
     ]
    },
    {
     "name": "stderr",
     "output_type": "stream",
     "text": [
      " 72%|███████▏  | 72/100 [33:38<12:53, 27.61s/it]"
     ]
    },
    {
     "name": "stdout",
     "output_type": "stream",
     "text": [
      "141/141 [==============================] - 5s 39ms/step - loss: 108.7614 - val_loss: 59.2095\n",
      "141/141 [==============================] - 6s 40ms/step - loss: 108.7388 - val_loss: 141.7764\n",
      "141/141 [==============================] - 5s 39ms/step - loss: 122.5220 - val_loss: 110.3285\n",
      "141/141 [==============================] - 5s 39ms/step - loss: 116.3675 - val_loss: 54.7606\n",
      "141/141 [==============================] - 5s 39ms/step - loss: 97.0337 - val_loss: 39.2560\n"
     ]
    },
    {
     "name": "stderr",
     "output_type": "stream",
     "text": [
      " 73%|███████▎  | 73/100 [34:05<12:25, 27.63s/it]"
     ]
    },
    {
     "name": "stdout",
     "output_type": "stream",
     "text": [
      "141/141 [==============================] - 6s 39ms/step - loss: 108.7614 - val_loss: 59.2281\n",
      "141/141 [==============================] - 5s 39ms/step - loss: 108.7379 - val_loss: 141.7685\n",
      "141/141 [==============================] - 5s 39ms/step - loss: 122.5232 - val_loss: 110.3361\n",
      "141/141 [==============================] - 5s 39ms/step - loss: 116.3637 - val_loss: 54.8522\n",
      "141/141 [==============================] - 5s 39ms/step - loss: 97.0319 - val_loss: 39.2753\n"
     ]
    },
    {
     "name": "stderr",
     "output_type": "stream",
     "text": [
      " 74%|███████▍  | 74/100 [34:33<11:57, 27.62s/it]"
     ]
    },
    {
     "name": "stdout",
     "output_type": "stream",
     "text": [
      "141/141 [==============================] - 5s 39ms/step - loss: 108.7596 - val_loss: 59.2521\n",
      "141/141 [==============================] - 5s 39ms/step - loss: 108.7386 - val_loss: 141.7760\n",
      "141/141 [==============================] - 5s 39ms/step - loss: 122.5207 - val_loss: 110.3376\n",
      "141/141 [==============================] - 5s 39ms/step - loss: 116.3644 - val_loss: 54.7680\n",
      "141/141 [==============================] - 5s 39ms/step - loss: 97.0295 - val_loss: 39.2679\n"
     ]
    },
    {
     "name": "stderr",
     "output_type": "stream",
     "text": [
      " 75%|███████▌  | 75/100 [35:00<11:30, 27.60s/it]"
     ]
    },
    {
     "name": "stdout",
     "output_type": "stream",
     "text": [
      "141/141 [==============================] - 5s 39ms/step - loss: 108.7571 - val_loss: 59.2166\n",
      "141/141 [==============================] - 5s 39ms/step - loss: 108.7383 - val_loss: 141.7679\n",
      "141/141 [==============================] - 5s 39ms/step - loss: 122.5181 - val_loss: 110.3371\n",
      "141/141 [==============================] - 5s 39ms/step - loss: 116.3596 - val_loss: 54.8643\n",
      "141/141 [==============================] - 5s 39ms/step - loss: 97.0252 - val_loss: 39.2882\n"
     ]
    },
    {
     "name": "stderr",
     "output_type": "stream",
     "text": [
      " 76%|███████▌  | 76/100 [35:28<11:02, 27.59s/it]"
     ]
    },
    {
     "name": "stdout",
     "output_type": "stream",
     "text": [
      "141/141 [==============================] - 5s 39ms/step - loss: 108.7560 - val_loss: 59.2133\n",
      "141/141 [==============================] - 5s 39ms/step - loss: 108.7376 - val_loss: 141.7673\n",
      "141/141 [==============================] - 5s 39ms/step - loss: 122.5187 - val_loss: 110.3475\n",
      "141/141 [==============================] - 5s 39ms/step - loss: 116.3594 - val_loss: 54.9294\n",
      "141/141 [==============================] - 5s 39ms/step - loss: 97.0220 - val_loss: 39.2709\n"
     ]
    },
    {
     "name": "stderr",
     "output_type": "stream",
     "text": [
      " 77%|███████▋  | 77/100 [35:56<10:34, 27.59s/it]"
     ]
    },
    {
     "name": "stdout",
     "output_type": "stream",
     "text": [
      "141/141 [==============================] - 5s 39ms/step - loss: 108.7542 - val_loss: 59.2677\n",
      "141/141 [==============================] - 5s 39ms/step - loss: 108.7355 - val_loss: 141.7700\n",
      "141/141 [==============================] - 5s 39ms/step - loss: 122.5152 - val_loss: 110.3523\n",
      "141/141 [==============================] - 5s 39ms/step - loss: 116.3570 - val_loss: 54.9147\n",
      "141/141 [==============================] - 5s 39ms/step - loss: 97.0231 - val_loss: 39.2704\n"
     ]
    },
    {
     "name": "stderr",
     "output_type": "stream",
     "text": [
      " 78%|███████▊  | 78/100 [36:23<10:06, 27.56s/it]"
     ]
    },
    {
     "name": "stdout",
     "output_type": "stream",
     "text": [
      "141/141 [==============================] - 6s 39ms/step - loss: 108.7529 - val_loss: 59.2232\n",
      "141/141 [==============================] - 6s 39ms/step - loss: 108.7356 - val_loss: 141.7632\n",
      "141/141 [==============================] - 5s 39ms/step - loss: 122.5148 - val_loss: 110.3451\n",
      "141/141 [==============================] - 5s 39ms/step - loss: 116.3550 - val_loss: 54.7907\n",
      "141/141 [==============================] - 5s 39ms/step - loss: 97.0205 - val_loss: 39.5163\n"
     ]
    },
    {
     "name": "stderr",
     "output_type": "stream",
     "text": [
      " 79%|███████▉  | 79/100 [36:51<09:38, 27.55s/it]"
     ]
    },
    {
     "name": "stdout",
     "output_type": "stream",
     "text": [
      "141/141 [==============================] - 5s 39ms/step - loss: 108.7599 - val_loss: 59.2205\n",
      "141/141 [==============================] - 5s 39ms/step - loss: 108.7348 - val_loss: 141.7626\n",
      "141/141 [==============================] - 5s 38ms/step - loss: 122.5165 - val_loss: 110.3562\n",
      "141/141 [==============================] - 5s 38ms/step - loss: 116.3572 - val_loss: 54.7731\n",
      "141/141 [==============================] - 5s 39ms/step - loss: 97.0207 - val_loss: 39.2822\n"
     ]
    },
    {
     "name": "stderr",
     "output_type": "stream",
     "text": [
      " 80%|████████  | 80/100 [37:18<09:10, 27.50s/it]"
     ]
    },
    {
     "name": "stdout",
     "output_type": "stream",
     "text": [
      "141/141 [==============================] - 5s 39ms/step - loss: 108.7611 - val_loss: 59.2073\n",
      "141/141 [==============================] - 5s 39ms/step - loss: 108.7355 - val_loss: 141.7561\n",
      "141/141 [==============================] - 5s 39ms/step - loss: 122.5144 - val_loss: 110.3558\n",
      "141/141 [==============================] - 5s 38ms/step - loss: 116.3625 - val_loss: 54.7620\n",
      "141/141 [==============================] - 6s 39ms/step - loss: 97.0236 - val_loss: 39.4252\n"
     ]
    },
    {
     "name": "stderr",
     "output_type": "stream",
     "text": [
      " 81%|████████  | 81/100 [37:46<08:42, 27.51s/it]"
     ]
    },
    {
     "name": "stdout",
     "output_type": "stream",
     "text": [
      "141/141 [==============================] - 5s 39ms/step - loss: 108.7607 - val_loss: 59.2235\n",
      "141/141 [==============================] - 5s 39ms/step - loss: 108.7304 - val_loss: 141.7595\n",
      "141/141 [==============================] - 5s 39ms/step - loss: 122.5189 - val_loss: 110.3661\n",
      "141/141 [==============================] - 5s 39ms/step - loss: 116.3615 - val_loss: 54.7566\n",
      "141/141 [==============================] - 5s 39ms/step - loss: 97.0206 - val_loss: 39.3106\n"
     ]
    },
    {
     "name": "stderr",
     "output_type": "stream",
     "text": [
      " 82%|████████▏ | 82/100 [38:13<08:15, 27.50s/it]"
     ]
    },
    {
     "name": "stdout",
     "output_type": "stream",
     "text": [
      "141/141 [==============================] - 5s 39ms/step - loss: 108.7652 - val_loss: 59.2162\n",
      "141/141 [==============================] - 5s 39ms/step - loss: 108.7347 - val_loss: 141.7641\n",
      "141/141 [==============================] - 5s 39ms/step - loss: 122.5145 - val_loss: 110.3729\n",
      "141/141 [==============================] - 5s 39ms/step - loss: 116.3613 - val_loss: 54.7833\n",
      "141/141 [==============================] - 5s 39ms/step - loss: 97.0238 - val_loss: 39.2757\n"
     ]
    },
    {
     "name": "stderr",
     "output_type": "stream",
     "text": [
      " 83%|████████▎ | 83/100 [38:41<07:47, 27.50s/it]"
     ]
    },
    {
     "name": "stdout",
     "output_type": "stream",
     "text": [
      "141/141 [==============================] - 5s 39ms/step - loss: 108.7612 - val_loss: 59.2596\n",
      "141/141 [==============================] - 5s 39ms/step - loss: 108.7340 - val_loss: 141.7553\n",
      "141/141 [==============================] - 6s 39ms/step - loss: 122.5167 - val_loss: 110.3744\n",
      "141/141 [==============================] - 5s 39ms/step - loss: 116.3625 - val_loss: 54.8875\n",
      "141/141 [==============================] - 5s 39ms/step - loss: 97.0182 - val_loss: 39.2791\n"
     ]
    },
    {
     "name": "stderr",
     "output_type": "stream",
     "text": [
      " 84%|████████▍ | 84/100 [39:08<07:20, 27.52s/it]"
     ]
    },
    {
     "name": "stdout",
     "output_type": "stream",
     "text": [
      "141/141 [==============================] - 5s 39ms/step - loss: 108.7644 - val_loss: 59.2842\n",
      "141/141 [==============================] - 5s 39ms/step - loss: 108.7330 - val_loss: 141.7543\n",
      "141/141 [==============================] - 5s 38ms/step - loss: 122.5177 - val_loss: 110.3843\n",
      "141/141 [==============================] - 5s 39ms/step - loss: 116.3650 - val_loss: 54.8931\n",
      "141/141 [==============================] - 5s 39ms/step - loss: 97.0225 - val_loss: 39.4238\n"
     ]
    },
    {
     "name": "stderr",
     "output_type": "stream",
     "text": [
      " 85%|████████▌ | 85/100 [39:36<06:52, 27.48s/it]"
     ]
    },
    {
     "name": "stdout",
     "output_type": "stream",
     "text": [
      "141/141 [==============================] - 5s 39ms/step - loss: 108.7663 - val_loss: 59.2902\n",
      "141/141 [==============================] - 5s 39ms/step - loss: 108.7348 - val_loss: 141.7745\n",
      "141/141 [==============================] - 5s 39ms/step - loss: 122.5237 - val_loss: 110.3886\n",
      "141/141 [==============================] - 5s 39ms/step - loss: 116.3644 - val_loss: 54.8918\n",
      "141/141 [==============================] - 5s 39ms/step - loss: 97.0246 - val_loss: 39.2904\n"
     ]
    },
    {
     "name": "stderr",
     "output_type": "stream",
     "text": [
      " 86%|████████▌ | 86/100 [40:03<06:25, 27.51s/it]"
     ]
    },
    {
     "name": "stdout",
     "output_type": "stream",
     "text": [
      "141/141 [==============================] - 5s 39ms/step - loss: 108.7692 - val_loss: 59.2627\n",
      "141/141 [==============================] - 6s 39ms/step - loss: 108.7384 - val_loss: 141.7689\n",
      "141/141 [==============================] - 5s 39ms/step - loss: 122.5238 - val_loss: 110.3949\n",
      "141/141 [==============================] - 5s 39ms/step - loss: 116.3618 - val_loss: 54.8851\n",
      "141/141 [==============================] - 5s 39ms/step - loss: 97.0261 - val_loss: 39.2835\n"
     ]
    },
    {
     "name": "stderr",
     "output_type": "stream",
     "text": [
      " 87%|████████▋ | 87/100 [40:31<05:57, 27.54s/it]"
     ]
    },
    {
     "name": "stdout",
     "output_type": "stream",
     "text": [
      "141/141 [==============================] - 5s 39ms/step - loss: 108.7689 - val_loss: 59.2951\n",
      "141/141 [==============================] - 5s 39ms/step - loss: 108.7377 - val_loss: 141.7766\n",
      "141/141 [==============================] - 5s 39ms/step - loss: 122.5266 - val_loss: 110.3673\n",
      "141/141 [==============================] - 5s 39ms/step - loss: 116.3614 - val_loss: 54.9010\n",
      "141/141 [==============================] - 5s 39ms/step - loss: 97.0280 - val_loss: 39.2883\n"
     ]
    },
    {
     "name": "stderr",
     "output_type": "stream",
     "text": [
      " 88%|████████▊ | 88/100 [40:58<05:30, 27.55s/it]"
     ]
    },
    {
     "name": "stdout",
     "output_type": "stream",
     "text": [
      "141/141 [==============================] - 5s 39ms/step - loss: 108.7701 - val_loss: 59.2606\n",
      "141/141 [==============================] - 5s 39ms/step - loss: 108.7388 - val_loss: 141.7684\n",
      "141/141 [==============================] - 5s 39ms/step - loss: 122.5274 - val_loss: 110.3901\n",
      "141/141 [==============================] - 6s 39ms/step - loss: 116.3626 - val_loss: 54.8534\n",
      "141/141 [==============================] - 6s 39ms/step - loss: 97.0252 - val_loss: 39.2867\n"
     ]
    },
    {
     "name": "stderr",
     "output_type": "stream",
     "text": [
      " 89%|████████▉ | 89/100 [41:26<05:04, 27.66s/it]"
     ]
    },
    {
     "name": "stdout",
     "output_type": "stream",
     "text": [
      "141/141 [==============================] - 5s 39ms/step - loss: 108.7698 - val_loss: 59.2868\n",
      "141/141 [==============================] - 6s 39ms/step - loss: 108.7374 - val_loss: 141.8008\n",
      "141/141 [==============================] - 6s 39ms/step - loss: 122.5302 - val_loss: 110.3817\n",
      "141/141 [==============================] - 6s 40ms/step - loss: 116.3625 - val_loss: 54.7952\n",
      "141/141 [==============================] - 6s 40ms/step - loss: 97.0258 - val_loss: 39.2857\n"
     ]
    },
    {
     "name": "stderr",
     "output_type": "stream",
     "text": [
      " 90%|█████████ | 90/100 [41:54<04:37, 27.75s/it]"
     ]
    },
    {
     "name": "stdout",
     "output_type": "stream",
     "text": [
      "141/141 [==============================] - 6s 40ms/step - loss: 108.7716 - val_loss: 59.2258\n",
      "141/141 [==============================] - 6s 40ms/step - loss: 108.7335 - val_loss: 141.7968\n",
      "141/141 [==============================] - 6s 40ms/step - loss: 122.5272 - val_loss: 110.3843\n",
      "141/141 [==============================] - 6s 40ms/step - loss: 116.3625 - val_loss: 54.7863\n",
      "141/141 [==============================] - 6s 40ms/step - loss: 97.0250 - val_loss: 39.2848\n"
     ]
    },
    {
     "name": "stderr",
     "output_type": "stream",
     "text": [
      " 91%|█████████ | 91/100 [42:22<04:11, 27.91s/it]"
     ]
    },
    {
     "name": "stdout",
     "output_type": "stream",
     "text": [
      "141/141 [==============================] - 6s 40ms/step - loss: 108.7683 - val_loss: 59.2232\n",
      "141/141 [==============================] - 6s 40ms/step - loss: 108.7326 - val_loss: 141.7957\n",
      "141/141 [==============================] - 6s 41ms/step - loss: 122.5271 - val_loss: 110.3667\n",
      "141/141 [==============================] - 6s 41ms/step - loss: 116.3585 - val_loss: 54.7993\n",
      "141/141 [==============================] - 6s 40ms/step - loss: 97.0292 - val_loss: 39.2845\n"
     ]
    },
    {
     "name": "stderr",
     "output_type": "stream",
     "text": [
      " 92%|█████████▏| 92/100 [42:51<03:45, 28.15s/it]"
     ]
    },
    {
     "name": "stdout",
     "output_type": "stream",
     "text": [
      "141/141 [==============================] - 6s 40ms/step - loss: 108.7643 - val_loss: 59.3137\n",
      "141/141 [==============================] - 6s 40ms/step - loss: 108.7292 - val_loss: 141.7841\n",
      "141/141 [==============================] - 6s 40ms/step - loss: 122.5201 - val_loss: 110.3475\n",
      "141/141 [==============================] - 6s 40ms/step - loss: 116.3510 - val_loss: 54.8802\n",
      "141/141 [==============================] - 6s 40ms/step - loss: 97.0192 - val_loss: 39.3573\n"
     ]
    },
    {
     "name": "stderr",
     "output_type": "stream",
     "text": [
      " 93%|█████████▎| 93/100 [43:20<03:18, 28.29s/it]"
     ]
    },
    {
     "name": "stdout",
     "output_type": "stream",
     "text": [
      "141/141 [==============================] - 6s 40ms/step - loss: 108.7653 - val_loss: 59.2736\n",
      "141/141 [==============================] - 6s 40ms/step - loss: 108.7221 - val_loss: 141.7843\n",
      "141/141 [==============================] - 6s 40ms/step - loss: 122.5177 - val_loss: 110.3689\n",
      "141/141 [==============================] - 6s 39ms/step - loss: 116.3493 - val_loss: 54.8997\n",
      "141/141 [==============================] - 6s 39ms/step - loss: 97.0155 - val_loss: 39.2671\n"
     ]
    },
    {
     "name": "stderr",
     "output_type": "stream",
     "text": [
      " 94%|█████████▍| 94/100 [43:48<02:49, 28.25s/it]"
     ]
    },
    {
     "name": "stdout",
     "output_type": "stream",
     "text": [
      "141/141 [==============================] - 6s 39ms/step - loss: 108.7584 - val_loss: 59.2926\n",
      "141/141 [==============================] - 6s 39ms/step - loss: 108.7191 - val_loss: 141.7646\n",
      "141/141 [==============================] - 6s 39ms/step - loss: 122.5135 - val_loss: 110.3629\n",
      "141/141 [==============================] - 6s 39ms/step - loss: 116.3448 - val_loss: 54.8819\n",
      "141/141 [==============================] - 6s 39ms/step - loss: 97.0131 - val_loss: 39.3772\n"
     ]
    },
    {
     "name": "stderr",
     "output_type": "stream",
     "text": [
      " 95%|█████████▌| 95/100 [44:16<02:20, 28.14s/it]"
     ]
    },
    {
     "name": "stdout",
     "output_type": "stream",
     "text": [
      "141/141 [==============================] - 5s 39ms/step - loss: 108.7626 - val_loss: 59.2074\n",
      "141/141 [==============================] - 5s 39ms/step - loss: 108.7154 - val_loss: 141.7538\n",
      "141/141 [==============================] - 6s 39ms/step - loss: 122.5129 - val_loss: 110.3524\n",
      "141/141 [==============================] - 6s 39ms/step - loss: 116.3448 - val_loss: 54.7763\n",
      "141/141 [==============================] - 6s 39ms/step - loss: 97.0053 - val_loss: 39.3527\n"
     ]
    },
    {
     "name": "stderr",
     "output_type": "stream",
     "text": [
      " 96%|█████████▌| 96/100 [44:43<01:52, 28.00s/it]"
     ]
    },
    {
     "name": "stdout",
     "output_type": "stream",
     "text": [
      "141/141 [==============================] - 6s 39ms/step - loss: 108.7569 - val_loss: 59.3200\n",
      "141/141 [==============================] - 6s 39ms/step - loss: 108.7077 - val_loss: 141.7439\n",
      "141/141 [==============================] - 6s 39ms/step - loss: 122.5082 - val_loss: 110.3447\n",
      "141/141 [==============================] - 5s 39ms/step - loss: 116.3400 - val_loss: 54.8499\n",
      "141/141 [==============================] - 5s 39ms/step - loss: 97.0045 - val_loss: 39.3508\n"
     ]
    },
    {
     "name": "stderr",
     "output_type": "stream",
     "text": [
      " 97%|█████████▋| 97/100 [45:11<01:23, 27.92s/it]"
     ]
    },
    {
     "name": "stdout",
     "output_type": "stream",
     "text": [
      "141/141 [==============================] - 5s 39ms/step - loss: 108.7549 - val_loss: 59.1986\n",
      "141/141 [==============================] - 6s 39ms/step - loss: 108.7052 - val_loss: 141.7448\n",
      "141/141 [==============================] - 5s 39ms/step - loss: 122.5025 - val_loss: 110.3350\n",
      "141/141 [==============================] - 5s 39ms/step - loss: 116.3376 - val_loss: 54.7702\n",
      "141/141 [==============================] - 5s 39ms/step - loss: 96.9997 - val_loss: 39.3641\n"
     ]
    },
    {
     "name": "stderr",
     "output_type": "stream",
     "text": [
      " 98%|█████████▊| 98/100 [45:39<00:55, 27.82s/it]"
     ]
    },
    {
     "name": "stdout",
     "output_type": "stream",
     "text": [
      "141/141 [==============================] - 5s 39ms/step - loss: 108.7528 - val_loss: 59.1956\n",
      "141/141 [==============================] - 5s 38ms/step - loss: 108.7050 - val_loss: 141.7419\n",
      "141/141 [==============================] - 5s 38ms/step - loss: 122.4961 - val_loss: 110.3274\n",
      "141/141 [==============================] - 5s 39ms/step - loss: 116.3334 - val_loss: 54.7695\n",
      "141/141 [==============================] - 5s 39ms/step - loss: 96.9983 - val_loss: 39.4846\n"
     ]
    },
    {
     "name": "stderr",
     "output_type": "stream",
     "text": [
      " 99%|█████████▉| 99/100 [46:06<00:27, 27.69s/it]"
     ]
    },
    {
     "name": "stdout",
     "output_type": "stream",
     "text": [
      "141/141 [==============================] - 6s 39ms/step - loss: 108.7525 - val_loss: 59.1928\n",
      "141/141 [==============================] - 6s 39ms/step - loss: 108.7050 - val_loss: 141.7451\n",
      "141/141 [==============================] - 5s 39ms/step - loss: 122.4960 - val_loss: 110.3330\n",
      "141/141 [==============================] - 5s 39ms/step - loss: 116.3336 - val_loss: 54.7690\n",
      "141/141 [==============================] - 5s 39ms/step - loss: 97.0007 - val_loss: 39.3954\n"
     ]
    },
    {
     "name": "stderr",
     "output_type": "stream",
     "text": [
      "100%|██████████| 100/100 [46:34<00:00, 27.94s/it]\n"
     ]
    }
   ],
   "source": [
    "#super_model.fit_model(super_model.model_A, X_train_A, y_train_A)\n",
    "from sklearn.model_selection import TimeSeriesSplit\n",
    "\n",
    "from sklearn.model_selection import TimeSeriesSplit\n",
    "\n",
    "ts_cv = TimeSeriesSplit(\n",
    "    n_splits=5,\n",
    "    gap=15,\n",
    "    max_train_size=18000,\n",
    "    test_size=3000,\n",
    ")\n",
    "\n",
    "all_splits = list(ts_cv.split(X, y))\n",
    "\n",
    "\n",
    "\n",
    "\n",
    "super_model.fit_model_timeseries(super_model.model_A, all_splits, X, y, training_parameters={\"epochs\":100, \"batch_size\":128, \"timesteps\":model_number_timesteps})\n"
   ]
  },
  {
   "cell_type": "code",
   "execution_count": 24,
   "metadata": {},
   "outputs": [
    {
     "data": {
      "image/png": "[encoded data removed]",
      "text/plain": [
       "<Figure size 640x480 with 1 Axes>"
      ]
     },
     "metadata": {},
     "output_type": "display_data"
    }
   ],
   "source": [
    "gt = y_validate\n",
    "\n",
    "plt.plot(gt)\n",
    "plt.show()\n",
    "\n"
   ]
  },
  {
   "cell_type": "code",
   "execution_count": 25,
   "metadata": {},
   "outputs": [
    {
     "ename": "ValueError",
     "evalue": "in user code:\n\n    File \"/Users/jonasolsen/Documents/Skole/IIkt/5_semester/TDT4173 - Maskinlæring/ve/group_project/.venv/lib/python3.9/site-packages/keras/src/engine/training.py\", line 2416, in predict_function  *\n        return step_function(self, iterator)\n    File \"/Users/jonasolsen/Documents/Skole/IIkt/5_semester/TDT4173 - Maskinlæring/ve/group_project/.venv/lib/python3.9/site-packages/keras/src/engine/training.py\", line 2401, in step_function  **\n        outputs = model.distribute_strategy.run(run_step, args=(data,))\n    File \"/Users/jonasolsen/Documents/Skole/IIkt/5_semester/TDT4173 - Maskinlæring/ve/group_project/.venv/lib/python3.9/site-packages/keras/src/engine/training.py\", line 2389, in run_step  **\n        outputs = model.predict_step(data)\n    File \"/Users/jonasolsen/Documents/Skole/IIkt/5_semester/TDT4173 - Maskinlæring/ve/group_project/.venv/lib/python3.9/site-packages/keras/src/engine/training.py\", line 2357, in predict_step\n        return self(x, training=False)\n    File \"/Users/jonasolsen/Documents/Skole/IIkt/5_semester/TDT4173 - Maskinlæring/ve/group_project/.venv/lib/python3.9/site-packages/keras/src/utils/traceback_utils.py\", line 70, in error_handler\n        raise e.with_traceback(filtered_tb) from None\n    File \"/Users/jonasolsen/Documents/Skole/IIkt/5_semester/TDT4173 - Maskinlæring/ve/group_project/.venv/lib/python3.9/site-packages/keras/src/engine/input_spec.py\", line 298, in assert_input_compatibility\n        raise ValueError(\n\n    ValueError: Exception encountered when calling layer 'bidirectional_4' (type Bidirectional).\n    \n    Input 0 of layer \"forward_lstm_4\" is incompatible with the layer: expected shape=(None, None, 48), found shape=(None, 1, 46)\n    \n    Call arguments received by layer 'bidirectional_4' (type Bidirectional):\n      • inputs=tf.Tensor(shape=(None, 1, 46), dtype=float32)\n      • training=False\n      • mask=None\n      • initial_state=None\n      • constants=None\n",
     "output_type": "error",
     "traceback": [
      "\u001b[0;31m---------------------------------------------------------------------------\u001b[0m",
      "\u001b[0;31mValueError\u001b[0m                                Traceback (most recent call last)",
      "\u001b[1;32m/Users/jonasolsen/Documents/Skole/IIkt/5_semester/TDT4173 - Maskinlæring/ve/group_project/keras_model.ipynb Cell 11\u001b[0m line \u001b[0;36m1\n\u001b[0;32m----> <a href='vscode-notebook-cell:/Users/jonasolsen/Documents/Skole/IIkt/5_semester/TDT4173%20-%20Maskinl%C3%A6ring/ve/group_project/keras_model.ipynb#X16sZmlsZQ%3D%3D?line=0'>1</a>\u001b[0m preds \u001b[39m=\u001b[39m super_model\u001b[39m.\u001b[39;49mmodel_A\u001b[39m.\u001b[39;49mpredict((np\u001b[39m.\u001b[39;49masarray(X_validate)\u001b[39m.\u001b[39;49mreshape(\u001b[39mint\u001b[39;49m(X_validate\u001b[39m.\u001b[39;49mshape[\u001b[39m0\u001b[39;49m]\u001b[39m/\u001b[39;49mmodel_number_timesteps), model_number_timesteps, X_validate\u001b[39m.\u001b[39;49mshape[\u001b[39m1\u001b[39;49m]))\u001b[39m.\u001b[39;49mastype(\u001b[39mfloat\u001b[39;49m))\n\u001b[1;32m      <a href='vscode-notebook-cell:/Users/jonasolsen/Documents/Skole/IIkt/5_semester/TDT4173%20-%20Maskinl%C3%A6ring/ve/group_project/keras_model.ipynb#X16sZmlsZQ%3D%3D?line=1'>2</a>\u001b[0m gt \u001b[39m=\u001b[39m y_validate\n",
      "File \u001b[0;32m~/Documents/Skole/IIkt/5_semester/TDT4173 - Maskinlæring/ve/group_project/.venv/lib/python3.9/site-packages/keras/src/utils/traceback_utils.py:70\u001b[0m, in \u001b[0;36mfilter_traceback.<locals>.error_handler\u001b[0;34m(*args, **kwargs)\u001b[0m\n\u001b[1;32m     67\u001b[0m     filtered_tb \u001b[39m=\u001b[39m _process_traceback_frames(e\u001b[39m.\u001b[39m__traceback__)\n\u001b[1;32m     68\u001b[0m     \u001b[39m# To get the full stack trace, call:\u001b[39;00m\n\u001b[1;32m     69\u001b[0m     \u001b[39m# `tf.debugging.disable_traceback_filtering()`\u001b[39;00m\n\u001b[0;32m---> 70\u001b[0m     \u001b[39mraise\u001b[39;00m e\u001b[39m.\u001b[39mwith_traceback(filtered_tb) \u001b[39mfrom\u001b[39;00m \u001b[39mNone\u001b[39;00m\n\u001b[1;32m     71\u001b[0m \u001b[39mfinally\u001b[39;00m:\n\u001b[1;32m     72\u001b[0m     \u001b[39mdel\u001b[39;00m filtered_tb\n",
      "File \u001b[0;32m/var/folders/r_/m51x_wn949x1s34wqwqf6hkr0000gn/T/__autograph_generated_file7927p_vw.py:15\u001b[0m, in \u001b[0;36mouter_factory.<locals>.inner_factory.<locals>.tf__predict_function\u001b[0;34m(iterator)\u001b[0m\n\u001b[1;32m     13\u001b[0m \u001b[39mtry\u001b[39;00m:\n\u001b[1;32m     14\u001b[0m     do_return \u001b[39m=\u001b[39m \u001b[39mTrue\u001b[39;00m\n\u001b[0;32m---> 15\u001b[0m     retval_ \u001b[39m=\u001b[39m ag__\u001b[39m.\u001b[39mconverted_call(ag__\u001b[39m.\u001b[39mld(step_function), (ag__\u001b[39m.\u001b[39mld(\u001b[39mself\u001b[39m), ag__\u001b[39m.\u001b[39mld(iterator)), \u001b[39mNone\u001b[39;00m, fscope)\n\u001b[1;32m     16\u001b[0m \u001b[39mexcept\u001b[39;00m:\n\u001b[1;32m     17\u001b[0m     do_return \u001b[39m=\u001b[39m \u001b[39mFalse\u001b[39;00m\n",
      "\u001b[0;31mValueError\u001b[0m: in user code:\n\n    File \"/Users/jonasolsen/Documents/Skole/IIkt/5_semester/TDT4173 - Maskinlæring/ve/group_project/.venv/lib/python3.9/site-packages/keras/src/engine/training.py\", line 2416, in predict_function  *\n        return step_function(self, iterator)\n    File \"/Users/jonasolsen/Documents/Skole/IIkt/5_semester/TDT4173 - Maskinlæring/ve/group_project/.venv/lib/python3.9/site-packages/keras/src/engine/training.py\", line 2401, in step_function  **\n        outputs = model.distribute_strategy.run(run_step, args=(data,))\n    File \"/Users/jonasolsen/Documents/Skole/IIkt/5_semester/TDT4173 - Maskinlæring/ve/group_project/.venv/lib/python3.9/site-packages/keras/src/engine/training.py\", line 2389, in run_step  **\n        outputs = model.predict_step(data)\n    File \"/Users/jonasolsen/Documents/Skole/IIkt/5_semester/TDT4173 - Maskinlæring/ve/group_project/.venv/lib/python3.9/site-packages/keras/src/engine/training.py\", line 2357, in predict_step\n        return self(x, training=False)\n    File \"/Users/jonasolsen/Documents/Skole/IIkt/5_semester/TDT4173 - Maskinlæring/ve/group_project/.venv/lib/python3.9/site-packages/keras/src/utils/traceback_utils.py\", line 70, in error_handler\n        raise e.with_traceback(filtered_tb) from None\n    File \"/Users/jonasolsen/Documents/Skole/IIkt/5_semester/TDT4173 - Maskinlæring/ve/group_project/.venv/lib/python3.9/site-packages/keras/src/engine/input_spec.py\", line 298, in assert_input_compatibility\n        raise ValueError(\n\n    ValueError: Exception encountered when calling layer 'bidirectional_4' (type Bidirectional).\n    \n    Input 0 of layer \"forward_lstm_4\" is incompatible with the layer: expected shape=(None, None, 48), found shape=(None, 1, 46)\n    \n    Call arguments received by layer 'bidirectional_4' (type Bidirectional):\n      • inputs=tf.Tensor(shape=(None, 1, 46), dtype=float32)\n      • training=False\n      • mask=None\n      • initial_state=None\n      • constants=None\n"
     ]
    }
   ],
   "source": [
    "\n",
    "preds = super_model.model_A.predict((np.asarray(X_validate).reshape(int(X_validate.shape[0]/model_number_timesteps), model_number_timesteps, X_validate.shape[1])).astype(float))\n",
    "gt = y_validate\n"
   ]
  },
  {
   "cell_type": "code",
   "execution_count": 160,
   "metadata": {},
   "outputs": [
    {
     "data": {
      "image/png": "[encoded data removed]",
      "text/plain": [
       "<Figure size 640x480 with 1 Axes>"
      ]
     },
     "metadata": {},
     "output_type": "display_data"
    },
    {
     "data": {
      "image/png": "[encoded data removed]",
      "text/plain": [
       "<Figure size 640x480 with 1 Axes>"
      ]
     },
     "metadata": {},
     "output_type": "display_data"
    },
    {
     "name": "stdout",
     "output_type": "stream",
     "text": [
      "1734411.2085719565\n"
     ]
    }
   ],
   "source": [
    "from keras.losses import mean_absolute_error\n",
    "\n",
    "plt.plot(np.asarray(preds).reshape((preds.shape[0], )))\n",
    "\n",
    "plt.show()\n",
    "\n",
    "gt = pd.DataFrame(gt)\n",
    "gt = gt.reset_index().drop(\"index\", axis=1)\n",
    "\n",
    "plt.plot(gt)\n",
    "plt.show()\n",
    "\n",
    "error = mean_absolute_error(gt, preds)\n",
    "print(np.sum(error)/error.shape[0])\n"
   ]
  },
  {
   "cell_type": "markdown",
   "metadata": {},
   "source": [
    "## Testing our model locally"
   ]
  },
  {
   "cell_type": "code",
   "execution_count": null,
   "metadata": {},
   "outputs": [
    {
     "name": "stdout",
     "output_type": "stream",
     "text": [
      "23/23 [==============================] - 4s 38ms/step\n",
      "23/23 [==============================] - 0s 14ms/step\n",
      "23/23 [==============================] - 0s 13ms/step\n",
      "not emptu\n",
      "not emptu\n",
      "not emptu\n"
     ]
    }
   ],
   "source": [
    "## Specify the model to be used\n",
    "pred_A = super_model.model_A.predict(np.asarray(X_A_submission).reshape((X_A_submission.shape[0], 1, X_A_submission.shape[1])).astype(float))\n",
    "pred_B = super_model.model_A.predict(np.asarray(X_B_submission).reshape((X_B_submission.shape[0], 1, X_B_submission.shape[1])).astype(float))\n",
    "pred_C = super_model.model_A.predict(np.asarray(X_C_submission).reshape((X_C_submission.shape[0], 1, X_C_submission.shape[1])).astype(float))\n",
    "\n",
    "pred_A = pd.DataFrame(pred_A.reshape((720,)))\n",
    "pred_B = pd.DataFrame(pred_B.reshape((720,)))\n",
    "pred_C = pd.DataFrame(pred_C.reshape((720,)))\n",
    "\n",
    "pred_A = dm.scaling(pred_A, \"A\")\n",
    "pred_B = dm.scaling(pred_B, \"B\")\n",
    "pred_C = dm.scaling(pred_C, \"C\")\n",
    "\n",
    "test = pd.read_csv('test.csv')\n",
    "\n",
    "df_mid = pd.concat([pred_A, pred_B], ignore_index=True)\n",
    "\n",
    "df = pd.concat([df_mid, pred_C], join=\"inner\", ignore_index=True)\n",
    "\n",
    "# df[df<0] = 0\n",
    "\n",
    "# NAME THE FILE \n",
    "df.to_csv(\"sub84.csv\")\n"
   ]
  }
 ],
 "metadata": {
  "kernelspec": {
   "display_name": "tf",
   "language": "python",
   "name": "python3"
  },
  "language_info": {
   "codemirror_mode": {
    "name": "ipython",
    "version": 3
   },
   "file_extension": ".py",
   "mimetype": "text/x-python",
   "name": "python",
   "nbconvert_exporter": "python",
   "pygments_lexer": "ipython3",
   "version": "3.9.6"
  }
 },
 "nbformat": 4,
 "nbformat_minor": 2
}
