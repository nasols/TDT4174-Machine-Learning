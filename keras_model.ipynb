{
 "cells": [
  {
   "cell_type": "markdown",
   "metadata": {},
   "source": [
    "ALL MODELS DESCIRBED HERE RUN THE ENTIRE DATA PREP AND FEATURE ENGINEERING NOTEBOOKS \n",
    "ALSO RUNNING ON HOUR FREQUENCY \n",
    "BATCH SIZE 128\n",
    "EPOCHS 25\n",
    "\n",
    "sub 39 : \n",
    "        model_A = Sequential()\n",
    "\n",
    "        model_A.add(LSTM(128, return_sequences=True, input_shape=(X_train_A.shape[1], X_train_A.shape[2])))  # returns a sequence of vectors of dimension 32\n",
    "        model_A.add(LSTM(64, return_sequences=True))  # returns a sequence of vectors of dimension 32\n",
    "        model_A.add(GRU(64, activity_regularizer=\"l1_l2\"))\n",
    "        model_A.add(Dense(64, activity_regularizer=\"l1_l2\"))\n",
    "        model_A.add(Dropout(0.4))\n",
    "        model_A.add(Dense(32, activity_regularizer=\"l1_l2\"))\n",
    "        model_A.add(Dropout(0.4))\n",
    "        model_A.add(Dense(16, activity_regularizer=\"l1_l2\"))\n",
    "        model_A.add(Dropout(0.4))\n",
    "        model_A.add(Dense(1))\n",
    "        model_A.build(input_shape=(1,21))\n",
    "        model_A.summary()\n",
    "        model_A.compile(loss='mean_absolute_error', optimizer='adam')\n",
    "\n",
    "        local loss 39: \n",
    "                64/64 [==============================] - 1s 8ms/step\n",
    "                1095.9252690802348\n",
    "                77/77 [==============================] - 1s 8ms/step\n",
    "                108.4554586038961\n",
    "                76/76 [==============================] - 3s 10ms/step\n",
    "                91.25587557006634\n",
    "\n",
    "sub 40: \n",
    "        model_A.add(LSTM(128, return_sequences=True, input_shape=(X_train_A.shape[1], X_train_A.shape[2])))  # returns a sequence of vectors of dimension 32\n",
    "        model_A.add(LSTM(64, return_sequences=True))  # returns a sequence of vectors of dimension 32\n",
    "        model_A.add(GRU(64, activity_regularizer=\"l2\"))\n",
    "        model_A.add(Dense(64, activity_regularizer=\"l2\"))\n",
    "        model_A.add(Dropout(0.4))\n",
    "        model_A.add(Dense(32, activity_regularizer=\"l2\"))\n",
    "        model_A.add(Dropout(0.4))\n",
    "        model_A.add(Dense(16, activity_regularizer=\"l2\"))\n",
    "        model_A.add(Dropout(0.4))\n",
    "        model_A.add(Dense(1))\n",
    "        model_A.build(input_shape=(1,21))\n",
    "        model_A.summary()\n",
    "        model_A.compile(loss='mean_absolute_error', optimizer='adam')\n",
    "\n",
    "        local loss 40: \n",
    "                64/64 [==============================] - 0s 7ms/step\n",
    "                997.0125978473582\n",
    "                77/77 [==============================] - 0s 5ms/step\n",
    "                112.36317978896103\n",
    "                76/76 [==============================] - 4s 12ms/step\n",
    "                74.19562992330016\n",
    "\n",
    "sub 41: \n",
    "\n",
    "        model_A.add(LSTM(128, return_sequences=True, input_shape=(X_train_A.shape[1], X_train_A.shape[2])))  # returns a sequence of vectors of dimension 32\n",
    "        model_A.add(LSTM(64, return_sequences=True))  # returns a sequence of vectors of dimension 32\n",
    "        model_A.add(GRU(64, activity_regularizer=\"l2\"))\n",
    "        model_A.add(Dense(64, activity_regularizer=\"l2\"))\n",
    "        model_A.add(Dense(32, activity_regularizer=\"l2\"))\n",
    "        model_A.add(Dense(16, activity_regularizer=\"l2\"))\n",
    "        model_A.add(Dense(1))\n",
    "        model_A.build(input_shape=(1,21))\n",
    "        model_A.summary()\n",
    "        model_A.compile(loss='mean_absolute_error', optimizer='adam')\n",
    "\n",
    "        local loss 41: \n",
    "                64/64 [==============================] - 3s 12ms/step\n",
    "                1141.0985812133072\n",
    "                77/77 [==============================] - 2s 6ms/step\n",
    "                114.32893668831169\n",
    "                76/76 [==============================] - 3s 11ms/step\n",
    "                93.95477041873964\n",
    "                \n",
    "\n",
    "\n",
    "\n",
    "\n",
    "\n",
    "\n",
    "\n",
    "\n"
   ]
  },
  {
   "cell_type": "code",
   "execution_count": 2,
   "metadata": {},
   "outputs": [],
   "source": [
    "%load_ext autoreload\n",
    "%autoreload 2"
   ]
  },
  {
   "cell_type": "markdown",
   "metadata": {},
   "source": [
    "# Notebook for running RNN model\n",
    "\n",
    "RNN models (Recurent Neural Network) have LSTM neurons that hopefully can pick up on patterns evolving over time. "
   ]
  },
  {
   "cell_type": "code",
   "execution_count": 3,
   "metadata": {},
   "outputs": [],
   "source": [
    "import tensorflow\n",
    "import numpy as np \n",
    "import pandas as pd\n",
    "import matplotlib.pyplot as plt \n"
   ]
  },
  {
   "cell_type": "code",
   "execution_count": 4,
   "metadata": {},
   "outputs": [],
   "source": [
    "%store -r dm \n",
    "dm = dm\n"
   ]
  },
  {
   "cell_type": "code",
   "execution_count": 5,
   "metadata": {},
   "outputs": [
    {
     "name": "stdout",
     "output_type": "stream",
     "text": [
      "['X_test_estimated_a', 'data_A']\n",
      "['X_test_estimated_b', 'data_B']\n",
      "['X_test_estimated_c', 'data_C']\n"
     ]
    }
   ],
   "source": [
    "dm.combine_all_data()"
   ]
  },
  {
   "cell_type": "code",
   "execution_count": 6,
   "metadata": {},
   "outputs": [
    {
     "name": "stdout",
     "output_type": "stream",
     "text": [
      "(19354, 49) (19354,) (2151, 49) (2151,)\n",
      "(13554, 49) (13554,) (1506, 49) (1506,)\n",
      "(10997, 49) (10997,) (1222, 49) (1222,)\n",
      "(48784, 48) (48784,) (2160, 48)\n"
     ]
    },
    {
     "data": {
      "text/html": [
       "<div>\n",
       "<style scoped>\n",
       "    .dataframe tbody tr th:only-of-type {\n",
       "        vertical-align: middle;\n",
       "    }\n",
       "\n",
       "    .dataframe tbody tr th {\n",
       "        vertical-align: top;\n",
       "    }\n",
       "\n",
       "    .dataframe thead th {\n",
       "        text-align: right;\n",
       "    }\n",
       "</style>\n",
       "<table border=\"1\" class=\"dataframe\">\n",
       "  <thead>\n",
       "    <tr style=\"text-align: right;\">\n",
       "      <th></th>\n",
       "      <th>absolute_humidity_2m:gm3</th>\n",
       "      <th>air_density_2m:kgm3</th>\n",
       "      <th>clear_sky_energy_1h:J</th>\n",
       "      <th>clear_sky_rad:W</th>\n",
       "      <th>dew_or_rime:idx</th>\n",
       "      <th>dew_point_2m:K</th>\n",
       "      <th>diffuse_rad:W</th>\n",
       "      <th>diffuse_rad_1h:J</th>\n",
       "      <th>direct_rad:W</th>\n",
       "      <th>direct_rad_1h:J</th>\n",
       "      <th>...</th>\n",
       "      <th>wind_speed_10m:ms</th>\n",
       "      <th>wind_speed_u_10m:ms</th>\n",
       "      <th>wind_speed_v_10m:ms</th>\n",
       "      <th>wind_speed_w_1000hPa:ms</th>\n",
       "      <th>month</th>\n",
       "      <th>hours</th>\n",
       "      <th>week_number</th>\n",
       "      <th>day_year</th>\n",
       "      <th>sum_rad:W</th>\n",
       "      <th>location</th>\n",
       "    </tr>\n",
       "  </thead>\n",
       "  <tbody>\n",
       "    <tr>\n",
       "      <th>0</th>\n",
       "      <td>0.420420</td>\n",
       "      <td>0.310105</td>\n",
       "      <td>0.000000</td>\n",
       "      <td>0.000000</td>\n",
       "      <td>0.5</td>\n",
       "      <td>0.686839</td>\n",
       "      <td>0.000000</td>\n",
       "      <td>0.000000</td>\n",
       "      <td>0.000000</td>\n",
       "      <td>0.000000</td>\n",
       "      <td>...</td>\n",
       "      <td>0.319196</td>\n",
       "      <td>0.198100</td>\n",
       "      <td>0.441077</td>\n",
       "      <td>0.5</td>\n",
       "      <td>1.000000</td>\n",
       "      <td>0.066987</td>\n",
       "      <td>0.942728</td>\n",
       "      <td>0.936921</td>\n",
       "      <td>0.000000</td>\n",
       "      <td>0</td>\n",
       "    </tr>\n",
       "    <tr>\n",
       "      <th>1</th>\n",
       "      <td>0.420420</td>\n",
       "      <td>0.293554</td>\n",
       "      <td>0.000000</td>\n",
       "      <td>0.000000</td>\n",
       "      <td>0.5</td>\n",
       "      <td>0.686839</td>\n",
       "      <td>0.000000</td>\n",
       "      <td>0.000000</td>\n",
       "      <td>0.000000</td>\n",
       "      <td>0.000000</td>\n",
       "      <td>...</td>\n",
       "      <td>0.296875</td>\n",
       "      <td>0.210312</td>\n",
       "      <td>0.493266</td>\n",
       "      <td>0.5</td>\n",
       "      <td>1.000000</td>\n",
       "      <td>0.017037</td>\n",
       "      <td>0.942728</td>\n",
       "      <td>0.936921</td>\n",
       "      <td>0.000000</td>\n",
       "      <td>0</td>\n",
       "    </tr>\n",
       "    <tr>\n",
       "      <th>2</th>\n",
       "      <td>0.430931</td>\n",
       "      <td>0.280487</td>\n",
       "      <td>0.000000</td>\n",
       "      <td>0.000000</td>\n",
       "      <td>0.5</td>\n",
       "      <td>0.695065</td>\n",
       "      <td>0.000000</td>\n",
       "      <td>0.000000</td>\n",
       "      <td>0.000000</td>\n",
       "      <td>0.000000</td>\n",
       "      <td>...</td>\n",
       "      <td>0.270089</td>\n",
       "      <td>0.232022</td>\n",
       "      <td>0.525253</td>\n",
       "      <td>0.5</td>\n",
       "      <td>1.000000</td>\n",
       "      <td>0.000000</td>\n",
       "      <td>0.967508</td>\n",
       "      <td>0.941041</td>\n",
       "      <td>0.000000</td>\n",
       "      <td>0</td>\n",
       "    </tr>\n",
       "    <tr>\n",
       "      <th>3</th>\n",
       "      <td>0.463964</td>\n",
       "      <td>0.274390</td>\n",
       "      <td>0.000070</td>\n",
       "      <td>0.000898</td>\n",
       "      <td>0.5</td>\n",
       "      <td>0.719154</td>\n",
       "      <td>0.000896</td>\n",
       "      <td>0.000440</td>\n",
       "      <td>0.000000</td>\n",
       "      <td>0.000000</td>\n",
       "      <td>...</td>\n",
       "      <td>0.241071</td>\n",
       "      <td>0.251018</td>\n",
       "      <td>0.533670</td>\n",
       "      <td>0.5</td>\n",
       "      <td>1.000000</td>\n",
       "      <td>0.017037</td>\n",
       "      <td>0.967508</td>\n",
       "      <td>0.941041</td>\n",
       "      <td>0.000653</td>\n",
       "      <td>0</td>\n",
       "    </tr>\n",
       "    <tr>\n",
       "      <th>4</th>\n",
       "      <td>0.495495</td>\n",
       "      <td>0.274390</td>\n",
       "      <td>0.010857</td>\n",
       "      <td>0.027643</td>\n",
       "      <td>0.5</td>\n",
       "      <td>0.738543</td>\n",
       "      <td>0.035773</td>\n",
       "      <td>0.018417</td>\n",
       "      <td>0.000219</td>\n",
       "      <td>0.000116</td>\n",
       "      <td>...</td>\n",
       "      <td>0.225446</td>\n",
       "      <td>0.264586</td>\n",
       "      <td>0.537037</td>\n",
       "      <td>0.5</td>\n",
       "      <td>1.000000</td>\n",
       "      <td>0.066987</td>\n",
       "      <td>0.967508</td>\n",
       "      <td>0.941041</td>\n",
       "      <td>0.021901</td>\n",
       "      <td>0</td>\n",
       "    </tr>\n",
       "    <tr>\n",
       "      <th>...</th>\n",
       "      <td>...</td>\n",
       "      <td>...</td>\n",
       "      <td>...</td>\n",
       "      <td>...</td>\n",
       "      <td>...</td>\n",
       "      <td>...</td>\n",
       "      <td>...</td>\n",
       "      <td>...</td>\n",
       "      <td>...</td>\n",
       "      <td>...</td>\n",
       "      <td>...</td>\n",
       "      <td>...</td>\n",
       "      <td>...</td>\n",
       "      <td>...</td>\n",
       "      <td>...</td>\n",
       "      <td>...</td>\n",
       "      <td>...</td>\n",
       "      <td>...</td>\n",
       "      <td>...</td>\n",
       "      <td>...</td>\n",
       "      <td>...</td>\n",
       "    </tr>\n",
       "    <tr>\n",
       "      <th>39022</th>\n",
       "      <td>0.376877</td>\n",
       "      <td>0.354530</td>\n",
       "      <td>0.561749</td>\n",
       "      <td>0.481003</td>\n",
       "      <td>0.5</td>\n",
       "      <td>0.656287</td>\n",
       "      <td>0.248170</td>\n",
       "      <td>0.255681</td>\n",
       "      <td>0.424971</td>\n",
       "      <td>0.499443</td>\n",
       "      <td>...</td>\n",
       "      <td>0.234375</td>\n",
       "      <td>0.428765</td>\n",
       "      <td>0.303030</td>\n",
       "      <td>0.5</td>\n",
       "      <td>0.933013</td>\n",
       "      <td>0.750000</td>\n",
       "      <td>0.942728</td>\n",
       "      <td>0.923788</td>\n",
       "      <td>0.482133</td>\n",
       "      <td>2</td>\n",
       "    </tr>\n",
       "    <tr>\n",
       "      <th>39023</th>\n",
       "      <td>0.382883</td>\n",
       "      <td>0.364982</td>\n",
       "      <td>0.404473</td>\n",
       "      <td>0.323760</td>\n",
       "      <td>0.5</td>\n",
       "      <td>0.660987</td>\n",
       "      <td>0.244735</td>\n",
       "      <td>0.247864</td>\n",
       "      <td>0.247256</td>\n",
       "      <td>0.338647</td>\n",
       "      <td>...</td>\n",
       "      <td>0.178571</td>\n",
       "      <td>0.430122</td>\n",
       "      <td>0.346801</td>\n",
       "      <td>0.5</td>\n",
       "      <td>0.933013</td>\n",
       "      <td>0.629410</td>\n",
       "      <td>0.942728</td>\n",
       "      <td>0.923788</td>\n",
       "      <td>0.324209</td>\n",
       "      <td>2</td>\n",
       "    </tr>\n",
       "    <tr>\n",
       "      <th>39024</th>\n",
       "      <td>0.402402</td>\n",
       "      <td>0.378920</td>\n",
       "      <td>0.251059</td>\n",
       "      <td>0.179112</td>\n",
       "      <td>0.5</td>\n",
       "      <td>0.675676</td>\n",
       "      <td>0.236594</td>\n",
       "      <td>0.242077</td>\n",
       "      <td>0.074407</td>\n",
       "      <td>0.162047</td>\n",
       "      <td>...</td>\n",
       "      <td>0.120536</td>\n",
       "      <td>0.421981</td>\n",
       "      <td>0.390572</td>\n",
       "      <td>0.5</td>\n",
       "      <td>0.933013</td>\n",
       "      <td>0.500000</td>\n",
       "      <td>0.942728</td>\n",
       "      <td>0.923788</td>\n",
       "      <td>0.173918</td>\n",
       "      <td>2</td>\n",
       "    </tr>\n",
       "    <tr>\n",
       "      <th>39025</th>\n",
       "      <td>0.429429</td>\n",
       "      <td>0.400697</td>\n",
       "      <td>0.120914</td>\n",
       "      <td>0.069228</td>\n",
       "      <td>0.5</td>\n",
       "      <td>0.693890</td>\n",
       "      <td>0.133308</td>\n",
       "      <td>0.186015</td>\n",
       "      <td>0.010609</td>\n",
       "      <td>0.042811</td>\n",
       "      <td>...</td>\n",
       "      <td>0.087054</td>\n",
       "      <td>0.402985</td>\n",
       "      <td>0.409091</td>\n",
       "      <td>0.5</td>\n",
       "      <td>0.933013</td>\n",
       "      <td>0.370590</td>\n",
       "      <td>0.942728</td>\n",
       "      <td>0.923788</td>\n",
       "      <td>0.068221</td>\n",
       "      <td>2</td>\n",
       "    </tr>\n",
       "    <tr>\n",
       "      <th>39026</th>\n",
       "      <td>0.423423</td>\n",
       "      <td>0.416376</td>\n",
       "      <td>0.036921</td>\n",
       "      <td>0.012326</td>\n",
       "      <td>0.5</td>\n",
       "      <td>0.688014</td>\n",
       "      <td>0.031591</td>\n",
       "      <td>0.082903</td>\n",
       "      <td>0.000000</td>\n",
       "      <td>0.005332</td>\n",
       "      <td>...</td>\n",
       "      <td>0.062500</td>\n",
       "      <td>0.389417</td>\n",
       "      <td>0.430976</td>\n",
       "      <td>0.5</td>\n",
       "      <td>0.933013</td>\n",
       "      <td>0.250000</td>\n",
       "      <td>0.942728</td>\n",
       "      <td>0.923788</td>\n",
       "      <td>0.012979</td>\n",
       "      <td>2</td>\n",
       "    </tr>\n",
       "  </tbody>\n",
       "</table>\n",
       "<p>39027 rows × 48 columns</p>\n",
       "</div>"
      ],
      "text/plain": [
       "       absolute_humidity_2m:gm3  air_density_2m:kgm3  clear_sky_energy_1h:J  \\\n",
       "0                      0.420420             0.310105               0.000000   \n",
       "1                      0.420420             0.293554               0.000000   \n",
       "2                      0.430931             0.280487               0.000000   \n",
       "3                      0.463964             0.274390               0.000070   \n",
       "4                      0.495495             0.274390               0.010857   \n",
       "...                         ...                  ...                    ...   \n",
       "39022                  0.376877             0.354530               0.561749   \n",
       "39023                  0.382883             0.364982               0.404473   \n",
       "39024                  0.402402             0.378920               0.251059   \n",
       "39025                  0.429429             0.400697               0.120914   \n",
       "39026                  0.423423             0.416376               0.036921   \n",
       "\n",
       "       clear_sky_rad:W  dew_or_rime:idx  dew_point_2m:K  diffuse_rad:W  \\\n",
       "0             0.000000              0.5        0.686839       0.000000   \n",
       "1             0.000000              0.5        0.686839       0.000000   \n",
       "2             0.000000              0.5        0.695065       0.000000   \n",
       "3             0.000898              0.5        0.719154       0.000896   \n",
       "4             0.027643              0.5        0.738543       0.035773   \n",
       "...                ...              ...             ...            ...   \n",
       "39022         0.481003              0.5        0.656287       0.248170   \n",
       "39023         0.323760              0.5        0.660987       0.244735   \n",
       "39024         0.179112              0.5        0.675676       0.236594   \n",
       "39025         0.069228              0.5        0.693890       0.133308   \n",
       "39026         0.012326              0.5        0.688014       0.031591   \n",
       "\n",
       "       diffuse_rad_1h:J  direct_rad:W  direct_rad_1h:J  ...  \\\n",
       "0              0.000000      0.000000         0.000000  ...   \n",
       "1              0.000000      0.000000         0.000000  ...   \n",
       "2              0.000000      0.000000         0.000000  ...   \n",
       "3              0.000440      0.000000         0.000000  ...   \n",
       "4              0.018417      0.000219         0.000116  ...   \n",
       "...                 ...           ...              ...  ...   \n",
       "39022          0.255681      0.424971         0.499443  ...   \n",
       "39023          0.247864      0.247256         0.338647  ...   \n",
       "39024          0.242077      0.074407         0.162047  ...   \n",
       "39025          0.186015      0.010609         0.042811  ...   \n",
       "39026          0.082903      0.000000         0.005332  ...   \n",
       "\n",
       "       wind_speed_10m:ms  wind_speed_u_10m:ms  wind_speed_v_10m:ms  \\\n",
       "0               0.319196             0.198100             0.441077   \n",
       "1               0.296875             0.210312             0.493266   \n",
       "2               0.270089             0.232022             0.525253   \n",
       "3               0.241071             0.251018             0.533670   \n",
       "4               0.225446             0.264586             0.537037   \n",
       "...                  ...                  ...                  ...   \n",
       "39022           0.234375             0.428765             0.303030   \n",
       "39023           0.178571             0.430122             0.346801   \n",
       "39024           0.120536             0.421981             0.390572   \n",
       "39025           0.087054             0.402985             0.409091   \n",
       "39026           0.062500             0.389417             0.430976   \n",
       "\n",
       "       wind_speed_w_1000hPa:ms     month     hours  week_number  day_year  \\\n",
       "0                          0.5  1.000000  0.066987     0.942728  0.936921   \n",
       "1                          0.5  1.000000  0.017037     0.942728  0.936921   \n",
       "2                          0.5  1.000000  0.000000     0.967508  0.941041   \n",
       "3                          0.5  1.000000  0.017037     0.967508  0.941041   \n",
       "4                          0.5  1.000000  0.066987     0.967508  0.941041   \n",
       "...                        ...       ...       ...          ...       ...   \n",
       "39022                      0.5  0.933013  0.750000     0.942728  0.923788   \n",
       "39023                      0.5  0.933013  0.629410     0.942728  0.923788   \n",
       "39024                      0.5  0.933013  0.500000     0.942728  0.923788   \n",
       "39025                      0.5  0.933013  0.370590     0.942728  0.923788   \n",
       "39026                      0.5  0.933013  0.250000     0.942728  0.923788   \n",
       "\n",
       "       sum_rad:W  location  \n",
       "0       0.000000         0  \n",
       "1       0.000000         0  \n",
       "2       0.000000         0  \n",
       "3       0.000653         0  \n",
       "4       0.021901         0  \n",
       "...          ...       ...  \n",
       "39022   0.482133         2  \n",
       "39023   0.324209         2  \n",
       "39024   0.173918         2  \n",
       "39025   0.068221         2  \n",
       "39026   0.012979         2  \n",
       "\n",
       "[39027 rows x 48 columns]"
      ]
     },
     "execution_count": 6,
     "metadata": {},
     "output_type": "execute_result"
    }
   ],
   "source": [
    "\n",
    "from sklearn.model_selection import train_test_split\n",
    "\n",
    "\n",
    "X_A_train = dm.data_A.iloc[:, 1:]\n",
    "y_A_train = dm.data_A.iloc[:,0]\n",
    "X_B_train = dm.data_B.iloc[:, 1:]\n",
    "y_B_train = dm.data_B.iloc[:,0]\n",
    "X_C_train = dm.data_C.iloc[:, 1:]\n",
    "y_C_train = dm.data_C.iloc[:,0]\n",
    "\n",
    "X_train = dm.data.iloc[:, 2:]\n",
    "y_train = dm.data.iloc[:,1]\n",
    "\n",
    "from sklearn.preprocessing import MinMaxScaler\n",
    "scaler = MinMaxScaler()\n",
    "cols = X_train.columns\n",
    "locs = X_train[\"location\"]\n",
    "X_train = X_train.drop(\"location\", axis=1)\n",
    "X_train = pd.DataFrame(scaler.fit_transform(X_train))\n",
    "X_train[\"location\"] = locs\n",
    "X_train.columns = cols\n",
    "\n",
    "X_train_A, X_validate_A, y_train_A, y_validate_A = train_test_split(X_A_train, y_A_train, shuffle=False, train_size=0.9)\n",
    "#X_validate_A, X_test_A, y_validate_A, y_test_A = train_test_split(X_validate_A, y_validate_A, shuffle=False, test_size=0.3)\n",
    "\n",
    "X_train_B, X_validate_B, y_train_B, y_validate_B = train_test_split(X_B_train, y_B_train, shuffle=False, train_size=0.9)\n",
    "#X_validate_B, X_test_B, y_validate_B, y_test_B = train_test_split(X_validate_B, y_validate_B, shuffle=False, test_size=0.3)\n",
    "\n",
    "X_train_C, X_validate_C, y_train_C, y_validate_C = train_test_split(X_C_train, y_C_train, shuffle=False, train_size=0.9)\n",
    "#X_validate_C, X_test_C, y_validate_C, y_test_C = train_test_split(X_validate_C, y_validate_C, shuffle=False, test_size=0.3)\n",
    "\n",
    "X, X_validate, y, y_validate = train_test_split(X_train, y_train, shuffle=False, train_size=0.8)\n",
    "\n",
    "X_A_submission = dm.X_test_estimated_a[dm.X_test_estimated_a.columns.intersection(X_A_train.columns)]\n",
    "X_B_submission = dm.X_test_estimated_b[dm.X_test_estimated_b.columns.intersection(X_B_train.columns)]\n",
    "X_C_submission = dm.X_test_estimated_c[dm.X_test_estimated_c.columns.intersection(X_C_train.columns)]\n",
    "X_submission = dm.X_test_estimated[dm.X_test_estimated.columns.intersection(X_train.columns)]\n",
    "\n",
    "print(X_train_A.shape, y_train_A.shape, X_validate_A.shape, y_validate_A.shape)\n",
    "print(X_train_B.shape, y_train_B.shape, X_validate_B.shape, y_validate_B.shape)\n",
    "print(X_train_C.shape, y_train_C.shape, X_validate_C.shape, y_validate_C.shape)\n",
    "\n",
    "print(X_train.shape, y_train.shape, X_submission.shape)\n",
    "\n",
    "X"
   ]
  },
  {
   "cell_type": "code",
   "execution_count": 9,
   "metadata": {},
   "outputs": [],
   "source": [
    "import helpers\n",
    "\n",
    "deleted = helpers.drop_feature([X, X_validate, X_submission], [\"snow_depth:cm\", \"snow_drift:idx\", \"snow_melt_10min:mm\", \"snow_water:kgm2\", \"month\", \"week_number\", \"wind_speed_10m:ms\",\t\"wind_speed_u_10m:ms\",\t\"wind_speed_w_1000hPa:ms\", \"sun_azimuth:d\", \"precip_5min:mm\", \"precip_type_5min:idx\", \"elevation:m\", ])\n",
    "\n",
    "X = deleted[0]\n",
    "X_validate = deleted[1]\n",
    "X_submission = deleted[2]"
   ]
  },
  {
   "cell_type": "code",
   "execution_count": 10,
   "metadata": {},
   "outputs": [
    {
     "name": "stdout",
     "output_type": "stream",
     "text": [
      "(39027, 35) (39027,) (9757, 35) (9757,) (2160, 35)\n"
     ]
    }
   ],
   "source": [
    "print(X.shape, y.shape, X_validate.shape, y_validate.shape, X_submission.shape)\n"
   ]
  },
  {
   "cell_type": "code",
   "execution_count": 11,
   "metadata": {},
   "outputs": [
    {
     "name": "stderr",
     "output_type": "stream",
     "text": [
      "2023-11-05 14:05:44.272171: I metal_plugin/src/device/metal_device.cc:1154] Metal device set to: Apple M1 Pro\n",
      "2023-11-05 14:05:44.272199: I metal_plugin/src/device/metal_device.cc:296] systemMemory: 16.00 GB\n",
      "2023-11-05 14:05:44.272213: I metal_plugin/src/device/metal_device.cc:313] maxCacheSize: 5.33 GB\n",
      "2023-11-05 14:05:44.272281: I tensorflow/core/common_runtime/pluggable_device/pluggable_device_factory.cc:306] Could not identify NUMA node of platform GPU ID 0, defaulting to 0. Your kernel may not have been built with NUMA support.\n",
      "2023-11-05 14:05:44.272297: I tensorflow/core/common_runtime/pluggable_device/pluggable_device_factory.cc:272] Created TensorFlow device (/job:localhost/replica:0/task:0/device:GPU:0 with 0 MB memory) -> physical PluggableDevice (device: 0, name: METAL, pci bus id: <undefined>)\n"
     ]
    },
    {
     "name": "stdout",
     "output_type": "stream",
     "text": [
      "Model: \"sequential\"\n",
      "_________________________________________________________________\n",
      " Layer (type)                Output Shape              Param #   \n",
      "=================================================================\n",
      " dense (Dense)               (None, 1, 512)            18432     \n",
      "                                                                 \n",
      " dense_1 (Dense)             (None, 1, 256)            131328    \n",
      "                                                                 \n",
      " dense_2 (Dense)             (None, 1, 256)            65792     \n",
      "                                                                 \n",
      " dense_3 (Dense)             (None, 1, 128)            32896     \n",
      "                                                                 \n",
      " dense_4 (Dense)             (None, 1, 128)            16512     \n",
      "                                                                 \n",
      " dense_5 (Dense)             (None, 1, 64)             8256      \n",
      "                                                                 \n",
      " dense_6 (Dense)             (None, 1, 64)             4160      \n",
      "                                                                 \n",
      " dense_7 (Dense)             (None, 1, 35)             2275      \n",
      "                                                                 \n",
      " dense_8 (Dense)             (None, 1, 1)              36        \n",
      "                                                                 \n",
      "=================================================================\n",
      "Total params: 279687 (1.07 MB)\n",
      "Trainable params: 279687 (1.07 MB)\n",
      "Non-trainable params: 0 (0.00 Byte)\n",
      "_________________________________________________________________\n"
     ]
    }
   ],
   "source": [
    "import LSTM_class\n",
    "\n",
    "model_number_features = X.shape[1]\n",
    "model_number_timesteps = 1\n",
    "\n",
    "super_model = LSTM_class.RNN_Network() ## initialize LSTM Class \n",
    "super_model.create_model(model_number_features, model_number_timesteps) ## builds model for A B and C, builds same for each \n",
    "\n"
   ]
  },
  {
   "cell_type": "code",
   "execution_count": 15,
   "metadata": {},
   "outputs": [
    {
     "name": "stderr",
     "output_type": "stream",
     "text": [
      "[I 2023-11-05 14:33:03,119] A new study created in memory with name: no-name-46ab4926-d375-468a-8ba5-19537589d76a\n",
      "/Users/jonasolsen/Documents/Skole/IIkt/5_semester/TDT4173 - Maskinlæring/ve/group_project/.venv/lib/python3.9/site-packages/optuna/distributions.py:700: UserWarning: The distribution is specified by [128, 256] and step=512, but the range is not divisible by `step`. It will be replaced by [128, 128].\n",
      "  warnings.warn(\n",
      "/Users/jonasolsen/Documents/Skole/IIkt/5_semester/TDT4173 - Maskinlæring/ve/group_project/.venv/lib/python3.9/site-packages/optuna/distributions.py:700: UserWarning: The distribution is specified by [64, 128] and step=256, but the range is not divisible by `step`. It will be replaced by [64, 64].\n",
      "  warnings.warn(\n",
      "/Users/jonasolsen/Documents/Skole/IIkt/5_semester/TDT4173 - Maskinlæring/ve/group_project/.venv/lib/python3.9/site-packages/optuna/trial/_trial.py:677: RuntimeWarning: Inconsistent parameter values for distribution with name \"units\"! This might be a configuration mistake. Optuna allows to call the same distribution with the same name more than once in a trial. When the parameter values are inconsistent optuna only uses the values of the first call and ignores all following. Using these values: {'log': False, 'step': 512, 'low': 128, 'high': 128}\n",
      "  warnings.warn(\n",
      "/Users/jonasolsen/Documents/Skole/IIkt/5_semester/TDT4173 - Maskinlæring/ve/group_project/.venv/lib/python3.9/site-packages/optuna/distributions.py:700: UserWarning: The distribution is specified by [32, 64] and step=128, but the range is not divisible by `step`. It will be replaced by [32, 32].\n",
      "  warnings.warn(\n",
      "/Users/jonasolsen/Documents/Skole/IIkt/5_semester/TDT4173 - Maskinlæring/ve/group_project/.venv/lib/python3.9/site-packages/optuna/distributions.py:700: UserWarning: The distribution is specified by [16, 32] and step=64, but the range is not divisible by `step`. It will be replaced by [16, 16].\n",
      "  warnings.warn(\n",
      "/Users/jonasolsen/Documents/Skole/IIkt/5_semester/TDT4173 - Maskinlæring/ve/group_project/.venv/lib/python3.9/site-packages/optuna/distributions.py:700: UserWarning: The distribution is specified by [1, 16] and step=32, but the range is not divisible by `step`. It will be replaced by [1, 1].\n",
      "  warnings.warn(\n",
      "WARNING:absl:At this time, the v2.11+ optimizer `tf.keras.optimizers.RMSprop` runs slowly on M1/M2 Macs, please use the legacy Keras optimizer instead, located at `tf.keras.optimizers.legacy.RMSprop`.\n",
      "WARNING:absl:`lr` is deprecated in Keras optimizer, please use `learning_rate` or use the legacy optimizer, e.g.,tf.keras.optimizers.legacy.RMSprop.\n"
     ]
    },
    {
     "name": "stdout",
     "output_type": "stream",
     "text": [
      " 382/1525 [======>.......................] - ETA: 4:00 - loss: 1545.1412"
     ]
    },
    {
     "name": "stderr",
     "output_type": "stream",
     "text": [
      "[W 2023-11-05 14:34:32,659] Trial 0 failed with parameters: {'units': 128, 'activation': 'relu', 'activity_regularizer': 'l1_l2', 'rate': 0.5961154737409339, 'lr': 2.7870626407660232e-05} because of the following error: KeyboardInterrupt().\n",
      "Traceback (most recent call last):\n",
      "  File \"/Users/jonasolsen/Documents/Skole/IIkt/5_semester/TDT4173 - Maskinlæring/ve/group_project/.venv/lib/python3.9/site-packages/optuna/study/_optimize.py\", line 200, in _run_trial\n",
      "    value_or_values = func(trial)\n",
      "  File \"/var/folders/r_/m51x_wn949x1s34wqwqf6hkr0000gn/T/ipykernel_23271/806594817.py\", line 53, in objective\n",
      "    model.fit(X_train, y_train)\n",
      "  File \"/Users/jonasolsen/Documents/Skole/IIkt/5_semester/TDT4173 - Maskinlæring/ve/group_project/.venv/lib/python3.9/site-packages/keras/src/utils/traceback_utils.py\", line 65, in error_handler\n",
      "    return fn(*args, **kwargs)\n",
      "  File \"/Users/jonasolsen/Documents/Skole/IIkt/5_semester/TDT4173 - Maskinlæring/ve/group_project/.venv/lib/python3.9/site-packages/keras/src/engine/training.py\", line 1783, in fit\n",
      "    tmp_logs = self.train_function(iterator)\n",
      "  File \"/Users/jonasolsen/Documents/Skole/IIkt/5_semester/TDT4173 - Maskinlæring/ve/group_project/.venv/lib/python3.9/site-packages/tensorflow/python/util/traceback_utils.py\", line 150, in error_handler\n",
      "    return fn(*args, **kwargs)\n",
      "  File \"/Users/jonasolsen/Documents/Skole/IIkt/5_semester/TDT4173 - Maskinlæring/ve/group_project/.venv/lib/python3.9/site-packages/tensorflow/python/eager/polymorphic_function/polymorphic_function.py\", line 831, in __call__\n",
      "    result = self._call(*args, **kwds)\n",
      "  File \"/Users/jonasolsen/Documents/Skole/IIkt/5_semester/TDT4173 - Maskinlæring/ve/group_project/.venv/lib/python3.9/site-packages/tensorflow/python/eager/polymorphic_function/polymorphic_function.py\", line 867, in _call\n",
      "    return tracing_compilation.call_function(\n",
      "  File \"/Users/jonasolsen/Documents/Skole/IIkt/5_semester/TDT4173 - Maskinlæring/ve/group_project/.venv/lib/python3.9/site-packages/tensorflow/python/eager/polymorphic_function/tracing_compilation.py\", line 139, in call_function\n",
      "    return function._call_flat(  # pylint: disable=protected-access\n",
      "  File \"/Users/jonasolsen/Documents/Skole/IIkt/5_semester/TDT4173 - Maskinlæring/ve/group_project/.venv/lib/python3.9/site-packages/tensorflow/python/eager/polymorphic_function/concrete_function.py\", line 1264, in _call_flat\n",
      "    return self._inference_function.flat_call(args)\n",
      "  File \"/Users/jonasolsen/Documents/Skole/IIkt/5_semester/TDT4173 - Maskinlæring/ve/group_project/.venv/lib/python3.9/site-packages/tensorflow/python/eager/polymorphic_function/atomic_function.py\", line 217, in flat_call\n",
      "    flat_outputs = self(*args)\n",
      "  File \"/Users/jonasolsen/Documents/Skole/IIkt/5_semester/TDT4173 - Maskinlæring/ve/group_project/.venv/lib/python3.9/site-packages/tensorflow/python/eager/polymorphic_function/atomic_function.py\", line 252, in __call__\n",
      "    outputs = self._bound_context.call_function(\n",
      "  File \"/Users/jonasolsen/Documents/Skole/IIkt/5_semester/TDT4173 - Maskinlæring/ve/group_project/.venv/lib/python3.9/site-packages/tensorflow/python/eager/context.py\", line 1479, in call_function\n",
      "    outputs = execute.execute(\n",
      "  File \"/Users/jonasolsen/Documents/Skole/IIkt/5_semester/TDT4173 - Maskinlæring/ve/group_project/.venv/lib/python3.9/site-packages/tensorflow/python/eager/execute.py\", line 60, in quick_execute\n",
      "    tensors = pywrap_tfe.TFE_Py_Execute(ctx._handle, device_name, op_name,\n",
      "KeyboardInterrupt\n",
      "[W 2023-11-05 14:34:32,660] Trial 0 failed with value None.\n"
     ]
    },
    {
     "ename": "KeyboardInterrupt",
     "evalue": "",
     "output_type": "error",
     "traceback": [
      "\u001b[0;31m---------------------------------------------------------------------------\u001b[0m",
      "\u001b[0;31mKeyboardInterrupt\u001b[0m                         Traceback (most recent call last)",
      "\u001b[1;32m/Users/jonasolsen/Documents/Skole/IIkt/5_semester/TDT4173 - Maskinlæring/ve/group_project/keras_model.ipynb Cell 11\u001b[0m line \u001b[0;36m5\n\u001b[1;32m     <a href='vscode-notebook-cell:/Users/jonasolsen/Documents/Skole/IIkt/5_semester/TDT4173%20-%20Maskinl%C3%A6ring/ve/group_project/keras_model.ipynb#X11sZmlsZQ%3D%3D?line=56'>57</a>\u001b[0m \u001b[39m# 3. Create a study object and optimize the objective function.\u001b[39;00m\n\u001b[1;32m     <a href='vscode-notebook-cell:/Users/jonasolsen/Documents/Skole/IIkt/5_semester/TDT4173%20-%20Maskinl%C3%A6ring/ve/group_project/keras_model.ipynb#X11sZmlsZQ%3D%3D?line=57'>58</a>\u001b[0m study \u001b[39m=\u001b[39m optuna\u001b[39m.\u001b[39mcreate_study(direction\u001b[39m=\u001b[39m\u001b[39m'\u001b[39m\u001b[39mmaximize\u001b[39m\u001b[39m'\u001b[39m)\n\u001b[0;32m---> <a href='vscode-notebook-cell:/Users/jonasolsen/Documents/Skole/IIkt/5_semester/TDT4173%20-%20Maskinl%C3%A6ring/ve/group_project/keras_model.ipynb#X11sZmlsZQ%3D%3D?line=58'>59</a>\u001b[0m study\u001b[39m.\u001b[39;49moptimize(objective, n_trials\u001b[39m=\u001b[39;49m\u001b[39m100\u001b[39;49m)\n",
      "File \u001b[0;32m~/Documents/Skole/IIkt/5_semester/TDT4173 - Maskinlæring/ve/group_project/.venv/lib/python3.9/site-packages/optuna/study/study.py:451\u001b[0m, in \u001b[0;36mStudy.optimize\u001b[0;34m(self, func, n_trials, timeout, n_jobs, catch, callbacks, gc_after_trial, show_progress_bar)\u001b[0m\n\u001b[1;32m    348\u001b[0m \u001b[39mdef\u001b[39;00m \u001b[39moptimize\u001b[39m(\n\u001b[1;32m    349\u001b[0m     \u001b[39mself\u001b[39m,\n\u001b[1;32m    350\u001b[0m     func: ObjectiveFuncType,\n\u001b[0;32m   (...)\u001b[0m\n\u001b[1;32m    357\u001b[0m     show_progress_bar: \u001b[39mbool\u001b[39m \u001b[39m=\u001b[39m \u001b[39mFalse\u001b[39;00m,\n\u001b[1;32m    358\u001b[0m ) \u001b[39m-\u001b[39m\u001b[39m>\u001b[39m \u001b[39mNone\u001b[39;00m:\n\u001b[1;32m    359\u001b[0m \u001b[39m    \u001b[39m\u001b[39m\"\"\"Optimize an objective function.\u001b[39;00m\n\u001b[1;32m    360\u001b[0m \n\u001b[1;32m    361\u001b[0m \u001b[39m    Optimization is done by choosing a suitable set of hyperparameter values from a given\u001b[39;00m\n\u001b[0;32m   (...)\u001b[0m\n\u001b[1;32m    449\u001b[0m \u001b[39m            If nested invocation of this method occurs.\u001b[39;00m\n\u001b[1;32m    450\u001b[0m \u001b[39m    \"\"\"\u001b[39;00m\n\u001b[0;32m--> 451\u001b[0m     _optimize(\n\u001b[1;32m    452\u001b[0m         study\u001b[39m=\u001b[39;49m\u001b[39mself\u001b[39;49m,\n\u001b[1;32m    453\u001b[0m         func\u001b[39m=\u001b[39;49mfunc,\n\u001b[1;32m    454\u001b[0m         n_trials\u001b[39m=\u001b[39;49mn_trials,\n\u001b[1;32m    455\u001b[0m         timeout\u001b[39m=\u001b[39;49mtimeout,\n\u001b[1;32m    456\u001b[0m         n_jobs\u001b[39m=\u001b[39;49mn_jobs,\n\u001b[1;32m    457\u001b[0m         catch\u001b[39m=\u001b[39;49m\u001b[39mtuple\u001b[39;49m(catch) \u001b[39mif\u001b[39;49;00m \u001b[39misinstance\u001b[39;49m(catch, Iterable) \u001b[39melse\u001b[39;49;00m (catch,),\n\u001b[1;32m    458\u001b[0m         callbacks\u001b[39m=\u001b[39;49mcallbacks,\n\u001b[1;32m    459\u001b[0m         gc_after_trial\u001b[39m=\u001b[39;49mgc_after_trial,\n\u001b[1;32m    460\u001b[0m         show_progress_bar\u001b[39m=\u001b[39;49mshow_progress_bar,\n\u001b[1;32m    461\u001b[0m     )\n",
      "File \u001b[0;32m~/Documents/Skole/IIkt/5_semester/TDT4173 - Maskinlæring/ve/group_project/.venv/lib/python3.9/site-packages/optuna/study/_optimize.py:66\u001b[0m, in \u001b[0;36m_optimize\u001b[0;34m(study, func, n_trials, timeout, n_jobs, catch, callbacks, gc_after_trial, show_progress_bar)\u001b[0m\n\u001b[1;32m     64\u001b[0m \u001b[39mtry\u001b[39;00m:\n\u001b[1;32m     65\u001b[0m     \u001b[39mif\u001b[39;00m n_jobs \u001b[39m==\u001b[39m \u001b[39m1\u001b[39m:\n\u001b[0;32m---> 66\u001b[0m         _optimize_sequential(\n\u001b[1;32m     67\u001b[0m             study,\n\u001b[1;32m     68\u001b[0m             func,\n\u001b[1;32m     69\u001b[0m             n_trials,\n\u001b[1;32m     70\u001b[0m             timeout,\n\u001b[1;32m     71\u001b[0m             catch,\n\u001b[1;32m     72\u001b[0m             callbacks,\n\u001b[1;32m     73\u001b[0m             gc_after_trial,\n\u001b[1;32m     74\u001b[0m             reseed_sampler_rng\u001b[39m=\u001b[39;49m\u001b[39mFalse\u001b[39;49;00m,\n\u001b[1;32m     75\u001b[0m             time_start\u001b[39m=\u001b[39;49m\u001b[39mNone\u001b[39;49;00m,\n\u001b[1;32m     76\u001b[0m             progress_bar\u001b[39m=\u001b[39;49mprogress_bar,\n\u001b[1;32m     77\u001b[0m         )\n\u001b[1;32m     78\u001b[0m     \u001b[39melse\u001b[39;00m:\n\u001b[1;32m     79\u001b[0m         \u001b[39mif\u001b[39;00m n_jobs \u001b[39m==\u001b[39m \u001b[39m-\u001b[39m\u001b[39m1\u001b[39m:\n",
      "File \u001b[0;32m~/Documents/Skole/IIkt/5_semester/TDT4173 - Maskinlæring/ve/group_project/.venv/lib/python3.9/site-packages/optuna/study/_optimize.py:163\u001b[0m, in \u001b[0;36m_optimize_sequential\u001b[0;34m(study, func, n_trials, timeout, catch, callbacks, gc_after_trial, reseed_sampler_rng, time_start, progress_bar)\u001b[0m\n\u001b[1;32m    160\u001b[0m         \u001b[39mbreak\u001b[39;00m\n\u001b[1;32m    162\u001b[0m \u001b[39mtry\u001b[39;00m:\n\u001b[0;32m--> 163\u001b[0m     frozen_trial \u001b[39m=\u001b[39m _run_trial(study, func, catch)\n\u001b[1;32m    164\u001b[0m \u001b[39mfinally\u001b[39;00m:\n\u001b[1;32m    165\u001b[0m     \u001b[39m# The following line mitigates memory problems that can be occurred in some\u001b[39;00m\n\u001b[1;32m    166\u001b[0m     \u001b[39m# environments (e.g., services that use computing containers such as GitHub Actions).\u001b[39;00m\n\u001b[1;32m    167\u001b[0m     \u001b[39m# Please refer to the following PR for further details:\u001b[39;00m\n\u001b[1;32m    168\u001b[0m     \u001b[39m# https://github.com/optuna/optuna/pull/325.\u001b[39;00m\n\u001b[1;32m    169\u001b[0m     \u001b[39mif\u001b[39;00m gc_after_trial:\n",
      "File \u001b[0;32m~/Documents/Skole/IIkt/5_semester/TDT4173 - Maskinlæring/ve/group_project/.venv/lib/python3.9/site-packages/optuna/study/_optimize.py:251\u001b[0m, in \u001b[0;36m_run_trial\u001b[0;34m(study, func, catch)\u001b[0m\n\u001b[1;32m    244\u001b[0m         \u001b[39massert\u001b[39;00m \u001b[39mFalse\u001b[39;00m, \u001b[39m\"\u001b[39m\u001b[39mShould not reach.\u001b[39m\u001b[39m\"\u001b[39m\n\u001b[1;32m    246\u001b[0m \u001b[39mif\u001b[39;00m (\n\u001b[1;32m    247\u001b[0m     frozen_trial\u001b[39m.\u001b[39mstate \u001b[39m==\u001b[39m TrialState\u001b[39m.\u001b[39mFAIL\n\u001b[1;32m    248\u001b[0m     \u001b[39mand\u001b[39;00m func_err \u001b[39mis\u001b[39;00m \u001b[39mnot\u001b[39;00m \u001b[39mNone\u001b[39;00m\n\u001b[1;32m    249\u001b[0m     \u001b[39mand\u001b[39;00m \u001b[39mnot\u001b[39;00m \u001b[39misinstance\u001b[39m(func_err, catch)\n\u001b[1;32m    250\u001b[0m ):\n\u001b[0;32m--> 251\u001b[0m     \u001b[39mraise\u001b[39;00m func_err\n\u001b[1;32m    252\u001b[0m \u001b[39mreturn\u001b[39;00m frozen_trial\n",
      "File \u001b[0;32m~/Documents/Skole/IIkt/5_semester/TDT4173 - Maskinlæring/ve/group_project/.venv/lib/python3.9/site-packages/optuna/study/_optimize.py:200\u001b[0m, in \u001b[0;36m_run_trial\u001b[0;34m(study, func, catch)\u001b[0m\n\u001b[1;32m    198\u001b[0m \u001b[39mwith\u001b[39;00m get_heartbeat_thread(trial\u001b[39m.\u001b[39m_trial_id, study\u001b[39m.\u001b[39m_storage):\n\u001b[1;32m    199\u001b[0m     \u001b[39mtry\u001b[39;00m:\n\u001b[0;32m--> 200\u001b[0m         value_or_values \u001b[39m=\u001b[39m func(trial)\n\u001b[1;32m    201\u001b[0m     \u001b[39mexcept\u001b[39;00m exceptions\u001b[39m.\u001b[39mTrialPruned \u001b[39mas\u001b[39;00m e:\n\u001b[1;32m    202\u001b[0m         \u001b[39m# TODO(mamu): Handle multi-objective cases.\u001b[39;00m\n\u001b[1;32m    203\u001b[0m         state \u001b[39m=\u001b[39m TrialState\u001b[39m.\u001b[39mPRUNED\n",
      "\u001b[1;32m/Users/jonasolsen/Documents/Skole/IIkt/5_semester/TDT4173 - Maskinlæring/ve/group_project/keras_model.ipynb Cell 11\u001b[0m line \u001b[0;36m5\n\u001b[1;32m     <a href='vscode-notebook-cell:/Users/jonasolsen/Documents/Skole/IIkt/5_semester/TDT4173%20-%20Maskinl%C3%A6ring/ve/group_project/keras_model.ipynb#X11sZmlsZQ%3D%3D?line=50'>51</a>\u001b[0m lr \u001b[39m=\u001b[39m trial\u001b[39m.\u001b[39msuggest_float(\u001b[39m'\u001b[39m\u001b[39mlr\u001b[39m\u001b[39m'\u001b[39m, \u001b[39m1e-5\u001b[39m, \u001b[39m1e-1\u001b[39m, log\u001b[39m=\u001b[39m\u001b[39mTrue\u001b[39;00m)\n\u001b[1;32m     <a href='vscode-notebook-cell:/Users/jonasolsen/Documents/Skole/IIkt/5_semester/TDT4173%20-%20Maskinl%C3%A6ring/ve/group_project/keras_model.ipynb#X11sZmlsZQ%3D%3D?line=51'>52</a>\u001b[0m model\u001b[39m.\u001b[39mcompile(loss\u001b[39m=\u001b[39m\u001b[39m'\u001b[39m\u001b[39mmean_absolute_error\u001b[39m\u001b[39m'\u001b[39m, optimizer\u001b[39m=\u001b[39mRMSprop(lr\u001b[39m=\u001b[39mlr))\n\u001b[0;32m---> <a href='vscode-notebook-cell:/Users/jonasolsen/Documents/Skole/IIkt/5_semester/TDT4173%20-%20Maskinl%C3%A6ring/ve/group_project/keras_model.ipynb#X11sZmlsZQ%3D%3D?line=52'>53</a>\u001b[0m model\u001b[39m.\u001b[39;49mfit(X_train, y_train)\n\u001b[1;32m     <a href='vscode-notebook-cell:/Users/jonasolsen/Documents/Skole/IIkt/5_semester/TDT4173%20-%20Maskinl%C3%A6ring/ve/group_project/keras_model.ipynb#X11sZmlsZQ%3D%3D?line=53'>54</a>\u001b[0m y_pred \u001b[39m=\u001b[39m model\u001b[39m.\u001b[39mpredict(X_validate)\n\u001b[1;32m     <a href='vscode-notebook-cell:/Users/jonasolsen/Documents/Skole/IIkt/5_semester/TDT4173%20-%20Maskinl%C3%A6ring/ve/group_project/keras_model.ipynb#X11sZmlsZQ%3D%3D?line=54'>55</a>\u001b[0m \u001b[39mreturn\u001b[39;00m mean_absolute_error(y_pred, y_validate)\n",
      "File \u001b[0;32m~/Documents/Skole/IIkt/5_semester/TDT4173 - Maskinlæring/ve/group_project/.venv/lib/python3.9/site-packages/keras/src/utils/traceback_utils.py:65\u001b[0m, in \u001b[0;36mfilter_traceback.<locals>.error_handler\u001b[0;34m(*args, **kwargs)\u001b[0m\n\u001b[1;32m     63\u001b[0m filtered_tb \u001b[39m=\u001b[39m \u001b[39mNone\u001b[39;00m\n\u001b[1;32m     64\u001b[0m \u001b[39mtry\u001b[39;00m:\n\u001b[0;32m---> 65\u001b[0m     \u001b[39mreturn\u001b[39;00m fn(\u001b[39m*\u001b[39;49margs, \u001b[39m*\u001b[39;49m\u001b[39m*\u001b[39;49mkwargs)\n\u001b[1;32m     66\u001b[0m \u001b[39mexcept\u001b[39;00m \u001b[39mException\u001b[39;00m \u001b[39mas\u001b[39;00m e:\n\u001b[1;32m     67\u001b[0m     filtered_tb \u001b[39m=\u001b[39m _process_traceback_frames(e\u001b[39m.\u001b[39m__traceback__)\n",
      "File \u001b[0;32m~/Documents/Skole/IIkt/5_semester/TDT4173 - Maskinlæring/ve/group_project/.venv/lib/python3.9/site-packages/keras/src/engine/training.py:1783\u001b[0m, in \u001b[0;36mModel.fit\u001b[0;34m(self, x, y, batch_size, epochs, verbose, callbacks, validation_split, validation_data, shuffle, class_weight, sample_weight, initial_epoch, steps_per_epoch, validation_steps, validation_batch_size, validation_freq, max_queue_size, workers, use_multiprocessing)\u001b[0m\n\u001b[1;32m   1775\u001b[0m \u001b[39mwith\u001b[39;00m tf\u001b[39m.\u001b[39mprofiler\u001b[39m.\u001b[39mexperimental\u001b[39m.\u001b[39mTrace(\n\u001b[1;32m   1776\u001b[0m     \u001b[39m\"\u001b[39m\u001b[39mtrain\u001b[39m\u001b[39m\"\u001b[39m,\n\u001b[1;32m   1777\u001b[0m     epoch_num\u001b[39m=\u001b[39mepoch,\n\u001b[0;32m   (...)\u001b[0m\n\u001b[1;32m   1780\u001b[0m     _r\u001b[39m=\u001b[39m\u001b[39m1\u001b[39m,\n\u001b[1;32m   1781\u001b[0m ):\n\u001b[1;32m   1782\u001b[0m     callbacks\u001b[39m.\u001b[39mon_train_batch_begin(step)\n\u001b[0;32m-> 1783\u001b[0m     tmp_logs \u001b[39m=\u001b[39m \u001b[39mself\u001b[39;49m\u001b[39m.\u001b[39;49mtrain_function(iterator)\n\u001b[1;32m   1784\u001b[0m     \u001b[39mif\u001b[39;00m data_handler\u001b[39m.\u001b[39mshould_sync:\n\u001b[1;32m   1785\u001b[0m         context\u001b[39m.\u001b[39masync_wait()\n",
      "File \u001b[0;32m~/Documents/Skole/IIkt/5_semester/TDT4173 - Maskinlæring/ve/group_project/.venv/lib/python3.9/site-packages/tensorflow/python/util/traceback_utils.py:150\u001b[0m, in \u001b[0;36mfilter_traceback.<locals>.error_handler\u001b[0;34m(*args, **kwargs)\u001b[0m\n\u001b[1;32m    148\u001b[0m filtered_tb \u001b[39m=\u001b[39m \u001b[39mNone\u001b[39;00m\n\u001b[1;32m    149\u001b[0m \u001b[39mtry\u001b[39;00m:\n\u001b[0;32m--> 150\u001b[0m   \u001b[39mreturn\u001b[39;00m fn(\u001b[39m*\u001b[39;49margs, \u001b[39m*\u001b[39;49m\u001b[39m*\u001b[39;49mkwargs)\n\u001b[1;32m    151\u001b[0m \u001b[39mexcept\u001b[39;00m \u001b[39mException\u001b[39;00m \u001b[39mas\u001b[39;00m e:\n\u001b[1;32m    152\u001b[0m   filtered_tb \u001b[39m=\u001b[39m _process_traceback_frames(e\u001b[39m.\u001b[39m__traceback__)\n",
      "File \u001b[0;32m~/Documents/Skole/IIkt/5_semester/TDT4173 - Maskinlæring/ve/group_project/.venv/lib/python3.9/site-packages/tensorflow/python/eager/polymorphic_function/polymorphic_function.py:831\u001b[0m, in \u001b[0;36mFunction.__call__\u001b[0;34m(self, *args, **kwds)\u001b[0m\n\u001b[1;32m    828\u001b[0m compiler \u001b[39m=\u001b[39m \u001b[39m\"\u001b[39m\u001b[39mxla\u001b[39m\u001b[39m\"\u001b[39m \u001b[39mif\u001b[39;00m \u001b[39mself\u001b[39m\u001b[39m.\u001b[39m_jit_compile \u001b[39melse\u001b[39;00m \u001b[39m\"\u001b[39m\u001b[39mnonXla\u001b[39m\u001b[39m\"\u001b[39m\n\u001b[1;32m    830\u001b[0m \u001b[39mwith\u001b[39;00m OptionalXlaContext(\u001b[39mself\u001b[39m\u001b[39m.\u001b[39m_jit_compile):\n\u001b[0;32m--> 831\u001b[0m   result \u001b[39m=\u001b[39m \u001b[39mself\u001b[39;49m\u001b[39m.\u001b[39;49m_call(\u001b[39m*\u001b[39;49margs, \u001b[39m*\u001b[39;49m\u001b[39m*\u001b[39;49mkwds)\n\u001b[1;32m    833\u001b[0m new_tracing_count \u001b[39m=\u001b[39m \u001b[39mself\u001b[39m\u001b[39m.\u001b[39mexperimental_get_tracing_count()\n\u001b[1;32m    834\u001b[0m without_tracing \u001b[39m=\u001b[39m (tracing_count \u001b[39m==\u001b[39m new_tracing_count)\n",
      "File \u001b[0;32m~/Documents/Skole/IIkt/5_semester/TDT4173 - Maskinlæring/ve/group_project/.venv/lib/python3.9/site-packages/tensorflow/python/eager/polymorphic_function/polymorphic_function.py:867\u001b[0m, in \u001b[0;36mFunction._call\u001b[0;34m(self, *args, **kwds)\u001b[0m\n\u001b[1;32m    864\u001b[0m   \u001b[39mself\u001b[39m\u001b[39m.\u001b[39m_lock\u001b[39m.\u001b[39mrelease()\n\u001b[1;32m    865\u001b[0m   \u001b[39m# In this case we have created variables on the first call, so we run the\u001b[39;00m\n\u001b[1;32m    866\u001b[0m   \u001b[39m# defunned version which is guaranteed to never create variables.\u001b[39;00m\n\u001b[0;32m--> 867\u001b[0m   \u001b[39mreturn\u001b[39;00m tracing_compilation\u001b[39m.\u001b[39;49mcall_function(\n\u001b[1;32m    868\u001b[0m       args, kwds, \u001b[39mself\u001b[39;49m\u001b[39m.\u001b[39;49m_no_variable_creation_config\n\u001b[1;32m    869\u001b[0m   )\n\u001b[1;32m    870\u001b[0m \u001b[39melif\u001b[39;00m \u001b[39mself\u001b[39m\u001b[39m.\u001b[39m_variable_creation_config \u001b[39mis\u001b[39;00m \u001b[39mnot\u001b[39;00m \u001b[39mNone\u001b[39;00m:\n\u001b[1;32m    871\u001b[0m   \u001b[39m# Release the lock early so that multiple threads can perform the call\u001b[39;00m\n\u001b[1;32m    872\u001b[0m   \u001b[39m# in parallel.\u001b[39;00m\n\u001b[1;32m    873\u001b[0m   \u001b[39mself\u001b[39m\u001b[39m.\u001b[39m_lock\u001b[39m.\u001b[39mrelease()\n",
      "File \u001b[0;32m~/Documents/Skole/IIkt/5_semester/TDT4173 - Maskinlæring/ve/group_project/.venv/lib/python3.9/site-packages/tensorflow/python/eager/polymorphic_function/tracing_compilation.py:139\u001b[0m, in \u001b[0;36mcall_function\u001b[0;34m(args, kwargs, tracing_options)\u001b[0m\n\u001b[1;32m    137\u001b[0m bound_args \u001b[39m=\u001b[39m function\u001b[39m.\u001b[39mfunction_type\u001b[39m.\u001b[39mbind(\u001b[39m*\u001b[39margs, \u001b[39m*\u001b[39m\u001b[39m*\u001b[39mkwargs)\n\u001b[1;32m    138\u001b[0m flat_inputs \u001b[39m=\u001b[39m function\u001b[39m.\u001b[39mfunction_type\u001b[39m.\u001b[39munpack_inputs(bound_args)\n\u001b[0;32m--> 139\u001b[0m \u001b[39mreturn\u001b[39;00m function\u001b[39m.\u001b[39;49m_call_flat(  \u001b[39m# pylint: disable=protected-access\u001b[39;49;00m\n\u001b[1;32m    140\u001b[0m     flat_inputs, captured_inputs\u001b[39m=\u001b[39;49mfunction\u001b[39m.\u001b[39;49mcaptured_inputs\n\u001b[1;32m    141\u001b[0m )\n",
      "File \u001b[0;32m~/Documents/Skole/IIkt/5_semester/TDT4173 - Maskinlæring/ve/group_project/.venv/lib/python3.9/site-packages/tensorflow/python/eager/polymorphic_function/concrete_function.py:1264\u001b[0m, in \u001b[0;36mConcreteFunction._call_flat\u001b[0;34m(self, tensor_inputs, captured_inputs)\u001b[0m\n\u001b[1;32m   1260\u001b[0m possible_gradient_type \u001b[39m=\u001b[39m gradients_util\u001b[39m.\u001b[39mPossibleTapeGradientTypes(args)\n\u001b[1;32m   1261\u001b[0m \u001b[39mif\u001b[39;00m (possible_gradient_type \u001b[39m==\u001b[39m gradients_util\u001b[39m.\u001b[39mPOSSIBLE_GRADIENT_TYPES_NONE\n\u001b[1;32m   1262\u001b[0m     \u001b[39mand\u001b[39;00m executing_eagerly):\n\u001b[1;32m   1263\u001b[0m   \u001b[39m# No tape is watching; skip to running the function.\u001b[39;00m\n\u001b[0;32m-> 1264\u001b[0m   \u001b[39mreturn\u001b[39;00m \u001b[39mself\u001b[39;49m\u001b[39m.\u001b[39;49m_inference_function\u001b[39m.\u001b[39;49mflat_call(args)\n\u001b[1;32m   1265\u001b[0m forward_backward \u001b[39m=\u001b[39m \u001b[39mself\u001b[39m\u001b[39m.\u001b[39m_select_forward_and_backward_functions(\n\u001b[1;32m   1266\u001b[0m     args,\n\u001b[1;32m   1267\u001b[0m     possible_gradient_type,\n\u001b[1;32m   1268\u001b[0m     executing_eagerly)\n\u001b[1;32m   1269\u001b[0m forward_function, args_with_tangents \u001b[39m=\u001b[39m forward_backward\u001b[39m.\u001b[39mforward()\n",
      "File \u001b[0;32m~/Documents/Skole/IIkt/5_semester/TDT4173 - Maskinlæring/ve/group_project/.venv/lib/python3.9/site-packages/tensorflow/python/eager/polymorphic_function/atomic_function.py:217\u001b[0m, in \u001b[0;36mAtomicFunction.flat_call\u001b[0;34m(self, args)\u001b[0m\n\u001b[1;32m    215\u001b[0m \u001b[39mdef\u001b[39;00m \u001b[39mflat_call\u001b[39m(\u001b[39mself\u001b[39m, args: Sequence[core\u001b[39m.\u001b[39mTensor]) \u001b[39m-\u001b[39m\u001b[39m>\u001b[39m Any:\n\u001b[1;32m    216\u001b[0m \u001b[39m  \u001b[39m\u001b[39m\"\"\"Calls with tensor inputs and returns the structured output.\"\"\"\u001b[39;00m\n\u001b[0;32m--> 217\u001b[0m   flat_outputs \u001b[39m=\u001b[39m \u001b[39mself\u001b[39;49m(\u001b[39m*\u001b[39;49margs)\n\u001b[1;32m    218\u001b[0m   \u001b[39mreturn\u001b[39;00m \u001b[39mself\u001b[39m\u001b[39m.\u001b[39mfunction_type\u001b[39m.\u001b[39mpack_output(flat_outputs)\n",
      "File \u001b[0;32m~/Documents/Skole/IIkt/5_semester/TDT4173 - Maskinlæring/ve/group_project/.venv/lib/python3.9/site-packages/tensorflow/python/eager/polymorphic_function/atomic_function.py:252\u001b[0m, in \u001b[0;36mAtomicFunction.__call__\u001b[0;34m(self, *args)\u001b[0m\n\u001b[1;32m    250\u001b[0m \u001b[39mwith\u001b[39;00m record\u001b[39m.\u001b[39mstop_recording():\n\u001b[1;32m    251\u001b[0m   \u001b[39mif\u001b[39;00m \u001b[39mself\u001b[39m\u001b[39m.\u001b[39m_bound_context\u001b[39m.\u001b[39mexecuting_eagerly():\n\u001b[0;32m--> 252\u001b[0m     outputs \u001b[39m=\u001b[39m \u001b[39mself\u001b[39;49m\u001b[39m.\u001b[39;49m_bound_context\u001b[39m.\u001b[39;49mcall_function(\n\u001b[1;32m    253\u001b[0m         \u001b[39mself\u001b[39;49m\u001b[39m.\u001b[39;49mname,\n\u001b[1;32m    254\u001b[0m         \u001b[39mlist\u001b[39;49m(args),\n\u001b[1;32m    255\u001b[0m         \u001b[39mlen\u001b[39;49m(\u001b[39mself\u001b[39;49m\u001b[39m.\u001b[39;49mfunction_type\u001b[39m.\u001b[39;49mflat_outputs),\n\u001b[1;32m    256\u001b[0m     )\n\u001b[1;32m    257\u001b[0m   \u001b[39melse\u001b[39;00m:\n\u001b[1;32m    258\u001b[0m     outputs \u001b[39m=\u001b[39m make_call_op_in_graph(\n\u001b[1;32m    259\u001b[0m         \u001b[39mself\u001b[39m,\n\u001b[1;32m    260\u001b[0m         \u001b[39mlist\u001b[39m(args),\n\u001b[1;32m    261\u001b[0m         \u001b[39mself\u001b[39m\u001b[39m.\u001b[39m_bound_context\u001b[39m.\u001b[39mfunction_call_options\u001b[39m.\u001b[39mas_attrs(),\n\u001b[1;32m    262\u001b[0m     )\n",
      "File \u001b[0;32m~/Documents/Skole/IIkt/5_semester/TDT4173 - Maskinlæring/ve/group_project/.venv/lib/python3.9/site-packages/tensorflow/python/eager/context.py:1479\u001b[0m, in \u001b[0;36mContext.call_function\u001b[0;34m(self, name, tensor_inputs, num_outputs)\u001b[0m\n\u001b[1;32m   1477\u001b[0m cancellation_context \u001b[39m=\u001b[39m cancellation\u001b[39m.\u001b[39mcontext()\n\u001b[1;32m   1478\u001b[0m \u001b[39mif\u001b[39;00m cancellation_context \u001b[39mis\u001b[39;00m \u001b[39mNone\u001b[39;00m:\n\u001b[0;32m-> 1479\u001b[0m   outputs \u001b[39m=\u001b[39m execute\u001b[39m.\u001b[39;49mexecute(\n\u001b[1;32m   1480\u001b[0m       name\u001b[39m.\u001b[39;49mdecode(\u001b[39m\"\u001b[39;49m\u001b[39mutf-8\u001b[39;49m\u001b[39m\"\u001b[39;49m),\n\u001b[1;32m   1481\u001b[0m       num_outputs\u001b[39m=\u001b[39;49mnum_outputs,\n\u001b[1;32m   1482\u001b[0m       inputs\u001b[39m=\u001b[39;49mtensor_inputs,\n\u001b[1;32m   1483\u001b[0m       attrs\u001b[39m=\u001b[39;49mattrs,\n\u001b[1;32m   1484\u001b[0m       ctx\u001b[39m=\u001b[39;49m\u001b[39mself\u001b[39;49m,\n\u001b[1;32m   1485\u001b[0m   )\n\u001b[1;32m   1486\u001b[0m \u001b[39melse\u001b[39;00m:\n\u001b[1;32m   1487\u001b[0m   outputs \u001b[39m=\u001b[39m execute\u001b[39m.\u001b[39mexecute_with_cancellation(\n\u001b[1;32m   1488\u001b[0m       name\u001b[39m.\u001b[39mdecode(\u001b[39m\"\u001b[39m\u001b[39mutf-8\u001b[39m\u001b[39m\"\u001b[39m),\n\u001b[1;32m   1489\u001b[0m       num_outputs\u001b[39m=\u001b[39mnum_outputs,\n\u001b[0;32m   (...)\u001b[0m\n\u001b[1;32m   1493\u001b[0m       cancellation_manager\u001b[39m=\u001b[39mcancellation_context,\n\u001b[1;32m   1494\u001b[0m   )\n",
      "File \u001b[0;32m~/Documents/Skole/IIkt/5_semester/TDT4173 - Maskinlæring/ve/group_project/.venv/lib/python3.9/site-packages/tensorflow/python/eager/execute.py:60\u001b[0m, in \u001b[0;36mquick_execute\u001b[0;34m(op_name, num_outputs, inputs, attrs, ctx, name)\u001b[0m\n\u001b[1;32m     53\u001b[0m   \u001b[39m# Convert any objects of type core_types.Tensor to Tensor.\u001b[39;00m\n\u001b[1;32m     54\u001b[0m   inputs \u001b[39m=\u001b[39m [\n\u001b[1;32m     55\u001b[0m       tensor_conversion_registry\u001b[39m.\u001b[39mconvert(t)\n\u001b[1;32m     56\u001b[0m       \u001b[39mif\u001b[39;00m \u001b[39misinstance\u001b[39m(t, core_types\u001b[39m.\u001b[39mTensor)\n\u001b[1;32m     57\u001b[0m       \u001b[39melse\u001b[39;00m t\n\u001b[1;32m     58\u001b[0m       \u001b[39mfor\u001b[39;00m t \u001b[39min\u001b[39;00m inputs\n\u001b[1;32m     59\u001b[0m   ]\n\u001b[0;32m---> 60\u001b[0m   tensors \u001b[39m=\u001b[39m pywrap_tfe\u001b[39m.\u001b[39;49mTFE_Py_Execute(ctx\u001b[39m.\u001b[39;49m_handle, device_name, op_name,\n\u001b[1;32m     61\u001b[0m                                       inputs, attrs, num_outputs)\n\u001b[1;32m     62\u001b[0m \u001b[39mexcept\u001b[39;00m core\u001b[39m.\u001b[39m_NotOkStatusException \u001b[39mas\u001b[39;00m e:\n\u001b[1;32m     63\u001b[0m   \u001b[39mif\u001b[39;00m name \u001b[39mis\u001b[39;00m \u001b[39mnot\u001b[39;00m \u001b[39mNone\u001b[39;00m:\n",
      "\u001b[0;31mKeyboardInterrupt\u001b[0m: "
     ]
    }
   ],
   "source": [
    "\n",
    "import optuna\n",
    "from keras.models import Sequential\n",
    "from keras.optimizers import RMSprop, Adam\n",
    "from keras.layers import Dense, Dropout\n",
    "from sklearn.metrics import mean_absolute_error\n",
    "\n",
    "# 1. Define an objective function to be maximized.\n",
    "def objective(trial):s\n",
    "    model = Sequential()\n",
    "\n",
    "    # 2. Suggest values of the hyperparameters using a trial object.\n",
    "    model.add(\n",
    "        Dense(units=trial.suggest_int('units', 128, 256, 2*256),\n",
    "              activation=trial.suggest_categorical('activation', ['relu', 'sigmoid', 'tanh']),\n",
    "              activity_regularizer=trial.suggest_categorical('activity_regularizer', ['l1', 'l2', 'l1_l2'])\n",
    "              ))\n",
    "    model.add(\n",
    "        Dropout(rate=trial.suggest_float('rate', 0.0, 1.0))\n",
    "    )\n",
    "    model.add(\n",
    "        Dense(units=trial.suggest_int('units', 64, 128, 256),\n",
    "              activation=trial.suggest_categorical('activation', ['relu', 'sigmoid', 'tanh']),\n",
    "              activity_regularizer=trial.suggest_categorical('activity_regularizer', ['l1', 'l2', 'l1_l2'])\n",
    "              ))\n",
    "    model.add(\n",
    "        Dropout(rate=trial.suggest_float('rate', 0.0, 1.0))\n",
    "    )\n",
    "    model.add(\n",
    "        Dense(units=trial.suggest_int('units', 32, 64, 128),\n",
    "              activation=trial.suggest_categorical('activation', ['relu', 'sigmoid', 'tanh']),\n",
    "              activity_regularizer=trial.suggest_categorical('activity_regularizer', ['l1', 'l2', 'l1_l2'])\n",
    "              ))\n",
    "    model.add(\n",
    "        Dropout(rate=trial.suggest_float('rate', 0.0, 1.0))\n",
    "    )\n",
    "    model.add(\n",
    "        Dense(units=trial.suggest_int('units', 16, 32, 64),\n",
    "              activation=trial.suggest_categorical('activation', ['relu', 'sigmoid', 'tanh']),\n",
    "              activity_regularizer=trial.suggest_categorical('activity_regularizer', ['l1', 'l2', 'l1_l2'])\n",
    "              ))\n",
    "    model.add(\n",
    "        Dropout(rate=trial.suggest_float('rate', 0.0, 1.0))\n",
    "    )\n",
    "    model.add(\n",
    "        Dense(units=trial.suggest_int('units', 1, 16, 32),\n",
    "              activation=trial.suggest_categorical('activation', ['relu', 'sigmoid', 'tanh']),\n",
    "              activity_regularizer=trial.suggest_categorical('activity_regularizer', ['l1', 'l2', 'l1_l2'])\n",
    "              ))\n",
    "\n",
    "    # We compile our model with a sampled learning rate.\n",
    "    lr = trial.suggest_float('lr', 1e-5, 1e-1, log=True)\n",
    "    model.compile(loss='mean_absolute_error', optimizer=RMSprop(lr=lr))\n",
    "    model.fit(X_train, y_train)\n",
    "    y_pred = model.predict(X_validate)\n",
    "    return mean_absolute_error(y_pred, y_validate)\n",
    "\n",
    "# 3. Create a study object and optimize the objective function.\n",
    "study = optuna.create_study(direction='maximize')\n",
    "study.optimize(objective, n_trials=100)"
   ]
  },
  {
   "cell_type": "code",
   "execution_count": 157,
   "metadata": {},
   "outputs": [
    {
     "name": "stderr",
     "output_type": "stream",
     "text": [
      "  0%|          | 0/100 [00:00<?, ?it/s]"
     ]
    },
    {
     "name": "stdout",
     "output_type": "stream",
     "text": [
      "71/71 [==============================] - 57s 585ms/step - loss: 168.0880 - val_loss: 228.7441\n",
      "71/71 [==============================] - 33s 470ms/step - loss: 131.7063 - val_loss: 24.3069\n",
      "71/71 [==============================] - 34s 487ms/step - loss: 104.4533 - val_loss: 43.4088\n",
      "71/71 [==============================] - 33s 470ms/step - loss: 86.3852 - val_loss: 89.0365\n",
      "71/71 [==============================] - 33s 468ms/step - loss: 97.5426 - val_loss: 67.3786\n"
     ]
    },
    {
     "name": "stderr",
     "output_type": "stream",
     "text": [
      "  1%|          | 1/100 [03:11<5:15:44, 191.36s/it]"
     ]
    },
    {
     "name": "stdout",
     "output_type": "stream",
     "text": [
      "71/71 [==============================] - 33s 459ms/step - loss: 165.7305 - val_loss: 225.7124\n",
      "71/71 [==============================] - 33s 460ms/step - loss: 129.9136 - val_loss: 25.4916\n",
      "71/71 [==============================] - 33s 464ms/step - loss: 103.6246 - val_loss: 45.6723\n",
      "71/71 [==============================] - 32s 459ms/step - loss: 86.3167 - val_loss: 89.0344\n",
      "71/71 [==============================] - 33s 467ms/step - loss: 97.6886 - val_loss: 72.2428\n"
     ]
    },
    {
     "name": "stderr",
     "output_type": "stream",
     "text": [
      "  2%|▏         | 2/100 [05:55<4:45:58, 175.08s/it]"
     ]
    },
    {
     "name": "stdout",
     "output_type": "stream",
     "text": [
      "71/71 [==============================] - 32s 457ms/step - loss: 165.0640 - val_loss: 223.7604\n",
      "71/71 [==============================] - 32s 457ms/step - loss: 128.9120 - val_loss: 26.5751\n",
      "71/71 [==============================] - 33s 464ms/step - loss: 103.3745 - val_loss: 50.5359\n",
      "71/71 [==============================] - 33s 460ms/step - loss: 86.2324 - val_loss: 89.5363\n",
      "71/71 [==============================] - 33s 463ms/step - loss: 97.3991 - val_loss: 67.7373\n"
     ]
    },
    {
     "name": "stderr",
     "output_type": "stream",
     "text": [
      "  3%|▎         | 3/100 [08:38<4:34:23, 169.72s/it]"
     ]
    },
    {
     "name": "stdout",
     "output_type": "stream",
     "text": [
      "71/71 [==============================] - 32s 458ms/step - loss: 164.9315 - val_loss: 223.2570\n",
      "71/71 [==============================] - 32s 451ms/step - loss: 129.3708 - val_loss: 25.1893\n",
      "71/71 [==============================] - 32s 454ms/step - loss: 103.4034 - val_loss: 43.2103\n",
      "71/71 [==============================] - 32s 456ms/step - loss: 85.6084 - val_loss: 87.9067\n",
      "71/71 [==============================] - 33s 459ms/step - loss: 96.6984 - val_loss: 67.6857\n"
     ]
    },
    {
     "name": "stderr",
     "output_type": "stream",
     "text": [
      "  4%|▍         | 4/100 [11:20<4:26:27, 166.53s/it]"
     ]
    },
    {
     "name": "stdout",
     "output_type": "stream",
     "text": [
      "71/71 [==============================] - 32s 456ms/step - loss: 164.9521 - val_loss: 222.8083\n",
      "71/71 [==============================] - 32s 457ms/step - loss: 129.5101 - val_loss: 34.3255\n",
      "71/71 [==============================] - 32s 447ms/step - loss: 102.7521 - val_loss: 45.6136\n",
      "71/71 [==============================] - 32s 456ms/step - loss: 85.7262 - val_loss: 89.1334\n",
      "71/71 [==============================] - 32s 451ms/step - loss: 96.4568 - val_loss: 67.4358\n"
     ]
    },
    {
     "name": "stderr",
     "output_type": "stream",
     "text": [
      "  5%|▌         | 5/100 [14:01<4:20:31, 164.54s/it]"
     ]
    },
    {
     "name": "stdout",
     "output_type": "stream",
     "text": [
      "71/71 [==============================] - 33s 460ms/step - loss: 164.4483 - val_loss: 221.6635\n",
      "71/71 [==============================] - 33s 471ms/step - loss: 128.6178 - val_loss: 27.4151\n",
      "71/71 [==============================] - 33s 466ms/step - loss: 102.9053 - val_loss: 43.5709\n",
      "71/71 [==============================] - 33s 471ms/step - loss: 85.6348 - val_loss: 91.3903\n",
      "71/71 [==============================] - 33s 467ms/step - loss: 97.0581 - val_loss: 67.5588\n"
     ]
    },
    {
     "name": "stderr",
     "output_type": "stream",
     "text": [
      "  6%|▌         | 6/100 [16:46<4:18:23, 164.93s/it]"
     ]
    },
    {
     "name": "stdout",
     "output_type": "stream",
     "text": [
      "71/71 [==============================] - 33s 466ms/step - loss: 164.6558 - val_loss: 221.6912\n",
      "71/71 [==============================] - 33s 470ms/step - loss: 128.4669 - val_loss: 27.2500\n",
      "71/71 [==============================] - 33s 465ms/step - loss: 102.8277 - val_loss: 43.3558\n",
      "71/71 [==============================] - 33s 467ms/step - loss: 85.4764 - val_loss: 90.8327\n",
      "71/71 [==============================] - 33s 470ms/step - loss: 96.7786 - val_loss: 67.3932\n"
     ]
    },
    {
     "name": "stderr",
     "output_type": "stream",
     "text": [
      "  7%|▋         | 7/100 [19:32<4:16:07, 165.24s/it]"
     ]
    },
    {
     "name": "stdout",
     "output_type": "stream",
     "text": [
      "71/71 [==============================] - 33s 472ms/step - loss: 164.1314 - val_loss: 222.1087\n",
      "71/71 [==============================] - 33s 471ms/step - loss: 128.3304 - val_loss: 25.8856\n",
      "71/71 [==============================] - 33s 460ms/step - loss: 102.8676 - val_loss: 43.4442\n",
      "71/71 [==============================] - 32s 455ms/step - loss: 85.4024 - val_loss: 88.8716\n",
      "71/71 [==============================] - 33s 461ms/step - loss: 97.4107 - val_loss: 67.1233\n"
     ]
    },
    {
     "name": "stderr",
     "output_type": "stream",
     "text": [
      "  8%|▊         | 8/100 [22:17<4:13:01, 165.02s/it]"
     ]
    },
    {
     "name": "stdout",
     "output_type": "stream",
     "text": [
      "71/71 [==============================] - 32s 453ms/step - loss: 164.4003 - val_loss: 221.7848\n",
      "71/71 [==============================] - 32s 451ms/step - loss: 128.4752 - val_loss: 27.4395\n",
      "71/71 [==============================] - 32s 458ms/step - loss: 103.0502 - val_loss: 52.8055\n",
      "71/71 [==============================] - 32s 456ms/step - loss: 85.5881 - val_loss: 87.9217\n",
      "71/71 [==============================] - 32s 454ms/step - loss: 96.4405 - val_loss: 67.7183\n"
     ]
    },
    {
     "name": "stderr",
     "output_type": "stream",
     "text": [
      "  9%|▉         | 9/100 [24:58<4:08:28, 163.83s/it]"
     ]
    },
    {
     "name": "stdout",
     "output_type": "stream",
     "text": [
      "71/71 [==============================] - 32s 450ms/step - loss: 164.9077 - val_loss: 222.5790\n",
      "71/71 [==============================] - 32s 457ms/step - loss: 128.7683 - val_loss: 26.6612\n",
      "71/71 [==============================] - 32s 454ms/step - loss: 102.6931 - val_loss: 43.4840\n",
      "71/71 [==============================] - 32s 451ms/step - loss: 85.4372 - val_loss: 87.9463\n",
      "71/71 [==============================] - 32s 453ms/step - loss: 96.2191 - val_loss: 67.2140\n"
     ]
    },
    {
     "name": "stderr",
     "output_type": "stream",
     "text": [
      " 10%|█         | 10/100 [27:39<4:04:18, 162.87s/it]"
     ]
    },
    {
     "name": "stdout",
     "output_type": "stream",
     "text": [
      "71/71 [==============================] - 32s 445ms/step - loss: 164.2058 - val_loss: 221.3840\n",
      "71/71 [==============================] - 31s 444ms/step - loss: 127.8990 - val_loss: 29.2061\n",
      "71/71 [==============================] - 32s 453ms/step - loss: 102.7348 - val_loss: 57.2080\n",
      "71/71 [==============================] - 32s 448ms/step - loss: 85.6901 - val_loss: 92.0086\n",
      "71/71 [==============================] - 32s 449ms/step - loss: 96.4199 - val_loss: 67.3074\n"
     ]
    },
    {
     "name": "stderr",
     "output_type": "stream",
     "text": [
      " 11%|█         | 11/100 [30:18<3:59:48, 161.67s/it]"
     ]
    },
    {
     "name": "stdout",
     "output_type": "stream",
     "text": [
      "71/71 [==============================] - 32s 450ms/step - loss: 164.2352 - val_loss: 221.1173\n",
      "71/71 [==============================] - 32s 452ms/step - loss: 128.7866 - val_loss: 28.3471\n",
      "71/71 [==============================] - 32s 452ms/step - loss: 102.7547 - val_loss: 48.2464\n",
      "71/71 [==============================] - 32s 448ms/step - loss: 85.3902 - val_loss: 89.0797\n",
      "71/71 [==============================] - 32s 447ms/step - loss: 96.5165 - val_loss: 67.0471\n"
     ]
    },
    {
     "name": "stderr",
     "output_type": "stream",
     "text": [
      " 12%|█▏        | 12/100 [32:57<3:56:10, 161.03s/it]"
     ]
    },
    {
     "name": "stdout",
     "output_type": "stream",
     "text": [
      "71/71 [==============================] - 32s 454ms/step - loss: 164.2060 - val_loss: 220.9264\n",
      "71/71 [==============================] - 32s 451ms/step - loss: 128.1380 - val_loss: 28.7921\n",
      "71/71 [==============================] - 32s 458ms/step - loss: 102.6411 - val_loss: 43.4629\n",
      "71/71 [==============================] - 33s 461ms/step - loss: 85.5338 - val_loss: 88.8556\n",
      "71/71 [==============================] - 32s 453ms/step - loss: 97.5703 - val_loss: 67.3177\n"
     ]
    },
    {
     "name": "stderr",
     "output_type": "stream",
     "text": [
      " 13%|█▎        | 13/100 [35:39<3:53:43, 161.19s/it]"
     ]
    },
    {
     "name": "stdout",
     "output_type": "stream",
     "text": [
      "71/71 [==============================] - 32s 454ms/step - loss: 164.3239 - val_loss: 221.5265\n",
      "71/71 [==============================] - 32s 453ms/step - loss: 128.2171 - val_loss: 28.4755\n",
      "71/71 [==============================] - 32s 457ms/step - loss: 102.4976 - val_loss: 43.3022\n",
      "71/71 [==============================] - 32s 453ms/step - loss: 85.7653 - val_loss: 89.0288\n",
      "71/71 [==============================] - 32s 457ms/step - loss: 97.7828 - val_loss: 67.2043\n"
     ]
    },
    {
     "name": "stderr",
     "output_type": "stream",
     "text": [
      " 14%|█▍        | 14/100 [38:20<3:51:05, 161.23s/it]"
     ]
    },
    {
     "name": "stdout",
     "output_type": "stream",
     "text": [
      "71/71 [==============================] - 32s 453ms/step - loss: 164.8448 - val_loss: 220.9976\n",
      "71/71 [==============================] - 32s 455ms/step - loss: 128.2782 - val_loss: 28.1879\n",
      "71/71 [==============================] - 32s 452ms/step - loss: 102.8374 - val_loss: 45.6425\n",
      "71/71 [==============================] - 32s 448ms/step - loss: 85.3474 - val_loss: 88.9551\n",
      "71/71 [==============================] - 32s 453ms/step - loss: 98.2202 - val_loss: 67.1136\n"
     ]
    },
    {
     "name": "stderr",
     "output_type": "stream",
     "text": [
      " 15%|█▌        | 15/100 [41:00<3:48:06, 161.01s/it]"
     ]
    },
    {
     "name": "stdout",
     "output_type": "stream",
     "text": [
      "71/71 [==============================] - 32s 448ms/step - loss: 164.5999 - val_loss: 221.3287\n",
      "71/71 [==============================] - 33s 463ms/step - loss: 128.3639 - val_loss: 28.9937\n",
      "71/71 [==============================] - 33s 462ms/step - loss: 102.7140 - val_loss: 43.8204\n",
      "71/71 [==============================] - 33s 467ms/step - loss: 85.1393 - val_loss: 91.2106\n",
      "71/71 [==============================] - 33s 469ms/step - loss: 96.8414 - val_loss: 67.3712\n"
     ]
    },
    {
     "name": "stderr",
     "output_type": "stream",
     "text": [
      " 16%|█▌        | 16/100 [43:44<3:46:36, 161.86s/it]"
     ]
    },
    {
     "name": "stdout",
     "output_type": "stream",
     "text": [
      "71/71 [==============================] - 32s 453ms/step - loss: 164.6505 - val_loss: 219.3911\n",
      "71/71 [==============================] - 32s 448ms/step - loss: 128.6037 - val_loss: 26.3788\n",
      "71/71 [==============================] - 32s 449ms/step - loss: 102.4934 - val_loss: 43.3359\n",
      "71/71 [==============================] - 32s 453ms/step - loss: 85.3998 - val_loss: 90.9047\n",
      "71/71 [==============================] - 32s 449ms/step - loss: 96.2989 - val_loss: 66.9562\n"
     ]
    },
    {
     "name": "stderr",
     "output_type": "stream",
     "text": [
      " 17%|█▋        | 17/100 [46:24<3:43:03, 161.25s/it]"
     ]
    },
    {
     "name": "stdout",
     "output_type": "stream",
     "text": [
      "71/71 [==============================] - 31s 442ms/step - loss: 164.5084 - val_loss: 220.7585\n",
      "71/71 [==============================] - 32s 446ms/step - loss: 128.6237 - val_loss: 29.6258\n",
      "71/71 [==============================] - 32s 450ms/step - loss: 102.2777 - val_loss: 43.4715\n",
      "71/71 [==============================] - 32s 451ms/step - loss: 85.4326 - val_loss: 91.4503\n",
      "71/71 [==============================] - 32s 451ms/step - loss: 96.0770 - val_loss: 67.1018\n"
     ]
    },
    {
     "name": "stderr",
     "output_type": "stream",
     "text": [
      " 18%|█▊        | 18/100 [49:03<3:39:25, 160.56s/it]"
     ]
    },
    {
     "name": "stdout",
     "output_type": "stream",
     "text": [
      "71/71 [==============================] - 32s 453ms/step - loss: 164.5641 - val_loss: 221.1902\n",
      "71/71 [==============================] - 32s 452ms/step - loss: 128.7717 - val_loss: 29.4942\n",
      "71/71 [==============================] - 32s 458ms/step - loss: 102.9370 - val_loss: 43.3302\n",
      "71/71 [==============================] - 32s 450ms/step - loss: 85.4184 - val_loss: 88.9526\n",
      "71/71 [==============================] - 32s 451ms/step - loss: 98.3721 - val_loss: 66.9619\n"
     ]
    },
    {
     "name": "stderr",
     "output_type": "stream",
     "text": [
      " 19%|█▉        | 19/100 [51:44<3:36:47, 160.58s/it]"
     ]
    },
    {
     "name": "stdout",
     "output_type": "stream",
     "text": [
      "71/71 [==============================] - 32s 455ms/step - loss: 164.2993 - val_loss: 221.4099\n",
      "71/71 [==============================] - 32s 454ms/step - loss: 128.6096 - val_loss: 26.0916\n",
      "71/71 [==============================] - 33s 459ms/step - loss: 102.4947 - val_loss: 44.1234\n",
      "71/71 [==============================] - 32s 451ms/step - loss: 85.5536 - val_loss: 89.8872\n",
      "71/71 [==============================] - 32s 448ms/step - loss: 96.7602 - val_loss: 67.0940\n"
     ]
    },
    {
     "name": "stderr",
     "output_type": "stream",
     "text": [
      " 20%|██        | 20/100 [54:25<3:34:12, 160.66s/it]"
     ]
    },
    {
     "name": "stdout",
     "output_type": "stream",
     "text": [
      "71/71 [==============================] - 32s 458ms/step - loss: 164.5964 - val_loss: 221.6085\n",
      "71/71 [==============================] - 32s 451ms/step - loss: 128.2151 - val_loss: 27.5497\n",
      "71/71 [==============================] - 32s 449ms/step - loss: 102.5207 - val_loss: 50.3036\n",
      "71/71 [==============================] - 32s 451ms/step - loss: 85.3983 - val_loss: 88.0459\n",
      "71/71 [==============================] - 31s 442ms/step - loss: 97.7685 - val_loss: 67.1928\n"
     ]
    },
    {
     "name": "stderr",
     "output_type": "stream",
     "text": [
      " 21%|██        | 21/100 [57:04<3:31:08, 160.36s/it]"
     ]
    },
    {
     "name": "stdout",
     "output_type": "stream",
     "text": [
      "71/71 [==============================] - 32s 451ms/step - loss: 164.5184 - val_loss: 221.2097\n",
      "71/71 [==============================] - 31s 441ms/step - loss: 128.3172 - val_loss: 27.7141\n",
      "71/71 [==============================] - 32s 452ms/step - loss: 102.4881 - val_loss: 43.8523\n",
      "71/71 [==============================] - 32s 452ms/step - loss: 85.3469 - val_loss: 88.5593\n",
      "71/71 [==============================] - 32s 446ms/step - loss: 97.4148 - val_loss: 67.1064\n"
     ]
    },
    {
     "name": "stderr",
     "output_type": "stream",
     "text": [
      " 22%|██▏       | 22/100 [59:43<3:27:58, 159.98s/it]"
     ]
    },
    {
     "name": "stdout",
     "output_type": "stream",
     "text": [
      "71/71 [==============================] - 32s 447ms/step - loss: 164.5518 - val_loss: 219.8652\n",
      "71/71 [==============================] - 32s 448ms/step - loss: 128.2718 - val_loss: 27.8964\n",
      "71/71 [==============================] - 32s 452ms/step - loss: 102.5319 - val_loss: 43.3291\n",
      "71/71 [==============================] - 32s 445ms/step - loss: 85.2838 - val_loss: 92.7064\n",
      "71/71 [==============================] - 31s 444ms/step - loss: 96.2179 - val_loss: 67.0977\n"
     ]
    },
    {
     "name": "stderr",
     "output_type": "stream",
     "text": [
      " 23%|██▎       | 23/100 [1:02:22<3:24:48, 159.59s/it]"
     ]
    },
    {
     "name": "stdout",
     "output_type": "stream",
     "text": [
      "71/71 [==============================] - 32s 450ms/step - loss: 164.2778 - val_loss: 221.2968\n",
      "71/71 [==============================] - 32s 448ms/step - loss: 128.7344 - val_loss: 26.8415\n",
      "71/71 [==============================] - 32s 448ms/step - loss: 102.4179 - val_loss: 57.2498\n",
      "71/71 [==============================] - 33s 460ms/step - loss: 85.5690 - val_loss: 88.7298\n",
      "71/71 [==============================] - 33s 469ms/step - loss: 97.8689 - val_loss: 67.0142\n"
     ]
    },
    {
     "name": "stderr",
     "output_type": "stream",
     "text": [
      " 24%|██▍       | 24/100 [1:05:03<3:22:50, 160.14s/it]"
     ]
    },
    {
     "name": "stdout",
     "output_type": "stream",
     "text": [
      "71/71 [==============================] - 33s 466ms/step - loss: 164.9773 - val_loss: 220.9609\n",
      "71/71 [==============================] - 35s 487ms/step - loss: 129.1354 - val_loss: 26.4931\n",
      "71/71 [==============================] - 32s 455ms/step - loss: 102.4797 - val_loss: 43.2334\n",
      "71/71 [==============================] - 957s 14s/step - loss: 85.6870 - val_loss: 91.1307\n",
      "71/71 [==============================] - 1029s 15s/step - loss: 96.8199 - val_loss: 67.3938\n"
     ]
    },
    {
     "name": "stderr",
     "output_type": "stream",
     "text": [
      " 25%|██▌       | 25/100 [1:39:49<15:22:19, 737.86s/it]"
     ]
    },
    {
     "name": "stdout",
     "output_type": "stream",
     "text": [
      "71/71 [==============================] - 33s 461ms/step - loss: 164.8022 - val_loss: 222.0299\n",
      "71/71 [==============================] - 33s 463ms/step - loss: 128.4260 - val_loss: 28.1638\n",
      "71/71 [==============================] - 32s 455ms/step - loss: 103.0017 - val_loss: 43.4458\n",
      "71/71 [==============================] - 943s 13s/step - loss: 85.2725 - val_loss: 89.1291\n",
      "71/71 [==============================] - 32s 444ms/step - loss: 96.3578 - val_loss: 66.9882\n"
     ]
    },
    {
     "name": "stderr",
     "output_type": "stream",
     "text": [
      " 26%|██▌       | 26/100 [1:57:42<17:13:50, 838.25s/it]"
     ]
    },
    {
     "name": "stdout",
     "output_type": "stream",
     "text": [
      "71/71 [==============================] - 31s 442ms/step - loss: 164.4488 - val_loss: 221.4349\n",
      "71/71 [==============================] - 957s 14s/step - loss: 128.8123 - val_loss: 28.2189\n",
      "71/71 [==============================] - 32s 447ms/step - loss: 102.4451 - val_loss: 56.8805\n",
      "71/71 [==============================] - 32s 447ms/step - loss: 85.3536 - val_loss: 89.1092\n",
      "71/71 [==============================] - 32s 444ms/step - loss: 96.3358 - val_loss: 67.0929\n"
     ]
    },
    {
     "name": "stderr",
     "output_type": "stream",
     "text": [
      " 27%|██▋       | 27/100 [2:15:45<18:29:21, 911.81s/it]"
     ]
    },
    {
     "name": "stdout",
     "output_type": "stream",
     "text": [
      "71/71 [==============================] - 32s 448ms/step - loss: 164.4494 - val_loss: 221.0959\n",
      "71/71 [==============================] - 32s 445ms/step - loss: 128.5544 - val_loss: 27.2803\n",
      "71/71 [==============================] - 270s 4s/step - loss: 102.6602 - val_loss: 46.8786\n",
      "71/71 [==============================] - 31s 443ms/step - loss: 85.1328 - val_loss: 90.7859\n",
      "71/71 [==============================] - 31s 444ms/step - loss: 97.0744 - val_loss: 67.0287\n"
     ]
    },
    {
     "name": "stderr",
     "output_type": "stream",
     "text": [
      " 28%|██▊       | 28/100 [2:22:21<15:08:30, 757.09s/it]"
     ]
    },
    {
     "name": "stdout",
     "output_type": "stream",
     "text": [
      "71/71 [==============================] - 32s 450ms/step - loss: 164.4216 - val_loss: 220.7693\n",
      "71/71 [==============================] - 1079s 15s/step - loss: 128.0555 - val_loss: 27.0012\n",
      "71/71 [==============================] - 32s 448ms/step - loss: 102.4931 - val_loss: 43.4903\n",
      "71/71 [==============================] - 31s 443ms/step - loss: 85.2731 - val_loss: 90.4548\n",
      "71/71 [==============================] - 31s 444ms/step - loss: 96.2459 - val_loss: 66.9476\n"
     ]
    },
    {
     "name": "stderr",
     "output_type": "stream",
     "text": [
      " 29%|██▉       | 29/100 [2:42:27<17:35:07, 891.66s/it]"
     ]
    },
    {
     "name": "stdout",
     "output_type": "stream",
     "text": [
      "71/71 [==============================] - 31s 442ms/step - loss: 164.4020 - val_loss: 221.1531\n",
      "71/71 [==============================] - 566s 8s/step - loss: 128.6531 - val_loss: 27.2625\n",
      "71/71 [==============================] - 31s 443ms/step - loss: 102.5562 - val_loss: 43.2363\n",
      "71/71 [==============================] - 32s 446ms/step - loss: 85.3848 - val_loss: 88.7492\n",
      "71/71 [==============================] - 32s 447ms/step - loss: 97.8813 - val_loss: 67.2897\n"
     ]
    },
    {
     "name": "stderr",
     "output_type": "stream",
     "text": [
      " 30%|███       | 30/100 [2:53:59<16:10:38, 831.98s/it]"
     ]
    },
    {
     "name": "stdout",
     "output_type": "stream",
     "text": [
      "71/71 [==============================] - 542s 8s/step - loss: 164.5198 - val_loss: 221.2599\n",
      "71/71 [==============================] - 31s 442ms/step - loss: 128.8991 - val_loss: 28.0535\n",
      "71/71 [==============================] - 31s 440ms/step - loss: 102.6565 - val_loss: 43.2478\n",
      "71/71 [==============================] - 32s 445ms/step - loss: 85.2297 - val_loss: 91.2474\n",
      "71/71 [==============================] - 32s 446ms/step - loss: 96.3981 - val_loss: 66.9507\n"
     ]
    },
    {
     "name": "stderr",
     "output_type": "stream",
     "text": [
      " 31%|███       | 31/100 [3:05:07<15:00:05, 782.69s/it]"
     ]
    },
    {
     "name": "stdout",
     "output_type": "stream",
     "text": [
      "71/71 [==============================] - 192s 3s/step - loss: 164.6533 - val_loss: 221.2019\n",
      "71/71 [==============================] - 31s 443ms/step - loss: 128.8184 - val_loss: 29.6787\n",
      "71/71 [==============================] - 32s 447ms/step - loss: 102.6747 - val_loss: 43.2472\n",
      "71/71 [==============================] - 31s 444ms/step - loss: 85.3937 - val_loss: 91.1334\n",
      "71/71 [==============================] - 738s 11s/step - loss: 96.5087 - val_loss: 67.2304\n"
     ]
    },
    {
     "name": "stderr",
     "output_type": "stream",
     "text": [
      " 32%|███▏      | 32/100 [3:22:12<16:09:15, 855.22s/it]"
     ]
    },
    {
     "name": "stdout",
     "output_type": "stream",
     "text": [
      "71/71 [==============================] - 32s 448ms/step - loss: 164.2950 - val_loss: 220.9051\n",
      "71/71 [==============================] - 31s 443ms/step - loss: 128.7946 - val_loss: 29.0550\n",
      "71/71 [==============================] - 32s 445ms/step - loss: 102.4802 - val_loss: 44.6831\n",
      "71/71 [==============================] - 243s 3s/step - loss: 85.2884 - val_loss: 89.5678\n",
      "71/71 [==============================] - 31s 444ms/step - loss: 98.6896 - val_loss: 67.8843\n"
     ]
    },
    {
     "name": "stderr",
     "output_type": "stream",
     "text": [
      " 33%|███▎      | 33/100 [3:28:21<13:12:10, 709.41s/it]"
     ]
    },
    {
     "name": "stdout",
     "output_type": "stream",
     "text": [
      "71/71 [==============================] - 32s 445ms/step - loss: 164.2812 - val_loss: 221.6016\n",
      "71/71 [==============================] - 31s 444ms/step - loss: 128.2875 - val_loss: 26.4865\n",
      "71/71 [==============================] - 31s 439ms/step - loss: 102.5731 - val_loss: 43.6435\n",
      "71/71 [==============================] - 944s 13s/step - loss: 85.1323 - val_loss: 92.0954\n",
      "71/71 [==============================] - 31s 443ms/step - loss: 97.0730 - val_loss: 67.2152\n"
     ]
    },
    {
     "name": "stderr",
     "output_type": "stream",
     "text": [
      " 34%|███▍      | 34/100 [3:46:11<14:59:17, 817.54s/it]"
     ]
    },
    {
     "name": "stdout",
     "output_type": "stream",
     "text": [
      "71/71 [==============================] - 31s 440ms/step - loss: 164.2652 - val_loss: 220.9522\n",
      "71/71 [==============================] - 31s 437ms/step - loss: 128.5847 - val_loss: 25.7607\n",
      "71/71 [==============================] - 455s 6s/step - loss: 102.5298 - val_loss: 53.7600\n",
      "71/71 [==============================] - 31s 443ms/step - loss: 85.4723 - val_loss: 89.6066\n",
      "71/71 [==============================] - 31s 439ms/step - loss: 97.4927 - val_loss: 66.9755\n"
     ]
    },
    {
     "name": "stderr",
     "output_type": "stream",
     "text": [
      " 35%|███▌      | 35/100 [3:55:50<13:28:19, 746.15s/it]"
     ]
    },
    {
     "name": "stdout",
     "output_type": "stream",
     "text": [
      "71/71 [==============================] - 31s 440ms/step - loss: 164.3921 - val_loss: 221.4117\n",
      "71/71 [==============================] - 32s 450ms/step - loss: 128.1898 - val_loss: 28.3119\n",
      "71/71 [==============================] - 993s 14s/step - loss: 102.6830 - val_loss: 43.2747\n",
      "71/71 [==============================] - 31s 442ms/step - loss: 85.4173 - val_loss: 89.1606\n",
      "71/71 [==============================] - 32s 444ms/step - loss: 97.3060 - val_loss: 67.0511\n"
     ]
    },
    {
     "name": "stderr",
     "output_type": "stream",
     "text": [
      " 36%|███▌      | 36/100 [4:14:29<15:15:07, 857.93s/it]"
     ]
    },
    {
     "name": "stdout",
     "output_type": "stream",
     "text": [
      "71/71 [==============================] - 33s 459ms/step - loss: 164.5125 - val_loss: 220.9745\n",
      "71/71 [==============================] - 32s 458ms/step - loss: 128.7336 - val_loss: 28.0209\n",
      "71/71 [==============================] - 467s 7s/step - loss: 102.4107 - val_loss: 43.1812\n",
      "71/71 [==============================] - 32s 457ms/step - loss: 85.5120 - val_loss: 90.6946\n",
      "71/71 [==============================] - 33s 459ms/step - loss: 96.2741 - val_loss: 67.2182\n"
     ]
    },
    {
     "name": "stderr",
     "output_type": "stream",
     "text": [
      " 37%|███▋      | 37/100 [4:24:26<13:38:41, 779.70s/it]"
     ]
    },
    {
     "name": "stdout",
     "output_type": "stream",
     "text": [
      "71/71 [==============================] - 33s 463ms/step - loss: 164.2423 - val_loss: 221.3261\n",
      "71/71 [==============================] - 996s 14s/step - loss: 128.7891 - val_loss: 28.7433\n",
      "71/71 [==============================] - 33s 461ms/step - loss: 102.5558 - val_loss: 43.8815\n",
      "71/71 [==============================] - 32s 446ms/step - loss: 85.4278 - val_loss: 93.9773\n",
      "71/71 [==============================] - 32s 447ms/step - loss: 97.0703 - val_loss: 67.0489\n"
     ]
    },
    {
     "name": "stderr",
     "output_type": "stream",
     "text": [
      " 38%|███▊      | 38/100 [4:43:11<15:12:38, 883.21s/it]"
     ]
    },
    {
     "name": "stdout",
     "output_type": "stream",
     "text": [
      "71/71 [==============================] - 1099s 16s/step - loss: 164.2974 - val_loss: 221.1046\n",
      "71/71 [==============================] - 32s 449ms/step - loss: 129.1489 - val_loss: 29.2976\n",
      "71/71 [==============================] - 32s 448ms/step - loss: 102.2971 - val_loss: 43.3483\n",
      "71/71 [==============================] - 31s 444ms/step - loss: 85.2773 - val_loss: 91.2196\n",
      "71/71 [==============================] - 32s 449ms/step - loss: 96.9311 - val_loss: 67.0134\n"
     ]
    },
    {
     "name": "stderr",
     "output_type": "stream",
     "text": [
      " 39%|███▉      | 39/100 [5:03:37<16:42:27, 986.03s/it]"
     ]
    },
    {
     "name": "stdout",
     "output_type": "stream",
     "text": [
      "71/71 [==============================] - 32s 449ms/step - loss: 164.3458 - val_loss: 221.1895\n",
      "71/71 [==============================] - 979s 14s/step - loss: 129.2371 - val_loss: 29.2403\n",
      "71/71 [==============================] - 32s 457ms/step - loss: 102.5669 - val_loss: 43.2954\n",
      "71/71 [==============================] - 31s 443ms/step - loss: 84.9274 - val_loss: 91.3853\n",
      "71/71 [==============================] - 32s 446ms/step - loss: 96.6018 - val_loss: 67.3540\n"
     ]
    },
    {
     "name": "stderr",
     "output_type": "stream",
     "text": [
      " 40%|████      | 40/100 [5:22:03<17:02:02, 1022.05s/it]"
     ]
    },
    {
     "name": "stdout",
     "output_type": "stream",
     "text": [
      "71/71 [==============================] - 32s 446ms/step - loss: 164.2593 - val_loss: 220.3330\n",
      "71/71 [==============================] - 107s 2s/step - loss: 128.0552 - val_loss: 27.4687\n",
      "71/71 [==============================] - 31s 442ms/step - loss: 102.5580 - val_loss: 43.2001\n",
      "71/71 [==============================] - 32s 452ms/step - loss: 85.6263 - val_loss: 91.6114\n",
      "71/71 [==============================] - 32s 459ms/step - loss: 96.4927 - val_loss: 66.9876\n"
     ]
    },
    {
     "name": "stderr",
     "output_type": "stream",
     "text": [
      " 41%|████      | 41/100 [5:25:58<12:52:52, 785.97s/it] "
     ]
    },
    {
     "name": "stdout",
     "output_type": "stream",
     "text": [
      "71/71 [==============================] - 984s 14s/step - loss: 164.1677 - val_loss: 221.0147\n",
      "71/71 [==============================] - 32s 448ms/step - loss: 128.7864 - val_loss: 26.4122\n",
      "71/71 [==============================] - 31s 444ms/step - loss: 103.1731 - val_loss: 44.7337\n",
      "71/71 [==============================] - 32s 445ms/step - loss: 85.6736 - val_loss: 88.9585\n",
      "71/71 [==============================] - 1068s 15s/step - loss: 97.7115 - val_loss: 66.9960\n"
     ]
    },
    {
     "name": "stderr",
     "output_type": "stream",
     "text": [
      " 42%|████▏     | 42/100 [6:01:45<19:14:23, 1194.20s/it]"
     ]
    },
    {
     "name": "stdout",
     "output_type": "stream",
     "text": [
      "71/71 [==============================] - 32s 452ms/step - loss: 164.0941 - val_loss: 220.2883\n",
      "71/71 [==============================] - 32s 449ms/step - loss: 127.9882 - val_loss: 29.4309\n",
      "71/71 [==============================] - 32s 451ms/step - loss: 102.4056 - val_loss: 43.3392\n",
      "71/71 [==============================] - 31s 444ms/step - loss: 85.1935 - val_loss: 88.2890\n",
      "71/71 [==============================] - 32s 447ms/step - loss: 97.9593 - val_loss: 67.0079\n"
     ]
    },
    {
     "name": "stderr",
     "output_type": "stream",
     "text": [
      " 43%|████▎     | 43/100 [6:04:24<13:59:28, 883.67s/it] "
     ]
    },
    {
     "name": "stdout",
     "output_type": "stream",
     "text": [
      "71/71 [==============================] - 987s 14s/step - loss: 164.5499 - val_loss: 221.0947\n",
      "71/71 [==============================] - 32s 449ms/step - loss: 128.1310 - val_loss: 27.7982\n",
      "71/71 [==============================] - 32s 447ms/step - loss: 102.5505 - val_loss: 43.2548\n",
      "71/71 [==============================] - 33s 461ms/step - loss: 85.6909 - val_loss: 88.2084\n",
      "71/71 [==============================] - 32s 458ms/step - loss: 97.6228 - val_loss: 67.2887\n"
     ]
    },
    {
     "name": "stderr",
     "output_type": "stream",
     "text": [
      " 44%|████▍     | 44/100 [6:22:59<14:49:41, 953.25s/it]"
     ]
    },
    {
     "name": "stdout",
     "output_type": "stream",
     "text": [
      "71/71 [==============================] - 33s 461ms/step - loss: 164.4662 - val_loss: 220.7474\n",
      "71/71 [==============================] - 85s 1s/step - loss: 128.7966 - val_loss: 28.3988\n",
      "71/71 [==============================] - 33s 459ms/step - loss: 102.3202 - val_loss: 53.7925\n",
      "71/71 [==============================] - 33s 460ms/step - loss: 85.3327 - val_loss: 92.6460\n",
      "71/71 [==============================] - 33s 462ms/step - loss: 95.9957 - val_loss: 67.5167\n"
     ]
    },
    {
     "name": "stderr",
     "output_type": "stream",
     "text": [
      " 45%|████▌     | 45/100 [6:26:35<11:11:02, 732.05s/it]"
     ]
    },
    {
     "name": "stdout",
     "output_type": "stream",
     "text": [
      "71/71 [==============================] - 1094s 16s/step - loss: 164.1881 - val_loss: 221.6351\n",
      "71/71 [==============================] - 32s 448ms/step - loss: 128.7490 - val_loss: 27.1539\n",
      "71/71 [==============================] - 31s 442ms/step - loss: 102.5227 - val_loss: 48.0042\n",
      "71/71 [==============================] - 32s 449ms/step - loss: 85.7309 - val_loss: 89.7113\n",
      "71/71 [==============================] - 32s 446ms/step - loss: 98.2368 - val_loss: 67.0047\n"
     ]
    },
    {
     "name": "stderr",
     "output_type": "stream",
     "text": [
      " 46%|████▌     | 46/100 [6:46:56<13:10:48, 878.68s/it]"
     ]
    },
    {
     "name": "stdout",
     "output_type": "stream",
     "text": [
      "71/71 [==============================] - 949s 14s/step - loss: 164.7392 - val_loss: 221.1511\n",
      "71/71 [==============================] - 32s 447ms/step - loss: 129.1099 - val_loss: 29.5410\n",
      "71/71 [==============================] - 31s 441ms/step - loss: 102.3991 - val_loss: 44.2947\n",
      "71/71 [==============================] - 31s 441ms/step - loss: 85.5161 - val_loss: 89.7123\n",
      "71/71 [==============================] - 31s 442ms/step - loss: 97.9789 - val_loss: 67.0283\n"
     ]
    },
    {
     "name": "stderr",
     "output_type": "stream",
     "text": [
      " 47%|████▋     | 47/100 [7:04:51<13:48:13, 937.61s/it]"
     ]
    },
    {
     "name": "stdout",
     "output_type": "stream",
     "text": [
      "71/71 [==============================] - 31s 441ms/step - loss: 164.1769 - val_loss: 221.2220\n",
      "71/71 [==============================] - 31s 440ms/step - loss: 128.8748 - val_loss: 28.8726\n",
      "71/71 [==============================] - 32s 446ms/step - loss: 102.4198 - val_loss: 43.4851\n",
      "71/71 [==============================] - 31s 443ms/step - loss: 85.6387 - val_loss: 89.1548\n",
      "71/71 [==============================] - 31s 445ms/step - loss: 98.1302 - val_loss: 67.2735\n"
     ]
    },
    {
     "name": "stderr",
     "output_type": "stream",
     "text": [
      " 48%|████▊     | 48/100 [7:07:28<10:09:40, 703.48s/it]"
     ]
    },
    {
     "name": "stdout",
     "output_type": "stream",
     "text": [
      "71/71 [==============================] - 31s 440ms/step - loss: 164.2876 - val_loss: 220.6781\n",
      "71/71 [==============================] - 31s 442ms/step - loss: 128.9563 - val_loss: 29.6679\n",
      "71/71 [==============================] - 31s 441ms/step - loss: 102.4518 - val_loss: 43.5469\n",
      "71/71 [==============================] - 31s 440ms/step - loss: 85.7942 - val_loss: 92.6349\n",
      "71/71 [==============================] - 31s 442ms/step - loss: 96.9490 - val_loss: 67.8449\n"
     ]
    },
    {
     "name": "stderr",
     "output_type": "stream",
     "text": [
      " 49%|████▉     | 49/100 [7:10:05<7:38:27, 539.37s/it] "
     ]
    },
    {
     "name": "stdout",
     "output_type": "stream",
     "text": [
      "71/71 [==============================] - 32s 446ms/step - loss: 164.5555 - val_loss: 221.2250\n",
      "71/71 [==============================] - 31s 444ms/step - loss: 129.1380 - val_loss: 29.8337\n",
      "71/71 [==============================] - 31s 442ms/step - loss: 102.3571 - val_loss: 43.4218\n",
      "71/71 [==============================] - 31s 441ms/step - loss: 85.1770 - val_loss: 88.9758\n",
      "71/71 [==============================] - 32s 448ms/step - loss: 96.3962 - val_loss: 67.8164\n"
     ]
    },
    {
     "name": "stderr",
     "output_type": "stream",
     "text": [
      " 50%|█████     | 50/100 [7:12:42<5:54:01, 424.83s/it]"
     ]
    },
    {
     "name": "stdout",
     "output_type": "stream",
     "text": [
      "71/71 [==============================] - 32s 445ms/step - loss: 164.1657 - val_loss: 220.6573\n",
      "71/71 [==============================] - 32s 447ms/step - loss: 128.8012 - val_loss: 29.9110\n",
      "71/71 [==============================] - 32s 445ms/step - loss: 102.3652 - val_loss: 56.1767\n",
      "71/71 [==============================] - 32s 444ms/step - loss: 85.6589 - val_loss: 92.7122\n",
      "71/71 [==============================] - 32s 445ms/step - loss: 96.8239 - val_loss: 67.2027\n"
     ]
    },
    {
     "name": "stderr",
     "output_type": "stream",
     "text": [
      " 51%|█████     | 51/100 [7:15:20<4:41:35, 344.80s/it]"
     ]
    },
    {
     "name": "stdout",
     "output_type": "stream",
     "text": [
      "71/71 [==============================] - 32s 449ms/step - loss: 164.7522 - val_loss: 220.8253\n",
      "71/71 [==============================] - 32s 451ms/step - loss: 128.7972 - val_loss: 27.5153\n",
      "71/71 [==============================] - 32s 448ms/step - loss: 102.8385 - val_loss: 43.6157\n",
      "71/71 [==============================] - 32s 450ms/step - loss: 85.6502 - val_loss: 88.6542\n",
      "71/71 [==============================] - 32s 454ms/step - loss: 97.4504 - val_loss: 67.0862\n"
     ]
    },
    {
     "name": "stderr",
     "output_type": "stream",
     "text": [
      " 52%|█████▏    | 52/100 [7:18:00<3:51:26, 289.31s/it]"
     ]
    },
    {
     "name": "stdout",
     "output_type": "stream",
     "text": [
      "71/71 [==============================] - 438s 6s/step - loss: 164.3968 - val_loss: 221.4702\n",
      "71/71 [==============================] - 953s 14s/step - loss: 129.1280 - val_loss: 25.8666\n",
      "71/71 [==============================] - 32s 456ms/step - loss: 102.3610 - val_loss: 44.4917\n",
      "71/71 [==============================] - 32s 458ms/step - loss: 85.8123 - val_loss: 88.6341\n",
      "71/71 [==============================] - 937s 13s/step - loss: 97.9577 - val_loss: 67.5020\n"
     ]
    },
    {
     "name": "stderr",
     "output_type": "stream",
     "text": [
      " 53%|█████▎    | 53/100 [7:57:54<12:01:02, 920.49s/it]"
     ]
    },
    {
     "name": "stdout",
     "output_type": "stream",
     "text": [
      "71/71 [==============================] - 32s 458ms/step - loss: 164.3409 - val_loss: 221.5763\n",
      "71/71 [==============================] - 33s 459ms/step - loss: 128.0097 - val_loss: 30.4052\n",
      "71/71 [==============================] - 33s 460ms/step - loss: 102.3816 - val_loss: 53.6479\n",
      "71/71 [==============================] - 33s 462ms/step - loss: 85.5621 - val_loss: 88.7988\n",
      "71/71 [==============================] - 33s 461ms/step - loss: 97.9464 - val_loss: 67.0131\n"
     ]
    },
    {
     "name": "stderr",
     "output_type": "stream",
     "text": [
      " 54%|█████▍    | 54/100 [8:00:37<8:51:32, 693.31s/it] "
     ]
    },
    {
     "name": "stdout",
     "output_type": "stream",
     "text": [
      "71/71 [==============================] - 32s 453ms/step - loss: 164.5634 - val_loss: 221.5742\n",
      "71/71 [==============================] - 32s 446ms/step - loss: 129.1964 - val_loss: 29.8727\n",
      "71/71 [==============================] - 1031s 15s/step - loss: 102.4218 - val_loss: 43.4800\n",
      "71/71 [==============================] - 31s 443ms/step - loss: 85.1555 - val_loss: 88.1134\n",
      "71/71 [==============================] - 31s 443ms/step - loss: 98.1393 - val_loss: 67.7817\n"
     ]
    },
    {
     "name": "stderr",
     "output_type": "stream",
     "text": [
      " 55%|█████▌    | 55/100 [8:19:55<10:24:34, 832.76s/it]"
     ]
    },
    {
     "name": "stdout",
     "output_type": "stream",
     "text": [
      "71/71 [==============================] - 31s 443ms/step - loss: 164.6670 - val_loss: 221.7766\n",
      "71/71 [==============================] - 31s 437ms/step - loss: 128.3488 - val_loss: 27.3182\n",
      "71/71 [==============================] - 32s 450ms/step - loss: 102.4562 - val_loss: 56.8791\n",
      "71/71 [==============================] - 275s 4s/step - loss: 85.5500 - val_loss: 88.7881\n",
      "71/71 [==============================] - 32s 445ms/step - loss: 97.4090 - val_loss: 67.0166\n"
     ]
    },
    {
     "name": "stderr",
     "output_type": "stream",
     "text": [
      " 56%|█████▌    | 56/100 [8:26:36<8:35:46, 703.34s/it] "
     ]
    },
    {
     "name": "stdout",
     "output_type": "stream",
     "text": [
      "71/71 [==============================] - 32s 449ms/step - loss: 164.3373 - val_loss: 221.1270\n",
      "71/71 [==============================] - 31s 441ms/step - loss: 128.6424 - val_loss: 26.3433\n",
      "71/71 [==============================] - 374s 5s/step - loss: 102.5077 - val_loss: 49.4293\n",
      "71/71 [==============================] - 31s 437ms/step - loss: 85.3082 - val_loss: 88.0280\n",
      "71/71 [==============================] - 32s 447ms/step - loss: 97.6096 - val_loss: 67.4355\n"
     ]
    },
    {
     "name": "stderr",
     "output_type": "stream",
     "text": [
      " 57%|█████▋    | 57/100 [8:34:59<7:40:56, 643.18s/it]"
     ]
    },
    {
     "name": "stdout",
     "output_type": "stream",
     "text": [
      "71/71 [==============================] - 31s 443ms/step - loss: 163.9790 - val_loss: 221.7282\n",
      "71/71 [==============================] - 32s 453ms/step - loss: 128.3686 - val_loss: 26.6099\n",
      "71/71 [==============================] - 979s 14s/step - loss: 103.0758 - val_loss: 43.4223\n",
      "71/71 [==============================] - 32s 456ms/step - loss: 85.2966 - val_loss: 93.1307\n",
      "71/71 [==============================] - 33s 460ms/step - loss: 96.8070 - val_loss: 67.4503\n"
     ]
    },
    {
     "name": "stderr",
     "output_type": "stream",
     "text": [
      " 58%|█████▊    | 58/100 [8:53:26<9:07:42, 782.44s/it]"
     ]
    },
    {
     "name": "stdout",
     "output_type": "stream",
     "text": [
      "71/71 [==============================] - 32s 456ms/step - loss: 164.2701 - val_loss: 220.8978\n",
      "71/71 [==============================] - 949s 14s/step - loss: 128.8931 - val_loss: 29.0879\n",
      "71/71 [==============================] - 33s 464ms/step - loss: 102.6892 - val_loss: 43.2681\n",
      "71/71 [==============================] - 33s 459ms/step - loss: 85.8478 - val_loss: 88.4943\n",
      "71/71 [==============================] - 33s 465ms/step - loss: 97.6460 - val_loss: 67.1197\n"
     ]
    },
    {
     "name": "stderr",
     "output_type": "stream",
     "text": [
      " 59%|█████▉    | 59/100 [9:11:26<9:55:34, 871.57s/it]"
     ]
    },
    {
     "name": "stdout",
     "output_type": "stream",
     "text": [
      "71/71 [==============================] - 972s 14s/step - loss: 164.2511 - val_loss: 221.4539\n",
      "71/71 [==============================] - 33s 467ms/step - loss: 128.6917 - val_loss: 28.2971\n",
      "71/71 [==============================] - 33s 471ms/step - loss: 102.6611 - val_loss: 44.1863\n",
      "71/71 [==============================] - 33s 467ms/step - loss: 85.5594 - val_loss: 89.3015\n",
      "71/71 [==============================] - 33s 469ms/step - loss: 97.7613 - val_loss: 67.0892\n"
     ]
    },
    {
     "name": "stderr",
     "output_type": "stream",
     "text": [
      " 60%|██████    | 60/100 [9:29:51<10:27:46, 941.67s/it]"
     ]
    },
    {
     "name": "stdout",
     "output_type": "stream",
     "text": [
      "71/71 [==============================] - 33s 466ms/step - loss: 165.3161 - val_loss: 220.9046\n",
      "71/71 [==============================] - 32s 458ms/step - loss: 129.1552 - val_loss: 26.3259\n",
      "71/71 [==============================] - 33s 469ms/step - loss: 102.3874 - val_loss: 58.0240\n",
      "71/71 [==============================] - 33s 463ms/step - loss: 85.3587 - val_loss: 90.9284\n",
      "71/71 [==============================] - 33s 466ms/step - loss: 97.2780 - val_loss: 67.6823\n"
     ]
    },
    {
     "name": "stderr",
     "output_type": "stream",
     "text": [
      " 61%|██████    | 61/100 [9:32:36<7:40:36, 708.63s/it] "
     ]
    },
    {
     "name": "stdout",
     "output_type": "stream",
     "text": [
      "71/71 [==============================] - 33s 467ms/step - loss: 164.0336 - val_loss: 221.1455\n",
      "71/71 [==============================] - 33s 468ms/step - loss: 128.9693 - val_loss: 25.6259\n",
      "71/71 [==============================] - 33s 468ms/step - loss: 102.9752 - val_loss: 43.3235\n",
      "71/71 [==============================] - 33s 469ms/step - loss: 85.5241 - val_loss: 91.6126\n",
      "71/71 [==============================] - 34s 477ms/step - loss: 97.2781 - val_loss: 67.2685\n"
     ]
    },
    {
     "name": "stderr",
     "output_type": "stream",
     "text": [
      " 62%|██████▏   | 62/100 [9:35:23<5:45:50, 546.07s/it]"
     ]
    },
    {
     "name": "stdout",
     "output_type": "stream",
     "text": [
      "71/71 [==============================] - 34s 474ms/step - loss: 164.4428 - val_loss: 221.6053\n",
      "71/71 [==============================] - 34s 478ms/step - loss: 128.1517 - val_loss: 26.4956\n",
      "71/71 [==============================] - 33s 472ms/step - loss: 102.7132 - val_loss: 43.5265\n",
      "71/71 [==============================] - 34s 475ms/step - loss: 85.7955 - val_loss: 91.6879\n",
      "71/71 [==============================] - 34s 474ms/step - loss: 97.6288 - val_loss: 67.1355\n"
     ]
    },
    {
     "name": "stderr",
     "output_type": "stream",
     "text": [
      " 63%|██████▎   | 63/100 [9:38:11<4:26:52, 432.76s/it]"
     ]
    },
    {
     "name": "stdout",
     "output_type": "stream",
     "text": [
      "71/71 [==============================] - 33s 470ms/step - loss: 164.1854 - val_loss: 221.1023\n",
      "71/71 [==============================] - 34s 476ms/step - loss: 129.7087 - val_loss: 29.2615\n",
      "71/71 [==============================] - 34s 474ms/step - loss: 102.5929 - val_loss: 43.6284\n",
      "71/71 [==============================] - 33s 472ms/step - loss: 85.2549 - val_loss: 91.4725\n",
      "71/71 [==============================] - 33s 460ms/step - loss: 98.5943 - val_loss: 67.2942\n"
     ]
    },
    {
     "name": "stderr",
     "output_type": "stream",
     "text": [
      " 64%|██████▍   | 64/100 [9:40:58<3:31:48, 353.00s/it]"
     ]
    },
    {
     "name": "stdout",
     "output_type": "stream",
     "text": [
      "71/71 [==============================] - 33s 459ms/step - loss: 164.2605 - val_loss: 221.5857\n",
      "71/71 [==============================] - 33s 464ms/step - loss: 128.6258 - val_loss: 25.9961\n",
      "71/71 [==============================] - 32s 456ms/step - loss: 102.9129 - val_loss: 43.2890\n",
      "71/71 [==============================] - 32s 458ms/step - loss: 85.1960 - val_loss: 88.1902\n",
      "71/71 [==============================] - 33s 461ms/step - loss: 96.2944 - val_loss: 67.3850\n"
     ]
    },
    {
     "name": "stderr",
     "output_type": "stream",
     "text": [
      " 65%|██████▌   | 65/100 [9:43:41<2:52:41, 296.03s/it]"
     ]
    },
    {
     "name": "stdout",
     "output_type": "stream",
     "text": [
      "71/71 [==============================] - 33s 459ms/step - loss: 164.9237 - val_loss: 221.4894\n",
      "71/71 [==============================] - 33s 460ms/step - loss: 129.2251 - val_loss: 29.7855\n",
      "71/71 [==============================] - 33s 462ms/step - loss: 102.3228 - val_loss: 54.9095\n",
      "71/71 [==============================] - 33s 462ms/step - loss: 85.7015 - val_loss: 92.3864\n",
      "71/71 [==============================] - 940s 13s/step - loss: 97.2670 - val_loss: 67.2539\n"
     ]
    },
    {
     "name": "stderr",
     "output_type": "stream",
     "text": [
      " 66%|██████▌   | 66/100 [10:01:32<4:59:23, 528.34s/it]"
     ]
    },
    {
     "name": "stdout",
     "output_type": "stream",
     "text": [
      "71/71 [==============================] - 32s 455ms/step - loss: 164.1941 - val_loss: 222.0664\n",
      "71/71 [==============================] - 33s 462ms/step - loss: 129.2523 - val_loss: 25.7441\n",
      "71/71 [==============================] - 32s 458ms/step - loss: 103.3820 - val_loss: 43.1984\n",
      "71/71 [==============================] - 934s 13s/step - loss: 85.3984 - val_loss: 91.3296\n",
      "71/71 [==============================] - 32s 458ms/step - loss: 96.8775 - val_loss: 67.4079\n"
     ]
    },
    {
     "name": "stderr",
     "output_type": "stream",
     "text": [
      " 67%|██████▋   | 67/100 [10:19:16<6:19:02, 689.16s/it]"
     ]
    },
    {
     "name": "stdout",
     "output_type": "stream",
     "text": [
      "71/71 [==============================] - 32s 458ms/step - loss: 164.4343 - val_loss: 221.9062\n",
      "71/71 [==============================] - 33s 472ms/step - loss: 128.5576 - val_loss: 26.5858\n",
      "71/71 [==============================] - 33s 466ms/step - loss: 102.6013 - val_loss: 43.2482\n",
      "71/71 [==============================] - 33s 459ms/step - loss: 85.6570 - val_loss: 92.0608\n",
      "71/71 [==============================] - 32s 456ms/step - loss: 96.7027 - val_loss: 67.5203\n"
     ]
    },
    {
     "name": "stderr",
     "output_type": "stream",
     "text": [
      " 68%|██████▊   | 68/100 [10:22:00<4:43:30, 531.59s/it]"
     ]
    },
    {
     "name": "stdout",
     "output_type": "stream",
     "text": [
      "71/71 [==============================] - 32s 458ms/step - loss: 164.2700 - val_loss: 221.4020\n",
      "71/71 [==============================] - 32s 456ms/step - loss: 129.0323 - val_loss: 25.6744\n",
      "71/71 [==============================] - 32s 456ms/step - loss: 102.7584 - val_loss: 43.3078\n",
      "71/71 [==============================] - 33s 461ms/step - loss: 85.5375 - val_loss: 91.6925\n",
      "71/71 [==============================] - 33s 461ms/step - loss: 96.9438 - val_loss: 67.2627\n"
     ]
    },
    {
     "name": "stderr",
     "output_type": "stream",
     "text": [
      " 69%|██████▉   | 69/100 [10:24:43<3:37:27, 420.89s/it]"
     ]
    },
    {
     "name": "stdout",
     "output_type": "stream",
     "text": [
      "71/71 [==============================] - 32s 456ms/step - loss: 164.2302 - val_loss: 221.3490\n",
      "71/71 [==============================] - 33s 463ms/step - loss: 129.0799 - val_loss: 25.5801\n",
      "71/71 [==============================] - 33s 459ms/step - loss: 102.5324 - val_loss: 43.4829\n",
      "71/71 [==============================] - 32s 445ms/step - loss: 85.5840 - val_loss: 88.0547\n",
      "71/71 [==============================] - 32s 447ms/step - loss: 97.7601 - val_loss: 67.0303\n"
     ]
    },
    {
     "name": "stderr",
     "output_type": "stream",
     "text": [
      " 70%|███████   | 70/100 [10:27:24<2:51:29, 342.97s/it]"
     ]
    },
    {
     "name": "stdout",
     "output_type": "stream",
     "text": [
      "71/71 [==============================] - 32s 444ms/step - loss: 164.3331 - val_loss: 221.3365\n",
      "71/71 [==============================] - 31s 443ms/step - loss: 129.2887 - val_loss: 29.0337\n",
      "71/71 [==============================] - 31s 442ms/step - loss: 102.5632 - val_loss: 44.8448\n",
      "71/71 [==============================] - 32s 445ms/step - loss: 85.3758 - val_loss: 87.9734\n",
      "71/71 [==============================] - 32s 452ms/step - loss: 96.9636 - val_loss: 67.3646\n"
     ]
    },
    {
     "name": "stderr",
     "output_type": "stream",
     "text": [
      " 71%|███████   | 71/100 [10:30:02<2:18:56, 287.46s/it]"
     ]
    },
    {
     "name": "stdout",
     "output_type": "stream",
     "text": [
      "71/71 [==============================] - 32s 452ms/step - loss: 164.2473 - val_loss: 221.3976\n",
      "71/71 [==============================] - 31s 444ms/step - loss: 128.6215 - val_loss: 25.7164\n",
      "71/71 [==============================] - 31s 444ms/step - loss: 102.3692 - val_loss: 51.4200\n",
      "71/71 [==============================] - 32s 445ms/step - loss: 85.3853 - val_loss: 88.1839\n",
      "71/71 [==============================] - 32s 445ms/step - loss: 98.0871 - val_loss: 67.7646\n"
     ]
    },
    {
     "name": "stderr",
     "output_type": "stream",
     "text": [
      " 72%|███████▏  | 72/100 [10:32:40<1:56:03, 248.68s/it]"
     ]
    },
    {
     "name": "stdout",
     "output_type": "stream",
     "text": [
      "71/71 [==============================] - 32s 446ms/step - loss: 164.4281 - val_loss: 221.5638\n",
      "71/71 [==============================] - 31s 443ms/step - loss: 128.7844 - val_loss: 27.7462\n",
      "71/71 [==============================] - 970s 14s/step - loss: 102.3110 - val_loss: 61.0210\n",
      "71/71 [==============================] - 31s 443ms/step - loss: 85.9278 - val_loss: 91.3194\n",
      "71/71 [==============================] - 32s 447ms/step - loss: 96.7238 - val_loss: 67.5804\n"
     ]
    },
    {
     "name": "stderr",
     "output_type": "stream",
     "text": [
      " 73%|███████▎  | 73/100 [10:50:56<3:46:15, 502.79s/it]"
     ]
    },
    {
     "name": "stdout",
     "output_type": "stream",
     "text": [
      "71/71 [==============================] - 32s 446ms/step - loss: 164.2167 - val_loss: 220.9914\n",
      "71/71 [==============================] - 32s 446ms/step - loss: 128.4445 - val_loss: 26.9365\n",
      "71/71 [==============================] - 31s 444ms/step - loss: 102.4673 - val_loss: 56.4841\n",
      "71/71 [==============================] - 957s 14s/step - loss: 85.7361 - val_loss: 88.4570\n",
      "71/71 [==============================] - 32s 446ms/step - loss: 96.9805 - val_loss: 67.1952\n"
     ]
    },
    {
     "name": "stderr",
     "output_type": "stream",
     "text": [
      " 74%|███████▍  | 74/100 [11:08:59<4:53:21, 676.97s/it]"
     ]
    },
    {
     "name": "stdout",
     "output_type": "stream",
     "text": [
      "71/71 [==============================] - 31s 440ms/step - loss: 164.4924 - val_loss: 221.0917\n",
      "71/71 [==============================] - 31s 438ms/step - loss: 129.0678 - val_loss: 30.4370\n",
      "71/71 [==============================] - 32s 447ms/step - loss: 102.3621 - val_loss: 43.5912\n",
      "71/71 [==============================] - 31s 440ms/step - loss: 85.5503 - val_loss: 88.5837\n",
      "71/71 [==============================] - 31s 443ms/step - loss: 97.9071 - val_loss: 67.0990\n"
     ]
    },
    {
     "name": "stderr",
     "output_type": "stream",
     "text": [
      " 75%|███████▌  | 75/100 [11:11:36<3:37:01, 520.85s/it]"
     ]
    },
    {
     "name": "stdout",
     "output_type": "stream",
     "text": [
      "71/71 [==============================] - 32s 447ms/step - loss: 164.6233 - val_loss: 220.1527\n",
      "71/71 [==============================] - 31s 443ms/step - loss: 129.0022 - val_loss: 26.2267\n",
      "71/71 [==============================] - 31s 441ms/step - loss: 102.7953 - val_loss: 43.4636\n",
      "71/71 [==============================] - 32s 447ms/step - loss: 85.5116 - val_loss: 92.9649\n",
      "71/71 [==============================] - 32s 448ms/step - loss: 97.3244 - val_loss: 67.4665\n"
     ]
    },
    {
     "name": "stderr",
     "output_type": "stream",
     "text": [
      " 76%|███████▌  | 76/100 [11:14:13<2:44:47, 411.97s/it]"
     ]
    },
    {
     "name": "stdout",
     "output_type": "stream",
     "text": [
      "71/71 [==============================] - 31s 439ms/step - loss: 164.3936 - val_loss: 221.4640\n",
      "71/71 [==============================] - 31s 443ms/step - loss: 129.1387 - val_loss: 26.2031\n",
      "71/71 [==============================] - 31s 442ms/step - loss: 102.4885 - val_loss: 57.2612\n",
      "71/71 [==============================] - 32s 447ms/step - loss: 85.5176 - val_loss: 91.3631\n",
      "71/71 [==============================] - 32s 448ms/step - loss: 97.4613 - val_loss: 67.3543\n"
     ]
    },
    {
     "name": "stderr",
     "output_type": "stream",
     "text": [
      " 77%|███████▋  | 77/100 [11:16:51<2:08:38, 335.59s/it]"
     ]
    },
    {
     "name": "stdout",
     "output_type": "stream",
     "text": [
      "71/71 [==============================] - 32s 445ms/step - loss: 164.5131 - val_loss: 220.8239\n",
      "71/71 [==============================] - 32s 450ms/step - loss: 128.5780 - val_loss: 25.9832\n",
      "71/71 [==============================] - 32s 457ms/step - loss: 102.6885 - val_loss: 43.2349\n",
      "71/71 [==============================] - 33s 460ms/step - loss: 85.6420 - val_loss: 88.3878\n",
      "71/71 [==============================] - 32s 458ms/step - loss: 97.9654 - val_loss: 67.8954\n"
     ]
    },
    {
     "name": "stderr",
     "output_type": "stream",
     "text": [
      " 78%|███████▊  | 78/100 [11:19:32<1:43:51, 283.25s/it]"
     ]
    },
    {
     "name": "stdout",
     "output_type": "stream",
     "text": [
      "71/71 [==============================] - 33s 459ms/step - loss: 164.2547 - val_loss: 221.9893\n",
      "71/71 [==============================] - 32s 456ms/step - loss: 128.8486 - val_loss: 26.7059\n",
      "71/71 [==============================] - 33s 459ms/step - loss: 102.7810 - val_loss: 43.3424\n",
      "71/71 [==============================] - 32s 458ms/step - loss: 85.5749 - val_loss: 90.7649\n",
      "71/71 [==============================] - 32s 450ms/step - loss: 97.4262 - val_loss: 67.0205\n"
     ]
    },
    {
     "name": "stderr",
     "output_type": "stream",
     "text": [
      " 79%|███████▉  | 79/100 [11:22:14<1:26:24, 246.87s/it]"
     ]
    },
    {
     "name": "stdout",
     "output_type": "stream",
     "text": [
      "71/71 [==============================] - 32s 445ms/step - loss: 164.7030 - val_loss: 221.3313\n",
      "71/71 [==============================] - 32s 449ms/step - loss: 129.3545 - val_loss: 26.1458\n",
      "71/71 [==============================] - 1022s 15s/step - loss: 102.4931 - val_loss: 43.9963\n",
      "71/71 [==============================] - 33s 462ms/step - loss: 85.2229 - val_loss: 92.3832\n",
      "71/71 [==============================] - 33s 459ms/step - loss: 96.5787 - val_loss: 67.4109\n"
     ]
    },
    {
     "name": "stderr",
     "output_type": "stream",
     "text": [
      " 80%|████████  | 80/100 [11:41:25<2:52:42, 518.11s/it]"
     ]
    },
    {
     "name": "stdout",
     "output_type": "stream",
     "text": [
      "71/71 [==============================] - 32s 457ms/step - loss: 164.7263 - val_loss: 220.6185\n",
      "71/71 [==============================] - 945s 13s/step - loss: 128.8711 - val_loss: 27.5125\n",
      "71/71 [==============================] - 33s 459ms/step - loss: 102.5273 - val_loss: 43.3830\n",
      "71/71 [==============================] - 33s 460ms/step - loss: 85.6045 - val_loss: 92.7375\n",
      "71/71 [==============================] - 32s 456ms/step - loss: 96.2973 - val_loss: 67.3337\n"
     ]
    },
    {
     "name": "stderr",
     "output_type": "stream",
     "text": [
      " 81%|████████  | 81/100 [11:59:19<3:36:55, 685.05s/it]"
     ]
    },
    {
     "name": "stdout",
     "output_type": "stream",
     "text": [
      "71/71 [==============================] - 33s 459ms/step - loss: 164.8793 - val_loss: 220.8631\n",
      "71/71 [==============================] - 945s 14s/step - loss: 128.8488 - val_loss: 26.3467\n",
      "71/71 [==============================] - 32s 457ms/step - loss: 102.7956 - val_loss: 43.3483\n",
      "71/71 [==============================] - 32s 457ms/step - loss: 85.3891 - val_loss: 88.2556\n",
      "71/71 [==============================] - 33s 461ms/step - loss: 97.4407 - val_loss: 67.1536\n"
     ]
    },
    {
     "name": "stderr",
     "output_type": "stream",
     "text": [
      " 82%|████████▏ | 82/100 [12:17:15<4:00:39, 802.21s/it]"
     ]
    },
    {
     "name": "stdout",
     "output_type": "stream",
     "text": [
      "71/71 [==============================] - 33s 460ms/step - loss: 164.6715 - val_loss: 219.2087\n",
      "71/71 [==============================] - 33s 460ms/step - loss: 128.7468 - val_loss: 26.1764\n",
      "71/71 [==============================] - 33s 461ms/step - loss: 102.8490 - val_loss: 43.3991\n",
      "71/71 [==============================] - 33s 460ms/step - loss: 85.4401 - val_loss: 88.0221\n",
      "71/71 [==============================] - 32s 457ms/step - loss: 96.8809 - val_loss: 67.3253\n"
     ]
    },
    {
     "name": "stderr",
     "output_type": "stream",
     "text": [
      " 83%|████████▎ | 83/100 [12:19:58<2:52:57, 610.47s/it]"
     ]
    },
    {
     "name": "stdout",
     "output_type": "stream",
     "text": [
      "71/71 [==============================] - 32s 458ms/step - loss: 164.8135 - val_loss: 221.0491\n",
      "71/71 [==============================] - 32s 458ms/step - loss: 128.9412 - val_loss: 28.5058\n",
      "71/71 [==============================] - 33s 459ms/step - loss: 102.3891 - val_loss: 56.4618\n",
      "71/71 [==============================] - 32s 458ms/step - loss: 85.7620 - val_loss: 88.4876\n",
      "71/71 [==============================] - 32s 457ms/step - loss: 97.0669 - val_loss: 67.1651\n"
     ]
    },
    {
     "name": "stderr",
     "output_type": "stream",
     "text": [
      " 84%|████████▍ | 84/100 [12:22:41<2:06:57, 476.07s/it]"
     ]
    },
    {
     "name": "stdout",
     "output_type": "stream",
     "text": [
      "71/71 [==============================] - 32s 458ms/step - loss: 164.1778 - val_loss: 219.8704\n",
      "71/71 [==============================] - 33s 460ms/step - loss: 128.0770 - val_loss: 28.6545\n",
      "71/71 [==============================] - 33s 462ms/step - loss: 102.4954 - val_loss: 44.1992\n",
      "71/71 [==============================] - 32s 457ms/step - loss: 85.8326 - val_loss: 89.9348\n",
      "71/71 [==============================] - 32s 454ms/step - loss: 97.7457 - val_loss: 67.4512\n"
     ]
    },
    {
     "name": "stderr",
     "output_type": "stream",
     "text": [
      " 85%|████████▌ | 85/100 [12:25:23<1:35:30, 382.05s/it]"
     ]
    },
    {
     "name": "stdout",
     "output_type": "stream",
     "text": [
      "71/71 [==============================] - 32s 454ms/step - loss: 164.1672 - val_loss: 221.5132\n",
      "71/71 [==============================] - 32s 447ms/step - loss: 128.9942 - val_loss: 25.9413\n",
      "71/71 [==============================] - 31s 444ms/step - loss: 102.5710 - val_loss: 43.3746\n",
      "71/71 [==============================] - 32s 454ms/step - loss: 85.1224 - val_loss: 89.7619\n",
      "71/71 [==============================] - 32s 449ms/step - loss: 96.3624 - val_loss: 67.5315\n"
     ]
    },
    {
     "name": "stderr",
     "output_type": "stream",
     "text": [
      " 86%|████████▌ | 86/100 [12:28:03<1:13:33, 315.28s/it]"
     ]
    },
    {
     "name": "stdout",
     "output_type": "stream",
     "text": [
      "71/71 [==============================] - 32s 446ms/step - loss: 165.3650 - val_loss: 220.7863\n",
      "71/71 [==============================] - 32s 448ms/step - loss: 128.9104 - val_loss: 28.5617\n",
      "71/71 [==============================] - 32s 451ms/step - loss: 102.5345 - val_loss: 43.3489\n",
      "71/71 [==============================] - 32s 451ms/step - loss: 85.7309 - val_loss: 89.0303\n",
      "71/71 [==============================] - 963s 14s/step - loss: 97.4447 - val_loss: 67.8499\n"
     ]
    },
    {
     "name": "stderr",
     "output_type": "stream",
     "text": [
      " 87%|████████▋ | 87/100 [12:46:13<1:58:40, 547.73s/it]"
     ]
    },
    {
     "name": "stdout",
     "output_type": "stream",
     "text": [
      "71/71 [==============================] - 32s 448ms/step - loss: 164.1960 - val_loss: 221.4559\n",
      "71/71 [==============================] - 32s 447ms/step - loss: 128.4430 - val_loss: 31.4825\n",
      "71/71 [==============================] - 32s 453ms/step - loss: 102.4639 - val_loss: 47.1416\n",
      "71/71 [==============================] - 32s 445ms/step - loss: 85.7247 - val_loss: 91.7982\n",
      "71/71 [==============================] - 31s 441ms/step - loss: 97.0561 - val_loss: 67.0596\n"
     ]
    },
    {
     "name": "stderr",
     "output_type": "stream",
     "text": [
      " 88%|████████▊ | 88/100 [12:48:51<1:26:11, 430.97s/it]"
     ]
    },
    {
     "name": "stdout",
     "output_type": "stream",
     "text": [
      "71/71 [==============================] - 31s 441ms/step - loss: 164.3769 - val_loss: 220.9476\n",
      "71/71 [==============================] - 32s 445ms/step - loss: 128.8379 - val_loss: 27.9607\n",
      "71/71 [==============================] - 31s 441ms/step - loss: 102.7869 - val_loss: 43.5027\n",
      "71/71 [==============================] - 964s 14s/step - loss: 85.5701 - val_loss: 92.3031\n",
      "71/71 [==============================] - 32s 448ms/step - loss: 96.1812 - val_loss: 67.1995\n"
     ]
    },
    {
     "name": "stderr",
     "output_type": "stream",
     "text": [
      " 89%|████████▉ | 89/100 [13:07:02<1:55:15, 628.72s/it]"
     ]
    },
    {
     "name": "stdout",
     "output_type": "stream",
     "text": [
      "71/71 [==============================] - 31s 444ms/step - loss: 164.4925 - val_loss: 220.7836\n",
      "71/71 [==============================] - 32s 445ms/step - loss: 128.5465 - val_loss: 29.0836\n",
      "71/71 [==============================] - 31s 441ms/step - loss: 102.8829 - val_loss: 45.2475\n",
      "71/71 [==============================] - 32s 446ms/step - loss: 85.3550 - val_loss: 88.0863\n",
      "71/71 [==============================] - 32s 445ms/step - loss: 96.3182 - val_loss: 68.0847\n"
     ]
    },
    {
     "name": "stderr",
     "output_type": "stream",
     "text": [
      " 90%|█████████ | 90/100 [13:09:39<1:21:13, 487.38s/it]"
     ]
    },
    {
     "name": "stdout",
     "output_type": "stream",
     "text": [
      "71/71 [==============================] - 32s 451ms/step - loss: 164.3783 - val_loss: 220.2606\n",
      "71/71 [==============================] - 32s 447ms/step - loss: 128.8500 - val_loss: 26.1691\n",
      "71/71 [==============================] - 32s 445ms/step - loss: 102.2156 - val_loss: 64.3972\n",
      "71/71 [==============================] - 32s 450ms/step - loss: 85.7236 - val_loss: 91.9019\n",
      "71/71 [==============================] - 32s 453ms/step - loss: 97.0861 - val_loss: 67.1574\n"
     ]
    },
    {
     "name": "stderr",
     "output_type": "stream",
     "text": [
      " 91%|█████████ | 91/100 [13:12:19<58:20, 388.97s/it]  "
     ]
    },
    {
     "name": "stdout",
     "output_type": "stream",
     "text": [
      "71/71 [==============================] - 31s 444ms/step - loss: 164.3576 - val_loss: 220.7517\n",
      "71/71 [==============================] - 32s 450ms/step - loss: 128.7229 - val_loss: 26.6467\n",
      "71/71 [==============================] - 32s 446ms/step - loss: 102.7472 - val_loss: 43.4380\n",
      "71/71 [==============================] - 31s 444ms/step - loss: 85.6128 - val_loss: 88.2107\n",
      "71/71 [==============================] - 31s 444ms/step - loss: 96.7423 - val_loss: 67.1163\n"
     ]
    },
    {
     "name": "stderr",
     "output_type": "stream",
     "text": [
      " 92%|█████████▏| 92/100 [13:14:57<42:37, 319.72s/it]"
     ]
    },
    {
     "name": "stdout",
     "output_type": "stream",
     "text": [
      "71/71 [==============================] - 32s 446ms/step - loss: 165.1918 - val_loss: 220.3628\n",
      "71/71 [==============================] - 32s 446ms/step - loss: 129.0903 - val_loss: 29.2406\n",
      "71/71 [==============================] - 32s 456ms/step - loss: 102.4635 - val_loss: 45.4055\n",
      "71/71 [==============================] - 33s 459ms/step - loss: 85.7063 - val_loss: 91.9733\n",
      "71/71 [==============================] - 33s 459ms/step - loss: 96.2479 - val_loss: 67.0373\n"
     ]
    },
    {
     "name": "stderr",
     "output_type": "stream",
     "text": [
      " 93%|█████████▎| 93/100 [13:17:38<31:44, 272.06s/it]"
     ]
    },
    {
     "name": "stdout",
     "output_type": "stream",
     "text": [
      "71/71 [==============================] - 33s 463ms/step - loss: 164.7286 - val_loss: 220.3898\n",
      "71/71 [==============================] - 32s 454ms/step - loss: 128.0988 - val_loss: 26.8136\n",
      "71/71 [==============================] - 32s 456ms/step - loss: 102.4920 - val_loss: 47.9727\n",
      "71/71 [==============================] - 32s 446ms/step - loss: 85.3956 - val_loss: 88.2001\n",
      "71/71 [==============================] - 31s 441ms/step - loss: 96.3968 - val_loss: 67.1809\n"
     ]
    },
    {
     "name": "stderr",
     "output_type": "stream",
     "text": [
      " 94%|█████████▍| 94/100 [13:20:18<23:51, 238.56s/it]"
     ]
    },
    {
     "name": "stdout",
     "output_type": "stream",
     "text": [
      "71/71 [==============================] - 32s 445ms/step - loss: 164.9384 - val_loss: 220.5947\n",
      "71/71 [==============================] - 32s 447ms/step - loss: 129.0174 - val_loss: 29.4149\n",
      "71/71 [==============================] - 986s 14s/step - loss: 102.5783 - val_loss: 43.4265\n",
      "71/71 [==============================] - 31s 443ms/step - loss: 85.2856 - val_loss: 88.3098\n",
      "71/71 [==============================] - 32s 448ms/step - loss: 96.3674 - val_loss: 68.4197\n"
     ]
    },
    {
     "name": "stderr",
     "output_type": "stream",
     "text": [
      " 95%|█████████▌| 95/100 [13:38:50<41:43, 500.74s/it]"
     ]
    },
    {
     "name": "stdout",
     "output_type": "stream",
     "text": [
      "71/71 [==============================] - 32s 446ms/step - loss: 164.5812 - val_loss: 220.6746\n",
      "71/71 [==============================] - 1050s 15s/step - loss: 129.1181 - val_loss: 26.0386\n",
      "71/71 [==============================] - 31s 442ms/step - loss: 102.4381 - val_loss: 43.5937\n",
      "71/71 [==============================] - 31s 441ms/step - loss: 85.7211 - val_loss: 88.6906\n",
      "71/71 [==============================] - 33s 463ms/step - loss: 96.7950 - val_loss: 67.0290\n"
     ]
    },
    {
     "name": "stderr",
     "output_type": "stream",
     "text": [
      " 96%|█████████▌| 96/100 [13:58:28<46:54, 703.66s/it]"
     ]
    },
    {
     "name": "stdout",
     "output_type": "stream",
     "text": [
      "71/71 [==============================] - 33s 461ms/step - loss: 164.9082 - val_loss: 219.8488\n",
      "71/71 [==============================] - 1050s 15s/step - loss: 128.9619 - val_loss: 28.9177\n",
      "71/71 [==============================] - 33s 461ms/step - loss: 102.4816 - val_loss: 57.6770\n",
      "71/71 [==============================] - 33s 460ms/step - loss: 85.7930 - val_loss: 88.2570\n",
      "71/71 [==============================] - 33s 460ms/step - loss: 96.9523 - val_loss: 67.0779\n"
     ]
    },
    {
     "name": "stderr",
     "output_type": "stream",
     "text": [
      " 97%|█████████▋| 97/100 [14:18:09<42:20, 846.89s/it]"
     ]
    },
    {
     "name": "stdout",
     "output_type": "stream",
     "text": [
      "71/71 [==============================] - 32s 458ms/step - loss: 165.1055 - val_loss: 220.7088\n",
      "71/71 [==============================] - 33s 459ms/step - loss: 128.7384 - val_loss: 28.1312\n",
      "71/71 [==============================] - 32s 458ms/step - loss: 103.3106 - val_loss: 43.6728\n",
      "71/71 [==============================] - 33s 460ms/step - loss: 85.4050 - val_loss: 90.0854\n",
      "71/71 [==============================] - 32s 457ms/step - loss: 98.5255 - val_loss: 67.3530\n"
     ]
    },
    {
     "name": "stderr",
     "output_type": "stream",
     "text": [
      " 98%|█████████▊| 98/100 [14:20:51<21:23, 641.59s/it]"
     ]
    },
    {
     "name": "stdout",
     "output_type": "stream",
     "text": [
      "71/71 [==============================] - 33s 461ms/step - loss: 164.5568 - val_loss: 221.1966\n",
      "71/71 [==============================] - 32s 458ms/step - loss: 128.3594 - val_loss: 27.6794\n",
      "71/71 [==============================] - 33s 460ms/step - loss: 102.7523 - val_loss: 43.7106\n",
      "71/71 [==============================] - 32s 459ms/step - loss: 85.3837 - val_loss: 88.1632\n",
      "71/71 [==============================] - 32s 458ms/step - loss: 96.9590 - val_loss: 67.0706\n"
     ]
    },
    {
     "name": "stderr",
     "output_type": "stream",
     "text": [
      " 99%|█████████▉| 99/100 [14:23:34<08:17, 497.96s/it]"
     ]
    },
    {
     "name": "stdout",
     "output_type": "stream",
     "text": [
      "71/71 [==============================] - 32s 457ms/step - loss: 163.9612 - val_loss: 221.0356\n",
      "71/71 [==============================] - 33s 460ms/step - loss: 129.2556 - val_loss: 30.8390\n",
      "71/71 [==============================] - 33s 460ms/step - loss: 102.4874 - val_loss: 43.5890\n",
      "71/71 [==============================] - 32s 456ms/step - loss: 85.6054 - val_loss: 88.7203\n",
      "71/71 [==============================] - 32s 456ms/step - loss: 97.2690 - val_loss: 67.2727\n"
     ]
    },
    {
     "name": "stderr",
     "output_type": "stream",
     "text": [
      "100%|██████████| 100/100 [14:26:16<00:00, 519.77s/it]\n"
     ]
    }
   ],
   "source": [
    "#super_model.fit_model(super_model.model_A, X_train_A, y_train_A)\n",
    "from sklearn.model_selection import TimeSeriesSplit\n",
    "\n",
    "from sklearn.model_selection import TimeSeriesSplit\n",
    "\n",
    "ts_cv = TimeSeriesSplit(\n",
    "    n_splits=5,\n",
    "    gap=15,\n",
    "    max_train_size=18000,\n",
    "    test_size=3000,\n",
    ")\n",
    "\n",
    "all_splits = list(ts_cv.split(X, y))\n",
    "\n",
    "\n",
    "\n",
    "\n",
    "super_model.fit_model_timeseries(super_model.model_A, all_splits, X, y, training_parameters={\"epochs\":100, \"batch_size\":2*128, \"timesteps\":model_number_timesteps})\n"
   ]
  },
  {
   "cell_type": "code",
   "execution_count": 158,
   "metadata": {},
   "outputs": [
    {
     "data": {
      "image/png": "[encoded data removed]",
      "text/plain": [
       "<Figure size 640x480 with 1 Axes>"
      ]
     },
     "metadata": {},
     "output_type": "display_data"
    }
   ],
   "source": [
    "gt = y_validate\n",
    "\n",
    "plt.plot(gt)\n",
    "plt.show()\n",
    "\n"
   ]
  },
  {
   "cell_type": "code",
   "execution_count": 159,
   "metadata": {},
   "outputs": [
    {
     "name": "stdout",
     "output_type": "stream",
     "text": [
      "508/508 [==============================] - 10s 16ms/step\n"
     ]
    }
   ],
   "source": [
    "\n",
    "preds = super_model.model_A.predict((np.asarray(X_validate).reshape(int(X_validate.shape[0]/model_number_timesteps), model_number_timesteps, X_validate.shape[1])).astype(float))\n",
    "gt = y_validate\n"
   ]
  },
  {
   "cell_type": "code",
   "execution_count": 160,
   "metadata": {},
   "outputs": [
    {
     "data": {
      "image/png": "[encoded data removed]",
      "text/plain": [
       "<Figure size 640x480 with 1 Axes>"
      ]
     },
     "metadata": {},
     "output_type": "display_data"
    },
    {
     "data": {
      "image/png": "[encoded data removed]",
      "text/plain": [
       "<Figure size 640x480 with 1 Axes>"
      ]
     },
     "metadata": {},
     "output_type": "display_data"
    },
    {
     "name": "stdout",
     "output_type": "stream",
     "text": [
      "1734411.2085719565\n"
     ]
    }
   ],
   "source": [
    "from keras.losses import mean_absolute_error\n",
    "\n",
    "plt.plot(np.asarray(preds).reshape((preds.shape[0], )))\n",
    "\n",
    "plt.show()\n",
    "\n",
    "gt = pd.DataFrame(gt)\n",
    "gt = gt.reset_index().drop(\"index\", axis=1)\n",
    "\n",
    "plt.plot(gt)\n",
    "plt.show()\n",
    "\n",
    "error = mean_absolute_error(gt, preds)\n",
    "print(np.sum(error)/error.shape[0])\n"
   ]
  },
  {
   "cell_type": "markdown",
   "metadata": {},
   "source": [
    "## Testing our model locally"
   ]
  },
  {
   "cell_type": "code",
   "execution_count": null,
   "metadata": {},
   "outputs": [
    {
     "name": "stdout",
     "output_type": "stream",
     "text": [
      "23/23 [==============================] - 4s 38ms/step\n",
      "23/23 [==============================] - 0s 14ms/step\n",
      "23/23 [==============================] - 0s 13ms/step\n",
      "not emptu\n",
      "not emptu\n",
      "not emptu\n"
     ]
    }
   ],
   "source": [
    "## Specify the model to be used\n",
    "pred_A = super_model.model_A.predict(np.asarray(X_A_submission).reshape((X_A_submission.shape[0], 1, X_A_submission.shape[1])).astype(float))\n",
    "pred_B = super_model.model_A.predict(np.asarray(X_B_submission).reshape((X_B_submission.shape[0], 1, X_B_submission.shape[1])).astype(float))\n",
    "pred_C = super_model.model_A.predict(np.asarray(X_C_submission).reshape((X_C_submission.shape[0], 1, X_C_submission.shape[1])).astype(float))\n",
    "\n",
    "pred_A = pd.DataFrame(pred_A.reshape((720,)))\n",
    "pred_B = pd.DataFrame(pred_B.reshape((720,)))\n",
    "pred_C = pd.DataFrame(pred_C.reshape((720,)))\n",
    "\n",
    "pred_A = dm.scaling(pred_A, \"A\")\n",
    "pred_B = dm.scaling(pred_B, \"B\")\n",
    "pred_C = dm.scaling(pred_C, \"C\")\n",
    "\n",
    "test = pd.read_csv('test.csv')\n",
    "\n",
    "df_mid = pd.concat([pred_A, pred_B], ignore_index=True)\n",
    "\n",
    "df = pd.concat([df_mid, pred_C], join=\"inner\", ignore_index=True)\n",
    "\n",
    "# df[df<0] = 0\n",
    "\n",
    "# NAME THE FILE \n",
    "df.to_csv(\"sub84.csv\")\n"
   ]
  }
 ],
 "metadata": {
  "kernelspec": {
   "display_name": "tf",
   "language": "python",
   "name": "python3"
  },
  "language_info": {
   "codemirror_mode": {
    "name": "ipython",
    "version": 3
   },
   "file_extension": ".py",
   "mimetype": "text/x-python",
   "name": "python",
   "nbconvert_exporter": "python",
   "pygments_lexer": "ipython3",
   "version": "3.9.6"
  }
 },
 "nbformat": 4,
 "nbformat_minor": 2
}
