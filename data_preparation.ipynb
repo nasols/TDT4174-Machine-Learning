{
 "cells": [
  {
   "cell_type": "code",
   "execution_count": 1,
   "metadata": {},
   "outputs": [],
   "source": [
    "%load_ext autoreload\n",
    "%autoreload 2"
   ]
  },
  {
   "cell_type": "markdown",
   "metadata": {},
   "source": [
    "# Notebook that handles data loading! \n",
    "\n",
    "This notebook is used to initially load and prepare data. This means loading into a datamanager, merging data (if wanted), and doing any preliminary alterations to the dataset. "
   ]
  },
  {
   "cell_type": "code",
   "execution_count": 2,
   "metadata": {},
   "outputs": [],
   "source": [
    "from data_prep import data_manager as DM\n",
    "\n",
    "# instanciate a new datamanager \n",
    "dm = DM.Data_Manager()\n",
    "# loads all data into the datamanager \n",
    "dm.data_loader()\n"
   ]
  },
  {
   "cell_type": "markdown",
   "metadata": {},
   "source": [
    "## Removing features with null values\n",
    "\n",
    "This mainly removes three features, these either have alot of null values or are not important for our final model, making it ok to remove either way.\n",
    "This also removes the need for imputing. "
   ]
  },
  {
   "cell_type": "code",
   "execution_count": 3,
   "metadata": {},
   "outputs": [
    {
     "name": "stdout",
     "output_type": "stream",
     "text": [
      "A DATA NULLS\n",
      " \n",
      "x_train_observed\n",
      "ceiling_height_agl:m     22247\n",
      "cloud_base_agl:m          8066\n",
      "snow_density:kgm3       115945\n",
      "dtype: int64\n",
      " \n",
      "x_train_estimated\n",
      "ceiling_height_agl:m     3919\n",
      "cloud_base_agl:m         2094\n",
      "snow_density:kgm3       15769\n",
      "dtype: int64\n",
      " \n",
      "x_test_estimated\n",
      "ceiling_height_agl:m     793\n",
      "cloud_base_agl:m         298\n",
      "snow_density:kgm3       2880\n",
      "dtype: int64\n",
      " \n",
      "data_A\n",
      "Series([], dtype: float64)\n",
      " \n",
      "B DATA NULLS\n",
      " \n",
      "x_train_observed\n",
      "ceiling_height_agl:m     18772\n",
      "cloud_base_agl:m          7473\n",
      "snow_density:kgm3       111201\n",
      "dtype: int64\n",
      " \n",
      "x_train_estimated\n",
      "ceiling_height_agl:m     3689\n",
      "cloud_base_agl:m         1963\n",
      "snow_density:kgm3       15713\n",
      "dtype: int64\n",
      " \n",
      "x_test_estimated\n",
      "ceiling_height_agl:m     755\n",
      "cloud_base_agl:m         277\n",
      "snow_density:kgm3       2880\n",
      "dtype: int64\n",
      " \n",
      "data_B\n",
      "Series([], dtype: float64)\n",
      " \n",
      "C DATA NULLS\n",
      " \n",
      "x_train_observed\n",
      "ceiling_height_agl:m     19923\n",
      "cloud_base_agl:m          8512\n",
      "snow_density:kgm3       107593\n",
      "dtype: int64\n",
      " \n",
      "x_train_estimated\n",
      "ceiling_height_agl:m     4596\n",
      "cloud_base_agl:m         2804\n",
      "snow_density:kgm3       13898\n",
      "dtype: int64\n",
      " \n",
      "x_test_estimated\n",
      "ceiling_height_agl:m     849\n",
      "cloud_base_agl:m         375\n",
      "snow_density:kgm3       2880\n",
      "dtype: int64\n",
      " \n",
      "data_C\n",
      "Series([], dtype: float64)\n"
     ]
    }
   ],
   "source": [
    "print(\"A DATA NULLS\")\n",
    "print (\" \")\n",
    "print('x_train_observed')\n",
    "print(dm.X_train_observed_a.isnull().sum()[dm.X_train_observed_a.isnull().sum() > 0])\n",
    "print (\" \")\n",
    "print('x_train_estimated')\n",
    "print(dm.X_train_estimated_a.isnull().sum()[dm.X_train_estimated_a.isnull().sum() > 0])\n",
    "print (\" \")\n",
    "print('x_test_estimated')\n",
    "print(dm.X_test_estimated_a.isnull().sum()[dm.X_test_estimated_a.isnull().sum() > 0])\n",
    "print (\" \")\n",
    "print('data_A')\n",
    "print(dm.data_A.isnull().sum()[dm.data_A.isnull().sum() > 0])\n",
    "print (\" \")\n",
    "print(\"B DATA NULLS\")\n",
    "print (\" \")\n",
    "print('x_train_observed')\n",
    "print(dm.X_train_observed_b.isnull().sum()[dm.X_train_observed_b.isnull().sum() > 0])\n",
    "print (\" \")\n",
    "print('x_train_estimated')\n",
    "print(dm.X_train_estimated_b.isnull().sum()[dm.X_train_estimated_b.isnull().sum() > 0])\n",
    "print (\" \")\n",
    "print('x_test_estimated')\n",
    "print(dm.X_test_estimated_b.isnull().sum()[dm.X_test_estimated_b.isnull().sum() > 0])\n",
    "print (\" \")\n",
    "print('data_B')\n",
    "print(dm.data_B.isnull().sum()[dm.data_B.isnull().sum() > 0])\n",
    "print (\" \")\n",
    "print(\"C DATA NULLS\")\n",
    "print (\" \")\n",
    "print('x_train_observed')\n",
    "print(dm.X_train_observed_c.isnull().sum()[dm.X_train_observed_c.isnull().sum() > 0])\n",
    "print (\" \")\n",
    "print('x_train_estimated')\n",
    "print(dm.X_train_estimated_c.isnull().sum()[dm.X_train_estimated_c.isnull().sum() > 0])\n",
    "print (\" \")\n",
    "print('x_test_estimated')\n",
    "print(dm.X_test_estimated_c.isnull().sum()[dm.X_test_estimated_c.isnull().sum() > 0])\n",
    "print (\" \")\n",
    "print('data_C')\n",
    "print(dm.data_C.isnull().sum()[dm.data_C.isnull().sum() > 0])\n",
    "\n",
    "\n"
   ]
  },
  {
   "cell_type": "code",
   "execution_count": 4,
   "metadata": {},
   "outputs": [],
   "source": [
    "dm.X_train_observed_a = dm.X_train_observed_a.drop(\"snow_density:kgm3\", axis=1)\n",
    "dm.X_train_observed_b = dm.X_train_observed_b.drop(\"snow_density:kgm3\", axis=1) \n",
    "dm.X_train_observed_c = dm.X_train_observed_c.drop(\"snow_density:kgm3\", axis=1) \n",
    "\n",
    "dm.X_train_estimated_a = dm.X_train_estimated_a.drop(\"snow_density:kgm3\", axis=1)\n",
    "dm.X_train_estimated_b = dm.X_train_estimated_b.drop(\"snow_density:kgm3\", axis=1)\n",
    "dm.X_train_estimated_c = dm.X_train_estimated_c.drop(\"snow_density:kgm3\", axis=1)\n",
    "\n",
    "dm.X_train_observed_a = dm.X_train_observed_a.drop(\"ceiling_height_agl:m\", axis=1)\n",
    "dm.X_train_observed_b = dm.X_train_observed_b.drop(\"ceiling_height_agl:m\", axis=1) \n",
    "dm.X_train_observed_c = dm.X_train_observed_c.drop(\"ceiling_height_agl:m\", axis=1) \n",
    "dm.X_train_estimated_a = dm.X_train_estimated_a.drop(\"ceiling_height_agl:m\", axis=1)\n",
    "dm.X_train_estimated_b = dm.X_train_estimated_b.drop(\"ceiling_height_agl:m\", axis=1)\n",
    "dm.X_train_estimated_c = dm.X_train_estimated_c.drop(\"ceiling_height_agl:m\", axis=1)\n",
    "\n",
    "dm.X_train_observed_a = dm.X_train_observed_a.drop(\"cloud_base_agl:m\", axis=1)\n",
    "dm.X_train_observed_b = dm.X_train_observed_b.drop(\"cloud_base_agl:m\", axis=1) \n",
    "dm.X_train_observed_c = dm.X_train_observed_c.drop(\"cloud_base_agl:m\", axis=1) \n",
    "dm.X_train_estimated_a = dm.X_train_estimated_a.drop(\"cloud_base_agl:m\", axis=1)\n",
    "dm.X_train_estimated_b = dm.X_train_estimated_b.drop(\"cloud_base_agl:m\", axis=1)\n",
    "dm.X_train_estimated_c = dm.X_train_estimated_c.drop(\"cloud_base_agl:m\", axis=1)\n",
    "\n",
    "dm.X_test_estimated_a = dm.X_test_estimated_a.drop(\"cloud_base_agl:m\", axis=1)\n",
    "dm.X_test_estimated_b = dm.X_test_estimated_b.drop(\"cloud_base_agl:m\", axis=1) \n",
    "dm.X_test_estimated_c = dm.X_test_estimated_c.drop(\"cloud_base_agl:m\", axis=1) \n",
    "\n",
    "dm.X_test_estimated_a = dm.X_test_estimated_a.drop(\"ceiling_height_agl:m\", axis=1)\n",
    "dm.X_test_estimated_b = dm.X_test_estimated_b.drop(\"ceiling_height_agl:m\", axis=1)\n",
    "dm.X_test_estimated_c = dm.X_test_estimated_c.drop(\"ceiling_height_agl:m\", axis=1)\n",
    "\n",
    "dm.X_test_estimated_a = dm.X_test_estimated_a.drop(\"snow_density:kgm3\", axis=1)\n",
    "dm.X_test_estimated_b = dm.X_test_estimated_b.drop(\"snow_density:kgm3\", axis=1)\n",
    "dm.X_test_estimated_c = dm.X_test_estimated_c.drop(\"snow_density:kgm3\", axis=1)"
   ]
  },
  {
   "cell_type": "markdown",
   "metadata": {},
   "source": [
    "## Now we look at sample rates\n",
    "\n",
    "the training weather data is sampled every 15 minutes, whilst the pv_measurements are every hour. \n",
    "We can either \n",
    "1. sample down. Making weather data be every hour using the mean value of every hour \n",
    "2. sample up. Making the pv_measurement every 15 min instead of every hour. "
   ]
  },
  {
   "cell_type": "code",
   "execution_count": 5,
   "metadata": {},
   "outputs": [],
   "source": [
    "# Sample down\n",
    "\n",
    "resamples = dm.resample_data([dm.X_train_observed_a, \n",
    "                                   dm.X_train_observed_b, \n",
    "                                   dm.X_train_observed_c, \n",
    "                                   dm.X_train_estimated_a,\n",
    "                                   dm.X_train_estimated_b,\n",
    "                                   dm.X_train_estimated_c,\n",
    "                                   dm.X_test_estimated_a,\n",
    "                                   dm.X_test_estimated_b,\n",
    "                                   dm.X_test_estimated_c], \"H\")\n",
    "\n",
    "dm.X_train_observed_a = resamples[0]\n",
    "dm.X_train_observed_b = resamples[1] \n",
    "dm.X_train_observed_c = resamples[2] \n",
    "dm.X_train_estimated_a = resamples[3]\n",
    "dm.X_train_estimated_b = resamples[4]\n",
    "dm.X_train_estimated_c = resamples[5]\n",
    "dm.X_test_estimated_a = resamples[6]\n",
    "dm.X_test_estimated_b = resamples[7]\n",
    "dm.X_test_estimated_c = resamples[8]\n",
    "\n",
    "\n",
    "\n",
    "# Sample up\n",
    "\n",
    "# resamples = dm.resample_data([\n",
    "#                             dm.X_test_estimated_a,\n",
    "#                             dm.X_test_estimated_b,\n",
    "#                             dm.X_test_estimated_c], \"H\")\n",
    "\n",
    "\n",
    "# dm.X_test_estimated_a = resamples[0]\n",
    "# dm.X_test_estimated_b = resamples[1]\n",
    "# dm.X_test_estimated_c = resamples[2]\n",
    "\n",
    "# resamples = dm.resample_data([dm.train_a, dm.train_b, dm.train_c], \"15T\")\n",
    "\n",
    "# train_a_15min = resamples[0]\n",
    "# train_b_15min = resamples[1]\n",
    "# train_c_15min = resamples[2]\n",
    "\n",
    "# dm.train_a = resamples[0]\n",
    "# dm.train_b = resamples[1]\n",
    "# dm.train_c = resamples[2]\n",
    "\n",
    "\n",
    "# dm.train_a\n",
    "\n",
    "\n"
   ]
  },
  {
   "cell_type": "markdown",
   "metadata": {},
   "source": [
    "## Combining data into one training set "
   ]
  },
  {
   "cell_type": "code",
   "execution_count": 6,
   "metadata": {},
   "outputs": [
    {
     "name": "stdout",
     "output_type": "stream",
     "text": [
      "(34061, 44) (32819, 44) (26071, 44)\n"
     ]
    }
   ],
   "source": [
    "dm.data_A, dm.data_B, dm.data_C = dm.combine_data()\n",
    "dm.sorting_columns_inMainSets()\n",
    "\n",
    "\n",
    "print(dm.data_A.shape, dm.data_B.shape, dm.data_C.shape)\n",
    "\n",
    "\n",
    "\n"
   ]
  },
  {
   "cell_type": "markdown",
   "metadata": {},
   "source": [
    "## Removing const y data"
   ]
  },
  {
   "cell_type": "code",
   "execution_count": 7,
   "metadata": {},
   "outputs": [
    {
     "name": "stdout",
     "output_type": "stream",
     "text": [
      "y_train_a anomalies: 4\n",
      "y_train_b anomalies: 103\n",
      "y_train_c anomalies: 66\n"
     ]
    }
   ],
   "source": [
    "dm.remove_constant_periods(30) # HR FREQUENCY\n",
    "#dm.remove_constant_periods(200) # 15MIN FREQUENCY"
   ]
  },
  {
   "cell_type": "code",
   "execution_count": 8,
   "metadata": {},
   "outputs": [
    {
     "name": "stdout",
     "output_type": "stream",
     "text": [
      "Stored 'dm' (Data_Manager)\n"
     ]
    }
   ],
   "source": [
    "%store dm"
   ]
  }
 ],
 "metadata": {
  "kernelspec": {
   "display_name": "Python 3",
   "language": "python",
   "name": "python3"
  },
  "language_info": {
   "codemirror_mode": {
    "name": "ipython",
    "version": 3
   },
   "file_extension": ".py",
   "mimetype": "text/x-python",
   "name": "python",
   "nbconvert_exporter": "python",
   "pygments_lexer": "ipython3",
   "version": "3.10.11"
  },
  "orig_nbformat": 4
 },
 "nbformat": 4,
 "nbformat_minor": 2
}
