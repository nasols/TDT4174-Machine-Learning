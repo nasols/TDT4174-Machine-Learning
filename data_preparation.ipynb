{
 "cells": [
  {
   "cell_type": "code",
   "execution_count": 37,
   "metadata": {},
   "outputs": [
    {
     "name": "stdout",
     "output_type": "stream",
     "text": [
      "The autoreload extension is already loaded. To reload it, use:\n",
      "  %reload_ext autoreload\n"
     ]
    }
   ],
   "source": [
    "%load_ext autoreload\n",
    "%autoreload 2"
   ]
  },
  {
   "cell_type": "markdown",
   "metadata": {},
   "source": [
    "# Notebook that handles data loading! \n",
    "\n",
    "This notebook is used to initially load and prepare data. This means loading into a datamanager, merging data (if wanted), and doing any preliminary alterations to the dataset. "
   ]
  },
  {
   "cell_type": "code",
   "execution_count": 38,
   "metadata": {},
   "outputs": [],
   "source": [
    "from data_prep import data_manager as DM\n",
    "\n",
    "# instanciate a new datamanager \n",
    "dm = DM.Data_Manager()\n",
    "\n",
    "# loads all data into the datamanager \n",
    "dm.data_loader()\n"
   ]
  },
  {
   "cell_type": "markdown",
   "metadata": {},
   "source": [
    "## Before doing anything, we fill in missing values by imputing"
   ]
  },
  {
   "cell_type": "code",
   "execution_count": 43,
   "metadata": {},
   "outputs": [
    {
     "data": {
      "text/plain": [
       "date_calc                            0\n",
       "date_forecast                        0\n",
       "absolute_humidity_2m:gm3             0\n",
       "air_density_2m:kgm3                  0\n",
       "ceiling_height_agl:m               849\n",
       "clear_sky_energy_1h:J                0\n",
       "clear_sky_rad:W                      0\n",
       "cloud_base_agl:m                   375\n",
       "dew_or_rime:idx                      0\n",
       "dew_point_2m:K                       0\n",
       "diffuse_rad:W                        0\n",
       "diffuse_rad_1h:J                     0\n",
       "direct_rad:W                         0\n",
       "direct_rad_1h:J                      0\n",
       "effective_cloud_cover:p              0\n",
       "elevation:m                          0\n",
       "fresh_snow_12h:cm                    0\n",
       "fresh_snow_1h:cm                     0\n",
       "fresh_snow_24h:cm                    0\n",
       "fresh_snow_3h:cm                     0\n",
       "fresh_snow_6h:cm                     0\n",
       "is_day:idx                           0\n",
       "is_in_shadow:idx                     0\n",
       "msl_pressure:hPa                     0\n",
       "precip_5min:mm                       0\n",
       "precip_type_5min:idx                 0\n",
       "pressure_100m:hPa                    0\n",
       "pressure_50m:hPa                     0\n",
       "prob_rime:p                          0\n",
       "rain_water:kgm2                      0\n",
       "relative_humidity_1000hPa:p          0\n",
       "sfc_pressure:hPa                     0\n",
       "snow_density:kgm3                 2880\n",
       "snow_depth:cm                        0\n",
       "snow_drift:idx                       0\n",
       "snow_melt_10min:mm                   0\n",
       "snow_water:kgm2                      0\n",
       "sun_azimuth:d                        0\n",
       "sun_elevation:d                      0\n",
       "super_cooled_liquid_water:kgm2       0\n",
       "t_1000hPa:K                          0\n",
       "total_cloud_cover:p                  0\n",
       "visibility:m                         0\n",
       "wind_speed_10m:ms                    0\n",
       "wind_speed_u_10m:ms                  0\n",
       "wind_speed_v_10m:ms                  0\n",
       "wind_speed_w_1000hPa:ms              0\n",
       "dtype: int64"
      ]
     },
     "execution_count": 43,
     "metadata": {},
     "output_type": "execute_result"
    }
   ],
   "source": [
    "\n",
    "\n",
    "dm.X_train_observed_b.isnull().sum()\n",
    "dm.X_train_observed_c.isnull().sum()\n",
    "dm.X_train_estimated_a.isnull().sum()\n",
    "dm.X_train_estimated_b.isnull().sum()\n",
    "dm.X_train_estimated_c.isnull().sum()\n",
    "dm.X_test_estimated_a.isnull().sum()\n",
    "dm.X_test_estimated_b.isnull().sum()\n",
    "dm.X_test_estimated_c.isnull().sum()"
   ]
  },
  {
   "cell_type": "code",
   "execution_count": null,
   "metadata": {},
   "outputs": [
    {
     "name": "stderr",
     "output_type": "stream",
     "text": [
      " 56%|█████▌    | 5/9 [00:00<00:00, 20.94it/s]C:\\Users\\loghe\\AppData\\Local\\Packages\\PythonSoftwareFoundation.Python.3.10_qbz5n2kfra8p0\\LocalCache\\local-packages\\Python310\\site-packages\\sklearn\\impute\\_base.py:555: UserWarning: Skipping features without any observed values: ['snow_density:kgm3']. At least one non-missing value is needed for imputation with strategy='mean'.\n",
      "  warnings.warn(\n",
      "C:\\Users\\loghe\\AppData\\Local\\Packages\\PythonSoftwareFoundation.Python.3.10_qbz5n2kfra8p0\\LocalCache\\local-packages\\Python310\\site-packages\\sklearn\\impute\\_base.py:555: UserWarning: Skipping features without any observed values: ['snow_density:kgm3']. At least one non-missing value is needed for imputation with strategy='mean'.\n",
      "  warnings.warn(\n",
      "C:\\Users\\loghe\\AppData\\Local\\Packages\\PythonSoftwareFoundation.Python.3.10_qbz5n2kfra8p0\\LocalCache\\local-packages\\Python310\\site-packages\\sklearn\\impute\\_base.py:555: UserWarning: Skipping features without any observed values: ['snow_density:kgm3']. At least one non-missing value is needed for imputation with strategy='mean'.\n",
      "  warnings.warn(\n",
      "100%|██████████| 9/9 [00:00<00:00, 31.95it/s]"
     ]
    },
    {
     "name": "stdout",
     "output_type": "stream",
     "text": [
      "<class 'pandas.core.frame.DataFrame'>\n",
      "RangeIndex: 2880 entries, 0 to 2879\n",
      "Data columns (total 45 columns):\n",
      " #   Column                          Non-Null Count  Dtype         \n",
      "---  ------                          --------------  -----         \n",
      " 0   absolute_humidity_2m:gm3        2880 non-null   float32       \n",
      " 1   air_density_2m:kgm3             2880 non-null   float32       \n",
      " 2   ceiling_height_agl:m            2880 non-null   float32       \n",
      " 3   clear_sky_energy_1h:J           2880 non-null   float32       \n",
      " 4   clear_sky_rad:W                 2880 non-null   float32       \n",
      " 5   cloud_base_agl:m                2880 non-null   float32       \n",
      " 6   dew_or_rime:idx                 2880 non-null   float32       \n",
      " 7   dew_point_2m:K                  2880 non-null   float32       \n",
      " 8   diffuse_rad:W                   2880 non-null   float32       \n",
      " 9   diffuse_rad_1h:J                2880 non-null   float32       \n",
      " 10  direct_rad:W                    2880 non-null   float32       \n",
      " 11  direct_rad_1h:J                 2880 non-null   float32       \n",
      " 12  effective_cloud_cover:p         2880 non-null   float32       \n",
      " 13  elevation:m                     2880 non-null   float32       \n",
      " 14  fresh_snow_12h:cm               2880 non-null   float32       \n",
      " 15  fresh_snow_1h:cm                2880 non-null   float32       \n",
      " 16  fresh_snow_24h:cm               2880 non-null   float32       \n",
      " 17  fresh_snow_3h:cm                2880 non-null   float32       \n",
      " 18  fresh_snow_6h:cm                2880 non-null   float32       \n",
      " 19  is_day:idx                      2880 non-null   float32       \n",
      " 20  is_in_shadow:idx                2880 non-null   float32       \n",
      " 21  msl_pressure:hPa                2880 non-null   float32       \n",
      " 22  precip_5min:mm                  2880 non-null   float32       \n",
      " 23  precip_type_5min:idx            2880 non-null   float32       \n",
      " 24  pressure_100m:hPa               2880 non-null   float32       \n",
      " 25  pressure_50m:hPa                2880 non-null   float32       \n",
      " 26  prob_rime:p                     2880 non-null   float32       \n",
      " 27  rain_water:kgm2                 2880 non-null   float32       \n",
      " 28  relative_humidity_1000hPa:p     2880 non-null   float32       \n",
      " 29  sfc_pressure:hPa                2880 non-null   float32       \n",
      " 30  snow_depth:cm                   2880 non-null   float32       \n",
      " 31  snow_drift:idx                  2880 non-null   float32       \n",
      " 32  snow_melt_10min:mm              2880 non-null   float32       \n",
      " 33  snow_water:kgm2                 2880 non-null   float32       \n",
      " 34  sun_azimuth:d                   2880 non-null   float32       \n",
      " 35  sun_elevation:d                 2880 non-null   float32       \n",
      " 36  super_cooled_liquid_water:kgm2  2880 non-null   float32       \n",
      " 37  t_1000hPa:K                     2880 non-null   float32       \n",
      " 38  total_cloud_cover:p             2880 non-null   float32       \n",
      " 39  visibility:m                    2880 non-null   float32       \n",
      " 40  wind_speed_10m:ms               2880 non-null   float32       \n",
      " 41  wind_speed_u_10m:ms             2880 non-null   float32       \n",
      " 42  wind_speed_v_10m:ms             2880 non-null   float32       \n",
      " 43  wind_speed_w_1000hPa:ms         2880 non-null   float32       \n",
      " 44  date_forecast                   2880 non-null   datetime64[us]\n",
      "dtypes: datetime64[us](1), float32(44)\n",
      "memory usage: 517.6 KB\n"
     ]
    },
    {
     "name": "stderr",
     "output_type": "stream",
     "text": [
      "\n"
     ]
    }
   ],
   "source": [
    "imputes = dm.impute_data([dm.X_train_observed_a, \n",
    "                                   dm.X_train_observed_b, \n",
    "                                   dm.X_train_observed_c, \n",
    "                                   dm.X_train_estimated_a,\n",
    "                                   dm.X_train_estimated_b,\n",
    "                                   dm.X_train_estimated_c,\n",
    "                                   dm.X_test_estimated_a,\n",
    "                                   dm.X_test_estimated_b,\n",
    "                                   dm.X_test_estimated_c])\n",
    "\n",
    "dm.X_train_observed_a = imputes[0]\n",
    "dm.X_train_observed_b = imputes[1] \n",
    "dm.X_train_observed_c = imputes[2] \n",
    "dm.X_train_estimated_a = imputes[3]\n",
    "dm.X_train_estimated_b = imputes[4]\n",
    "dm.X_train_estimated_c = imputes[5]\n",
    "dm.X_test_estimated_a = imputes[6]\n",
    "dm.X_test_estimated_b = imputes[7]\n",
    "dm.X_test_estimated_c = imputes[8]\n",
    "\n",
    "dm.set_info(dm.X_test_estimated_a)\n",
    "\n",
    "dm.X_train_observed_a = dm.X_train_observed_a.drop(\"snow_density:kgm3\", axis=1)\n",
    "dm.X_train_observed_b = dm.X_train_observed_b.drop(\"snow_density:kgm3\", axis=1) \n",
    "dm.X_train_observed_c = dm.X_train_observed_c.drop(\"snow_density:kgm3\", axis=1) \n",
    "dm.X_train_estimated_a = dm.X_train_estimated_a.drop(\"snow_density:kgm3\", axis=1)\n",
    "dm.X_train_estimated_b = dm.X_train_estimated_b.drop(\"snow_density:kgm3\", axis=1)\n",
    "dm.X_train_estimated_c = dm.X_train_estimated_c.drop(\"snow_density:kgm3\", axis=1)\n",
    "\n"
   ]
  },
  {
   "cell_type": "markdown",
   "metadata": {},
   "source": [
    "## Now we look at sample rates\n",
    "\n",
    "the training weather data is sampled every 15 minutes, whilst the pv_measurements are every hour. \n",
    "We can either \n",
    "1. sample down. Making weather data be every hour using the mean value of every hour \n",
    "2. sample up. Making the pv_measurement every 15 min instead of every hour. "
   ]
  },
  {
   "cell_type": "code",
   "execution_count": null,
   "metadata": {},
   "outputs": [
    {
     "data": {
      "text/html": [
       "<div>\n",
       "<style scoped>\n",
       "    .dataframe tbody tr th:only-of-type {\n",
       "        vertical-align: middle;\n",
       "    }\n",
       "\n",
       "    .dataframe tbody tr th {\n",
       "        vertical-align: top;\n",
       "    }\n",
       "\n",
       "    .dataframe thead th {\n",
       "        text-align: right;\n",
       "    }\n",
       "</style>\n",
       "<table border=\"1\" class=\"dataframe\">\n",
       "  <thead>\n",
       "    <tr style=\"text-align: right;\">\n",
       "      <th></th>\n",
       "      <th>pv_measurement</th>\n",
       "      <th>date_forecast</th>\n",
       "    </tr>\n",
       "  </thead>\n",
       "  <tbody>\n",
       "    <tr>\n",
       "      <th>0</th>\n",
       "      <td>0.0</td>\n",
       "      <td>2019-06-02 22:00:00</td>\n",
       "    </tr>\n",
       "    <tr>\n",
       "      <th>1</th>\n",
       "      <td>NaN</td>\n",
       "      <td>2019-06-02 22:15:00</td>\n",
       "    </tr>\n",
       "    <tr>\n",
       "      <th>2</th>\n",
       "      <td>NaN</td>\n",
       "      <td>2019-06-02 22:30:00</td>\n",
       "    </tr>\n",
       "    <tr>\n",
       "      <th>3</th>\n",
       "      <td>NaN</td>\n",
       "      <td>2019-06-02 22:45:00</td>\n",
       "    </tr>\n",
       "    <tr>\n",
       "      <th>4</th>\n",
       "      <td>0.0</td>\n",
       "      <td>2019-06-02 23:00:00</td>\n",
       "    </tr>\n",
       "    <tr>\n",
       "      <th>...</th>\n",
       "      <td>...</td>\n",
       "      <td>...</td>\n",
       "    </tr>\n",
       "    <tr>\n",
       "      <th>136512</th>\n",
       "      <td>0.0</td>\n",
       "      <td>2023-04-30 22:00:00</td>\n",
       "    </tr>\n",
       "    <tr>\n",
       "      <th>136513</th>\n",
       "      <td>NaN</td>\n",
       "      <td>2023-04-30 22:15:00</td>\n",
       "    </tr>\n",
       "    <tr>\n",
       "      <th>136514</th>\n",
       "      <td>NaN</td>\n",
       "      <td>2023-04-30 22:30:00</td>\n",
       "    </tr>\n",
       "    <tr>\n",
       "      <th>136515</th>\n",
       "      <td>NaN</td>\n",
       "      <td>2023-04-30 22:45:00</td>\n",
       "    </tr>\n",
       "    <tr>\n",
       "      <th>136516</th>\n",
       "      <td>0.0</td>\n",
       "      <td>2023-04-30 23:00:00</td>\n",
       "    </tr>\n",
       "  </tbody>\n",
       "</table>\n",
       "<p>136517 rows × 2 columns</p>\n",
       "</div>"
      ],
      "text/plain": [
       "        pv_measurement       date_forecast\n",
       "0                  0.0 2019-06-02 22:00:00\n",
       "1                  NaN 2019-06-02 22:15:00\n",
       "2                  NaN 2019-06-02 22:30:00\n",
       "3                  NaN 2019-06-02 22:45:00\n",
       "4                  0.0 2019-06-02 23:00:00\n",
       "...                ...                 ...\n",
       "136512             0.0 2023-04-30 22:00:00\n",
       "136513             NaN 2023-04-30 22:15:00\n",
       "136514             NaN 2023-04-30 22:30:00\n",
       "136515             NaN 2023-04-30 22:45:00\n",
       "136516             0.0 2023-04-30 23:00:00\n",
       "\n",
       "[136517 rows x 2 columns]"
      ]
     },
     "execution_count": 23,
     "metadata": {},
     "output_type": "execute_result"
    }
   ],
   "source": [
    "# Sample down\n",
    "\n",
    "resamples = dm.resample_data([dm.X_train_observed_a, \n",
    "                                   dm.X_train_observed_b, \n",
    "                                   dm.X_train_observed_c, \n",
    "                                   dm.X_train_estimated_a,\n",
    "                                   dm.X_train_estimated_b,\n",
    "                                   dm.X_train_estimated_c,\n",
    "                                   dm.X_test_estimated_a,\n",
    "                                   dm.X_test_estimated_b,\n",
    "                                   dm.X_test_estimated_c], \"H\")\n",
    "\n",
    "X_train_observed_a_hourly = resamples[0]\n",
    "X_train_observed_b_hourly = resamples[1] \n",
    "X_train_observed_c_hourly = resamples[2] \n",
    "X_train_estimated_a_hourly = resamples[3]\n",
    "X_train_estimated_b_hourly = resamples[4]\n",
    "X_train_estimated_c_hourly = resamples[5]\n",
    "X_test_estimated_a_hourly = resamples[6]\n",
    "X_test_estimated_b_hourly = resamples[7]\n",
    "X_test_estimated_c_hourly = resamples[8]\n",
    "\n",
    "\n",
    "# Sample up\n",
    "\n",
    "resamples = dm.resample_data([\n",
    "                            dm.X_test_estimated_a,\n",
    "                            dm.X_test_estimated_b,\n",
    "                            dm.X_test_estimated_c], \"H\")\n",
    "\n",
    "\n",
    "dm.X_test_estimated_a = resamples[0]\n",
    "dm.X_test_estimated_b = resamples[1]\n",
    "dm.X_test_estimated_c = resamples[2]\n",
    "\n",
    "resamples = dm.resample_data([dm.train_a, dm.train_b, dm.train_c], \"15T\")\n",
    "\n",
    "train_a_15min = resamples[0]\n",
    "train_b_15min = resamples[1]\n",
    "train_c_15min = resamples[2]\n",
    "\n",
    "dm.train_a = resamples[0]\n",
    "dm.train_b = resamples[1]\n",
    "dm.train_c = resamples[2]\n",
    "\n",
    "train_a_15min\n",
    "\n"
   ]
  },
  {
   "cell_type": "markdown",
   "metadata": {},
   "source": [
    "Upsampling introduces alot of nans, which we impute"
   ]
  },
  {
   "cell_type": "code",
   "execution_count": null,
   "metadata": {},
   "outputs": [
    {
     "data": {
      "image/png": "[encoded data removed]",
      "text/plain": [
       "<Figure size 2000x1000 with 1 Axes>"
      ]
     },
     "metadata": {},
     "output_type": "display_data"
    }
   ],
   "source": [
    "dm.train_a = dm.train_a.interpolate()\n",
    "dm.train_b = dm.train_b.interpolate()\n",
    "dm.train_c = dm.train_c.interpolate()\n",
    "\n",
    "dm.plot_feature(dm.train_b, \"pv_measurement\")\n"
   ]
  },
  {
   "cell_type": "markdown",
   "metadata": {},
   "source": [
    "## Combining data into one training set "
   ]
  },
  {
   "cell_type": "code",
   "execution_count": null,
   "metadata": {},
   "outputs": [],
   "source": [
    "data_A, data_B, data_C = dm.combine_data()"
   ]
  },
  {
   "cell_type": "markdown",
   "metadata": {},
   "source": [
    "## Combining datasets into one observed set and one estimated set"
   ]
  },
  {
   "cell_type": "code",
   "execution_count": null,
   "metadata": {},
   "outputs": [
    {
     "name": "stdout",
     "output_type": "stream",
     "text": [
      "(118669, 46) (116928, 46) (93177, 46) (17573, 46) (14981, 46) (12293, 46)\n",
      "<class 'pandas.core.frame.DataFrame'>\n",
      "Index: 12293 entries, 116924 to 129312\n",
      "Data columns (total 46 columns):\n",
      " #   Column                          Non-Null Count  Dtype         \n",
      "---  ------                          --------------  -----         \n",
      " 0   pv_measurement                  12293 non-null  float64       \n",
      " 1   date_forecast                   12293 non-null  datetime64[us]\n",
      " 2   absolute_humidity_2m:gm3        12293 non-null  float32       \n",
      " 3   air_density_2m:kgm3             12293 non-null  float32       \n",
      " 4   ceiling_height_agl:m            12293 non-null  float32       \n",
      " 5   clear_sky_energy_1h:J           12293 non-null  float32       \n",
      " 6   clear_sky_rad:W                 12293 non-null  float32       \n",
      " 7   cloud_base_agl:m                12293 non-null  float32       \n",
      " 8   dew_or_rime:idx                 12293 non-null  float32       \n",
      " 9   dew_point_2m:K                  12293 non-null  float32       \n",
      " 10  diffuse_rad:W                   12293 non-null  float32       \n",
      " 11  diffuse_rad_1h:J                12293 non-null  float32       \n",
      " 12  direct_rad:W                    12293 non-null  float32       \n",
      " 13  direct_rad_1h:J                 12293 non-null  float32       \n",
      " 14  effective_cloud_cover:p         12293 non-null  float32       \n",
      " 15  elevation:m                     12293 non-null  float32       \n",
      " 16  fresh_snow_12h:cm               12293 non-null  float32       \n",
      " 17  fresh_snow_1h:cm                12293 non-null  float32       \n",
      " 18  fresh_snow_24h:cm               12293 non-null  float32       \n",
      " 19  fresh_snow_3h:cm                12293 non-null  float32       \n",
      " 20  fresh_snow_6h:cm                12293 non-null  float32       \n",
      " 21  is_day:idx                      12293 non-null  float32       \n",
      " 22  is_in_shadow:idx                12293 non-null  float32       \n",
      " 23  msl_pressure:hPa                12293 non-null  float32       \n",
      " 24  precip_5min:mm                  12293 non-null  float32       \n",
      " 25  precip_type_5min:idx            12293 non-null  float32       \n",
      " 26  pressure_100m:hPa               12293 non-null  float32       \n",
      " 27  pressure_50m:hPa                12293 non-null  float32       \n",
      " 28  prob_rime:p                     12293 non-null  float32       \n",
      " 29  rain_water:kgm2                 12293 non-null  float32       \n",
      " 30  relative_humidity_1000hPa:p     12293 non-null  float32       \n",
      " 31  sfc_pressure:hPa                12293 non-null  float32       \n",
      " 32  snow_depth:cm                   12293 non-null  float32       \n",
      " 33  snow_drift:idx                  12293 non-null  float32       \n",
      " 34  snow_melt_10min:mm              12293 non-null  float32       \n",
      " 35  snow_water:kgm2                 12293 non-null  float32       \n",
      " 36  sun_azimuth:d                   12293 non-null  float32       \n",
      " 37  sun_elevation:d                 12293 non-null  float32       \n",
      " 38  super_cooled_liquid_water:kgm2  12293 non-null  float32       \n",
      " 39  t_1000hPa:K                     12293 non-null  float32       \n",
      " 40  total_cloud_cover:p             12293 non-null  float32       \n",
      " 41  visibility:m                    12293 non-null  float32       \n",
      " 42  wind_speed_10m:ms               12293 non-null  float32       \n",
      " 43  wind_speed_u_10m:ms             12293 non-null  float32       \n",
      " 44  wind_speed_v_10m:ms             12293 non-null  float32       \n",
      " 45  wind_speed_w_1000hPa:ms         12293 non-null  float32       \n",
      "dtypes: datetime64[us](1), float32(44), float64(1)\n",
      "memory usage: 2.3 MB\n"
     ]
    }
   ],
   "source": [
    "data_A_obs, data_B_obs, data_C_obs, data_A_es, data_B_es, data_C_es  = dm.combine_data(False)\n",
    "\n",
    "print(data_A_obs.shape,data_B_obs.shape,data_C_obs.shape, data_A_es.shape,data_B_es.shape,data_C_es.shape)\n",
    "\n",
    "dm.set_info(data_C_es)"
   ]
  },
  {
   "cell_type": "code",
   "execution_count": null,
   "metadata": {},
   "outputs": [
    {
     "name": "stdout",
     "output_type": "stream",
     "text": [
      "Stored 'dm' (Data_Manager)\n"
     ]
    }
   ],
   "source": [
    "%store dm"
   ]
  }
 ],
 "metadata": {
  "kernelspec": {
   "display_name": "Python 3",
   "language": "python",
   "name": "python3"
  },
  "language_info": {
   "codemirror_mode": {
    "name": "ipython",
    "version": 3
   },
   "file_extension": ".py",
   "mimetype": "text/x-python",
   "name": "python",
   "nbconvert_exporter": "python",
   "pygments_lexer": "ipython3",
   "version": "3.10.11"
  },
  "orig_nbformat": 4
 },
 "nbformat": 4,
 "nbformat_minor": 2
}
