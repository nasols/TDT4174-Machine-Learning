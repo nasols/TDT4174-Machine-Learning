{
 "cells": [
  {
   "cell_type": "code",
   "execution_count": 520,
   "metadata": {},
   "outputs": [],
   "source": [
    "import pandas as pd"
   ]
  },
  {
   "cell_type": "markdown",
   "metadata": {},
   "source": [
    "## Notebook for making predictions with different models etc. \n"
   ]
  },
  {
   "cell_type": "markdown",
   "metadata": {},
   "source": [
    "### Reading dataset stored in other notebooks"
   ]
  },
  {
   "cell_type": "code",
   "execution_count": 521,
   "metadata": {},
   "outputs": [
    {
     "name": "stdout",
     "output_type": "stream",
     "text": [
      "(720, 49)\n"
     ]
    }
   ],
   "source": [
    "\n",
    "%store -r data_A\n",
    "%store -r data_B\n",
    "%store -r data_C\n",
    "\n",
    "data_A = data_A\n",
    "data_B = data_B\n",
    "data_C = data_C\n",
    "\n",
    "%store -r X_test_estimated_a_corr \n",
    "%store -r X_test_estimated_b_corr \n",
    "%store -r X_test_estimated_c_corr\n",
    "\n",
    "X_test_estimated_a_corr = X_test_estimated_a_corr \n",
    "X_test_estimated_b_corr = X_test_estimated_b_corr\n",
    "X_test_estimated_c_corr = X_test_estimated_c_corr\n",
    "\n",
    "print(X_test_estimated_a_corr.shape)\n"
   ]
  },
  {
   "cell_type": "markdown",
   "metadata": {},
   "source": [
    "### Preparing training and testing data to train on\n",
    "\n",
    "- we split the training sets into train and test data. In this way we can test our model.\n"
   ]
  },
  {
   "cell_type": "code",
   "execution_count": 522,
   "metadata": {},
   "outputs": [
    {
     "name": "stdout",
     "output_type": "stream",
     "text": [
      "(25563, 47)\n",
      "(25563, 47)\n",
      "(24116, 47)\n"
     ]
    }
   ],
   "source": [
    "#preparing data\n",
    "X_A = data_A.iloc[:,2:-1]  #independent columns\n",
    "y_A = data_A.iloc[:,1]    #target column i.e uv stråling \n",
    "\n",
    "X_B = data_B.iloc[:,2:-1]  #independent columns\n",
    "y_B = data_B.iloc[:,1]    #target column i.e uv stråling \n",
    "\n",
    "X_C = data_C.iloc[:,2:-1]  #independent columns\n",
    "y_C = data_C.iloc[:,1]    #target column i.e uv stråling \n",
    "\n",
    "\n",
    "X_A_train, X_A_test, y_A_train, y_A_test = ms.train_test_split(X_A, y_A)\n",
    "X_B_train, X_B_test, y_B_train, y_B_test = ms.train_test_split(X_B, y_B)\n",
    "X_C_train, X_C_test, y_C_train, y_C_test = ms.train_test_split(X_C, y_C)\n",
    "\n",
    "print(X_A_train.shape)\n",
    "print(X_B_train.shape)\n",
    "print(X_C_train.shape)"
   ]
  },
  {
   "cell_type": "code",
   "execution_count": 523,
   "metadata": {},
   "outputs": [],
   "source": [
    "# fixing test data\n",
    "\n",
    "X_test_A = X_test_estimated_a_corr[X_A_train.columns.intersection(X_test_estimated_a_corr.columns)]\n",
    "X_test_B = X_test_estimated_b_corr[X_A_train.columns.intersection(X_test_estimated_b_corr.columns)]\n",
    "X_test_C = X_test_estimated_c_corr[X_A_train.columns.intersection(X_test_estimated_c_corr.columns)]\n",
    "\n",
    "X_test_A = X_test_A.interpolate(\"ffill\")\n",
    "X_test_B = X_test_B.interpolate(\"ffill\")\n",
    "X_test_C = X_test_C.interpolate(\"ffill\")\n",
    "\n",
    "X_test_A = X_test_A.fillna(0.0)\n",
    "X_test_B = X_test_B.fillna(0.0)\n",
    "X_test_C = X_test_C.fillna(0.0)"
   ]
  },
  {
   "cell_type": "markdown",
   "metadata": {},
   "source": [
    "### Preds using GradientBoostingRegressor\n",
    "\n"
   ]
  },
  {
   "cell_type": "code",
   "execution_count": 554,
   "metadata": {},
   "outputs": [],
   "source": [
    "from sklearn.ensemble import GradientBoostingRegressor\n",
    "\n",
    "## defining model and hyper-parameters\n",
    "model_A = GradientBoostingRegressor(learning_rate=0.5, n_estimators=150)\n",
    "model_B = GradientBoostingRegressor(learning_rate=0.5, n_estimators=150)\n",
    "model_C = GradientBoostingRegressor(learning_rate=0.5, n_estimators=150)\n",
    "\n",
    "model = GradientBoostingRegressor(learning_rate=0.5, n_estimators=150)\n"
   ]
  },
  {
   "cell_type": "code",
   "execution_count": 555,
   "metadata": {},
   "outputs": [
    {
     "data": {
      "text/html": [
       "<style>#sk-container-id-32 {color: black;background-color: white;}#sk-container-id-32 pre{padding: 0;}#sk-container-id-32 div.sk-toggleable {background-color: white;}#sk-container-id-32 label.sk-toggleable__label {cursor: pointer;display: block;width: 100%;margin-bottom: 0;padding: 0.3em;box-sizing: border-box;text-align: center;}#sk-container-id-32 label.sk-toggleable__label-arrow:before {content: \"▸\";float: left;margin-right: 0.25em;color: #696969;}#sk-container-id-32 label.sk-toggleable__label-arrow:hover:before {color: black;}#sk-container-id-32 div.sk-estimator:hover label.sk-toggleable__label-arrow:before {color: black;}#sk-container-id-32 div.sk-toggleable__content {max-height: 0;max-width: 0;overflow: hidden;text-align: left;background-color: #f0f8ff;}#sk-container-id-32 div.sk-toggleable__content pre {margin: 0.2em;color: black;border-radius: 0.25em;background-color: #f0f8ff;}#sk-container-id-32 input.sk-toggleable__control:checked~div.sk-toggleable__content {max-height: 200px;max-width: 100%;overflow: auto;}#sk-container-id-32 input.sk-toggleable__control:checked~label.sk-toggleable__label-arrow:before {content: \"▾\";}#sk-container-id-32 div.sk-estimator input.sk-toggleable__control:checked~label.sk-toggleable__label {background-color: #d4ebff;}#sk-container-id-32 div.sk-label input.sk-toggleable__control:checked~label.sk-toggleable__label {background-color: #d4ebff;}#sk-container-id-32 input.sk-hidden--visually {border: 0;clip: rect(1px 1px 1px 1px);clip: rect(1px, 1px, 1px, 1px);height: 1px;margin: -1px;overflow: hidden;padding: 0;position: absolute;width: 1px;}#sk-container-id-32 div.sk-estimator {font-family: monospace;background-color: #f0f8ff;border: 1px dotted black;border-radius: 0.25em;box-sizing: border-box;margin-bottom: 0.5em;}#sk-container-id-32 div.sk-estimator:hover {background-color: #d4ebff;}#sk-container-id-32 div.sk-parallel-item::after {content: \"\";width: 100%;border-bottom: 1px solid gray;flex-grow: 1;}#sk-container-id-32 div.sk-label:hover label.sk-toggleable__label {background-color: #d4ebff;}#sk-container-id-32 div.sk-serial::before {content: \"\";position: absolute;border-left: 1px solid gray;box-sizing: border-box;top: 0;bottom: 0;left: 50%;z-index: 0;}#sk-container-id-32 div.sk-serial {display: flex;flex-direction: column;align-items: center;background-color: white;padding-right: 0.2em;padding-left: 0.2em;position: relative;}#sk-container-id-32 div.sk-item {position: relative;z-index: 1;}#sk-container-id-32 div.sk-parallel {display: flex;align-items: stretch;justify-content: center;background-color: white;position: relative;}#sk-container-id-32 div.sk-item::before, #sk-container-id-32 div.sk-parallel-item::before {content: \"\";position: absolute;border-left: 1px solid gray;box-sizing: border-box;top: 0;bottom: 0;left: 50%;z-index: -1;}#sk-container-id-32 div.sk-parallel-item {display: flex;flex-direction: column;z-index: 1;position: relative;background-color: white;}#sk-container-id-32 div.sk-parallel-item:first-child::after {align-self: flex-end;width: 50%;}#sk-container-id-32 div.sk-parallel-item:last-child::after {align-self: flex-start;width: 50%;}#sk-container-id-32 div.sk-parallel-item:only-child::after {width: 0;}#sk-container-id-32 div.sk-dashed-wrapped {border: 1px dashed gray;margin: 0 0.4em 0.5em 0.4em;box-sizing: border-box;padding-bottom: 0.4em;background-color: white;}#sk-container-id-32 div.sk-label label {font-family: monospace;font-weight: bold;display: inline-block;line-height: 1.2em;}#sk-container-id-32 div.sk-label-container {text-align: center;}#sk-container-id-32 div.sk-container {/* jupyter's `normalize.less` sets `[hidden] { display: none; }` but bootstrap.min.css set `[hidden] { display: none !important; }` so we also need the `!important` here to be able to override the default hidden behavior on the sphinx rendered scikit-learn.org. See: https://github.com/scikit-learn/scikit-learn/issues/21755 */display: inline-block !important;position: relative;}#sk-container-id-32 div.sk-text-repr-fallback {display: none;}</style><div id=\"sk-container-id-32\" class=\"sk-top-container\"><div class=\"sk-text-repr-fallback\"><pre>GradientBoostingRegressor(learning_rate=0.5, n_estimators=150)</pre><b>In a Jupyter environment, please rerun this cell to show the HTML representation or trust the notebook. <br />On GitHub, the HTML representation is unable to render, please try loading this page with nbviewer.org.</b></div><div class=\"sk-container\" hidden><div class=\"sk-item\"><div class=\"sk-estimator sk-toggleable\"><input class=\"sk-toggleable__control sk-hidden--visually\" id=\"sk-estimator-id-32\" type=\"checkbox\" checked><label for=\"sk-estimator-id-32\" class=\"sk-toggleable__label sk-toggleable__label-arrow\">GradientBoostingRegressor</label><div class=\"sk-toggleable__content\"><pre>GradientBoostingRegressor(learning_rate=0.5, n_estimators=150)</pre></div></div></div></div></div>"
      ],
      "text/plain": [
       "GradientBoostingRegressor(learning_rate=0.5, n_estimators=150)"
      ]
     },
     "execution_count": 555,
     "metadata": {},
     "output_type": "execute_result"
    }
   ],
   "source": [
    "# training model \n",
    "model_A.fit(X_A_train, y_A_train)\n",
    "model_B.fit(X_B_train, y_B_train)\n",
    "model_C.fit(X_C_train, y_C_train)\n",
    "\n",
    "model.fit(X_B_train, y_B_train)\n",
    "model.fit(X_C_train, y_C_train)"
   ]
  },
  {
   "cell_type": "code",
   "execution_count": 564,
   "metadata": {},
   "outputs": [
    {
     "name": "stdout",
     "output_type": "stream",
     "text": [
      "0.8448444341476271\n",
      "0.7376732852455354\n",
      "0.8026517107711649\n",
      "-0.0647866485512163\n",
      "-0.10074060028270648\n",
      "0.8022807679054267\n"
     ]
    }
   ],
   "source": [
    "# testing model \n",
    "\n",
    "score_A = model_A.score(X_A_test, y_A_test)\n",
    "score_B = model_B.score(X_B_test, y_B_test)\n",
    "score_C = model_C.score(X_C_test, y_C_test)\n",
    "\n",
    "score_mA = model.score(X_A_test, y_A_test)\n",
    "score_mB = model.score(X_B_test, y_B_test)\n",
    "score_mC = model.score(X_C_test, y_C_test)\n",
    "\n",
    "print(score_A)\n",
    "print(score_B)\n",
    "print(score_C)\n",
    "\n",
    "print(score_mA)\n",
    "print(score_mB)\n",
    "print(score_mC)\n"
   ]
  },
  {
   "cell_type": "markdown",
   "metadata": {},
   "source": [
    "## Random forest regressor "
   ]
  },
  {
   "cell_type": "code",
   "execution_count": 540,
   "metadata": {},
   "outputs": [],
   "source": [
    "from sklearn.ensemble import RandomForestRegressor\n",
    "from sklearn.model_selection import GridSearchCV, RandomizedSearchCV\n",
    "\n",
    "rfmA = RandomForestRegressor(max_depth=6, max_features=None, max_leaf_nodes=10)\n",
    "rfmB = RandomForestRegressor(max_depth=6, max_features=None, max_leaf_nodes=10, n_estimators=50)\n",
    "rfmC = RandomForestRegressor(max_depth=6, max_features=None, max_leaf_nodes=10, n_estimators=25)\n",
    "\n",
    "rfmA = RandomForestRegressor(max_leaf_nodes=10)\n",
    "rfmB = RandomForestRegressor(max_leaf_nodes=10)\n",
    "rfmC = RandomForestRegressor(max_leaf_nodes=10)\n",
    "\n",
    "rfm = RandomForestRegressor(max_depth=10)"
   ]
  },
  {
   "cell_type": "markdown",
   "metadata": {},
   "source": [
    "### Finding best hyperparameters \n",
    "Below code takes around 1 hour to run\n",
    "\n",
    "Runing the below code found that\n",
    "- max depth = 6 \n",
    "- max features = none \n",
    "- max leaf nodes = 9 (propably better with higher)\n",
    "- for A n estimators = default \n",
    "- for B n estimators = 50 \n",
    "- for C n estimators = 25 "
   ]
  },
  {
   "cell_type": "code",
   "execution_count": 532,
   "metadata": {},
   "outputs": [
    {
     "name": "stdout",
     "output_type": "stream",
     "text": [
      "A:  RandomForestRegressor(max_depth=6, max_features=None, max_leaf_nodes=9)\n",
      "B:  RandomForestRegressor(max_depth=6, max_features=None, max_leaf_nodes=9,\n",
      "                      n_estimators=50)\n",
      "C:  RandomForestRegressor(max_depth=6, max_features=None, max_leaf_nodes=9,\n",
      "                      n_estimators=25)\n"
     ]
    }
   ],
   "source": [
    "param_grid = {\n",
    "    'n_estimators': [25, 50, 100, 150],\n",
    "    'max_features': ['sqrt', 'log2', None],\n",
    "    'max_depth': [3, 6, 9],\n",
    "    'max_leaf_nodes': [3, 6, 9],\n",
    "}\n",
    "\n",
    "grid_search_A = GridSearchCV(RandomForestRegressor(), param_grid=param_grid)\n",
    "grid_search_A.fit(X_A_train, y_A_train)\n",
    "\n",
    "grid_search_B = GridSearchCV(RandomForestRegressor(), param_grid=param_grid)\n",
    "grid_search_B.fit(X_B_train, y_B_train)\n",
    "\n",
    "grid_search_C = GridSearchCV(RandomForestRegressor(), param_grid=param_grid)\n",
    "grid_search_C.fit(X_C_train, y_C_train)\n",
    "\n",
    "print(\"A: \" , grid_search_A.best_estimator_)\n",
    "\n",
    "print(\"B: \", grid_search_B.best_estimator_)\n",
    "\n",
    "print(\"C: \", grid_search_C.best_estimator_)\n",
    "\n"
   ]
  },
  {
   "cell_type": "code",
   "execution_count": 541,
   "metadata": {},
   "outputs": [
    {
     "data": {
      "text/html": [
       "<style>#sk-container-id-31 {color: black;background-color: white;}#sk-container-id-31 pre{padding: 0;}#sk-container-id-31 div.sk-toggleable {background-color: white;}#sk-container-id-31 label.sk-toggleable__label {cursor: pointer;display: block;width: 100%;margin-bottom: 0;padding: 0.3em;box-sizing: border-box;text-align: center;}#sk-container-id-31 label.sk-toggleable__label-arrow:before {content: \"▸\";float: left;margin-right: 0.25em;color: #696969;}#sk-container-id-31 label.sk-toggleable__label-arrow:hover:before {color: black;}#sk-container-id-31 div.sk-estimator:hover label.sk-toggleable__label-arrow:before {color: black;}#sk-container-id-31 div.sk-toggleable__content {max-height: 0;max-width: 0;overflow: hidden;text-align: left;background-color: #f0f8ff;}#sk-container-id-31 div.sk-toggleable__content pre {margin: 0.2em;color: black;border-radius: 0.25em;background-color: #f0f8ff;}#sk-container-id-31 input.sk-toggleable__control:checked~div.sk-toggleable__content {max-height: 200px;max-width: 100%;overflow: auto;}#sk-container-id-31 input.sk-toggleable__control:checked~label.sk-toggleable__label-arrow:before {content: \"▾\";}#sk-container-id-31 div.sk-estimator input.sk-toggleable__control:checked~label.sk-toggleable__label {background-color: #d4ebff;}#sk-container-id-31 div.sk-label input.sk-toggleable__control:checked~label.sk-toggleable__label {background-color: #d4ebff;}#sk-container-id-31 input.sk-hidden--visually {border: 0;clip: rect(1px 1px 1px 1px);clip: rect(1px, 1px, 1px, 1px);height: 1px;margin: -1px;overflow: hidden;padding: 0;position: absolute;width: 1px;}#sk-container-id-31 div.sk-estimator {font-family: monospace;background-color: #f0f8ff;border: 1px dotted black;border-radius: 0.25em;box-sizing: border-box;margin-bottom: 0.5em;}#sk-container-id-31 div.sk-estimator:hover {background-color: #d4ebff;}#sk-container-id-31 div.sk-parallel-item::after {content: \"\";width: 100%;border-bottom: 1px solid gray;flex-grow: 1;}#sk-container-id-31 div.sk-label:hover label.sk-toggleable__label {background-color: #d4ebff;}#sk-container-id-31 div.sk-serial::before {content: \"\";position: absolute;border-left: 1px solid gray;box-sizing: border-box;top: 0;bottom: 0;left: 50%;z-index: 0;}#sk-container-id-31 div.sk-serial {display: flex;flex-direction: column;align-items: center;background-color: white;padding-right: 0.2em;padding-left: 0.2em;position: relative;}#sk-container-id-31 div.sk-item {position: relative;z-index: 1;}#sk-container-id-31 div.sk-parallel {display: flex;align-items: stretch;justify-content: center;background-color: white;position: relative;}#sk-container-id-31 div.sk-item::before, #sk-container-id-31 div.sk-parallel-item::before {content: \"\";position: absolute;border-left: 1px solid gray;box-sizing: border-box;top: 0;bottom: 0;left: 50%;z-index: -1;}#sk-container-id-31 div.sk-parallel-item {display: flex;flex-direction: column;z-index: 1;position: relative;background-color: white;}#sk-container-id-31 div.sk-parallel-item:first-child::after {align-self: flex-end;width: 50%;}#sk-container-id-31 div.sk-parallel-item:last-child::after {align-self: flex-start;width: 50%;}#sk-container-id-31 div.sk-parallel-item:only-child::after {width: 0;}#sk-container-id-31 div.sk-dashed-wrapped {border: 1px dashed gray;margin: 0 0.4em 0.5em 0.4em;box-sizing: border-box;padding-bottom: 0.4em;background-color: white;}#sk-container-id-31 div.sk-label label {font-family: monospace;font-weight: bold;display: inline-block;line-height: 1.2em;}#sk-container-id-31 div.sk-label-container {text-align: center;}#sk-container-id-31 div.sk-container {/* jupyter's `normalize.less` sets `[hidden] { display: none; }` but bootstrap.min.css set `[hidden] { display: none !important; }` so we also need the `!important` here to be able to override the default hidden behavior on the sphinx rendered scikit-learn.org. See: https://github.com/scikit-learn/scikit-learn/issues/21755 */display: inline-block !important;position: relative;}#sk-container-id-31 div.sk-text-repr-fallback {display: none;}</style><div id=\"sk-container-id-31\" class=\"sk-top-container\"><div class=\"sk-text-repr-fallback\"><pre>RandomForestRegressor(max_leaf_nodes=10)</pre><b>In a Jupyter environment, please rerun this cell to show the HTML representation or trust the notebook. <br />On GitHub, the HTML representation is unable to render, please try loading this page with nbviewer.org.</b></div><div class=\"sk-container\" hidden><div class=\"sk-item\"><div class=\"sk-estimator sk-toggleable\"><input class=\"sk-toggleable__control sk-hidden--visually\" id=\"sk-estimator-id-31\" type=\"checkbox\" checked><label for=\"sk-estimator-id-31\" class=\"sk-toggleable__label sk-toggleable__label-arrow\">RandomForestRegressor</label><div class=\"sk-toggleable__content\"><pre>RandomForestRegressor(max_leaf_nodes=10)</pre></div></div></div></div></div>"
      ],
      "text/plain": [
       "RandomForestRegressor(max_leaf_nodes=10)"
      ]
     },
     "execution_count": 541,
     "metadata": {},
     "output_type": "execute_result"
    }
   ],
   "source": [
    "rfmA.fit(X_A_train, y_A_train)\n",
    "rfmB.fit(X_B_train, y_B_train)\n",
    "rfmC.fit(X_C_train, y_C_train)\n"
   ]
  },
  {
   "cell_type": "code",
   "execution_count": 553,
   "metadata": {},
   "outputs": [
    {
     "name": "stdout",
     "output_type": "stream",
     "text": [
      "0.8163345334815306\n",
      "0.7028435503765282\n",
      "0.7000239441453882\n"
     ]
    }
   ],
   "source": [
    "\n",
    "score_A = rfmA.score(X_A_test, y_A_test)\n",
    "score_B = rfmB.score(X_B_test, y_B_test)\n",
    "score_C = rfmC.score(X_C_test, y_C_test)\n",
    "\n",
    "\n",
    "print(score_A)\n",
    "print(score_B)\n",
    "print(score_C)\n",
    "\n"
   ]
  },
  {
   "cell_type": "markdown",
   "metadata": {},
   "source": [
    "# Create subission\n",
    "\n",
    "## NB! THE RESULTING CSV FILE IS MISSING THE \"id\" LABLE FOR ITS FIRST COLUMN; QUICK FIX: JUST GO INTO THE CSV IN VS CODE AND ADD MANUALLY AT THE TOP"
   ]
  },
  {
   "cell_type": "code",
   "execution_count": 539,
   "metadata": {},
   "outputs": [
    {
     "name": "stdout",
     "output_type": "stream",
     "text": [
      "(720, 47)\n"
     ]
    },
    {
     "data": {
      "text/html": [
       "<div>\n",
       "<style scoped>\n",
       "    .dataframe tbody tr th:only-of-type {\n",
       "        vertical-align: middle;\n",
       "    }\n",
       "\n",
       "    .dataframe tbody tr th {\n",
       "        vertical-align: top;\n",
       "    }\n",
       "\n",
       "    .dataframe thead th {\n",
       "        text-align: right;\n",
       "    }\n",
       "</style>\n",
       "<table border=\"1\" class=\"dataframe\">\n",
       "  <thead>\n",
       "    <tr style=\"text-align: right;\">\n",
       "      <th></th>\n",
       "      <th>prediction</th>\n",
       "    </tr>\n",
       "  </thead>\n",
       "  <tbody>\n",
       "    <tr>\n",
       "      <th>0</th>\n",
       "      <td>19.020580</td>\n",
       "    </tr>\n",
       "    <tr>\n",
       "      <th>1</th>\n",
       "      <td>19.020580</td>\n",
       "    </tr>\n",
       "    <tr>\n",
       "      <th>2</th>\n",
       "      <td>19.020580</td>\n",
       "    </tr>\n",
       "    <tr>\n",
       "      <th>3</th>\n",
       "      <td>19.020580</td>\n",
       "    </tr>\n",
       "    <tr>\n",
       "      <th>4</th>\n",
       "      <td>417.013415</td>\n",
       "    </tr>\n",
       "    <tr>\n",
       "      <th>...</th>\n",
       "      <td>...</td>\n",
       "    </tr>\n",
       "    <tr>\n",
       "      <th>2155</th>\n",
       "      <td>17.713280</td>\n",
       "    </tr>\n",
       "    <tr>\n",
       "      <th>2156</th>\n",
       "      <td>17.713280</td>\n",
       "    </tr>\n",
       "    <tr>\n",
       "      <th>2157</th>\n",
       "      <td>17.713280</td>\n",
       "    </tr>\n",
       "    <tr>\n",
       "      <th>2158</th>\n",
       "      <td>17.713280</td>\n",
       "    </tr>\n",
       "    <tr>\n",
       "      <th>2159</th>\n",
       "      <td>17.713280</td>\n",
       "    </tr>\n",
       "  </tbody>\n",
       "</table>\n",
       "<p>2160 rows × 1 columns</p>\n",
       "</div>"
      ],
      "text/plain": [
       "      prediction\n",
       "0      19.020580\n",
       "1      19.020580\n",
       "2      19.020580\n",
       "3      19.020580\n",
       "4     417.013415\n",
       "...          ...\n",
       "2155   17.713280\n",
       "2156   17.713280\n",
       "2157   17.713280\n",
       "2158   17.713280\n",
       "2159   17.713280\n",
       "\n",
       "[2160 rows x 1 columns]"
      ]
     },
     "execution_count": 539,
     "metadata": {},
     "output_type": "execute_result"
    }
   ],
   "source": [
    "## Specify the model to be used\n",
    "pred_A = rfmA.predict(X_test_A)\n",
    "pred_B = rfmB.predict(X_test_B)\n",
    "pred_C = rfmC.predict(X_test_C)\n",
    "\n",
    "print(X_test_A.shape)\n",
    "test = pd.read_csv('test.csv')\n",
    "\n",
    "df_A = pd.DataFrame()\n",
    "\n",
    "df_A[\"prediction\"] = pred_A\n",
    "df_A[\"location\"] = \"A\"\n",
    "\n",
    "df_B = pd.DataFrame()\n",
    "\n",
    "df_B[\"prediction\"] = pred_B\n",
    "df_B[\"location\"] = \"B\"\n",
    "\n",
    "df_C = pd.DataFrame()\n",
    "\n",
    "df_C[\"prediction\"] = pred_C\n",
    "df_C[\"location\"] = \"C\"\n",
    "\n",
    "df_mid = pd.concat([df_A, df_B], ignore_index=True)\n",
    "\n",
    "df = pd.concat([df_mid, df_C], join=\"inner\", ignore_index=True)\n",
    "\n",
    "df_C['prediction'] = df_C['prediction'].astype(float)\n",
    "\n",
    "test = test[test.columns.intersection([\"id\", \"time\", \"location\"])]\n",
    "\n",
    "\n",
    "\n",
    "df = df.drop(\"location\", axis=1)\n",
    "\n",
    "df.set_index(test[\"id\"])\n",
    "# df[\"id\"] = test[\"id\"]\n",
    "\n",
    "# df = df[[\"id\", \"prediction\"]]\n",
    "\n",
    "df[df < 0 ] = 0\n",
    "\n",
    "# NAME THE FILE \n",
    "df.to_csv(\"sub9.csv\")\n",
    "\n",
    "df\n"
   ]
  },
  {
   "cell_type": "code",
   "execution_count": null,
   "metadata": {},
   "outputs": [],
   "source": []
  }
 ],
 "metadata": {
  "kernelspec": {
   "display_name": "Python 3",
   "language": "python",
   "name": "python3"
  },
  "language_info": {
   "codemirror_mode": {
    "name": "ipython",
    "version": 3
   },
   "file_extension": ".py",
   "mimetype": "text/x-python",
   "name": "python",
   "nbconvert_exporter": "python",
   "pygments_lexer": "ipython3",
   "version": "3.10.7"
  },
  "orig_nbformat": 4
 },
 "nbformat": 4,
 "nbformat_minor": 2
}
