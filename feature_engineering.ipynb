{
 "cells": [
  {
   "cell_type": "markdown",
   "metadata": {},
   "source": [
    "# Notebook for doing feature engineering\n"
   ]
  },
  {
   "cell_type": "code",
   "execution_count": 251,
   "metadata": {},
   "outputs": [
    {
     "name": "stdout",
     "output_type": "stream",
     "text": [
      "The autoreload extension is already loaded. To reload it, use:\n",
      "  %reload_ext autoreload\n"
     ]
    }
   ],
   "source": [
    "%load_ext autoreload\n"
   ]
  },
  {
   "cell_type": "code",
   "execution_count": 252,
   "metadata": {},
   "outputs": [],
   "source": [
    "## reading the data \n",
    "\n",
    "%store -r dm\n",
    "dm = dm\n"
   ]
  },
  {
   "cell_type": "markdown",
   "metadata": {},
   "source": [
    "## Making months its own feature \n",
    "\n",
    "Idea: The month of the year will impact the weather trend and therefore the power generation\n"
   ]
  },
  {
   "cell_type": "code",
   "execution_count": 253,
   "metadata": {},
   "outputs": [],
   "source": [
    "import numpy as np \n",
    "import pandas as pd\n",
    "\n",
    "def month_func(x): \n",
    "    return -6* np.cos(2*np.pi/12 * x) + 6\n",
    "\n",
    "\n",
    "dm.data_A[\"month\"] = month_func((dm.data_A[\"date_forecast\"]).dt.month)\n",
    "dm.data_B[\"month\"] = month_func((dm.data_B[\"date_forecast\"]).dt.month)\n",
    "dm.data_C[\"month\"] = month_func((dm.data_C[\"date_forecast\"]).dt.month)\n",
    "#dm.data[\"month\"] = month_func((dm.data[\"date_forecast\"]).dt.month)\n",
    "\n",
    "dm.X_test_estimated_a[\"month\"] = month_func((dm.X_test_estimated_a[\"date_forecast\"]).dt.month)\n",
    "dm.X_test_estimated_b[\"month\"] = month_func((dm.X_test_estimated_b[\"date_forecast\"]).dt.month)\n",
    "dm.X_test_estimated_c[\"month\"] = month_func((dm.X_test_estimated_c[\"date_forecast\"]).dt.month)\n",
    "#dm.X_test_estimated[\"month\"] = month_func((dm.X_test_estimated[\"date_forecast\"]).dt.month)\n",
    "\n",
    "\n",
    "\n",
    "#dm.plot_feature(dm.X_test_estimated[dm.X_test_estimated[\"location\"] == 2], \"month\")\n"
   ]
  },
  {
   "cell_type": "markdown",
   "metadata": {},
   "source": [
    "## Making time of day its own feature\n",
    "\n",
    "Idea: time of day matters when the sun is up and not."
   ]
  },
  {
   "cell_type": "code",
   "execution_count": 254,
   "metadata": {},
   "outputs": [],
   "source": [
    "import numpy as np \n",
    "\n",
    "def hour_func(x): \n",
    "    return -12*np.cos(2*np.pi/24 * x) + 12\n",
    "\n",
    "dm.X_test_estimated_a[\"hours\"] = hour_func(dm.X_test_estimated_a[\"date_forecast\"].dt.hour)\n",
    "dm.X_test_estimated_b[\"hours\"] = hour_func(dm.X_test_estimated_b[\"date_forecast\"].dt.hour)\n",
    "dm.X_test_estimated_c[\"hours\"] = hour_func(dm.X_test_estimated_c[\"date_forecast\"].dt.hour)\n",
    "#dm.X_test_estimated[\"hours\"] = hour_func(dm.X_test_estimated[\"date_forecast\"].dt.hour)\n",
    "\n",
    "dm.data_A[\"hours\"] =  hour_func(dm.data_A[\"date_forecast\"].dt.hour)\n",
    "dm.data_B[\"hours\"] = hour_func(dm.data_B[\"date_forecast\"].dt.hour)\n",
    "dm.data_C[\"hours\"] = hour_func(dm.data_C[\"date_forecast\"].dt.hour)\n",
    "#dm.data[\"hours\"] = hour_func(dm.data[\"date_forecast\"].dt.hour)\n",
    "\n",
    "\n",
    "#dm.plot_feature(dm.data, \"hours\")\n"
   ]
  },
  {
   "cell_type": "code",
   "execution_count": 255,
   "metadata": {},
   "outputs": [],
   "source": [
    "import numpy as np \n",
    "\n",
    "def week_func(x): \n",
    "    return -26*np.cos(2*np.pi/52 * x) + 26\n",
    "\n",
    "dm.X_test_estimated_a[\"week_number\"] = week_func(dm.X_test_estimated_a[\"date_forecast\"].dt.isocalendar().week)\n",
    "dm.X_test_estimated_b[\"week_number\"] = week_func(dm.X_test_estimated_b[\"date_forecast\"].dt.isocalendar().week)\n",
    "dm.X_test_estimated_c[\"week_number\"] = week_func(dm.X_test_estimated_c[\"date_forecast\"].dt.isocalendar().week)\n",
    "#dm.X_test_estimated[\"week_number\"] = wweek_funceek_func(dm.X_test_estimated[\"date_forecast\"].dt.isocalendar().week)\n",
    "\n",
    "dm.data_A[\"week_number\"] =  week_func(dm.data_A[\"date_forecast\"].dt.isocalendar().week)\n",
    "dm.data_B[\"week_number\"] = week_func(dm.data_B[\"date_forecast\"].dt.isocalendar().week)\n",
    "dm.data_C[\"week_number\"] = week_func(dm.data_C[\"date_forecast\"].dt.isocalendar().week)\n",
    "##dm.data[\"week_number\"] = week_func(dm.data[\"date_forecast\"].dt.isocalendar().week)\n",
    "\n",
    "\n",
    "#dm.plot_feature(dm.data, \"week_number\")"
   ]
  },
  {
   "cell_type": "code",
   "execution_count": 256,
   "metadata": {},
   "outputs": [],
   "source": [
    "import numpy as np \n",
    "\n",
    "def day_func(x): \n",
    "    return -182.5*np.cos(2*np.pi/365 * x) + 182.5\n",
    "\n",
    "dm.X_test_estimated_a[\"day_year\"] = day_func(dm.X_test_estimated_a[\"date_forecast\"].dt.dayofyear)\n",
    "dm.X_test_estimated_b[\"day_year\"] = day_func(dm.X_test_estimated_b[\"date_forecast\"].dt.dayofyear)\n",
    "dm.X_test_estimated_c[\"day_year\"] = day_func(dm.X_test_estimated_c[\"date_forecast\"].dt.dayofyear)\n",
    "#dm.X_test_estimated[\"day_year\"] = day_func(dm.X_test_estimated[\"date_forecast\"].dt.dayofyear)\n",
    "\n",
    "dm.data_A[\"day_year\"] =  day_func(dm.data_A[\"date_forecast\"].dt.dayofyear)\n",
    "dm.data_B[\"day_year\"] = day_func(dm.data_B[\"date_forecast\"].dt.dayofyear)\n",
    "dm.data_C[\"day_year\"] = day_func(dm.data_C[\"date_forecast\"].dt.dayofyear)\n",
    "#dm.data[\"day_year\"] = day_func(dm.data[\"date_forecast\"].dt.dayofyear)\n",
    "\n",
    "\n",
    "#dm.plot_feature(dm.data_A, \"day_year\")"
   ]
  },
  {
   "cell_type": "code",
   "execution_count": 44,
   "metadata": {},
   "outputs": [],
   "source": [
    "import numpy as np \n",
    "\n",
    "# dm.X_test_estimated_a[\"year\"] = (dm.X_test_estimated_a[\"date_forecast\"].dt.year)\n",
    "# dm.X_test_estimated_b[\"year\"] = (dm.X_test_estimated_b[\"date_forecast\"].dt.year)\n",
    "# dm.X_test_estimated_c[\"year\"] = (dm.X_test_estimated_c[\"date_forecast\"].dt.year)\n",
    "# #dm.X_test_estimated[\"day_year\"] = day_func(dm.X_test_estimated[\"date_forecast\"].dt.dayofyear)\n",
    "\n",
    "# dm.data_A[\"year\"] =  (dm.data_A[\"date_forecast\"].dt.year)\n",
    "# dm.data_B[\"year\"] = (dm.data_B[\"date_forecast\"].dt.year)\n",
    "# dm.data_C[\"year\"] = (dm.data_C[\"date_forecast\"].dt.year)\n",
    "#dm.data[\"day_year\"] = day_func(dm.data[\"date_forecast\"].dt.dayofyear)\n"
   ]
  },
  {
   "cell_type": "markdown",
   "metadata": {},
   "source": [
    "## Making the sum of radiation its own feature \n",
    "\n",
    "Idea: we know from the feature scores that radiation is one of the most important ones. Therefore we make a feature that is its sum to emphisise its contribution. "
   ]
  },
  {
   "cell_type": "code",
   "execution_count": 257,
   "metadata": {},
   "outputs": [],
   "source": [
    "\n",
    "# dm.data_A[\"sum_rad:W\"] = (dm.data_A[\"clear_sky_rad:W\"] + dm.data_A[\"diffuse_rad:W\"] + dm.data_A[\"direct_rad:W\"])/3\n",
    "# dm.data_B[\"sum_rad:W\"] = (dm.data_B[\"clear_sky_rad:W\"] + dm.data_B[\"diffuse_rad:W\"] + dm.data_B[\"direct_rad:W\"])/3\n",
    "# dm.data_C[\"sum_rad:W\"] = (dm.data_C[\"clear_sky_rad:W\"] + dm.data_C[\"diffuse_rad:W\"] + dm.data_C[\"direct_rad:W\"])/3\n",
    "# #dm.data[\"sum_rad:W\"] = (dm.data[\"clear_sky_rad:W\"] + dm.data[\"diffuse_rad:W\"] + dm.data[\"direct_rad:W\"])/3\n",
    "\n",
    "# dm.X_test_estimated_a[\"sum_rad:W\"] = (dm.X_test_estimated_a[\"clear_sky_rad:W\"] + dm.X_test_estimated_a[\"diffuse_rad:W\"] + dm.X_test_estimated_a[\"direct_rad:W\"])/3\n",
    "# dm.X_test_estimated_b[\"sum_rad:W\"] = (dm.X_test_estimated_b[\"clear_sky_rad:W\"] + dm.X_test_estimated_b[\"diffuse_rad:W\"] + dm.X_test_estimated_b[\"direct_rad:W\"])/3\n",
    "# dm.X_test_estimated_c[\"sum_rad:W\"] = (dm.X_test_estimated_c[\"clear_sky_rad:W\"] + dm.X_test_estimated_c[\"diffuse_rad:W\"] + dm.X_test_estimated_c[\"direct_rad:W\"])/3\n",
    "# #dm.X_test_estimated[\"sum_rad:W\"] = (dm.X_test_estimated[\"clear_sky_rad:W\"] + dm.X_test_estimated[\"diffuse_rad:W\"] + dm.X_test_estimated[\"direct_rad:W\"])/3\n"
   ]
  },
  {
   "cell_type": "markdown",
   "metadata": {},
   "source": [
    "## Removing features \n",
    "\n",
    "Removing features not importatnt for the model makes the data smaller in complexity, this could help the model generalize.\n",
    "\n",
    "Also, removing redundancy will help the data explainability as the set gets smaller whilst containing the same information"
   ]
  },
  {
   "cell_type": "markdown",
   "metadata": {},
   "source": [
    "From the heatmap we can see that \n",
    "- clear sky energy and clear sky radiation is strongly correlated and we can remove one. \n",
    "- diffuse rad : W and diffuse rad :J are strongly correlated and we can remove one. \n",
    "- direct radiations are strongly correlated, we remove one. (here we decide wether to use the sum of radiations or one of the columns)\n",
    "- all the fresh snow correlate, only differ by how long period they measure. So for instance, fresh snow 12h correlate less to the 1h one, making sense. we remove 12h 6h 3h, leaving 24h and 1h. \n",
    "- we consider removing \"is day\" as its redundant, its strongly correlated to both radiation measures and clear sky energy, making it tell the same story. \n",
    "- remove effective cloud cover as its strongly correlated to total cloud cover \n",
    "- remove dew point or t_1000kh as they are strongly correlated \n",
    "- the snow density features does not contain enough values and should be removed \n",
    "\n",
    "Else, everything under a 0.2 in correlation to pv-measurement should be considered removed as it makes the data complex without providing information. "
   ]
  },
  {
   "cell_type": "markdown",
   "metadata": {},
   "source": [
    "### Running the store block will store the datasets from this notebook, with its engineered features, to be used in other notebooks\n"
   ]
  },
  {
   "cell_type": "code",
   "execution_count": 258,
   "metadata": {},
   "outputs": [
    {
     "name": "stdout",
     "output_type": "stream",
     "text": [
      "Stored 'dm' (Data_Manager)\n"
     ]
    }
   ],
   "source": [
    "%store dm\n"
   ]
  },
  {
   "cell_type": "markdown",
   "metadata": {},
   "source": [
    "### Store dm in a file to later retrieve from another directory"
   ]
  },
  {
   "cell_type": "code",
   "execution_count": 259,
   "metadata": {},
   "outputs": [],
   "source": [
    "from data_prep import dm_saver\n",
    "\n",
    "dms = dm_saver.DM_Saver()\n",
    "dms.set_data(dm)\n",
    "dms.save('dms')"
   ]
  },
  {
   "cell_type": "code",
   "execution_count": 260,
   "metadata": {},
   "outputs": [],
   "source": [
    "# Store as csv\n",
    "# dm.data_A.to_csv('data_A.csv')\n",
    "# dm.data_B.to_csv('data_B.csv')\n",
    "# dm.data_C.to_csv('data_C.csv')"
   ]
  }
 ],
 "metadata": {
  "kernelspec": {
   "display_name": "Python 3",
   "language": "python",
   "name": "python3"
  },
  "language_info": {
   "codemirror_mode": {
    "name": "ipython",
    "version": 3
   },
   "file_extension": ".py",
   "mimetype": "text/x-python",
   "name": "python",
   "nbconvert_exporter": "python",
   "pygments_lexer": "ipython3",
   "version": "3.10.11"
  },
  "orig_nbformat": 4
 },
 "nbformat": 4,
 "nbformat_minor": 2
}
