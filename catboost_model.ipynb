{
 "cells": [
  {
   "cell_type": "markdown",
   "metadata": {},
   "source": [
    "# Notebook for catboost model development and testing"
   ]
  },
  {
   "cell_type": "markdown",
   "metadata": {},
   "source": [
    "scores, frequency 15min: \n",
    "training on observed data only \n",
    "- 173 med objective=\"MultiRSME\", learning_rate=0.10931167365445349, colsample_bylevel=0.09963123954233088, max_depth=15, boosting_type=\"Plain\", bootstrap_type=\"MVS\"\n",
    "- 171 med objective=\"MAE\", learning_rate=0.10931167365445349, colsample_bylevel=0.09963123954233088, max_depth=15, boosting_type=\"Plain\", bootstrap_type=\"MVS\"\n",
    "- 180 med vanlig catboost, trent på time series data. \n",
    "\n",
    "training on both observed and estimated \n"
   ]
  },
  {
   "cell_type": "markdown",
   "metadata": {},
   "source": [
    "## Getting data\n",
    "\n",
    "trying \n",
    "- observed data as our training data\n",
    "- estimated data as our validation data\n",
    "- estimated testing as our test data "
   ]
  },
  {
   "cell_type": "markdown",
   "metadata": {},
   "source": [
    "## Training on observed and estimated data seperatly "
   ]
  },
  {
   "cell_type": "code",
   "execution_count": 89,
   "metadata": {},
   "outputs": [
    {
     "name": "stdout",
     "output_type": "stream",
     "text": [
      "(23141, 26) (23141,)\n"
     ]
    }
   ],
   "source": [
    "%store -r dm \n",
    "\n",
    "from sklearn.model_selection import train_test_split\n",
    "\n",
    "dm = dm\n",
    "\n",
    "X_A_train = dm.data_A_obs.iloc[:, 2:-1]\n",
    "y_A_train = dm.data_A_obs.iloc[:,1]\n",
    "X_B_train = dm.data_B_obs.iloc[:, 2:-1]\n",
    "y_B_train = dm.data_B_obs.iloc[:,1]\n",
    "X_C_train = dm.data_C_obs.iloc[:, 2:-1]\n",
    "y_C_train = dm.data_C_obs.iloc[:,1]\n",
    "\n",
    "X_A_val = dm.data_A_es.iloc[:, 2:-1]\n",
    "y_A_val = dm.data_A_es.iloc[:,1]\n",
    "X_B_val = dm.data_B_es.iloc[:, 2:-1]\n",
    "y_B_val = dm.data_B_es.iloc[:,1]\n",
    "X_C_val = dm.data_C_es.iloc[:, 2:-1]\n",
    "y_C_val = dm.data_C_es.iloc[:,1]\n",
    "\n",
    "print(X_C_train.shape, y_C_train.shape)\n",
    "\n",
    "X_A_submission = dm.X_test_estimated_a[dm.X_test_estimated_a.columns.intersection(X_A_train.columns)]\n",
    "X_B_submission = dm.X_test_estimated_b[dm.X_test_estimated_b.columns.intersection(X_B_train.columns)]\n",
    "X_C_submission = dm.X_test_estimated_c[dm.X_test_estimated_c.columns.intersection(X_C_train.columns)]\n"
   ]
  },
  {
   "cell_type": "markdown",
   "metadata": {},
   "source": [
    "## Training on combined observed and estimated data"
   ]
  },
  {
   "cell_type": "code",
   "execution_count": 90,
   "metadata": {},
   "outputs": [],
   "source": [
    "X_A_train = dm.data_A.iloc[:, 2:-1]\n",
    "y_A_train = dm.data_A.iloc[:,1]\n",
    "X_B_train = dm.data_B.iloc[:, 2:-1]\n",
    "y_B_train = dm.data_B.iloc[:,1]\n",
    "X_C_train = dm.data_C.iloc[:, 2:-1]\n",
    "y_C_train = dm.data_C.iloc[:,1]\n",
    "\n",
    "X_train_A, X_test_A, y_train_A, y_test_A = train_test_split(X_A_train, y_A_train, shuffle=True)\n",
    "X_train_B, X_test_B, y_train_B, y_test_B = train_test_split(X_B_train, y_B_train, shuffle=True)\n",
    "X_train_C, X_test_C, y_train_C, y_test_C = train_test_split(X_C_train, y_C_train, shuffle=True)\n",
    "\n",
    "X_A_submission = dm.X_test_estimated_a[dm.X_test_estimated_a.columns.intersection(X_A_train.columns)]\n",
    "X_B_submission = dm.X_test_estimated_b[dm.X_test_estimated_b.columns.intersection(X_B_train.columns)]\n",
    "X_C_submission = dm.X_test_estimated_c[dm.X_test_estimated_c.columns.intersection(X_C_train.columns)]\n"
   ]
  },
  {
   "cell_type": "markdown",
   "metadata": {},
   "source": [
    "## Using timeseries split to split our data "
   ]
  },
  {
   "cell_type": "code",
   "execution_count": 91,
   "metadata": {},
   "outputs": [],
   "source": [
    "from sklearn.model_selection import TimeSeriesSplit\n",
    "\n",
    "ts_cv = TimeSeriesSplit(\n",
    "    n_splits=10,\n",
    "    gap=15,\n",
    "    max_train_size=10000,\n",
    "    test_size=1000,\n",
    ")\n",
    "\n",
    "all_splits_A = list(ts_cv.split(X_A_train, y_A_train))\n",
    "all_splits_B = list(ts_cv.split(X_B_train, y_B_train))\n",
    "all_splits_C = list(ts_cv.split(X_C_train, y_C_train))\n",
    "\n",
    "\n"
   ]
  },
  {
   "cell_type": "code",
   "execution_count": 1,
   "metadata": {},
   "outputs": [],
   "source": [
    "from catboost import CatBoostRegressor\n",
    "\n",
    "catModel_A = CatBoostRegressor()\n",
    "catModel_B = CatBoostRegressor()\n",
    "catModel_C = CatBoostRegressor()"
   ]
  },
  {
   "cell_type": "markdown",
   "metadata": {},
   "source": [
    "## training on the time series split "
   ]
  },
  {
   "cell_type": "code",
   "execution_count": 2,
   "metadata": {},
   "outputs": [
    {
     "ename": "NameError",
     "evalue": "name 'all_splits_A' is not defined",
     "output_type": "error",
     "traceback": [
      "\u001b[0;31m---------------------------------------------------------------------------\u001b[0m",
      "\u001b[0;31mNameError\u001b[0m                                 Traceback (most recent call last)",
      "\u001b[1;32m/Users/jonasolsen/Documents/Skole/IIkt/5_semester/TDT4173 - Maskinlæring/group_project/catboost_model.ipynb Cell 12\u001b[0m line \u001b[0;36m4\n\u001b[1;32m      <a href='vscode-notebook-cell:/Users/jonasolsen/Documents/Skole/IIkt/5_semester/TDT4173%20-%20Maskinl%C3%A6ring/group_project/catboost_model.ipynb#X14sZmlsZQ%3D%3D?line=0'>1</a>\u001b[0m \u001b[39mfrom\u001b[39;00m \u001b[39msklearn\u001b[39;00m\u001b[39m.\u001b[39;00m\u001b[39mmetrics\u001b[39;00m \u001b[39mimport\u001b[39;00m mean_absolute_error\n\u001b[1;32m      <a href='vscode-notebook-cell:/Users/jonasolsen/Documents/Skole/IIkt/5_semester/TDT4173%20-%20Maskinl%C3%A6ring/group_project/catboost_model.ipynb#X14sZmlsZQ%3D%3D?line=1'>2</a>\u001b[0m \u001b[39mimport\u001b[39;00m \u001b[39mpandas\u001b[39;00m \u001b[39mas\u001b[39;00m \u001b[39mpd\u001b[39;00m\n\u001b[0;32m----> <a href='vscode-notebook-cell:/Users/jonasolsen/Documents/Skole/IIkt/5_semester/TDT4173%20-%20Maskinl%C3%A6ring/group_project/catboost_model.ipynb#X14sZmlsZQ%3D%3D?line=3'>4</a>\u001b[0m \u001b[39mfor\u001b[39;00m train, test \u001b[39min\u001b[39;00m (all_splits_A): \n\u001b[1;32m      <a href='vscode-notebook-cell:/Users/jonasolsen/Documents/Skole/IIkt/5_semester/TDT4173%20-%20Maskinl%C3%A6ring/group_project/catboost_model.ipynb#X14sZmlsZQ%3D%3D?line=5'>6</a>\u001b[0m     catModel_A\u001b[39m.\u001b[39mfit(X_A_train\u001b[39m.\u001b[39miloc[train], y_A_train\u001b[39m.\u001b[39miloc[train], silent\u001b[39m=\u001b[39m\u001b[39mTrue\u001b[39;00m, use_best_model\u001b[39m=\u001b[39m\u001b[39mTrue\u001b[39;00m, eval_set\u001b[39m=\u001b[39m(X_A_train\u001b[39m.\u001b[39miloc[test], y_A_train\u001b[39m.\u001b[39miloc[test]))\n\u001b[1;32m      <a href='vscode-notebook-cell:/Users/jonasolsen/Documents/Skole/IIkt/5_semester/TDT4173%20-%20Maskinl%C3%A6ring/group_project/catboost_model.ipynb#X14sZmlsZQ%3D%3D?line=7'>8</a>\u001b[0m     preds_A \u001b[39m=\u001b[39m pd\u001b[39m.\u001b[39mDataFrame(catModel_A\u001b[39m.\u001b[39mpredict(X_A_train\u001b[39m.\u001b[39miloc[test]))\n",
      "\u001b[0;31mNameError\u001b[0m: name 'all_splits_A' is not defined"
     ]
    }
   ],
   "source": [
    "\n",
    "from sklearn.metrics import mean_absolute_error\n",
    "import pandas as pd\n",
    "\n",
    "for train, test in (all_splits_A): \n",
    "\n",
    "    catModel_A.fit(X_A_train.iloc[train], y_A_train.iloc[train], silent=True, use_best_model=True, eval_set=(X_A_train.iloc[test], y_A_train.iloc[test]))\n",
    "\n",
    "    preds_A = pd.DataFrame(catModel_A.predict(X_A_train.iloc[test]))\n",
    "    actual = y_A_train.iloc[test]\n",
    "\n",
    "    print(\"CURRENT SCORING A ----->   \", mean_absolute_error(actual, preds_A))\n",
    "\n",
    "for train, test in (all_splits_B): \n",
    "\n",
    "    catModel_B.fit(X_B_train.iloc[train], y_B_train.iloc[train], silent=True, use_best_model=True, eval_set=(X_B_train.iloc[test], y_B_train.iloc[test]))\n",
    "\n",
    "    preds_B = pd.DataFrame(catModel_B.predict(X_B_train.iloc[test]))\n",
    "    actual = y_B_train.iloc[test]\n",
    "\n",
    "    print(\"CURRENT SCORING B ----->   \", mean_absolute_error(actual, preds_B))\n",
    "\n",
    "for train, test in (all_splits_C): \n",
    "\n",
    "    catModel_C.fit(X_C_train.iloc[train], y_C_train.iloc[train], silent=True, use_best_model=True, eval_set=(X_C_train.iloc[test], y_C_train.iloc[test]))\n",
    "\n",
    "    preds_C = pd.DataFrame(catModel_C.predict(X_C_train.iloc[test]))\n",
    "    actual = y_C_train.iloc[test]\n",
    "\n",
    "    print(\"CURRENT SCORING C ----->   \", mean_absolute_error(actual, preds_C))\n"
   ]
  },
  {
   "cell_type": "code",
   "execution_count": 101,
   "metadata": {},
   "outputs": [
    {
     "name": "stdout",
     "output_type": "stream",
     "text": [
      "CURRENT SCORING A ----->    238.2081115564069\n",
      "CURRENT SCORING A ----->    307.4649532526857\n",
      "CURRENT SCORING A ----->    348.72257215076803\n",
      "CURRENT SCORING A ----->    318.6929348355071\n",
      "CURRENT SCORING A ----->    254.47124290495884\n",
      "CURRENT SCORING A ----->    133.87777225370743\n",
      "CURRENT SCORING A ----->    60.36754405596306\n",
      "CURRENT SCORING A ----->    31.40668219331433\n",
      "CURRENT SCORING A ----->    143.7804695768895\n",
      "CURRENT SCORING A ----->    284.05657791089664\n",
      "CURRENT SCORING B ----->    85.55463551332689\n",
      "CURRENT SCORING B ----->    33.27661702464657\n",
      "CURRENT SCORING B ----->    5.161436247523319\n",
      "CURRENT SCORING B ----->    4.224951587201841\n",
      "CURRENT SCORING B ----->    13.027637047945273\n",
      "CURRENT SCORING B ----->    60.37406738312857\n",
      "CURRENT SCORING B ----->    52.440665972971246\n",
      "CURRENT SCORING B ----->    7.277092049872223\n",
      "CURRENT SCORING B ----->    15.441143971740457\n",
      "CURRENT SCORING B ----->    66.8439742097018\n",
      "CURRENT SCORING C ----->    52.20386854042028\n",
      "CURRENT SCORING C ----->    26.45436664837208\n",
      "CURRENT SCORING C ----->    9.957429215557474\n",
      "CURRENT SCORING C ----->    1.9677028462547597\n",
      "CURRENT SCORING C ----->    3.0990883910094253\n",
      "CURRENT SCORING C ----->    12.457355197610031\n",
      "CURRENT SCORING C ----->    29.40318051244774\n",
      "CURRENT SCORING C ----->    7.105417333284683\n",
      "CURRENT SCORING C ----->    9.975046775919148\n",
      "CURRENT SCORING C ----->    52.91238597372148\n"
     ]
    }
   ],
   "source": []
  },
  {
   "cell_type": "code",
   "execution_count": 94,
   "metadata": {},
   "outputs": [
    {
     "name": "stdout",
     "output_type": "stream",
     "text": [
      "184.4962396146782\n",
      "256.44249046937244\n",
      "288.5020896637525\n",
      "266.4465593445813\n",
      "201.70556159341174\n",
      "127.5494374866649\n",
      "35.809863582953604\n",
      "21.81419548022472\n",
      "92.16732959607698\n",
      "260.16515976622156\n"
     ]
    }
   ],
   "source": [
    "from sklearn.metrics import mean_absolute_error\n",
    "import pandas as pd\n",
    "\n",
    "for train, test in all_splits_A: \n",
    "    preds_A = pd.DataFrame(catModel_A.predict(X_A_train.iloc[test]))\n",
    "    actual = y_A_train.iloc[test]\n",
    "\n",
    "    print(mean_absolute_error(actual, preds_A))\n",
    "\n"
   ]
  },
  {
   "cell_type": "code",
   "execution_count": 110,
   "metadata": {},
   "outputs": [
    {
     "name": "stdout",
     "output_type": "stream",
     "text": [
      "200.7840277308012\n",
      "44.401694483579156\n",
      "26.608341457261993\n",
      "96.71783867686663\n"
     ]
    }
   ],
   "source": [
    "from sklearn.metrics import mean_absolute_error\n",
    "import pandas as pd\n",
    "\n",
    "\n",
    "pred_A = pd.DataFrame(catModel_A.predict(X_test_A))\n",
    "pred_B = pd.DataFrame(catModel_B.predict(X_test_B))\n",
    "pred_C = pd.DataFrame(catModel_C.predict(X_test_C))\n",
    "\n",
    "print(mean_absolute_error(y_test_A, pred_A))\n",
    "print(mean_absolute_error(y_test_B, pred_B))\n",
    "print(mean_absolute_error(y_test_C, pred_C))\n",
    "\n",
    "preds = pd.concat([pred_A, pred_B, pred_C], ignore_index=True)\n",
    "gt = pd.concat([y_test_A, y_test_B, y_test_C], ignore_index=True)\n",
    "\n",
    "print(mean_absolute_error(gt, preds))\n",
    "\n"
   ]
  },
  {
   "cell_type": "code",
   "execution_count": 106,
   "metadata": {},
   "outputs": [
    {
     "ename": "TypeError",
     "evalue": "Cannot use method 'nlargest' with dtype object",
     "output_type": "error",
     "traceback": [
      "\u001b[0;31m---------------------------------------------------------------------------\u001b[0m",
      "\u001b[0;31mTypeError\u001b[0m                                 Traceback (most recent call last)",
      "\u001b[1;32m/Users/jonasolsen/Documents/Skole/IIkt/5_semester/TDT4173 - Maskinlæring/group_project/catboost_model.ipynb Cell 16\u001b[0m line \u001b[0;36m4\n\u001b[1;32m      <a href='vscode-notebook-cell:/Users/jonasolsen/Documents/Skole/IIkt/5_semester/TDT4173%20-%20Maskinl%C3%A6ring/group_project/catboost_model.ipynb#X11sZmlsZQ%3D%3D?line=0'>1</a>\u001b[0m \u001b[39mimport\u001b[39;00m \u001b[39mpandas\u001b[39;00m \u001b[39mas\u001b[39;00m \u001b[39mpd\u001b[39;00m\n\u001b[1;32m      <a href='vscode-notebook-cell:/Users/jonasolsen/Documents/Skole/IIkt/5_semester/TDT4173%20-%20Maskinl%C3%A6ring/group_project/catboost_model.ipynb#X11sZmlsZQ%3D%3D?line=2'>3</a>\u001b[0m (pd\u001b[39m.\u001b[39;49mSeries(catModel_A\u001b[39m.\u001b[39;49mfeature_importances_, index\u001b[39m=\u001b[39;49mX_A_test\u001b[39m.\u001b[39;49mcolumns)\n\u001b[0;32m----> <a href='vscode-notebook-cell:/Users/jonasolsen/Documents/Skole/IIkt/5_semester/TDT4173%20-%20Maskinl%C3%A6ring/group_project/catboost_model.ipynb#X11sZmlsZQ%3D%3D?line=3'>4</a>\u001b[0m    \u001b[39m.\u001b[39;49mnlargest(\u001b[39m20\u001b[39;49m)\n\u001b[1;32m      <a href='vscode-notebook-cell:/Users/jonasolsen/Documents/Skole/IIkt/5_semester/TDT4173%20-%20Maskinl%C3%A6ring/group_project/catboost_model.ipynb#X11sZmlsZQ%3D%3D?line=4'>5</a>\u001b[0m    \u001b[39m.\u001b[39mplot(kind\u001b[39m=\u001b[39m\u001b[39m'\u001b[39m\u001b[39mbarh\u001b[39m\u001b[39m'\u001b[39m)) \n",
      "File \u001b[0;32m/Library/Frameworks/Python.framework/Versions/3.10/lib/python3.10/site-packages/pandas/core/series.py:4104\u001b[0m, in \u001b[0;36mSeries.nlargest\u001b[0;34m(self, n, keep)\u001b[0m\n\u001b[1;32m   4006\u001b[0m \u001b[39mdef\u001b[39;00m \u001b[39mnlargest\u001b[39m(\n\u001b[1;32m   4007\u001b[0m     \u001b[39mself\u001b[39m, n: \u001b[39mint\u001b[39m \u001b[39m=\u001b[39m \u001b[39m5\u001b[39m, keep: Literal[\u001b[39m\"\u001b[39m\u001b[39mfirst\u001b[39m\u001b[39m\"\u001b[39m, \u001b[39m\"\u001b[39m\u001b[39mlast\u001b[39m\u001b[39m\"\u001b[39m, \u001b[39m\"\u001b[39m\u001b[39mall\u001b[39m\u001b[39m\"\u001b[39m] \u001b[39m=\u001b[39m \u001b[39m\"\u001b[39m\u001b[39mfirst\u001b[39m\u001b[39m\"\u001b[39m\n\u001b[1;32m   4008\u001b[0m ) \u001b[39m-\u001b[39m\u001b[39m>\u001b[39m Series:\n\u001b[1;32m   4009\u001b[0m \u001b[39m    \u001b[39m\u001b[39m\"\"\"\u001b[39;00m\n\u001b[1;32m   4010\u001b[0m \u001b[39m    Return the largest `n` elements.\u001b[39;00m\n\u001b[1;32m   4011\u001b[0m \n\u001b[0;32m   (...)\u001b[0m\n\u001b[1;32m   4102\u001b[0m \u001b[39m    dtype: int64\u001b[39;00m\n\u001b[1;32m   4103\u001b[0m \u001b[39m    \"\"\"\u001b[39;00m\n\u001b[0;32m-> 4104\u001b[0m     \u001b[39mreturn\u001b[39;00m selectn\u001b[39m.\u001b[39;49mSelectNSeries(\u001b[39mself\u001b[39;49m, n\u001b[39m=\u001b[39;49mn, keep\u001b[39m=\u001b[39;49mkeep)\u001b[39m.\u001b[39;49mnlargest()\n",
      "File \u001b[0;32m/Library/Frameworks/Python.framework/Versions/3.10/lib/python3.10/site-packages/pandas/core/methods/selectn.py:57\u001b[0m, in \u001b[0;36mSelectN.nlargest\u001b[0;34m(self)\u001b[0m\n\u001b[1;32m     55\u001b[0m \u001b[39m@final\u001b[39m\n\u001b[1;32m     56\u001b[0m \u001b[39mdef\u001b[39;00m \u001b[39mnlargest\u001b[39m(\u001b[39mself\u001b[39m):\n\u001b[0;32m---> 57\u001b[0m     \u001b[39mreturn\u001b[39;00m \u001b[39mself\u001b[39;49m\u001b[39m.\u001b[39;49mcompute(\u001b[39m\"\u001b[39;49m\u001b[39mnlargest\u001b[39;49m\u001b[39m\"\u001b[39;49m)\n",
      "File \u001b[0;32m/Library/Frameworks/Python.framework/Versions/3.10/lib/python3.10/site-packages/pandas/core/methods/selectn.py:96\u001b[0m, in \u001b[0;36mSelectNSeries.compute\u001b[0;34m(self, method)\u001b[0m\n\u001b[1;32m     94\u001b[0m dtype \u001b[39m=\u001b[39m \u001b[39mself\u001b[39m\u001b[39m.\u001b[39mobj\u001b[39m.\u001b[39mdtype\n\u001b[1;32m     95\u001b[0m \u001b[39mif\u001b[39;00m \u001b[39mnot\u001b[39;00m \u001b[39mself\u001b[39m\u001b[39m.\u001b[39mis_valid_dtype_n_method(dtype):\n\u001b[0;32m---> 96\u001b[0m     \u001b[39mraise\u001b[39;00m \u001b[39mTypeError\u001b[39;00m(\u001b[39mf\u001b[39m\u001b[39m\"\u001b[39m\u001b[39mCannot use method \u001b[39m\u001b[39m'\u001b[39m\u001b[39m{\u001b[39;00mmethod\u001b[39m}\u001b[39;00m\u001b[39m'\u001b[39m\u001b[39m with dtype \u001b[39m\u001b[39m{\u001b[39;00mdtype\u001b[39m}\u001b[39;00m\u001b[39m\"\u001b[39m)\n\u001b[1;32m     98\u001b[0m \u001b[39mif\u001b[39;00m n \u001b[39m<\u001b[39m\u001b[39m=\u001b[39m \u001b[39m0\u001b[39m:\n\u001b[1;32m     99\u001b[0m     \u001b[39mreturn\u001b[39;00m \u001b[39mself\u001b[39m\u001b[39m.\u001b[39mobj[[]]\n",
      "\u001b[0;31mTypeError\u001b[0m: Cannot use method 'nlargest' with dtype object"
     ]
    }
   ],
   "source": [
    "import pandas as pd\n",
    "\n",
    "(pd.Series(catModel_A.feature_importances_, index=X_A_test.columns)\n",
    "   .nlargest(20)\n",
    "   .plot(kind='barh')) "
   ]
  },
  {
   "cell_type": "code",
   "execution_count": 109,
   "metadata": {},
   "outputs": [
    {
     "data": {
      "text/html": [
       "<div>\n",
       "<style scoped>\n",
       "    .dataframe tbody tr th:only-of-type {\n",
       "        vertical-align: middle;\n",
       "    }\n",
       "\n",
       "    .dataframe tbody tr th {\n",
       "        vertical-align: top;\n",
       "    }\n",
       "\n",
       "    .dataframe thead th {\n",
       "        text-align: right;\n",
       "    }\n",
       "</style>\n",
       "<table border=\"1\" class=\"dataframe\">\n",
       "  <thead>\n",
       "    <tr style=\"text-align: right;\">\n",
       "      <th></th>\n",
       "      <th>prediction</th>\n",
       "    </tr>\n",
       "  </thead>\n",
       "  <tbody>\n",
       "    <tr>\n",
       "      <th>0</th>\n",
       "      <td>1.142758e+01</td>\n",
       "    </tr>\n",
       "    <tr>\n",
       "      <th>1</th>\n",
       "      <td>1.164954e+01</td>\n",
       "    </tr>\n",
       "    <tr>\n",
       "      <th>2</th>\n",
       "      <td>1.538397e+01</td>\n",
       "    </tr>\n",
       "    <tr>\n",
       "      <th>3</th>\n",
       "      <td>7.666517e+01</td>\n",
       "    </tr>\n",
       "    <tr>\n",
       "      <th>4</th>\n",
       "      <td>3.583734e+02</td>\n",
       "    </tr>\n",
       "    <tr>\n",
       "      <th>...</th>\n",
       "      <td>...</td>\n",
       "    </tr>\n",
       "    <tr>\n",
       "      <th>2155</th>\n",
       "      <td>3.432572e+01</td>\n",
       "    </tr>\n",
       "    <tr>\n",
       "      <th>2156</th>\n",
       "      <td>7.710396e+00</td>\n",
       "    </tr>\n",
       "    <tr>\n",
       "      <th>2157</th>\n",
       "      <td>2.305723e-01</td>\n",
       "    </tr>\n",
       "    <tr>\n",
       "      <th>2158</th>\n",
       "      <td>-1.147154e-07</td>\n",
       "    </tr>\n",
       "    <tr>\n",
       "      <th>2159</th>\n",
       "      <td>-1.278724e-07</td>\n",
       "    </tr>\n",
       "  </tbody>\n",
       "</table>\n",
       "<p>2160 rows × 1 columns</p>\n",
       "</div>"
      ],
      "text/plain": [
       "        prediction\n",
       "0     1.142758e+01\n",
       "1     1.164954e+01\n",
       "2     1.538397e+01\n",
       "3     7.666517e+01\n",
       "4     3.583734e+02\n",
       "...            ...\n",
       "2155  3.432572e+01\n",
       "2156  7.710396e+00\n",
       "2157  2.305723e-01\n",
       "2158 -1.147154e-07\n",
       "2159 -1.278724e-07\n",
       "\n",
       "[2160 rows x 1 columns]"
      ]
     },
     "execution_count": 109,
     "metadata": {},
     "output_type": "execute_result"
    }
   ],
   "source": [
    "## Specify the model to be used\n",
    "pred_A = catModel_A.predict(X_A_submission)\n",
    "pred_B = catModel_B.predict(X_B_submission)\n",
    "pred_C = catModel_C.predict(X_C_submission)\n",
    " \n",
    "test = pd.read_csv('test.csv')\n",
    "\n",
    "df_A = pd.DataFrame()\n",
    "\n",
    "df_A[\"prediction\"] = pred_A\n",
    "df_A[\"location\"] = \"A\"\n",
    "\n",
    "df_B = pd.DataFrame()\n",
    "\n",
    "df_B[\"prediction\"] = pred_B\n",
    "df_B[\"location\"] = \"B\"\n",
    "\n",
    "df_C = pd.DataFrame()\n",
    "\n",
    "df_C[\"prediction\"] = pred_C\n",
    "df_C[\"location\"] = \"C\"\n",
    "\n",
    "df_mid = pd.concat([df_A, df_B], ignore_index=True)\n",
    "\n",
    "df = pd.concat([df_mid, df_C], join=\"inner\", ignore_index=True)\n",
    "\n",
    "\n",
    "\n",
    "df = df.drop(\"location\", axis=1)\n",
    "\n",
    "\n",
    "# df[\"id\"] = test[\"id\"]\n",
    "\n",
    "# df = df[[\"id\", \"prediction\"]]\n",
    "\n",
    "#df[df<0] = 0\n",
    "\n",
    "# NAME THE FILE \n",
    "df.to_csv(\"sub33.csv\")\n",
    "\n",
    "df"
   ]
  }
 ],
 "metadata": {
  "kernelspec": {
   "display_name": "Python 3",
   "language": "python",
   "name": "python3"
  },
  "language_info": {
   "codemirror_mode": {
    "name": "ipython",
    "version": 3
   },
   "file_extension": ".py",
   "mimetype": "text/x-python",
   "name": "python",
   "nbconvert_exporter": "python",
   "pygments_lexer": "ipython3",
   "version": "3.10.11"
  },
  "orig_nbformat": 4
 },
 "nbformat": 4,
 "nbformat_minor": 2
}
