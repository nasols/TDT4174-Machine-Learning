{
 "cells": [
  {
   "cell_type": "code",
   "execution_count": 13,
   "metadata": {},
   "outputs": [],
   "source": [
    "import autokeras as ak\n",
    "import numpy as np\n",
    "import pandas as pd\n",
    "import tensorflow as tf\n",
    "import sys"
   ]
  },
  {
   "cell_type": "code",
   "execution_count": 14,
   "metadata": {},
   "outputs": [
    {
     "name": "stdout",
     "output_type": "stream",
     "text": [
      "The autoreload extension is already loaded. To reload it, use:\n",
      "  %reload_ext autoreload\n"
     ]
    }
   ],
   "source": [
    "%load_ext autoreload\n",
    "%autoreload 2\n",
    "\n",
    "sys.path.append('../')"
   ]
  },
  {
   "cell_type": "code",
   "execution_count": 15,
   "metadata": {},
   "outputs": [
    {
     "name": "stdout",
     "output_type": "stream",
     "text": [
      "Stored variables and their in-db values:\n",
      "X_test_estimated_a_corr             ->                      absolute_humidity_2m:gm3  air\n",
      "X_test_estimated_b_corr             ->                      absolute_humidity_2m:gm3  air\n",
      "X_test_estimated_c_corr             ->                      absolute_humidity_2m:gm3  air\n",
      "const_idx                           -> ([34082, 34083], [10967, 10968, 10969, 10970, 1097\n",
      "data_A                              ->        pv_measurement       date_forecast  absolut\n",
      "data_B                              ->        pv_measurement       date_forecast  absolut\n",
      "data_C                              ->        pv_measurement       date_forecast  absolut\n",
      "dm                                  -> '<unavailable>'\n",
      "dml                                 -> '<unavailable>'\n"
     ]
    }
   ],
   "source": [
    "\n",
    "%store"
   ]
  },
  {
   "cell_type": "code",
   "execution_count": 16,
   "metadata": {},
   "outputs": [
    {
     "ename": "NameError",
     "evalue": "name 'train_file_path' is not defined",
     "output_type": "error",
     "traceback": [
      "\u001b[0;31m---------------------------------------------------------------------------\u001b[0m",
      "\u001b[0;31mNameError\u001b[0m                                 Traceback (most recent call last)",
      "\u001b[1;32m/Users/teodorlindell/Repos/TDT4174-Machine-Learning/teodor/teo_autokeras.ipynb Cell 4\u001b[0m line \u001b[0;36m8\n\u001b[1;32m      <a href='vscode-notebook-cell:/Users/teodorlindell/Repos/TDT4174-Machine-Learning/teodor/teo_autokeras.ipynb#W1sZmlsZQ%3D%3D?line=1'>2</a>\u001b[0m reg \u001b[39m=\u001b[39m ak\u001b[39m.\u001b[39mStructuredDataRegressor(\n\u001b[1;32m      <a href='vscode-notebook-cell:/Users/teodorlindell/Repos/TDT4174-Machine-Learning/teodor/teo_autokeras.ipynb#W1sZmlsZQ%3D%3D?line=2'>3</a>\u001b[0m     overwrite\u001b[39m=\u001b[39m\u001b[39mTrue\u001b[39;00m, max_trials\u001b[39m=\u001b[39m\u001b[39m3\u001b[39m\n\u001b[1;32m      <a href='vscode-notebook-cell:/Users/teodorlindell/Repos/TDT4174-Machine-Learning/teodor/teo_autokeras.ipynb#W1sZmlsZQ%3D%3D?line=3'>4</a>\u001b[0m )  \u001b[39m# It tries 3 different models.\u001b[39;00m\n\u001b[1;32m      <a href='vscode-notebook-cell:/Users/teodorlindell/Repos/TDT4174-Machine-Learning/teodor/teo_autokeras.ipynb#W1sZmlsZQ%3D%3D?line=4'>5</a>\u001b[0m \u001b[39m# Feed the structured data regressor with training data.\u001b[39;00m\n\u001b[1;32m      <a href='vscode-notebook-cell:/Users/teodorlindell/Repos/TDT4174-Machine-Learning/teodor/teo_autokeras.ipynb#W1sZmlsZQ%3D%3D?line=5'>6</a>\u001b[0m reg\u001b[39m.\u001b[39mfit(\n\u001b[1;32m      <a href='vscode-notebook-cell:/Users/teodorlindell/Repos/TDT4174-Machine-Learning/teodor/teo_autokeras.ipynb#W1sZmlsZQ%3D%3D?line=6'>7</a>\u001b[0m     \u001b[39m# The path to the train.csv file.\u001b[39;00m\n\u001b[0;32m----> <a href='vscode-notebook-cell:/Users/teodorlindell/Repos/TDT4174-Machine-Learning/teodor/teo_autokeras.ipynb#W1sZmlsZQ%3D%3D?line=7'>8</a>\u001b[0m     train_file_path,\n\u001b[1;32m      <a href='vscode-notebook-cell:/Users/teodorlindell/Repos/TDT4174-Machine-Learning/teodor/teo_autokeras.ipynb#W1sZmlsZQ%3D%3D?line=8'>9</a>\u001b[0m     \u001b[39m# The name of the label column.\u001b[39;00m\n\u001b[1;32m     <a href='vscode-notebook-cell:/Users/teodorlindell/Repos/TDT4174-Machine-Learning/teodor/teo_autokeras.ipynb#W1sZmlsZQ%3D%3D?line=9'>10</a>\u001b[0m     \u001b[39m\"\u001b[39m\u001b[39mPrice\u001b[39m\u001b[39m\"\u001b[39m,\n\u001b[1;32m     <a href='vscode-notebook-cell:/Users/teodorlindell/Repos/TDT4174-Machine-Learning/teodor/teo_autokeras.ipynb#W1sZmlsZQ%3D%3D?line=10'>11</a>\u001b[0m     epochs\u001b[39m=\u001b[39m\u001b[39m10\u001b[39m,\n\u001b[1;32m     <a href='vscode-notebook-cell:/Users/teodorlindell/Repos/TDT4174-Machine-Learning/teodor/teo_autokeras.ipynb#W1sZmlsZQ%3D%3D?line=11'>12</a>\u001b[0m )\n\u001b[1;32m     <a href='vscode-notebook-cell:/Users/teodorlindell/Repos/TDT4174-Machine-Learning/teodor/teo_autokeras.ipynb#W1sZmlsZQ%3D%3D?line=12'>13</a>\u001b[0m \u001b[39m# Predict with the best model.\u001b[39;00m\n\u001b[1;32m     <a href='vscode-notebook-cell:/Users/teodorlindell/Repos/TDT4174-Machine-Learning/teodor/teo_autokeras.ipynb#W1sZmlsZQ%3D%3D?line=13'>14</a>\u001b[0m predicted_y \u001b[39m=\u001b[39m reg\u001b[39m.\u001b[39mpredict(test_file_path)\n",
      "\u001b[0;31mNameError\u001b[0m: name 'train_file_path' is not defined"
     ]
    }
   ],
   "source": [
    "# Initialize the structured data regressor.\n",
    "reg = ak.StructuredDataRegressor(\n",
    "    overwrite=True, max_trials=3\n",
    ")  # It tries 3 different models.\n",
    "# Feed the structured data regressor with training data.\n",
    "reg.fit(\n",
    "    # The path to the train.csv file.\n",
    "    train_file_path,\n",
    "    # The name of the label column.\n",
    "    \"Price\",\n",
    "    epochs=10,\n",
    ")\n",
    "# Predict with the best model.\n",
    "predicted_y = reg.predict(test_file_path)\n",
    "# Evaluate the best model with testing data.\n",
    "print(reg.evaluate(test_file_path, \"Price\"))"
   ]
  }
 ],
 "metadata": {
  "kernelspec": {
   "display_name": "myenv",
   "language": "python",
   "name": "python3"
  },
  "language_info": {
   "codemirror_mode": {
    "name": "ipython",
    "version": 3
   },
   "file_extension": ".py",
   "mimetype": "text/x-python",
   "name": "python",
   "nbconvert_exporter": "python",
   "pygments_lexer": "ipython3",
   "version": "3.11.2"
  }
 },
 "nbformat": 4,
 "nbformat_minor": 2
}
