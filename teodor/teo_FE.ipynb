{
 "cells": [
  {
   "cell_type": "markdown",
   "metadata": {},
   "source": [
    "Straight copy of log_FE"
   ]
  },
  {
   "cell_type": "code",
   "execution_count": 1,
   "metadata": {},
   "outputs": [],
   "source": [
    "import sys\n",
    "import numpy as np\n",
    "import pandas as pd"
   ]
  },
  {
   "cell_type": "markdown",
   "metadata": {},
   "source": [
    "## Load DMS and store object"
   ]
  },
  {
   "cell_type": "code",
   "execution_count": 2,
   "metadata": {},
   "outputs": [],
   "source": [
    "sys.path.append('../')\n",
    "\n",
    "from data_prep import dm_saver, data_manager\n",
    "\n",
    "dms = dm_saver.DM_Saver.load('../dms')\n",
    "\n",
    "dml = data_manager.Data_Manager()\n",
    "\n",
    "dml.dms2dm(dms)"
   ]
  },
  {
   "cell_type": "markdown",
   "metadata": {},
   "source": [
    "## Locating constant pvm y-intervals\n",
    "Dataset B and C has 'holes' in y_train, where pv_measurement is constant. Therefore we don't want to train on this data and can remove the corresponding rows for both X and Y"
   ]
  },
  {
   "cell_type": "code",
   "execution_count": 3,
   "metadata": {},
   "outputs": [],
   "source": [
    "y_hole_length = 200\n",
    "from helpers import find_const_interval"
   ]
  },
  {
   "cell_type": "code",
   "execution_count": 4,
   "metadata": {},
   "outputs": [
    {
     "name": "stdout",
     "output_type": "stream",
     "text": [
      "y_train_a anomalies: 2\n",
      "y_train_b anomalies: 17\n",
      "y_train_c anomalies: 15\n"
     ]
    }
   ],
   "source": [
    "# TAKES NO TIME TO RUN\n",
    "y_train_a_const_idx, ca = find_const_interval(dml.train_a, 'pv_measurement', y_hole_length)\n",
    "print('y_train_a anomalies:',ca)\n",
    "y_train_b_const_idx, cb = find_const_interval(dml.train_b, 'pv_measurement', y_hole_length)\n",
    "print('y_train_b anomalies:',cb)\n",
    "y_train_c_const_idx, cc = find_const_interval(dml.train_c, 'pv_measurement', y_hole_length)\n",
    "print('y_train_c anomalies:',cc)\n"
   ]
  },
  {
   "cell_type": "markdown",
   "metadata": {},
   "source": [
    "### Deleting the rows where pvm is const"
   ]
  },
  {
   "cell_type": "code",
   "execution_count": 5,
   "metadata": {},
   "outputs": [],
   "source": [
    "train_a = dml.train_a\n",
    "train_b = dml.train_b\n",
    "train_c = dml.train_c"
   ]
  },
  {
   "cell_type": "code",
   "execution_count": 6,
   "metadata": {},
   "outputs": [],
   "source": [
    "date_forecast_a_const = dml.train_a.iloc[y_train_a_const_idx]['date_forecast']\n",
    "date_forecast_a_const_values = date_forecast_a_const.values\n",
    "train_a = train_a[~train_a['date_forecast'].isin(date_forecast_a_const_values)]\n",
    "\n",
    "date_forecast_b_const = dml.train_b.iloc[y_train_b_const_idx]['date_forecast']\n",
    "date_forecast_b_const_values = date_forecast_b_const.values\n",
    "train_b = train_b[~train_b['date_forecast'].isin(date_forecast_b_const_values)]\n",
    "\n",
    "date_forecast_c_const = dml.train_c.iloc[y_train_c_const_idx]['date_forecast']\n",
    "date_forecast_c_const_values = date_forecast_c_const.values\n",
    "train_c = train_c[~train_c['date_forecast'].isin(date_forecast_c_const_values)]\n"
   ]
  },
  {
   "cell_type": "code",
   "execution_count": 9,
   "metadata": {},
   "outputs": [],
   "source": [
    "# By running this block, the dm train_a etc. will consist of combined x and y obs and est data\n",
    "\n",
    "dml.train_a = train_a\n",
    "dml.train_b = train_b\n",
    "dml.train_c = train_c"
   ]
  },
  {
   "cell_type": "markdown",
   "metadata": {},
   "source": [
    "## Normalizing the train data and saving the amplitude"
   ]
  },
  {
   "cell_type": "code",
   "execution_count": 10,
   "metadata": {},
   "outputs": [
    {
     "name": "stdout",
     "output_type": "stream",
     "text": [
      "A:\n",
      " count    34083.000000\n",
      "mean       630.631711\n",
      "std       1165.926622\n",
      "min          0.000000\n",
      "25%          0.000000\n",
      "50%          5.940000\n",
      "75%        678.150000\n",
      "max       5733.420000\n",
      "Name: pv_measurement, dtype: float64\n",
      "B:\n",
      " count    29132.000000\n",
      "mean        99.522841\n",
      "std        203.946382\n",
      "min         -0.000000\n",
      "25%         -0.000000\n",
      "50%          0.000000\n",
      "75%         83.662500\n",
      "max       1152.300000\n",
      "Name: pv_measurement, dtype: float64\n",
      "C:\n",
      " count    23214.000000\n",
      "mean        87.265551\n",
      "std        173.398144\n",
      "min         -0.000000\n",
      "25%          0.000000\n",
      "50%          0.000000\n",
      "75%         88.200000\n",
      "max        999.600000\n",
      "Name: pv_measurement, dtype: float64\n"
     ]
    }
   ],
   "source": [
    "pv_a = dml.train_a['pv_measurement']\n",
    "pv_b = dml.train_b['pv_measurement']\n",
    "pv_c = dml.train_c['pv_measurement']\n",
    "\n",
    "print('A:\\n',pv_a.describe())\n",
    "print('B:\\n',pv_b.describe())\n",
    "print('C:\\n',pv_c.describe())"
   ]
  },
  {
   "cell_type": "markdown",
   "metadata": {},
   "source": [
    "### Mean value"
   ]
  },
  {
   "cell_type": "code",
   "execution_count": 11,
   "metadata": {},
   "outputs": [
    {
     "data": {
      "text/plain": [
       "array([630.63171053,  99.52284101,  87.26555096])"
      ]
     },
     "execution_count": 11,
     "metadata": {},
     "output_type": "execute_result"
    }
   ],
   "source": [
    "dml.amplitude = np.array([pv_a.mean(), pv_b.mean(),pv_c.mean()])\n",
    "dml.amplitude"
   ]
  },
  {
   "cell_type": "code",
   "execution_count": 12,
   "metadata": {},
   "outputs": [
    {
     "name": "stdout",
     "output_type": "stream",
     "text": [
      "Stored 'dml' (Data_Manager)\n"
     ]
    }
   ],
   "source": [
    "%store dml"
   ]
  }
 ],
 "metadata": {
  "kernelspec": {
   "display_name": "Python 3",
   "language": "python",
   "name": "python3"
  },
  "language_info": {
   "codemirror_mode": {
    "name": "ipython",
    "version": 3
   },
   "file_extension": ".py",
   "mimetype": "text/x-python",
   "name": "python",
   "nbconvert_exporter": "python",
   "pygments_lexer": "ipython3",
   "version": "3.11.0"
  }
 },
 "nbformat": 4,
 "nbformat_minor": 2
}
