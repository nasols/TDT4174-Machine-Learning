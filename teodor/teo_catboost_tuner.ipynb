{
 "cells": [
  {
   "cell_type": "code",
   "execution_count": 6,
   "metadata": {},
   "outputs": [],
   "source": [
    "import sys\n",
    "import pandas as pd"
   ]
  },
  {
   "cell_type": "code",
   "execution_count": 7,
   "metadata": {},
   "outputs": [],
   "source": [
    "data_A = pd.read_csv(\"current_csv_files/data_A.csv\", index_col='date_forecast').astype('float')\n",
    "data_B = pd.read_csv(\"current_csv_files/data_B.csv\", index_col='date_forecast').astype('float')\n",
    "data_C = pd.read_csv(\"current_csv_files/data_C.csv\", index_col='date_forecast').astype('float')\n",
    "\n",
    "data_A_train = data_A[data_A['est'] == 0]\n",
    "data_B_train = data_B[data_B['est'] == 0]\n",
    "data_C_train = data_C[data_C['est'] == 0]\n",
    "\n",
    "data_A_val = data_A[data_A['est'] == 1]\n",
    "data_B_val = data_B[data_B['est'] == 1]\n",
    "data_C_val = data_C[data_C['est'] == 1]\n",
    "\n"
   ]
  },
  {
   "cell_type": "code",
   "execution_count": 8,
   "metadata": {},
   "outputs": [],
   "source": [
    "X_data_A_train = data_A_train\n",
    "y_data_A_train = X_data_A_train.pop('target')\n",
    "\n",
    "X_data_A_val = data_A_val\n",
    "y_data_A_val = X_data_A_val.pop('target')"
   ]
  },
  {
   "cell_type": "code",
   "execution_count": 18,
   "metadata": {},
   "outputs": [],
   "source": [
    "import catboost as cb\n",
    "from sklearn.metrics import mean_squared_error\n",
    "from sklearn.metrics import mean_absolute_error\n",
    "import optuna"
   ]
  },
  {
   "cell_type": "code",
   "execution_count": 26,
   "metadata": {},
   "outputs": [],
   "source": [
    "def objective(trial):\n",
    "    params = {\n",
    "        \"iterations\": 10000,\n",
    "        \"learning_rate\": trial.suggest_float(\"learning_rate\", 1e-3, 0.1, log=True),\n",
    "        \"depth\": trial.suggest_int(\"depth\", 1, 10),\n",
    "        \"subsample\": trial.suggest_float(\"subsample\", 0.05, 1.0),\n",
    "        \"colsample_bylevel\": trial.suggest_float(\"colsample_bylevel\", 0.05, 1.0),\n",
    "        \"min_data_in_leaf\": trial.suggest_int(\"min_data_in_leaf\", 1, 100),\n",
    "        \n",
    "    }\n",
    "\n",
    "    model_A = cb.CatBoostRegressor(**params, silent=True)\n",
    "    model_A.fit(X_data_A_train, y_data_A_train)\n",
    "    predictions = model_A.predict(X_data_A_val)\n",
    "    rmae = mean_absolute_error(y_data_A_val, predictions)\n",
    "    return rmae"
   ]
  },
  {
   "cell_type": "code",
   "execution_count": 27,
   "metadata": {},
   "outputs": [
    {
     "name": "stderr",
     "output_type": "stream",
     "text": [
      "[I 2023-11-06 15:07:35,367] A new study created in memory with name: no-name-7804ee6b-8f58-4dd5-80aa-d6e59cd8286e\n",
      "[I 2023-11-06 15:08:02,151] Trial 0 finished with value: 282.52011254832394 and parameters: {'learning_rate': 0.01556872594431643, 'depth': 5, 'subsample': 0.7684325712298643, 'colsample_bylevel': 0.5328314697008247, 'min_data_in_leaf': 66}. Best is trial 0 with value: 282.52011254832394.\n",
      "[I 2023-11-06 15:08:21,039] Trial 1 finished with value: 282.06727018338086 and parameters: {'learning_rate': 0.010459878732403616, 'depth': 5, 'subsample': 0.20970068454187274, 'colsample_bylevel': 0.46499900254158805, 'min_data_in_leaf': 46}. Best is trial 1 with value: 282.06727018338086.\n",
      "[I 2023-11-06 15:08:29,059] Trial 2 finished with value: 350.3994169808716 and parameters: {'learning_rate': 0.00994129114710742, 'depth': 1, 'subsample': 0.439334681160036, 'colsample_bylevel': 0.32081467101054695, 'min_data_in_leaf': 43}. Best is trial 1 with value: 282.06727018338086.\n",
      "[I 2023-11-06 15:10:12,918] Trial 3 finished with value: 278.7026719516827 and parameters: {'learning_rate': 0.031718321291549376, 'depth': 10, 'subsample': 0.8021909574384973, 'colsample_bylevel': 0.5088125321444322, 'min_data_in_leaf': 14}. Best is trial 3 with value: 278.7026719516827.\n",
      "[I 2023-11-06 15:10:29,816] Trial 4 finished with value: 304.685865226349 and parameters: {'learning_rate': 0.061200591496049256, 'depth': 3, 'subsample': 0.9299897898257943, 'colsample_bylevel': 0.48185428309777956, 'min_data_in_leaf': 92}. Best is trial 3 with value: 278.7026719516827.\n",
      "[I 2023-11-06 15:11:15,852] Trial 5 finished with value: 290.3136219729543 and parameters: {'learning_rate': 0.0639423920984044, 'depth': 10, 'subsample': 0.20520491752523695, 'colsample_bylevel': 0.11236890190159848, 'min_data_in_leaf': 42}. Best is trial 3 with value: 278.7026719516827.\n",
      "[I 2023-11-06 15:12:00,171] Trial 6 finished with value: 284.9890902531525 and parameters: {'learning_rate': 0.0441361995968096, 'depth': 8, 'subsample': 0.48611473745972367, 'colsample_bylevel': 0.21976142163352136, 'min_data_in_leaf': 65}. Best is trial 3 with value: 278.7026719516827.\n",
      "[I 2023-11-06 15:12:12,030] Trial 7 finished with value: 301.5563136018879 and parameters: {'learning_rate': 0.024721286640172924, 'depth': 2, 'subsample': 0.9312703606944857, 'colsample_bylevel': 0.23132469478478707, 'min_data_in_leaf': 59}. Best is trial 3 with value: 278.7026719516827.\n",
      "[I 2023-11-06 15:13:48,014] Trial 8 finished with value: 275.3230751816284 and parameters: {'learning_rate': 0.004769410810307347, 'depth': 10, 'subsample': 0.5082751183117303, 'colsample_bylevel': 0.46535999894396085, 'min_data_in_leaf': 93}. Best is trial 8 with value: 275.3230751816284.\n",
      "[I 2023-11-06 15:13:58,731] Trial 9 finished with value: 300.52601544906537 and parameters: {'learning_rate': 0.025138592770015417, 'depth': 2, 'subsample': 0.2137400455529314, 'colsample_bylevel': 0.9906337766451557, 'min_data_in_leaf': 45}. Best is trial 8 with value: 275.3230751816284.\n",
      "[I 2023-11-06 15:14:47,479] Trial 10 finished with value: 276.06080218718046 and parameters: {'learning_rate': 0.002970759566829613, 'depth': 7, 'subsample': 0.6267281336764909, 'colsample_bylevel': 0.6936317208946297, 'min_data_in_leaf': 94}. Best is trial 8 with value: 275.3230751816284.\n",
      "[I 2023-11-06 15:15:57,575] Trial 11 finished with value: 276.11630315103656 and parameters: {'learning_rate': 0.0027679400398162475, 'depth': 8, 'subsample': 0.5736864905396702, 'colsample_bylevel': 0.6913007731318953, 'min_data_in_leaf': 100}. Best is trial 8 with value: 275.3230751816284.\n",
      "[I 2023-11-06 15:17:08,021] Trial 12 finished with value: 277.3816693567583 and parameters: {'learning_rate': 0.0020799546895714986, 'depth': 8, 'subsample': 0.6091568173720102, 'colsample_bylevel': 0.7397772090024832, 'min_data_in_leaf': 84}. Best is trial 8 with value: 275.3230751816284.\n",
      "[I 2023-11-06 15:17:54,222] Trial 13 finished with value: 277.6631457640083 and parameters: {'learning_rate': 0.0037774327904441735, 'depth': 7, 'subsample': 0.4210800055154796, 'colsample_bylevel': 0.7087912167484829, 'min_data_in_leaf': 78}. Best is trial 8 with value: 275.3230751816284.\n",
      "[I 2023-11-06 15:18:26,775] Trial 14 finished with value: 285.17655746522956 and parameters: {'learning_rate': 0.0011943661957938031, 'depth': 6, 'subsample': 0.6593112958351227, 'colsample_bylevel': 0.8556916370778793, 'min_data_in_leaf': 77}. Best is trial 8 with value: 275.3230751816284.\n",
      "[I 2023-11-06 15:20:06,065] Trial 15 finished with value: 277.6168619437201 and parameters: {'learning_rate': 0.005810427220877142, 'depth': 9, 'subsample': 0.3545509703459199, 'colsample_bylevel': 0.6091704925802677, 'min_data_in_leaf': 24}. Best is trial 8 with value: 275.3230751816284.\n",
      "[I 2023-11-06 15:20:33,444] Trial 16 finished with value: 278.589955918104 and parameters: {'learning_rate': 0.005637476741396002, 'depth': 6, 'subsample': 0.6834965141051077, 'colsample_bylevel': 0.3866849307297189, 'min_data_in_leaf': 100}. Best is trial 8 with value: 275.3230751816284.\n",
      "[I 2023-11-06 15:22:08,731] Trial 17 finished with value: 287.2728003346448 and parameters: {'learning_rate': 0.0010336509131364472, 'depth': 9, 'subsample': 0.0800816848376033, 'colsample_bylevel': 0.619828245974871, 'min_data_in_leaf': 86}. Best is trial 8 with value: 275.3230751816284.\n",
      "[I 2023-11-06 15:22:28,510] Trial 18 finished with value: 287.4725020144189 and parameters: {'learning_rate': 0.0023603706191186982, 'depth': 4, 'subsample': 0.5227946481556028, 'colsample_bylevel': 0.8189886207700714, 'min_data_in_leaf': 29}. Best is trial 8 with value: 275.3230751816284.\n",
      "[I 2023-11-06 15:23:08,841] Trial 19 finished with value: 293.629904822466 and parameters: {'learning_rate': 0.09996448685325683, 'depth': 7, 'subsample': 0.552743734818704, 'colsample_bylevel': 0.3752596127662273, 'min_data_in_leaf': 70}. Best is trial 8 with value: 275.3230751816284.\n",
      "[I 2023-11-06 15:29:50,541] Trial 20 finished with value: 277.6526308454881 and parameters: {'learning_rate': 0.004888418501011521, 'depth': 10, 'subsample': 0.714269856368556, 'colsample_bylevel': 0.587593090450798, 'min_data_in_leaf': 92}. Best is trial 8 with value: 275.3230751816284.\n",
      "[I 2023-11-06 15:33:19,463] Trial 21 finished with value: 277.11026933608304 and parameters: {'learning_rate': 0.002673686635846353, 'depth': 8, 'subsample': 0.5724595717013568, 'colsample_bylevel': 0.6766162722825546, 'min_data_in_leaf': 100}. Best is trial 8 with value: 275.3230751816284.\n",
      "[I 2023-11-06 15:54:07,464] Trial 22 finished with value: 274.55185863206276 and parameters: {'learning_rate': 0.0035170308367742866, 'depth': 9, 'subsample': 0.6201041487044322, 'colsample_bylevel': 0.7600364600270351, 'min_data_in_leaf': 92}. Best is trial 22 with value: 274.55185863206276.\n",
      "[I 2023-11-06 15:56:14,348] Trial 23 finished with value: 278.3889144609266 and parameters: {'learning_rate': 0.0015981464042584635, 'depth': 9, 'subsample': 0.6158027243469124, 'colsample_bylevel': 0.788242725822922, 'min_data_in_leaf': 2}. Best is trial 22 with value: 274.55185863206276.\n",
      "[I 2023-11-06 15:58:23,338] Trial 24 finished with value: 277.44332433246507 and parameters: {'learning_rate': 0.004002274014875899, 'depth': 9, 'subsample': 0.7698816455086822, 'colsample_bylevel': 0.8911360806796118, 'min_data_in_leaf': 89}. Best is trial 22 with value: 274.55185863206276.\n",
      "[I 2023-11-06 15:59:13,993] Trial 25 finished with value: 278.86900686592304 and parameters: {'learning_rate': 0.00734951676995593, 'depth': 7, 'subsample': 0.5023239014727141, 'colsample_bylevel': 0.7489454082684619, 'min_data_in_leaf': 78}. Best is trial 22 with value: 274.55185863206276.\n",
      "[I 2023-11-06 16:01:13,484] Trial 26 finished with value: 276.36716570891025 and parameters: {'learning_rate': 0.0033386216972999382, 'depth': 10, 'subsample': 0.6377864188331641, 'colsample_bylevel': 0.5840718018798376, 'min_data_in_leaf': 57}. Best is trial 22 with value: 274.55185863206276.\n",
      "[I 2023-11-06 16:02:01,435] Trial 27 finished with value: 280.6156093350774 and parameters: {'learning_rate': 0.0016892768270841399, 'depth': 7, 'subsample': 0.7152743153337736, 'colsample_bylevel': 0.6491071199297522, 'min_data_in_leaf': 75}. Best is trial 22 with value: 274.55185863206276.\n",
      "[I 2023-11-06 16:03:59,762] Trial 28 finished with value: 277.2374182268492 and parameters: {'learning_rate': 0.0035483884893693523, 'depth': 9, 'subsample': 0.37550960278598844, 'colsample_bylevel': 0.7353079594803905, 'min_data_in_leaf': 93}. Best is trial 22 with value: 274.55185863206276.\n",
      "[I 2023-11-06 16:04:32,252] Trial 29 finished with value: 279.6933740110246 and parameters: {'learning_rate': 0.0073255038589251885, 'depth': 6, 'subsample': 0.8380617442840859, 'colsample_bylevel': 0.5676276013312727, 'min_data_in_leaf': 84}. Best is trial 22 with value: 274.55185863206276.\n"
     ]
    },
    {
     "name": "stdout",
     "output_type": "stream",
     "text": [
      "Best hyperparameters: {'learning_rate': 0.0035170308367742866, 'depth': 9, 'subsample': 0.6201041487044322, 'colsample_bylevel': 0.7600364600270351, 'min_data_in_leaf': 92}\n",
      "Best RMAE: 274.55185863206276\n"
     ]
    }
   ],
   "source": [
    "study = optuna.create_study(direction='minimize')\n",
    "study.optimize(objective, n_trials=30)\n",
    "\n",
    "print('Best hyperparameters:', study.best_params)\n",
    "print('Best RMAE:', study.best_value)"
   ]
  },
  {
   "cell_type": "markdown",
   "metadata": {},
   "source": [
    "On A:\n",
    "Best hyperparameters: {'learning_rate': 0.0035170308367742866, 'depth': 9, 'subsample': 0.6201041487044322, 'colsample_bylevel': 0.7600364600270351, 'min_data_in_leaf': 92}\n",
    "Best RMAE: 274.55185863206276"
   ]
  },
  {
   "cell_type": "code",
   "execution_count": 28,
   "metadata": {},
   "outputs": [],
   "source": [
    "def objective2(trial):\n",
    "    params = {\n",
    "        \"iterations\": trial.suggest_int(\"iterations\", 1000, 100000, log=True),\n",
    "\n",
    "        # From last:\n",
    "        'learning_rate': 0.0035170308367742866, 'depth': 9, 'subsample': 0.6201041487044322, 'colsample_bylevel': 0.7600364600270351, 'min_data_in_leaf': 92\n",
    "    }\n",
    "\n",
    "    model_A = cb.CatBoostRegressor(**params, silent=True)\n",
    "    model_A.fit(X_data_A_train, y_data_A_train)\n",
    "    predictions = model_A.predict(X_data_A_val)\n",
    "    rmae = mean_absolute_error(y_data_A_val, predictions)\n",
    "    return rmae"
   ]
  },
  {
   "cell_type": "code",
   "execution_count": null,
   "metadata": {},
   "outputs": [],
   "source": [
    "study2 = optuna.create_study(direction='minimize')\n",
    "study2.optimize(objective2, n_trials=30)\n",
    "\n",
    "print('Best hyperparameters:', study2.best_params)\n",
    "print('Best RMAE:', study2.best_value)"
   ]
  },
  {
   "cell_type": "markdown",
   "metadata": {},
   "source": [
    "[I 2023-11-06 16:25:36,272] A new study created in memory with name: no-name-272331c3-3eeb-49dc-b815-304e5e9889ce\n",
    "\n",
    "[I 2023-11-06 16:39:35,508] Trial 0 finished with value: 277.79948878329134 and parameters: {'iterations': 70179}. Best is trial 0 with value: 277.79948878329134.\n",
    "\n",
    "[I 2023-11-06 16:46:44,461] Trial 1 finished with value: 277.3848520837519 and parameters: {'iterations': 35587}. Best is trial 1 with value: 277.3848520837519."
   ]
  },
  {
   "cell_type": "code",
   "execution_count": 32,
   "metadata": {},
   "outputs": [],
   "source": [
    "def objective3(trial):\n",
    "    params = {\n",
    "        \"has_time\": True,\n",
    "        # From last:\n",
    "        \"iterations\": 10000,\n",
    "        'learning_rate': 0.0035170308367742866, 'depth': 9, 'subsample': 0.6201041487044322, 'colsample_bylevel': 0.7600364600270351, 'min_data_in_leaf': 92\n",
    "    }\n",
    "\n",
    "    model_A = cb.CatBoostRegressor(**params, silent=True)\n",
    "    model_A.fit(X_data_A_train, y_data_A_train)\n",
    "    predictions = model_A.predict(X_data_A_val)\n",
    "    rmae = mean_absolute_error(y_data_A_val, predictions)\n",
    "    return rmae"
   ]
  },
  {
   "cell_type": "code",
   "execution_count": 33,
   "metadata": {},
   "outputs": [
    {
     "name": "stderr",
     "output_type": "stream",
     "text": [
      "[I 2023-11-06 16:54:39,817] A new study created in memory with name: no-name-2728d784-bc3e-4079-8bb7-ea78b1749def\n",
      "[I 2023-11-06 16:56:37,547] Trial 0 finished with value: 274.55185863206276 and parameters: {}. Best is trial 0 with value: 274.55185863206276.\n"
     ]
    },
    {
     "name": "stdout",
     "output_type": "stream",
     "text": [
      "Best hyperparameters: {}\n",
      "Best RMAE: 274.55185863206276\n"
     ]
    }
   ],
   "source": [
    "study3 = optuna.create_study(direction='minimize')\n",
    "study3.optimize(objective3, n_trials=1)\n",
    "\n",
    "print('Best hyperparameters:', study3.best_params)\n",
    "print('Best RMAE:', study3.best_value)"
   ]
  },
  {
   "cell_type": "markdown",
   "metadata": {},
   "source": [
    "[I 2023-11-06 16:54:39,817] A new study created in memory with name: no-name-2728d784-bc3e-4079-8bb7-ea78b1749def\n",
    "\n",
    "[I 2023-11-06 16:56:37,547] Trial 0 finished with value: 274.55185863206276 and parameters: {}. Best is trial 0 with value: 274.55185863206276.\n",
    "\n",
    "Best hyperparameters: {}\n",
    "\n",
    "Best RMAE: 274.55185863206276"
   ]
  }
 ],
 "metadata": {
  "kernelspec": {
   "display_name": "Python 3",
   "language": "python",
   "name": "python3"
  },
  "language_info": {
   "codemirror_mode": {
    "name": "ipython",
    "version": 3
   },
   "file_extension": ".py",
   "mimetype": "text/x-python",
   "name": "python",
   "nbconvert_exporter": "python",
   "pygments_lexer": "ipython3",
   "version": "3.11.0"
  }
 },
 "nbformat": 4,
 "nbformat_minor": 2
}
