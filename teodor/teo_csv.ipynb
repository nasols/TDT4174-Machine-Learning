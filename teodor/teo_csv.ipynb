{
 "cells": [
  {
   "cell_type": "code",
   "execution_count": 7,
   "metadata": {},
   "outputs": [],
   "source": [
    "import sys\n",
    "import pandas as pd\n",
    "from copy import deepcopy\n"
   ]
  },
  {
   "cell_type": "code",
   "execution_count": 8,
   "metadata": {},
   "outputs": [
    {
     "name": "stdout",
     "output_type": "stream",
     "text": [
      "The autoreload extension is already loaded. To reload it, use:\n",
      "  %reload_ext autoreload\n"
     ]
    }
   ],
   "source": [
    "sys.path.append('../')\n",
    "\n",
    "%load_ext autoreload\n",
    "%autoreload 2\n",
    "%store -r dm\n",
    "dm = dm"
   ]
  },
  {
   "cell_type": "code",
   "execution_count": 9,
   "metadata": {},
   "outputs": [],
   "source": [
    "def get_data(dm_data: pd.DataFrame, est_dates: pd.DataFrame) -> pd.DataFrame:\n",
    "    data = deepcopy(dm_data)\n",
    "    data.rename(columns={'pv_measurement': 'target'}, inplace=True)\n",
    "    data['est'] = 0\n",
    "    mask = data['date_forecast'].isin(est_dates['date_forecast'])\n",
    "    data.loc[mask, 'est'] = 1\n",
    "    return data\n",
    "\n",
    "est_dates_A = pd.read_parquet(\"../A/X_train_estimated.parquet\")\n",
    "est_dates_B = pd.read_parquet(\"../B/X_train_estimated.parquet\")\n",
    "est_dates_C = pd.read_parquet(\"../C/X_train_estimated.parquet\")\n",
    "\n",
    "data_A = get_data(dm.data_A, est_dates_A)\n",
    "data_B = get_data(dm.data_B, est_dates_B)\n",
    "data_C = get_data(dm.data_C, est_dates_C)\n",
    "\n",
    "\n",
    "\n"
   ]
  },
  {
   "cell_type": "code",
   "execution_count": 10,
   "metadata": {},
   "outputs": [
    {
     "data": {
      "text/plain": [
       "'\\ndata_A.to_csv(\"current_csv_files/data_A.csv\", index=False)\\ndata_B.to_csv(\"current_csv_files/data_B.csv\", index=False)\\ndata_C.to_csv(\"current_csv_files/data_C.csv\", index=False)\\n'"
      ]
     },
     "execution_count": 10,
     "metadata": {},
     "output_type": "execute_result"
    }
   ],
   "source": [
    "\"\"\"\n",
    "data_A.to_csv(\"current_csv_files/data_A.csv\", index=False)\n",
    "data_B.to_csv(\"current_csv_files/data_B.csv\", index=False)\n",
    "data_C.to_csv(\"current_csv_files/data_C.csv\", index=False)\n",
    "\"\"\"\n"
   ]
  },
  {
   "cell_type": "code",
   "execution_count": 11,
   "metadata": {},
   "outputs": [],
   "source": [
    "test_A = pd.read_parquet(\"../A/X_test_estimated.parquet\")\n",
    "test_B = pd.read_parquet(\"../B/X_test_estimated.parquet\")\n",
    "test_C = pd.read_parquet(\"../C/X_test_estimated.parquet\")\n",
    "\n",
    "\"\"\"\n",
    "test_A = test_A.drop(['date_calc', 'date_forecast'], axis='columns')\n",
    "test_B = test_B.drop(['date_calc', 'date_forecast'], axis='columns')\n",
    "test_C = test_C.drop(['date_calc', 'date_forecast'], axis='columns')\n",
    "\"\"\"\n",
    "\n",
    "test_A['est'] = 1\n",
    "test_B['est'] = 1\n",
    "test_C['est'] = 1"
   ]
  },
  {
   "cell_type": "code",
   "execution_count": 12,
   "metadata": {},
   "outputs": [],
   "source": [
    "\n",
    "test_A.to_csv(\"current_csv_files/test_A.csv\", index=False)\n",
    "test_B.to_csv(\"current_csv_files/test_B.csv\", index=False)\n",
    "test_C.to_csv(\"current_csv_files/test_C.csv\", index=False)\n"
   ]
  },
  {
   "cell_type": "code",
   "execution_count": 14,
   "metadata": {},
   "outputs": [],
   "source": [
    "# Instead for hourly data\n",
    "\n",
    "test_A = dm.X_test_estimated_a\n",
    "test_B = dm.X_test_estimated_a\n",
    "test_C = dm.X_test_estimated_a\n",
    "\n",
    "test_A['est'] = 1\n",
    "test_B['est'] = 1\n",
    "test_C['est'] = 1\n",
    "\n",
    "\n",
    "test_A.to_csv(\"current_csv_files/test_A.csv\", index=False)\n",
    "test_B.to_csv(\"current_csv_files/test_B.csv\", index=False)\n",
    "test_C.to_csv(\"current_csv_files/test_C.csv\", index=False)"
   ]
  }
 ],
 "metadata": {
  "kernelspec": {
   "display_name": "myenv",
   "language": "python",
   "name": "python3"
  },
  "language_info": {
   "codemirror_mode": {
    "name": "ipython",
    "version": 3
   },
   "file_extension": ".py",
   "mimetype": "text/x-python",
   "name": "python",
   "nbconvert_exporter": "python",
   "pygments_lexer": "ipython3",
   "version": "3.11.0"
  }
 },
 "nbformat": 4,
 "nbformat_minor": 2
}
