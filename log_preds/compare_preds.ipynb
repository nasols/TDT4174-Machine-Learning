{
 "cells": [
  {
   "cell_type": "code",
   "execution_count": 72,
   "metadata": {},
   "outputs": [],
   "source": [
    "import matplotlib.pyplot as plt \n",
    "import csv \n",
    "import numpy as np \n",
    "import pandas as pd\n",
    "from sklearn.metrics import mean_absolute_error"
   ]
  },
  {
   "cell_type": "code",
   "execution_count": 73,
   "metadata": {},
   "outputs": [],
   "source": [
    "goodpred = pd.read_csv(\"./ext_preds/bestpred.csv\") # 150.25\n",
    "bestpred = pd.read_csv(\"./ext_preds/catxcat.csv\") # 149.71"
   ]
  },
  {
   "cell_type": "code",
   "execution_count": 74,
   "metadata": {},
   "outputs": [],
   "source": [
    "def compare_new(newpred):\n",
    "    good_best = mean_absolute_error(goodpred['predict'], bestpred['predict'])\n",
    "    print('mae between good and best: ', good_best)\n",
    "    good_new = mean_absolute_error(goodpred['predict'], newpred['predict'])\n",
    "    print('mae between good and new: ', good_new)\n",
    "    best_new = mean_absolute_error(bestpred['predict'], newpred['predict'])\n",
    "    print('mae between best and new: ', best_new)\n",
    "    print('diff:', good_new - best_new)\n",
    "    new_better = best_new < good_new and good_new > good_best\n",
    "\n",
    "    return new_better"
   ]
  },
  {
   "cell_type": "code",
   "execution_count": 75,
   "metadata": {},
   "outputs": [
    {
     "name": "stdout",
     "output_type": "stream",
     "text": [
      "mae between good and best:  30.340807665772203\n",
      "mae between good and new:  63.87524156135602\n",
      "mae between best and new:  47.681369743510054\n",
      "diff: 16.193871817845967\n",
      "new is better: True\n"
     ]
    }
   ],
   "source": [
    "newpred = pd.read_csv(\"./ext_preds/cat_lgb.csv\")\n",
    "print('new is better:',compare_new(newpred))"
   ]
  },
  {
   "cell_type": "code",
   "execution_count": 78,
   "metadata": {},
   "outputs": [
    {
     "name": "stdout",
     "output_type": "stream",
     "text": [
      "(2160, 1)\n",
      "mae between good and best:  30.340807665772203\n",
      "mae between good and new:  31.93762078067801\n",
      "mae between best and new:  23.66759595545646\n",
      "diff: 8.270024825221551\n",
      "new is better: True\n"
     ]
    }
   ],
   "source": [
    "combined_pred = np.mean([1*goodpred['predict'], 1*newpred['predict']], axis=0)\n",
    "combined_pred_df = pd.DataFrame(combined_pred, columns=['predict'])\n",
    "combined_pred_df[combined_pred_df['predict'] < 0] = 0\n",
    "print(combined_pred_df.shape)\n",
    "print('new is better:',compare_new(combined_pred_df))\n",
    "combined_pred_df.to_csv('./ext_preds/cat_x_cat_lgb.csv')\n"
   ]
  },
  {
   "cell_type": "code",
   "execution_count": null,
   "metadata": {},
   "outputs": [],
   "source": []
  }
 ],
 "metadata": {
  "kernelspec": {
   "display_name": "Python 3",
   "language": "python",
   "name": "python3"
  },
  "language_info": {
   "codemirror_mode": {
    "name": "ipython",
    "version": 3
   },
   "file_extension": ".py",
   "mimetype": "text/x-python",
   "name": "python",
   "nbconvert_exporter": "python",
   "pygments_lexer": "ipython3",
   "version": "3.10.11"
  }
 },
 "nbformat": 4,
 "nbformat_minor": 2
}
