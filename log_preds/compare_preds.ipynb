{
 "cells": [
  {
   "cell_type": "code",
   "execution_count": 37,
   "metadata": {},
   "outputs": [],
   "source": [
    "import matplotlib.pyplot as plt \n",
    "import csv \n",
    "import numpy as np \n",
    "import pandas as pd\n",
    "from sklearn.metrics import mean_absolute_error"
   ]
  },
  {
   "cell_type": "code",
   "execution_count": 38,
   "metadata": {},
   "outputs": [],
   "source": [
    "goodpred = pd.read_csv(\"./ext_preds/log_sub_7.csv\") # 152.69\n",
    "bestpred = pd.read_csv(\"./ext_preds/bestpred.csv\") # 150.25"
   ]
  },
  {
   "cell_type": "code",
   "execution_count": 39,
   "metadata": {},
   "outputs": [],
   "source": [
    "badsubs = ['featdrop_2', 'lagboost_x', 'catboost_prelag_24','catboost_lag_17','log_se_sub_1', 'summermonths']\n",
    "badpreds = [pd.read_csv('./ext_preds/'+ path + '.csv') for path in badsubs]"
   ]
  },
  {
   "cell_type": "code",
   "execution_count": 40,
   "metadata": {},
   "outputs": [],
   "source": [
    "def get_maes(preds, new_pred):\n",
    "    maes = []\n",
    "    for pred in preds:\n",
    "        maes.append(mean_absolute_error(pred['predict'], new_pred['predict']))\n",
    "    print(maes)\n",
    "    return maes"
   ]
  },
  {
   "cell_type": "code",
   "execution_count": 41,
   "metadata": {},
   "outputs": [],
   "source": [
    "def compare_new(newpred):\n",
    "    good_best = mean_absolute_error(goodpred['predict'], bestpred['predict'])\n",
    "    print('mae between good and best: ', good_best)\n",
    "    good_new = mean_absolute_error(goodpred['predict'], newpred['predict'])\n",
    "    print('mae between good and new: ', good_new)\n",
    "    best_new = mean_absolute_error(bestpred['predict'], newpred['predict'])\n",
    "    print('mae between best and new: ', best_new)\n",
    "    print('diff:', good_new - best_new)\n",
    "    new_better = best_new < good_new and good_new > good_best\n",
    "    print('new may be better', new_better)\n",
    "    is_closer_to_best = min(get_maes(badpreds, newpred)) > best_new\n",
    "    print('new is closer to best than bad', is_closer_to_best)\n",
    "    return new_better"
   ]
  },
  {
   "cell_type": "code",
   "execution_count": 42,
   "metadata": {},
   "outputs": [
    {
     "name": "stdout",
     "output_type": "stream",
     "text": [
      "mae between good and best:  41.80418857677093\n",
      "mae between good and new:  43.23154889551355\n",
      "mae between best and new:  26.8294065798142\n",
      "diff: 16.402142315699347\n",
      "new may be better True\n",
      "[35.16167691333739, 37.23695437637834, 37.65773619143044, 63.938631370900275, 75.718158455378, 42.56756304488302]\n",
      "new is closer to best than bad True\n"
     ]
    },
    {
     "data": {
      "text/plain": [
       "True"
      ]
     },
     "execution_count": 42,
     "metadata": {},
     "output_type": "execute_result"
    }
   ],
   "source": [
    "newpred = pd.read_csv(\"./ext_preds/stack_4.csv\")\n",
    "compare_new(newpred)"
   ]
  }
 ],
 "metadata": {
  "kernelspec": {
   "display_name": "Python 3",
   "language": "python",
   "name": "python3"
  },
  "language_info": {
   "codemirror_mode": {
    "name": "ipython",
    "version": 3
   },
   "file_extension": ".py",
   "mimetype": "text/x-python",
   "name": "python",
   "nbconvert_exporter": "python",
   "pygments_lexer": "ipython3",
   "version": "3.10.11"
  }
 },
 "nbformat": 4,
 "nbformat_minor": 2
}
