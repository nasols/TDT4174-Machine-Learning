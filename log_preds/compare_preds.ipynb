{
 "cells": [
  {
   "cell_type": "code",
   "execution_count": 1,
   "metadata": {},
   "outputs": [],
   "source": [
    "import matplotlib.pyplot as plt \n",
    "import csv \n",
    "import numpy as np \n",
    "import pandas as pd\n",
    "from sklearn.metrics import mean_absolute_error"
   ]
  },
  {
   "cell_type": "code",
   "execution_count": 2,
   "metadata": {},
   "outputs": [],
   "source": [
    "goodpred = pd.read_csv(\"./ext_preds/log_sub_7.csv\") # 152.69\n",
    "bestpred = pd.read_csv(\"./ext_preds/bestpred.csv\") # 150.25"
   ]
  },
  {
   "cell_type": "code",
   "execution_count": 3,
   "metadata": {},
   "outputs": [],
   "source": [
    "def compare_new(newpred):\n",
    "    good_best = mean_absolute_error(goodpred['predict'], bestpred['predict'])\n",
    "    print('mae between good and best: ', good_best)\n",
    "    good_new = mean_absolute_error(goodpred['predict'], newpred['predict'])\n",
    "    print('mae between good and new: ', good_new)\n",
    "    best_new = mean_absolute_error(bestpred['predict'], newpred['predict'])\n",
    "    print('mae between best and new: ', best_new)\n",
    "    print('diff:', good_new - best_new)\n",
    "    new_better = best_new < good_new and good_new > good_best\n",
    "\n",
    "    return new_better"
   ]
  },
  {
   "cell_type": "code",
   "execution_count": 4,
   "metadata": {},
   "outputs": [
    {
     "name": "stdout",
     "output_type": "stream",
     "text": [
      "mae between good and best:  41.80418857677093\n",
      "mae between good and new:  41.80418857677093\n",
      "mae between best and new:  0.0\n",
      "diff: 41.80418857677093\n",
      "new is better: False\n"
     ]
    }
   ],
   "source": [
    "newpred = pd.read_csv(\"./ext_preds/lagboost_101.csv\")\n",
    "print('new is better:',compare_new(newpred))"
   ]
  }
 ],
 "metadata": {
  "kernelspec": {
   "display_name": "Python 3",
   "language": "python",
   "name": "python3"
  },
  "language_info": {
   "codemirror_mode": {
    "name": "ipython",
    "version": 3
   },
   "file_extension": ".py",
   "mimetype": "text/x-python",
   "name": "python",
   "nbconvert_exporter": "python",
   "pygments_lexer": "ipython3",
   "version": "3.10.11"
  }
 },
 "nbformat": 4,
 "nbformat_minor": 2
}
