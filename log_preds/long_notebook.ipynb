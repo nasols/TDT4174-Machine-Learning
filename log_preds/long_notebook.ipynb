{
 "cells": [
  {
   "cell_type": "markdown",
   "metadata": {},
   "source": [
    "# Different models"
   ]
  },
  {
   "cell_type": "markdown",
   "metadata": {},
   "source": [
    "During the project, we experimented a lot with different models, stacks and hyperparameters. We noticed pretty early on that catboost models performed pretty well with our early pipeline."
   ]
  },
  {
   "cell_type": "code",
   "execution_count": 1,
   "metadata": {},
   "outputs": [
    {
     "ename": "KeyboardInterrupt",
     "evalue": "",
     "output_type": "error",
     "traceback": [
      "\u001b[1;31m---------------------------------------------------------------------------\u001b[0m",
      "\u001b[1;31mKeyboardInterrupt\u001b[0m                         Traceback (most recent call last)",
      "\u001b[1;32mc:\\Users\\loghe\\OneDrive\\Dokumenter\\Skole\\Host23\\ML\\main_project\\TDT4174-Machine-Learning\\log_preds\\long_notebook.ipynb Cell 3\u001b[0m line \u001b[0;36m3\n\u001b[0;32m      <a href='vscode-notebook-cell:/c%3A/Users/loghe/OneDrive/Dokumenter/Skole/Host23/ML/main_project/TDT4174-Machine-Learning/log_preds/long_notebook.ipynb#W3sZmlsZQ%3D%3D?line=0'>1</a>\u001b[0m \u001b[39mimport\u001b[39;00m \u001b[39mpandas\u001b[39;00m \u001b[39mas\u001b[39;00m \u001b[39mpd\u001b[39;00m\n\u001b[0;32m      <a href='vscode-notebook-cell:/c%3A/Users/loghe/OneDrive/Dokumenter/Skole/Host23/ML/main_project/TDT4174-Machine-Learning/log_preds/long_notebook.ipynb#W3sZmlsZQ%3D%3D?line=1'>2</a>\u001b[0m \u001b[39mimport\u001b[39;00m \u001b[39msys\u001b[39;00m\n\u001b[1;32m----> <a href='vscode-notebook-cell:/c%3A/Users/loghe/OneDrive/Dokumenter/Skole/Host23/ML/main_project/TDT4174-Machine-Learning/log_preds/long_notebook.ipynb#W3sZmlsZQ%3D%3D?line=2'>3</a>\u001b[0m \u001b[39mfrom\u001b[39;00m \u001b[39msklearn\u001b[39;00m\u001b[39m.\u001b[39;00m\u001b[39mmodel_selection\u001b[39;00m \u001b[39mimport\u001b[39;00m train_test_split\n\u001b[0;32m      <a href='vscode-notebook-cell:/c%3A/Users/loghe/OneDrive/Dokumenter/Skole/Host23/ML/main_project/TDT4174-Machine-Learning/log_preds/long_notebook.ipynb#W3sZmlsZQ%3D%3D?line=3'>4</a>\u001b[0m \u001b[39mfrom\u001b[39;00m \u001b[39mcatboost\u001b[39;00m \u001b[39mimport\u001b[39;00m CatBoostRegressor\n\u001b[0;32m      <a href='vscode-notebook-cell:/c%3A/Users/loghe/OneDrive/Dokumenter/Skole/Host23/ML/main_project/TDT4174-Machine-Learning/log_preds/long_notebook.ipynb#W3sZmlsZQ%3D%3D?line=5'>6</a>\u001b[0m X_A_train \u001b[39m=\u001b[39m dm\u001b[39m.\u001b[39mdata_A\u001b[39m.\u001b[39miloc[:, \u001b[39m2\u001b[39m:]\n",
      "File \u001b[1;32m~\\AppData\\Local\\Packages\\PythonSoftwareFoundation.Python.3.10_qbz5n2kfra8p0\\LocalCache\\local-packages\\Python310\\site-packages\\sklearn\\__init__.py:83\u001b[0m\n\u001b[0;32m     69\u001b[0m     \u001b[39m# We are not importing the rest of scikit-learn during the build\u001b[39;00m\n\u001b[0;32m     70\u001b[0m     \u001b[39m# process, as it may not be compiled yet\u001b[39;00m\n\u001b[0;32m     71\u001b[0m \u001b[39melse\u001b[39;00m:\n\u001b[1;32m   (...)\u001b[0m\n\u001b[0;32m     77\u001b[0m     \u001b[39m# later is linked to the OpenMP runtime to make it possible to introspect\u001b[39;00m\n\u001b[0;32m     78\u001b[0m     \u001b[39m# it and importing it first would fail if the OpenMP dll cannot be found.\u001b[39;00m\n\u001b[0;32m     79\u001b[0m     \u001b[39mfrom\u001b[39;00m \u001b[39m.\u001b[39;00m \u001b[39mimport\u001b[39;00m (\n\u001b[0;32m     80\u001b[0m         __check_build,  \u001b[39m# noqa: F401\u001b[39;00m\n\u001b[0;32m     81\u001b[0m         _distributor_init,  \u001b[39m# noqa: F401\u001b[39;00m\n\u001b[0;32m     82\u001b[0m     )\n\u001b[1;32m---> 83\u001b[0m     \u001b[39mfrom\u001b[39;00m \u001b[39m.\u001b[39;00m\u001b[39mbase\u001b[39;00m \u001b[39mimport\u001b[39;00m clone\n\u001b[0;32m     84\u001b[0m     \u001b[39mfrom\u001b[39;00m \u001b[39m.\u001b[39;00m\u001b[39mutils\u001b[39;00m\u001b[39m.\u001b[39;00m\u001b[39m_show_versions\u001b[39;00m \u001b[39mimport\u001b[39;00m show_versions\n\u001b[0;32m     86\u001b[0m     __all__ \u001b[39m=\u001b[39m [\n\u001b[0;32m     87\u001b[0m         \u001b[39m\"\u001b[39m\u001b[39mcalibration\u001b[39m\u001b[39m\"\u001b[39m,\n\u001b[0;32m     88\u001b[0m         \u001b[39m\"\u001b[39m\u001b[39mcluster\u001b[39m\u001b[39m\"\u001b[39m,\n\u001b[1;32m   (...)\u001b[0m\n\u001b[0;32m    129\u001b[0m         \u001b[39m\"\u001b[39m\u001b[39mshow_versions\u001b[39m\u001b[39m\"\u001b[39m,\n\u001b[0;32m    130\u001b[0m     ]\n",
      "File \u001b[1;32m~\\AppData\\Local\\Packages\\PythonSoftwareFoundation.Python.3.10_qbz5n2kfra8p0\\LocalCache\\local-packages\\Python310\\site-packages\\sklearn\\base.py:19\u001b[0m\n\u001b[0;32m     17\u001b[0m \u001b[39mfrom\u001b[39;00m \u001b[39m.\u001b[39;00m\u001b[39m_config\u001b[39;00m \u001b[39mimport\u001b[39;00m config_context, get_config\n\u001b[0;32m     18\u001b[0m \u001b[39mfrom\u001b[39;00m \u001b[39m.\u001b[39;00m\u001b[39mexceptions\u001b[39;00m \u001b[39mimport\u001b[39;00m InconsistentVersionWarning\n\u001b[1;32m---> 19\u001b[0m \u001b[39mfrom\u001b[39;00m \u001b[39m.\u001b[39;00m\u001b[39mutils\u001b[39;00m \u001b[39mimport\u001b[39;00m _IS_32BIT\n\u001b[0;32m     20\u001b[0m \u001b[39mfrom\u001b[39;00m \u001b[39m.\u001b[39;00m\u001b[39mutils\u001b[39;00m\u001b[39m.\u001b[39;00m\u001b[39m_estimator_html_repr\u001b[39;00m \u001b[39mimport\u001b[39;00m estimator_html_repr\n\u001b[0;32m     21\u001b[0m \u001b[39mfrom\u001b[39;00m \u001b[39m.\u001b[39;00m\u001b[39mutils\u001b[39;00m\u001b[39m.\u001b[39;00m\u001b[39m_metadata_requests\u001b[39;00m \u001b[39mimport\u001b[39;00m _MetadataRequester\n",
      "File \u001b[1;32m~\\AppData\\Local\\Packages\\PythonSoftwareFoundation.Python.3.10_qbz5n2kfra8p0\\LocalCache\\local-packages\\Python310\\site-packages\\sklearn\\utils\\__init__.py:22\u001b[0m\n\u001b[0;32m     20\u001b[0m \u001b[39mfrom\u001b[39;00m \u001b[39m.\u001b[39;00m\u001b[39m_bunch\u001b[39;00m \u001b[39mimport\u001b[39;00m Bunch\n\u001b[0;32m     21\u001b[0m \u001b[39mfrom\u001b[39;00m \u001b[39m.\u001b[39;00m\u001b[39m_estimator_html_repr\u001b[39;00m \u001b[39mimport\u001b[39;00m estimator_html_repr\n\u001b[1;32m---> 22\u001b[0m \u001b[39mfrom\u001b[39;00m \u001b[39m.\u001b[39;00m\u001b[39m_param_validation\u001b[39;00m \u001b[39mimport\u001b[39;00m Interval, validate_params\n\u001b[0;32m     23\u001b[0m \u001b[39mfrom\u001b[39;00m \u001b[39m.\u001b[39;00m\u001b[39mclass_weight\u001b[39;00m \u001b[39mimport\u001b[39;00m compute_class_weight, compute_sample_weight\n\u001b[0;32m     24\u001b[0m \u001b[39mfrom\u001b[39;00m \u001b[39m.\u001b[39;00m\u001b[39mdeprecation\u001b[39;00m \u001b[39mimport\u001b[39;00m deprecated\n",
      "File \u001b[1;32m~\\AppData\\Local\\Packages\\PythonSoftwareFoundation.Python.3.10_qbz5n2kfra8p0\\LocalCache\\local-packages\\Python310\\site-packages\\sklearn\\utils\\_param_validation.py:15\u001b[0m\n\u001b[0;32m     12\u001b[0m \u001b[39mfrom\u001b[39;00m \u001b[39mscipy\u001b[39;00m\u001b[39m.\u001b[39;00m\u001b[39msparse\u001b[39;00m \u001b[39mimport\u001b[39;00m csr_matrix, issparse\n\u001b[0;32m     14\u001b[0m \u001b[39mfrom\u001b[39;00m \u001b[39m.\u001b[39;00m\u001b[39m.\u001b[39;00m\u001b[39m_config\u001b[39;00m \u001b[39mimport\u001b[39;00m config_context, get_config\n\u001b[1;32m---> 15\u001b[0m \u001b[39mfrom\u001b[39;00m \u001b[39m.\u001b[39;00m\u001b[39mvalidation\u001b[39;00m \u001b[39mimport\u001b[39;00m _is_arraylike_not_scalar\n\u001b[0;32m     18\u001b[0m \u001b[39mclass\u001b[39;00m \u001b[39mInvalidParameterError\u001b[39;00m(\u001b[39mValueError\u001b[39;00m, \u001b[39mTypeError\u001b[39;00m):\n\u001b[0;32m     19\u001b[0m \u001b[39m    \u001b[39m\u001b[39m\"\"\"Custom exception to be raised when the parameter of a class/method/function\u001b[39;00m\n\u001b[0;32m     20\u001b[0m \u001b[39m    does not have a valid type or value.\u001b[39;00m\n\u001b[0;32m     21\u001b[0m \u001b[39m    \"\"\"\u001b[39;00m\n",
      "File \u001b[1;32m~\\AppData\\Local\\Packages\\PythonSoftwareFoundation.Python.3.10_qbz5n2kfra8p0\\LocalCache\\local-packages\\Python310\\site-packages\\sklearn\\utils\\validation.py:28\u001b[0m\n\u001b[0;32m     26\u001b[0m \u001b[39mfrom\u001b[39;00m \u001b[39m.\u001b[39;00m\u001b[39m.\u001b[39;00m \u001b[39mimport\u001b[39;00m get_config \u001b[39mas\u001b[39;00m _get_config\n\u001b[0;32m     27\u001b[0m \u001b[39mfrom\u001b[39;00m \u001b[39m.\u001b[39;00m\u001b[39m.\u001b[39;00m\u001b[39mexceptions\u001b[39;00m \u001b[39mimport\u001b[39;00m DataConversionWarning, NotFittedError, PositiveSpectrumWarning\n\u001b[1;32m---> 28\u001b[0m \u001b[39mfrom\u001b[39;00m \u001b[39m.\u001b[39;00m\u001b[39m.\u001b[39;00m\u001b[39mutils\u001b[39;00m\u001b[39m.\u001b[39;00m\u001b[39m_array_api\u001b[39;00m \u001b[39mimport\u001b[39;00m _asarray_with_order, _is_numpy_namespace, get_namespace\n\u001b[0;32m     29\u001b[0m \u001b[39mfrom\u001b[39;00m \u001b[39m.\u001b[39;00m\u001b[39m_isfinite\u001b[39;00m \u001b[39mimport\u001b[39;00m FiniteStatus, cy_isfinite\n\u001b[0;32m     30\u001b[0m \u001b[39mfrom\u001b[39;00m \u001b[39m.\u001b[39;00m\u001b[39mfixes\u001b[39;00m \u001b[39mimport\u001b[39;00m _object_dtype_isnan\n",
      "File \u001b[1;32m~\\AppData\\Local\\Packages\\PythonSoftwareFoundation.Python.3.10_qbz5n2kfra8p0\\LocalCache\\local-packages\\Python310\\site-packages\\sklearn\\utils\\_array_api.py:9\u001b[0m\n\u001b[0;32m      6\u001b[0m \u001b[39mimport\u001b[39;00m \u001b[39mscipy\u001b[39;00m\u001b[39m.\u001b[39;00m\u001b[39mspecial\u001b[39;00m \u001b[39mas\u001b[39;00m \u001b[39mspecial\u001b[39;00m\n\u001b[0;32m      8\u001b[0m \u001b[39mfrom\u001b[39;00m \u001b[39m.\u001b[39;00m\u001b[39m.\u001b[39;00m\u001b[39m_config\u001b[39;00m \u001b[39mimport\u001b[39;00m get_config\n\u001b[1;32m----> 9\u001b[0m \u001b[39mfrom\u001b[39;00m \u001b[39m.\u001b[39;00m\u001b[39mfixes\u001b[39;00m \u001b[39mimport\u001b[39;00m parse_version\n\u001b[0;32m     12\u001b[0m \u001b[39mdef\u001b[39;00m \u001b[39m_check_array_api_dispatch\u001b[39m(array_api_dispatch):\n\u001b[0;32m     13\u001b[0m \u001b[39m    \u001b[39m\u001b[39m\"\"\"Check that array_api_compat is installed and NumPy version is compatible.\u001b[39;00m\n\u001b[0;32m     14\u001b[0m \n\u001b[0;32m     15\u001b[0m \u001b[39m    array_api_compat follows NEP29, which has a higher minimum NumPy version than\u001b[39;00m\n\u001b[0;32m     16\u001b[0m \u001b[39m    scikit-learn.\u001b[39;00m\n\u001b[0;32m     17\u001b[0m \u001b[39m    \"\"\"\u001b[39;00m\n",
      "File \u001b[1;32m~\\AppData\\Local\\Packages\\PythonSoftwareFoundation.Python.3.10_qbz5n2kfra8p0\\LocalCache\\local-packages\\Python310\\site-packages\\sklearn\\utils\\fixes.py:18\u001b[0m\n\u001b[0;32m     16\u001b[0m \u001b[39mimport\u001b[39;00m \u001b[39mnumpy\u001b[39;00m \u001b[39mas\u001b[39;00m \u001b[39mnp\u001b[39;00m\n\u001b[0;32m     17\u001b[0m \u001b[39mimport\u001b[39;00m \u001b[39mscipy\u001b[39;00m\n\u001b[1;32m---> 18\u001b[0m \u001b[39mimport\u001b[39;00m \u001b[39mscipy\u001b[39;00m\u001b[39m.\u001b[39;00m\u001b[39mstats\u001b[39;00m\n\u001b[0;32m     19\u001b[0m \u001b[39mimport\u001b[39;00m \u001b[39mthreadpoolctl\u001b[39;00m\n\u001b[0;32m     21\u001b[0m \u001b[39mimport\u001b[39;00m \u001b[39msklearn\u001b[39;00m\n",
      "File \u001b[1;32m~\\AppData\\Local\\Packages\\PythonSoftwareFoundation.Python.3.10_qbz5n2kfra8p0\\LocalCache\\local-packages\\Python310\\site-packages\\scipy\\stats\\__init__.py:608\u001b[0m\n\u001b[0;32m      1\u001b[0m \u001b[39m\"\"\"\u001b[39;00m\n\u001b[0;32m      2\u001b[0m \u001b[39m.. _statsrefmanual:\u001b[39;00m\n\u001b[0;32m      3\u001b[0m \n\u001b[1;32m   (...)\u001b[0m\n\u001b[0;32m    603\u001b[0m \n\u001b[0;32m    604\u001b[0m \u001b[39m\"\"\"\u001b[39;00m\n\u001b[0;32m    606\u001b[0m \u001b[39mfrom\u001b[39;00m \u001b[39m.\u001b[39;00m\u001b[39m_warnings_errors\u001b[39;00m \u001b[39mimport\u001b[39;00m (ConstantInputWarning, NearConstantInputWarning,\n\u001b[0;32m    607\u001b[0m                                DegenerateDataWarning, FitError)\n\u001b[1;32m--> 608\u001b[0m \u001b[39mfrom\u001b[39;00m \u001b[39m.\u001b[39;00m\u001b[39m_stats_py\u001b[39;00m \u001b[39mimport\u001b[39;00m \u001b[39m*\u001b[39m\n\u001b[0;32m    609\u001b[0m \u001b[39mfrom\u001b[39;00m \u001b[39m.\u001b[39;00m\u001b[39m_variation\u001b[39;00m \u001b[39mimport\u001b[39;00m variation\n\u001b[0;32m    610\u001b[0m \u001b[39mfrom\u001b[39;00m \u001b[39m.\u001b[39;00m\u001b[39mdistributions\u001b[39;00m \u001b[39mimport\u001b[39;00m \u001b[39m*\u001b[39m\n",
      "File \u001b[1;32m~\\AppData\\Local\\Packages\\PythonSoftwareFoundation.Python.3.10_qbz5n2kfra8p0\\LocalCache\\local-packages\\Python310\\site-packages\\scipy\\stats\\_stats_py.py:46\u001b[0m\n\u001b[0;32m     44\u001b[0m \u001b[39mimport\u001b[39;00m \u001b[39mscipy\u001b[39;00m\u001b[39m.\u001b[39;00m\u001b[39mspecial\u001b[39;00m \u001b[39mas\u001b[39;00m \u001b[39mspecial\u001b[39;00m\n\u001b[0;32m     45\u001b[0m \u001b[39mfrom\u001b[39;00m \u001b[39mscipy\u001b[39;00m \u001b[39mimport\u001b[39;00m linalg\n\u001b[1;32m---> 46\u001b[0m \u001b[39mfrom\u001b[39;00m \u001b[39m.\u001b[39;00m \u001b[39mimport\u001b[39;00m distributions\n\u001b[0;32m     47\u001b[0m \u001b[39mfrom\u001b[39;00m \u001b[39m.\u001b[39;00m \u001b[39mimport\u001b[39;00m _mstats_basic \u001b[39mas\u001b[39;00m mstats_basic\n\u001b[0;32m     48\u001b[0m \u001b[39mfrom\u001b[39;00m \u001b[39m.\u001b[39;00m\u001b[39m_stats_mstats_common\u001b[39;00m \u001b[39mimport\u001b[39;00m (_find_repeats, linregress, theilslopes,\n\u001b[0;32m     49\u001b[0m                                    siegelslopes)\n",
      "File \u001b[1;32m~\\AppData\\Local\\Packages\\PythonSoftwareFoundation.Python.3.10_qbz5n2kfra8p0\\LocalCache\\local-packages\\Python310\\site-packages\\scipy\\stats\\distributions.py:8\u001b[0m\n\u001b[0;32m      1\u001b[0m \u001b[39m#\u001b[39;00m\n\u001b[0;32m      2\u001b[0m \u001b[39m# Author:  Travis Oliphant  2002-2011 with contributions from\u001b[39;00m\n\u001b[0;32m      3\u001b[0m \u001b[39m#          SciPy Developers 2004-2011\u001b[39;00m\n\u001b[1;32m   (...)\u001b[0m\n\u001b[0;32m      6\u001b[0m \u001b[39m#       instead of `git blame -Lxxx,+x`.\u001b[39;00m\n\u001b[0;32m      7\u001b[0m \u001b[39m#\u001b[39;00m\n\u001b[1;32m----> 8\u001b[0m \u001b[39mfrom\u001b[39;00m \u001b[39m.\u001b[39;00m\u001b[39m_distn_infrastructure\u001b[39;00m \u001b[39mimport\u001b[39;00m (rv_discrete, rv_continuous, rv_frozen)  \u001b[39m# noqa: F401\u001b[39;00m\n\u001b[0;32m     10\u001b[0m \u001b[39mfrom\u001b[39;00m \u001b[39m.\u001b[39;00m \u001b[39mimport\u001b[39;00m _continuous_distns\n\u001b[0;32m     11\u001b[0m \u001b[39mfrom\u001b[39;00m \u001b[39m.\u001b[39;00m \u001b[39mimport\u001b[39;00m _discrete_distns\n",
      "File \u001b[1;32m~\\AppData\\Local\\Packages\\PythonSoftwareFoundation.Python.3.10_qbz5n2kfra8p0\\LocalCache\\local-packages\\Python310\\site-packages\\scipy\\stats\\_distn_infrastructure.py:26\u001b[0m\n\u001b[0;32m     23\u001b[0m \u001b[39mfrom\u001b[39;00m \u001b[39mscipy\u001b[39;00m \u001b[39mimport\u001b[39;00m optimize\n\u001b[0;32m     25\u001b[0m \u001b[39m# for functions of continuous distributions (e.g. moments, entropy, cdf)\u001b[39;00m\n\u001b[1;32m---> 26\u001b[0m \u001b[39mfrom\u001b[39;00m \u001b[39mscipy\u001b[39;00m \u001b[39mimport\u001b[39;00m integrate\n\u001b[0;32m     28\u001b[0m \u001b[39m# to approximate the pdf of a continuous distribution given its cdf\u001b[39;00m\n\u001b[0;32m     29\u001b[0m \u001b[39mfrom\u001b[39;00m \u001b[39mscipy\u001b[39;00m\u001b[39m.\u001b[39;00m\u001b[39m_lib\u001b[39;00m\u001b[39m.\u001b[39;00m\u001b[39m_finite_differences\u001b[39;00m \u001b[39mimport\u001b[39;00m _derivative\n",
      "File \u001b[1;32m<frozen importlib._bootstrap>:1075\u001b[0m, in \u001b[0;36m_handle_fromlist\u001b[1;34m(module, fromlist, import_, recursive)\u001b[0m\n",
      "File \u001b[1;32m~\\AppData\\Local\\Packages\\PythonSoftwareFoundation.Python.3.10_qbz5n2kfra8p0\\LocalCache\\local-packages\\Python310\\site-packages\\scipy\\__init__.py:202\u001b[0m, in \u001b[0;36m__getattr__\u001b[1;34m(name)\u001b[0m\n\u001b[0;32m    200\u001b[0m \u001b[39mdef\u001b[39;00m \u001b[39m__getattr__\u001b[39m(name):\n\u001b[0;32m    201\u001b[0m     \u001b[39mif\u001b[39;00m name \u001b[39min\u001b[39;00m submodules:\n\u001b[1;32m--> 202\u001b[0m         \u001b[39mreturn\u001b[39;00m _importlib\u001b[39m.\u001b[39;49mimport_module(\u001b[39mf\u001b[39;49m\u001b[39m'\u001b[39;49m\u001b[39mscipy.\u001b[39;49m\u001b[39m{\u001b[39;49;00mname\u001b[39m}\u001b[39;49;00m\u001b[39m'\u001b[39;49m)\n\u001b[0;32m    203\u001b[0m     \u001b[39melse\u001b[39;00m:\n\u001b[0;32m    204\u001b[0m         \u001b[39mtry\u001b[39;00m:\n",
      "File \u001b[1;32mC:\\Program Files\\WindowsApps\\PythonSoftwareFoundation.Python.3.10_3.10.3056.0_x64__qbz5n2kfra8p0\\lib\\importlib\\__init__.py:126\u001b[0m, in \u001b[0;36mimport_module\u001b[1;34m(name, package)\u001b[0m\n\u001b[0;32m    124\u001b[0m             \u001b[39mbreak\u001b[39;00m\n\u001b[0;32m    125\u001b[0m         level \u001b[39m+\u001b[39m\u001b[39m=\u001b[39m \u001b[39m1\u001b[39m\n\u001b[1;32m--> 126\u001b[0m \u001b[39mreturn\u001b[39;00m _bootstrap\u001b[39m.\u001b[39;49m_gcd_import(name[level:], package, level)\n",
      "File \u001b[1;32m~\\AppData\\Local\\Packages\\PythonSoftwareFoundation.Python.3.10_qbz5n2kfra8p0\\LocalCache\\local-packages\\Python310\\site-packages\\scipy\\integrate\\__init__.py:93\u001b[0m\n\u001b[0;32m      1\u001b[0m \u001b[39m\"\"\"\u001b[39;00m\n\u001b[0;32m      2\u001b[0m \u001b[39m=============================================\u001b[39;00m\n\u001b[0;32m      3\u001b[0m \u001b[39mIntegration and ODEs (:mod:`scipy.integrate`)\u001b[39;00m\n\u001b[1;32m   (...)\u001b[0m\n\u001b[0;32m     88\u001b[0m \u001b[39m   solve_bvp     -- Solve a boundary value problem for a system of ODEs.\u001b[39;00m\n\u001b[0;32m     89\u001b[0m \u001b[39m\"\"\"\u001b[39;00m  \u001b[39m# noqa: E501\u001b[39;00m\n\u001b[0;32m     92\u001b[0m \u001b[39mfrom\u001b[39;00m \u001b[39m.\u001b[39;00m\u001b[39m_quadrature\u001b[39;00m \u001b[39mimport\u001b[39;00m \u001b[39m*\u001b[39m\n\u001b[1;32m---> 93\u001b[0m \u001b[39mfrom\u001b[39;00m \u001b[39m.\u001b[39;00m\u001b[39m_odepack_py\u001b[39;00m \u001b[39mimport\u001b[39;00m \u001b[39m*\u001b[39m\n\u001b[0;32m     94\u001b[0m \u001b[39mfrom\u001b[39;00m \u001b[39m.\u001b[39;00m\u001b[39m_quadpack_py\u001b[39;00m \u001b[39mimport\u001b[39;00m \u001b[39m*\u001b[39m\n\u001b[0;32m     95\u001b[0m \u001b[39mfrom\u001b[39;00m \u001b[39m.\u001b[39;00m\u001b[39m_ode\u001b[39;00m \u001b[39mimport\u001b[39;00m \u001b[39m*\u001b[39m\n",
      "File \u001b[1;32m~\\AppData\\Local\\Packages\\PythonSoftwareFoundation.Python.3.10_qbz5n2kfra8p0\\LocalCache\\local-packages\\Python310\\site-packages\\scipy\\integrate\\_odepack_py.py:6\u001b[0m\n\u001b[0;32m      3\u001b[0m __all__ \u001b[39m=\u001b[39m [\u001b[39m'\u001b[39m\u001b[39modeint\u001b[39m\u001b[39m'\u001b[39m]\n\u001b[0;32m      5\u001b[0m \u001b[39mimport\u001b[39;00m \u001b[39mnumpy\u001b[39;00m \u001b[39mas\u001b[39;00m \u001b[39mnp\u001b[39;00m\n\u001b[1;32m----> 6\u001b[0m \u001b[39mfrom\u001b[39;00m \u001b[39m.\u001b[39;00m \u001b[39mimport\u001b[39;00m _odepack\n\u001b[0;32m      7\u001b[0m \u001b[39mfrom\u001b[39;00m \u001b[39mcopy\u001b[39;00m \u001b[39mimport\u001b[39;00m copy\n\u001b[0;32m      8\u001b[0m \u001b[39mimport\u001b[39;00m \u001b[39mwarnings\u001b[39;00m\n",
      "\u001b[1;31mKeyboardInterrupt\u001b[0m: "
     ]
    }
   ],
   "source": [
    "import pandas as pd\n",
    "import sys\n",
    "from sklearn.model_selection import train_test_split\n",
    "from catboost import CatBoostRegressor\n",
    "\n",
    "X_A_train = dm.data_A.iloc[:, 2:]\n",
    "Y_A_train = dm.data_A.iloc[:, 1]\n",
    "\n",
    "X_B_train = dm.data_B.iloc[:, 2:]\n",
    "Y_B_train = dm.data_B.iloc[:, 1]\n",
    "\n",
    "X_C_train = dm.data_C.iloc[:, 2:]\n",
    "Y_C_train = dm.data_C.iloc[:, 1]\n",
    "\n",
    "X_A_test = dm.X_test_estimated_a[dm.X_test_estimated_a.columns.intersection(X_A_train.columns)]\n",
    "X_B_test = dm.X_test_estimated_b[dm.X_test_estimated_a.columns.intersection(X_A_train.columns)]\n",
    "X_C_test = dm.X_test_estimated_c[dm.X_test_estimated_a.columns.intersection(X_A_train.columns)]\n",
    "\n",
    "\n",
    "catModel_a = CatBoostRegressor()\n",
    "catModel_b = CatBoostRegressor()\n",
    "catModel_c = CatBoostRegressor()\n",
    "\n",
    "catModel_a.fit(X_A_train,Y_A_train)\n",
    "catModel_b.fit(X_B_train,Y_B_train)\n",
    "catModel_c.fit(X_C_train,Y_C_train)\n",
    "\n",
    "pred_A = catModel_a.predict(X_A_test)\n",
    "pred_B = catModel_b.predict(X_B_test)\n",
    "pred_C = catModel_c.predict(X_C_test)\n",
    "\n",
    "df_A = pd.DataFrame()\n",
    "\n",
    "df_A[\"predict\"] = pred_A\n",
    "df_A[\"location\"] = \"A\"\n",
    "\n",
    "df_B = pd.DataFrame()\n",
    "\n",
    "df_B[\"predict\"] = pred_B\n",
    "df_B[\"location\"] = \"B\"\n",
    "\n",
    "df_C = pd.DataFrame()\n",
    "\n",
    "df_C[\"predict\"] = pred_C\n",
    "df_C[\"location\"] = \"C\"\n",
    "\n",
    "df_mid = pd.concat([df_A, df_B], ignore_index=True)\n",
    "\n",
    "df = pd.concat([df_mid, df_C], join=\"inner\", ignore_index=True)\n",
    "\n",
    "df = df.drop(\"location\", axis=1)\n",
    "\n",
    "df[df<0] = 0\n",
    "\n",
    "# NAME THE FILE \n",
    "df.to_csv(\"./ext_preds/short_notebook_150.csv\")\n",
    "\n",
    "df.shape"
   ]
  },
  {
   "cell_type": "markdown",
   "metadata": {},
   "source": [
    "These predictions consisted of separate models for dataset A, B and C. Since these simple models performed well, we used them a lot for testing feature engineering and other data preprocessing. "
   ]
  },
  {
   "cell_type": "markdown",
   "metadata": {},
   "source": [
    "We also experimented with iterations"
   ]
  },
  {
   "cell_type": "code",
   "execution_count": null,
   "metadata": {},
   "outputs": [],
   "source": [
    "catModel_a = CatBoostRegressor(iterations=10000)\n",
    "catModel_b = CatBoostRegressor(iterations=10000)\n",
    "catModel_c = CatBoostRegressor(iterations=10000)"
   ]
  },
  {
   "cell_type": "markdown",
   "metadata": {},
   "source": [
    "With no luck.\n",
    "\n",
    "Additionally, we tried combining dataset B and C since they have very similar training data. The thought behind this is that we get more data to train on, and thus better results."
   ]
  },
  {
   "cell_type": "code",
   "execution_count": null,
   "metadata": {},
   "outputs": [],
   "source": [
    "catModel_bc = CatBoostRegressor()\n",
    "\n",
    "X_BC_train = pd.concat([X_B_train, X_C_train])\n",
    "Y_BC_train = pd.concat([Y_B_train, Y_C_train])\n",
    "\n",
    "pred_B = catModel_bc.predict(X_B_test)\n",
    "pred_C = catModel_bc.predict(X_C_test)"
   ]
  },
  {
   "cell_type": "markdown",
   "metadata": {},
   "source": [
    "This generally led to worse results.\n",
    "\n",
    "Though a combined model for all 3 worked in some instances."
   ]
  },
  {
   "cell_type": "code",
   "execution_count": null,
   "metadata": {},
   "outputs": [],
   "source": [
    "catModel_abc = CatBoostRegressor()\n",
    "\n",
    "X_BC_train = pd.concat([X_B_train, X_C_train])\n",
    "Y_BC_train = pd.concat([Y_B_train, Y_C_train])\n",
    "\n",
    "X_ABC_train = pd.concat([X_A_train, X_BC_train])\n",
    "Y_ABC_train = pd.concat([Y_A_train, Y_BC_train])\n",
    "\n",
    "catModel_abc.fit(X_ABC_train,Y_ABC_train)\n",
    "\n",
    "pred_A = catModel_abc.predict(X_A_test)\n",
    "pred_B = catModel_abc.predict(X_B_test)\n",
    "pred_C = catModel_abc.predict(X_C_test)"
   ]
  },
  {
   "cell_type": "markdown",
   "metadata": {},
   "source": [
    "Other regressor models were tested without any stacking or hyperparameter tuning. "
   ]
  },
  {
   "cell_type": "code",
   "execution_count": null,
   "metadata": {},
   "outputs": [],
   "source": [
    "from sklearn.ensemble import RandomForestRegressor\n",
    "\n",
    "rfr_a = RandomForestRegressor()\n",
    "rfr_b = RandomForestRegressor()\n",
    "rfr_c = RandomForestRegressor()"
   ]
  },
  {
   "cell_type": "code",
   "execution_count": null,
   "metadata": {},
   "outputs": [],
   "source": [
    "from xgboost import XGBRegressor\n",
    "\n",
    "xgb_a = XGBRegressor()\n",
    "xgb_b = XGBRegressor()\n",
    "xgb_c = XGBRegressor()"
   ]
  },
  {
   "cell_type": "code",
   "execution_count": null,
   "metadata": {},
   "outputs": [],
   "source": [
    "from sklearn.neural_network import MLPRegressor\n",
    "\n",
    "nn_a = MLPRegressor()\n",
    "nn_b = MLPRegressor()\n",
    "nn_c = MLPRegressor()"
   ]
  },
  {
   "cell_type": "code",
   "execution_count": null,
   "metadata": {},
   "outputs": [],
   "source": [
    "import lightgbm as lgb\n",
    "\n",
    "gbm_a = lgb.LGBMRegressor()\n",
    "gbm_b = lgb.LGBMRegressor()\n",
    "gbm_c = lgb.LGBMRegressor()"
   ]
  },
  {
   "cell_type": "markdown",
   "metadata": {},
   "source": [
    "But alone, these models didn't perform any better than catboost\n",
    "\n",
    "We also experimented with stacking"
   ]
  },
  {
   "cell_type": "code",
   "execution_count": null,
   "metadata": {},
   "outputs": [],
   "source": [
    "import pandas as pd\n",
    "import sys\n",
    "from sklearn.model_selection import train_test_split\n",
    "from catboost import CatBoostRegressor\n",
    "import numpy as np\n",
    "from sklearn.ensemble import StackingRegressor\n",
    "import lightgbm as lgb\n",
    "from sklearn.neural_network import MLPRegressor\n",
    "from sklearn.linear_model import LinearRegression\n",
    "from sklearn.ensemble import RandomForestRegressor\n",
    "from xgboost import XGBRegressor\n",
    "from sklearn.ensemble import BaggingRegressor\n",
    "\n",
    "print(dm.data_A.columns)\n",
    "\n",
    "X_A_train = dm.data_A.iloc[:, 2:]\n",
    "Y_A_train = dm.data_A.iloc[:, 1]\n",
    "\n",
    "X_B_train = dm.data_B.iloc[:, 2:]\n",
    "Y_B_train = dm.data_B.iloc[:, 1]\n",
    "\n",
    "X_C_train = dm.data_C.iloc[:, 2:]\n",
    "Y_C_train = dm.data_C.iloc[:, 1]\n",
    "\n",
    "X_A_test = dm.X_test_estimated_a[dm.X_test_estimated_a.columns.intersection(X_A_train.columns)]\n",
    "X_B_test = dm.X_test_estimated_b[dm.X_test_estimated_a.columns.intersection(X_A_train.columns)]\n",
    "X_C_test = dm.X_test_estimated_c[dm.X_test_estimated_a.columns.intersection(X_A_train.columns)]\n",
    "\n",
    "#X_A_train['direct_rad:W_lag_12']\n",
    "\n",
    "# remove special characters from column names\n",
    "X_A_train.columns = X_A_train.columns.str.replace(':', '_')\n",
    "X_B_train.columns = X_B_train.columns.str.replace(':', '_')\n",
    "X_C_train.columns = X_C_train.columns.str.replace(':', '_')\n",
    "\n",
    "X_A_test.columns = X_A_test.columns.str.replace(':', '_')\n",
    "X_B_test.columns = X_B_test.columns.str.replace(':', '_')\n",
    "X_C_test.columns = X_C_test.columns.str.replace(':', '_')\n",
    "\n",
    "# meta models\n",
    "metaModel_a = LinearRegression()\n",
    "metaModel_b = LinearRegression()\n",
    "metaModel_c = LinearRegression()\n",
    "\n",
    "# stacking classifier\n",
    "stacking_model_a = StackingRegressor(\n",
    "    estimators=[('rfr', rfr_a), ('nn', nn_a), ('gbm', gbm_a)],\n",
    "    final_estimator=metaModel_a\n",
    ")\n",
    "\n",
    "stacking_model_b = StackingRegressor(\n",
    "    estimators=[('rfr', rfr_b), ('nn', nn_b), ('gbm', gbm_b)],\n",
    "    final_estimator=metaModel_b\n",
    ")\n",
    "\n",
    "stacking_model_c = StackingRegressor(\n",
    "    estimators=[('rfr', rfr_c), ('nn', nn_c), ('gbm', gbm_c)],\n",
    "    final_estimator=metaModel_c\n",
    ")\n",
    "\n",
    "# fit stacking models\n",
    "stacking_model_a.fit(X_A_train, Y_A_train)\n",
    "stacking_model_b.fit(X_B_train, Y_B_train)\n",
    "stacking_model_c.fit(X_C_train, Y_C_train)\n",
    "\n",
    "# preds for stacking models\n",
    "stacking_preds_a = stacking_model_a.predict(X_A_test)\n",
    "stacking_preds_b = stacking_model_b.predict(X_B_test)\n",
    "stacking_preds_c = stacking_model_c.predict(X_C_test)"
   ]
  },
  {
   "attachments": {
    "image.png": {
     "image/png": "[encoded data removed]"
    }
   },
   "cell_type": "markdown",
   "metadata": {},
   "source": [
    "Stacking models with catboost gave us some promising results. We calculated the mae between stack predictions and older predictions to determine if the new models could be better.\n",
    "\n",
    "![image.png](attachment:image.png)\n",
    "\n",
    "These stacks did not end up being better than our basic catboost model.\n",
    "\n",
    "We also tried calculating the mean between our best prediction and our stack models, which didnt work either."
   ]
  },
  {
   "cell_type": "code",
   "execution_count": null,
   "metadata": {},
   "outputs": [],
   "source": [
    "pred_A_new = np.mean([pred_a, stacking_preds_a], axis=0)\n",
    "pred_B_new = np.mean([pred_b, stacking_preds_b], axis=0)\n",
    "pred_C_new = np.mean([pred_c, stacking_preds_c], axis=0)\n",
    "\n",
    "df_A = pd.DataFrame()\n",
    "\n",
    "df_A[\"predict\"] = pred_A_new\n",
    "df_A[\"location\"] = \"A\"\n",
    "\n",
    "df_B = pd.DataFrame()\n",
    "\n",
    "df_B[\"predict\"] = pred_B_new\n",
    "df_B[\"location\"] = \"B\"\n",
    "\n",
    "df_C = pd.DataFrame()\n",
    "\n",
    "df_C[\"predict\"] = pred_C_new\n",
    "df_C[\"location\"] = \"C\"\n",
    "\n",
    "df_mid = pd.concat([df_A, df_B], ignore_index=True)\n",
    "\n",
    "df = pd.concat([df_mid, df_C], join=\"inner\", ignore_index=True)\n",
    "\n",
    "df = df.drop(\"location\", axis=1)\n",
    "\n",
    "df[df<0] = 0\n",
    "\n",
    "# NAME THE FILE \n",
    "df.to_csv(\"./ext_preds/stack_4.csv\")\n",
    "\n",
    "df.shape"
   ]
  },
  {
   "cell_type": "markdown",
   "metadata": {},
   "source": [
    "### Hyperparameter tuning\n",
    "To improve our models, we also tried a lot of hyperparameter tuning, where we experimented with different tools like Optuna, Scikit-Optimize and H2O. As Optuna worked pretty well, we included it in our pipeline for some models"
   ]
  },
  {
   "cell_type": "code",
   "execution_count": null,
   "metadata": {},
   "outputs": [],
   "source": [
    "from sklearn.model_selection import train_test_split \n",
    "\n",
    "X = dm.data.iloc[:, 2:]\n",
    "y = dm.data.iloc[:, 1]\n",
    "\n",
    "\n",
    "X_A = dm.data_A.iloc[:, 2:-1]\n",
    "y_A = dm.data_A.iloc[:, 1]\n",
    "X_B = dm.data_B.iloc[:, 2:-1]\n",
    "y_B = dm.data_B.iloc[:, 1]\n",
    "X_C = dm.data_C.iloc[:, 2:-1]\n",
    "y_C = dm.data_C.iloc[:, 1]\n",
    "\n",
    "X_train, X_test, y_train, y_test = train_test_split(X, y, shuffle=False)\n",
    "X_validate, X_test, y_validate, y_test = train_test_split(X_test, y_test, train_size=0.6, shuffle=False)\n",
    "\n",
    "X_A_train, X_A_test, y_A_train, y_A_test = train_test_split(X_A, y_A)\n",
    "X_A_validate, X_A_test, y_A_validate, y_A_test = train_test_split(X_A_test, y_A_test, train_size=0.5, shuffle=False)\n",
    "\n",
    "X_B_train, X_B_test, y_B_train, y_B_test = train_test_split(X_B, y_B)\n",
    "X_B_validate, X_B_test, y_B_validate, y_B_test = train_test_split(X_B_test, y_B_test, train_size=0.5, shuffle=False)\n",
    "\n",
    "X_C_train, X_C_test, y_C_train, y_C_test = train_test_split(X_C, y_C)\n",
    "X_C_validate, X_C_test, y_C_validate, y_C_test = train_test_split(X_C_test, y_C_test, train_size=0.5, shuffle=False)\n",
    "\n",
    "X_BC = dm.data[dm.data[\"location\"] != 0]\n",
    "\n",
    "y_BC = X_BC.iloc[:, 1]\n",
    "X_BC = X_BC.iloc[:, 2:]\n",
    "\n",
    "X_BC_train, X_BC_test, y_BC_train, y_BC_test = train_test_split(X_BC, y_BC, shuffle=False)\n",
    "X_BC_validate, X_BC_test, y_BC_validate, y_BC_test = train_test_split(X_BC_test, y_BC_test, train_size=0.5, shuffle=False)\n",
    "\n",
    "X_BC_submission = dm.X_test_estimated[dm.X_test_estimated[\"location\"] != 0].iloc[:, 1:]\n",
    "\n",
    "X_submission = dm.X_test_estimated[dm.X_test_estimated.columns.intersection(X.columns)]\n",
    "\n",
    "X_A_submission = dm.X_test_estimated_a[dm.X_test_estimated_a.columns.intersection(X_A.columns)]\n",
    "X_B_submission = dm.X_test_estimated_b[dm.X_test_estimated_b.columns.intersection(X_B.columns)]\n",
    "X_C_submission = dm.X_test_estimated_c[dm.X_test_estimated_c.columns.intersection(X_C.columns)]\n",
    "\n",
    "print(X_train.shape, y_train.shape, X_validate.shape, y_validate.shape, X_test.shape, y_test.shape, X_submission.shape)\n",
    "\n",
    "print(X_A_train.shape, y_A_train.shape, X_A_validate.shape, y_A_validate.shape, X_A_test.shape, y_A_test.shape, X_A_submission.shape)\n",
    "print(X_B_train.shape, y_B_train.shape, X_B_validate.shape, y_B_validate.shape, X_B_test.shape, y_B_test.shape, X_B_submission.shape)\n",
    "print(X_C_train.shape, y_C_train.shape, X_C_validate.shape, y_C_validate.shape, X_C_test.shape, y_C_test.shape, X_C_submission.shape)\n",
    "\n",
    "print(X_BC_train.shape, y_BC_train.shape, X_BC_validate.shape, y_BC_validate.shape, X_BC_test.shape, y_BC_test.shape, X_BC_submission.shape)\n",
    "\n",
    "X_BC_submission"
   ]
  },
  {
   "cell_type": "code",
   "execution_count": null,
   "metadata": {},
   "outputs": [],
   "source": [
    "\n",
    "import optuna\n",
    "import numpy as np\n",
    "from sklearn.metrics import mean_absolute_error\n",
    "from optuna.samplers import TPESampler\n",
    "from catboost import CatBoostRegressor\n",
    "\n",
    "def objective(trial):\n",
    "\n",
    "    param = {\n",
    "        \"objective\": trial.suggest_categorical(\"objective\", [\"MAE\"]),\n",
    "        \"colsample_bylevel\": trial.suggest_float(\"colsample_bylevel\", 0.01, 0.1),\n",
    "        \"depth\": trial.suggest_int(\"depth\", 1, 16),\n",
    "        \"boosting_type\": trial.suggest_categorical(\"boosting_type\", [\"Ordered\", \"Plain\"]),\n",
    "        \"bootstrap_type\": trial.suggest_categorical(\n",
    "            \"bootstrap_type\", [\"Bayesian\", \"Bernoulli\", \"MVS\"]\n",
    "        ),\n",
    "        #\"iterations\": trial.suggest_int(\"iterations\", 10, 1500),\n",
    "        \"random_seed\": 0,\n",
    "        \n",
    "    }\n",
    "\n",
    "    if param[\"bootstrap_type\"] == \"Bayesian\":\n",
    "        param[\"bagging_temperature\"] = trial.suggest_float(\"bagging_temperature\", 0, 10)\n",
    "    elif param[\"bootstrap_type\"] == \"Bernoulli\":\n",
    "        param[\"subsample\"] = trial.suggest_float(\"subsample\", 0.1, 1)\n",
    "\n",
    "    cb = CatBoostRegressor(**param)\n",
    "\n",
    "    cb.fit(X_train, y_train, eval_set=[(X_validate, y_validate)], verbose=0, early_stopping_rounds=100)\n",
    "\n",
    "    preds = cb.predict(X_test)\n",
    "    pred_labels = np.rint(preds)\n",
    "    accuracy = mean_absolute_error(y_test, pred_labels)\n",
    "    return accuracy\n",
    "\n",
    "sampler = TPESampler(seed=42)\n",
    "study = optuna.create_study(direction=\"minimize\", sampler=sampler)\n",
    "study.optimize(objective, n_trials=100, timeout=None)"
   ]
  },
  {
   "cell_type": "markdown",
   "metadata": {},
   "source": [
    "We tried optuna with different catboost variations. A combined model for A, B and C ended up giving us the best result."
   ]
  },
  {
   "cell_type": "code",
   "execution_count": null,
   "metadata": {},
   "outputs": [],
   "source": [
    "#[I 2023-11-05 16:59:05,004] Trial 5 finished with value: 116.02466557883027 and parameters: {'objective': 'MAE', 'colsample_bylevel': 0.08555204354589313, 'depth': 11, 'boosting_type': 'Plain', 'bootstrap_type': 'Bayesian', 'iterations': 1190, 'bagging_temperature': 5.833922769277539}. Best is trial 5 with value: 116.02466557883027.\n",
    "\n",
    "# these params scored 150 \n",
    "# (\"cat\", CatBoostRegressor(**{'objective': 'MAE', 'colsample_bylevel': 0.08393035401844894, 'depth': 12, 'boosting_type': 'Plain', 'bootstrap_type': 'Bayesian', 'bagging_temperature': 3.6491381658313076, \"random_seed\":0})),\n",
    "\n",
    "# [I 2023-11-05 22:37:34,489] Trial 20 finished with value: 161.77335724365003 and parameters: {'objective': 'MAE', 'colsample_bylevel': 0.09961018030513795, 'depth': 16, 'boosting_type': 'Plain', 'bootstrap_type': 'Bayesian', 'bagging_temperature': 5.755437017114945}. Best is trial 20 with value: 161.77335724365003.\n",
    "\n",
    "## DELETED FEATS \n",
    "\n",
    "## with validation split \n",
    "#[I 2023-11-06 10:05:05,399] Trial 26 finished with value: 165.8851952022578 and parameters: {'objective': 'MAE', 'colsample_bylevel': 0.09930576154462276, 'depth': 15, 'boosting_type': 'Plain', 'bootstrap_type': 'MVS'}. Best is trial 26 with value: 165.8851952022578.\n",
    "#[I 2023-11-06 09:59:39,114] Trial 13 finished with value: 165.99023283160864 and parameters: {'objective': 'MAE', 'colsample_bylevel': 0.09894236237775247, 'depth': 16, 'boosting_type': 'Plain', 'bootstrap_type': 'MVS'}. Best is trial 13 with value: 165.99023283160864.\n",
    "\n",
    "## DELETED FEATS + LAG FEATS - SUM RAD\n",
    "#[I 2023-11-06 14:18:01,581] Trial 26 finished with value: 165.43080979284372 and parameters: {'objective': 'MAE', 'colsample_bylevel': 0.09922457244655024, 'depth': 15, 'boosting_type': 'Plain', 'bootstrap_type': 'MVS'}. Best is trial 26 with value: 165.43080979284372.\n",
    "#[I 2023-11-06 14:14:27,365] Trial 22 finished with value: 166.69347928436912 and parameters: {'objective': 'MAE', 'colsample_bylevel': 0.07845778545183921, 'depth': 16, 'boosting_type': 'Plain', 'bootstrap_type': 'MVS'}. Best is trial 22 with value: 166.69347928436912.\n",
    "\n",
    "\n",
    "## ALL FEATS + FE, NO LAG FEATS, BC DONATION AND REMOVING CONST INTERVALS (12/3)\n",
    "#[I 2023-11-06 18:47:26,359] Trial 12 finished with value: 169.74903878583473 and parameters: {'objective': 'MAE', 'colsample_bylevel': 0.07321108308140112, 'depth': 16, 'boosting_type': 'Plain', 'bootstrap_type': 'Bernoulli', 'subsample': 0.9947382455838534}. Best is trial 12 with value: 169.74903878583473.\n",
    "#[I 2023-11-06 18:45:18,746] Trial 11 finished with value: 171.92396530956395 and parameters: {'objective': 'MAE', 'colsample_bylevel': 0.068755243871172, 'depth': 16, 'boosting_type': 'Plain', 'bootstrap_type': 'Bernoulli', 'subsample': 0.9942926270291108}. Best is trial 11 with value: 171.92396530956395.\n",
    "#[I 2023-11-06 18:51:54,938] Trial 15 finished with value: 170.281074439894 and parameters: {'objective': 'MAE', 'colsample_bylevel': 0.08074887258271649, 'depth': 16, 'boosting_type': 'Plain', 'bootstrap_type': 'Bayesian', 'bagging_temperature': 9.10570616951506}. Best is trial 12 with value: 169.74903878583473.\n",
    "\n",
    "\n",
    "# [I 2023-11-05 22:43:53,232] Trial 2 finished with value: 25.414357904741664 and parameters: {'objective': 'MAE', 'colsample_bylevel': 0.06927535477671466, 'depth': 14, 'boosting_type': 'Plain', 'bootstrap_type': 'Bernoulli', 'subsample': 0.10515029581800527}. Best is trial 2 with value: 25.414357904741664.\n",
    "\n",
    "# DELETED FEATS \n",
    "\n",
    "## Proper validation: \n",
    "#[I 2023-11-06 10:26:38,751] Trial 25 finished with value: 22.26772405170921 and parameters: {'objective': 'MAE', 'colsample_bylevel': 0.09981161016617257, 'depth': 16, 'boosting_type': 'Plain', 'bootstrap_type': 'Bernoulli', 'subsample': 0.5119008311351512}. Best is trial 25 with value: 22.26772405170921.\n",
    "#[I 2023-11-06 10:35:56,976] Trial 33 finished with value: 22.62602913068846 and parameters: {'objective': 'MAE', 'colsample_bylevel': 0.0953035979637657, 'depth': 14, 'boosting_type': 'Plain', 'bootstrap_type': 'Bernoulli', 'subsample': 0.4988564621460619}. Best is trial 25 with value: 22.26772405170921.\n",
    "\n",
    "\n",
    "## DELETED FEATS + LAG FEATS - SUM RAD\n",
    "\n",
    "\n",
    "# [I 2023-11-05 23:01:43,697] Trial 12 finished with value: 22.37118032357372 and parameters: {'objective': 'MAE', 'colsample_bylevel': 0.06718168961955846, 'depth': 16, 'boosting_type': 'Plain', 'bootstrap_type': 'Bernoulli', 'subsample': 0.3200703207067206}. Best is trial 12 with value: 22.37118032357372.\n",
    "\n",
    "# DELETED FEATS \n",
    "\n",
    "#proper validatioon \n",
    "#[I 2023-11-06 10:45:49,758] Trial 28 finished with value: 20.537135559921417 and parameters: {'objective': 'MAE', 'colsample_bylevel': 0.09350538147690629, 'depth': 15, 'boosting_type': 'Plain', 'bootstrap_type': 'Bayesian', 'bagging_temperature': 8.842124245488673}. Best is trial 28 with value: 20.537135559921417.\n",
    "#[I 2023-11-06 10:43:30,999] Trial 22 finished with value: 20.997127701375245 and parameters: {'objective': 'MAE', 'colsample_bylevel': 0.08944284279926223, 'depth': 13, 'boosting_type': 'Plain', 'bootstrap_type': 'Bayesian', 'bagging_temperature': 6.930004930966931}. Best is trial 22 with value: 20.997127701375245.\n",
    "#[I 2023-11-06 10:59:09,821] Trial 33 finished with value: 19.716058939096268 and parameters: {'objective': 'MAE', 'colsample_bylevel': 0.09644126188381036, 'depth': 15, 'boosting_type': 'Plain', 'bootstrap_type': 'Bernoulli', 'subsample': 0.9881316487405227}. Best is trial 33 with value: 19.716058939096268.\n",
    "#[I 2023-11-06 10:57:44,252] Trial 31 finished with value: 19.721968565815324 and parameters: {'objective': 'MAE', 'colsample_bylevel': 0.09517386033361759, 'depth': 15, 'boosting_type': 'Plain', 'bootstrap_type': 'Bernoulli', 'subsample': 0.9934480446809176}. Best is trial 31 with value: 19.721968565815324.\n",
    "#[I 2023-11-06 10:57:04,178] Trial 30 finished with value: 20.012184675834973 and parameters: {'objective': 'MAE', 'colsample_bylevel': 0.09999890845914448, 'depth': 15, 'boosting_type': 'Plain', 'bootstrap_type': 'Bernoulli', 'subsample': 0.9877850694321213}. Best is trial 30 with value: 20.012184675834973.\n",
    "\n",
    "\n",
    "## ALL FEATS + FE, NO LAG FEATS, BC DONATION AND REMOVING CONST INTERVALS (20/3)\n",
    "#[I 2023-11-06 18:55:46,070] Trial 0 finished with value: 18.485309556165106 and parameters: {'objective': 'MAE', 'colsample_bylevel': 0.09003451962386975, 'depth': 13, 'boosting_type': 'Plain', 'bootstrap_type': 'Bernoulli', 'subsample': 0.1912152898699087}. Best is trial 0 with value: 18.485309556165106.\n",
    "#[I 2023-11-06 19:16:42,672] Trial 3 finished with value: 17.818673155834432 and parameters: {'objective': 'MAE', 'colsample_bylevel': 0.0819245485589076, 'depth': 13, 'boosting_type': 'Ordered', 'bootstrap_type': 'MVS'}. Best is trial 3 with value: 17.818673155834432.\n",
    "#[I 2023-11-06 19:16:46,131] Trial 4 finished with value: 20.735737001810563 and parameters: {'objective': 'MAE', 'colsample_bylevel': 0.03948636560626, 'depth': 9, 'boosting_type': 'Plain', 'bootstrap_type': 'MVS'}. Best is trial 3 with value: 17.818673155834432.\n",
    "\n",
    "\n",
    "#[I 2023-11-06 09:21:40,140] Trial 7 finished with value: 93.57082723599223 and parameters: {'objective': 'MAE', 'colsample_bylevel': 0.07021145849459196, 'depth': 15, 'boosting_type': 'Ordered', 'bootstrap_type': 'MVS'}. Best is trial 7 with value: 93.57082723599223.\n",
    "#[I 2023-11-06 09:18:27,362] Trial 6 finished with value: 104.18112832124598 and parameters: {'objective': 'MAE', 'colsample_bylevel': 0.07343258702862919, 'depth': 7, 'boosting_type': 'Plain', 'bootstrap_type': 'MVS'}. Best is trial 4 with value: 99.6739211164172.\n",
    "#[I 2023-11-06 09:18:19,613] Trial 4 finished with value: 99.6739211164172 and parameters: {'objective': 'MAE', 'colsample_bylevel': 0.05987187094961611, 'depth': 10, 'boosting_type': 'Ordered', 'bootstrap_type': 'Bernoulli', 'subsample': 0.8627037092982467}. Best is trial 4 with value: 99.6739211164172.\n",
    "\n",
    "## PROPER VALIDATION \n",
    "# [I 2023-11-06 09:34:06,886] Trial 11 finished with value: 94.84395099535925 and parameters: {'objective': 'MAE', 'colsample_bylevel': 0.06788514856337621, 'depth': 9, 'boosting_type': 'Plain', 'bootstrap_type': 'Bernoulli', 'subsample': 0.3089743943699958}. Best is trial 1 with value: 91.96302490499082.\n",
    "# [I 2023-11-06 09:34:12,735] Trial 12 finished with value: 90.99607534299506 and parameters: {'objective': 'MAE', 'colsample_bylevel': 0.06879424422985089, 'depth': 12, 'boosting_type': 'Plain', 'bootstrap_type': 'Bernoulli', 'subsample': 0.1356440119309477}. Best is trial 12 with value: 90.99607534299506.\n",
    "# [I 2023-11-06 09:34:19,982] Trial 13 finished with value: 90.15040743548006 and parameters: {'objective': 'MAE', 'colsample_bylevel': 0.06831027771726123, 'depth': 13, 'boosting_type': 'Plain', 'bootstrap_type': 'Bernoulli', 'subsample': 0.1059090481359448}. Best is trial 13 with value: 90.15040743548006.\n",
    "# [I 2023-11-06 09:34:49,324] Trial 14 finished with value: 85.26022828486518 and parameters: {'objective': 'MAE', 'colsample_bylevel': 0.0764308167143037, 'depth': 15, 'boosting_type': 'Plain', 'bootstrap_type': 'Bernoulli', 'subsample': 0.11317034357345056}. Best is trial 14 with value: 85.26022828486518.\n",
    "# [I 2023-11-06 09:36:04,025] Trial 15 finished with value: 81.02983953897846 and parameters: {'objective': 'MAE', 'colsample_bylevel': 0.08556050159260666, 'depth': 16, 'boosting_type': 'Plain', 'bootstrap_type': 'Bernoulli', 'subsample': 0.10142252384867761}. Best is trial 15 with value: 81.02983953897846.\n",
    "# USED THIS FOR SUB CATBOOST_13_SINGLE.CSV [I 2023-11-06 09:37:51,323] Trial 16 finished with value: 78.62797533658944 and parameters: {'objective': 'MAE', 'colsample_bylevel': 0.09994261947773965, 'depth': 16, 'boosting_type': 'Plain', 'bootstrap_type': 'Bernoulli', 'subsample': 0.3517029793822252}. Best is trial 16 with value: 78.62797533658944.\n",
    "# [I 2023-11-06 09:39:42,441] Trial 17 finished with value: 78.80238554236068 and parameters: {'objective': 'MAE', 'colsample_bylevel': 0.09990666905586555, 'depth': 16, 'boosting_type': 'Plain', 'bootstrap_type': 'Bernoulli', 'subsample': 0.39528335187495645}. Best is trial 16 with value: 78.62797533658944.\n",
    "# [I 2023-11-06 09:40:12,070] Trial 18 finished with value: 82.74867457461298 and parameters: {'objective': 'MAE', 'colsample_bylevel': 0.09991105102282588, 'depth': 14, 'boosting_type': 'Plain', 'bootstrap_type': 'Bernoulli', 'subsample': 0.44205347186589705}. Best is trial 16 with value: 78.62797533658944.\n",
    "# [I 2023-11-06 09:40:19,573] Trial 19 finished with value: 86.11596511811832 and parameters: {'objective': 'MAE', 'colsample_bylevel': 0.0993444194374076, 'depth': 11, 'boosting_type': 'Plain', 'bootstrap_type': 'Bernoulli', 'subsample': 0.4163694923198905}. Best is trial 16 with value: 78.62797533658944.\n",
    "# [I 2023-11-06 09:40:24,566] Trial 20 finished with value: 95.64983586751998 and parameters: {'objective': 'MAE', 'colsample_bylevel': 0.08625070811470684, 'depth': 7, 'boosting_type': 'Plain', 'bootstrap_type': 'Bernoulli', 'subsample': 0.5965498517007939}. Best is trial 16 with value: 78.62797533658944.\n",
    "# [I 2023-11-06 09:41:48,783] Trial 21 finished with value: 80.34018050497714 and parameters: {'objective': 'MAE', 'colsample_bylevel': 0.08828388798152162, 'depth': 16, 'boosting_type': 'Plain', 'bootstrap_type': 'Bernoulli', 'subsample': 0.29136732663727677}. Best is trial 16 with value: 78.62797533658944.\n",
    "# [I 2023-11-06 09:42:34,832] Trial 22 finished with value: 81.1204320957182 and parameters: {'objective': 'MAE', 'colsample_bylevel': 0.0918243857157667, 'depth': 15, 'boosting_type': 'Plain', 'bootstrap_type': 'Bernoulli', 'subsample': 0.35999148599335806}. Best is trial 16 with value: 78.62797533658944.\n",
    "# [I 2023-11-06 09:44:15,154] Trial 23 finished with value: 79.2280725426542 and parameters: {'objective': 'MAE', 'colsample_bylevel': 0.09386351381323012, 'depth': 16, 'boosting_type': 'Plain', 'bootstrap_type': 'Bernoulli', 'subsample': 0.29478409296370756}. Best is trial 16 with value: 78.62797533658944.\n",
    "# [I 2023-11-06 09:44:42,818] Trial 24 finished with value: 81.19963365555299 and parameters: {'objective': 'MAE', 'colsample_bylevel': 0.09997495410247971, 'depth': 14, 'boosting_type': 'Plain', 'bootstrap_type': 'Bernoulli', 'subsample': 0.4802613284856091}. Best is trial 16 with value: 78.62797533658944.\n",
    "# [I 2023-11-06 09:45:01,658] Trial 25 finished with value: 85.19633893372021 and parameters: {'objective': 'MAE', 'colsample_bylevel': 0.07924963444764457, 'depth': 14, 'boosting_type': 'Plain', 'bootstrap_type': 'MVS'}. Best is trial 16 with value: 78.62797533658944.\n",
    "\n",
    "## DELETED FEATS + LAG FEATS - SUM RAD\n",
    "# USED THIS FOR SUB CATBOOST_14_SINGLE.CSV [I 2023-11-06 16:04:47,625] Trial 41 finished with value: 83.411573402198 and parameters: {'objective': 'MAE', 'colsample_bylevel': 0.09618156200475811, 'depth': 16, 'boosting_type': 'Plain', 'bootstrap_type': 'Bernoulli', 'subsample': 0.21387042043411192}. Best is trial 41 with value: 83.411573402198.\n",
    "# [I 2023-11-06 15:44:49,977] Trial 30 finished with value: 83.51429978562304 and parameters: {'objective': 'MAE', 'colsample_bylevel': 0.09926156367081514, 'depth': 15, 'boosting_type': 'Plain', 'bootstrap_type': 'Bernoulli', 'subsample': 0.271617400472478}. Best is trial 30 with value: 83.51429978562304.\n",
    "# [I 2023-11-06 15:29:27,387] Trial 24 finished with value: 84.02207338155672 and parameters: {'objective': 'MAE', 'colsample_bylevel': 0.09850904799670648, 'depth': 15, 'boosting_type': 'Plain', 'bootstrap_type': 'Bernoulli', 'subsample': 0.2994539222163096}. Best is trial 24 with value: 84.02207338155672.\n",
    "\n",
    "## ALL FEATS + FE, NO LAG FEATS, BC DONATION AND REMOVING CONST INTERVALS (20/3)\n",
    "#[I 2023-11-06 21:22:41,277] Trial 18 finished with value: 19.06275303157211 and parameters: {'objective': 'MAE', 'colsample_bylevel': 0.08101231188824651, 'depth': 16, 'boosting_type': 'Plain', 'bootstrap_type': 'Bernoulli', 'subsample': 0.1203886158980404}. Best is trial 18 with value: 19.06275303157211.\n",
    "#[I 2023-11-06 21:25:20,073] Trial 21 finished with value: 19.02159924912772 and parameters: {'objective': 'MAE', 'colsample_bylevel': 0.07731293544992492, 'depth': 16, 'boosting_type': 'Plain', 'bootstrap_type': 'Bernoulli', 'subsample': 0.3756198315698245}. Best is trial 21 with value: 19.02159924912772.\n",
    "#[I 2023-11-06 21:30:31,243] Trial 25 finished with value: 18.844086323227387 and parameters: {'objective': 'MAE', 'colsample_bylevel': 0.09981161016617257, 'depth': 16, 'boosting_type': 'Plain', 'bootstrap_type': 'Bernoulli', 'subsample': 0.5119008311351512}. Best is trial 25 with value: 18.844086323227387.\n"
   ]
  },
  {
   "cell_type": "markdown",
   "metadata": {},
   "source": [
    "## Training on summer months exclusively\n",
    "Since we are doing predictions on summer months solely, we had an idea to try and remove all training data for other seasons"
   ]
  },
  {
   "cell_type": "code",
   "execution_count": null,
   "metadata": {},
   "outputs": [],
   "source": [
    "def filter_by_month(df: pd.DataFrame, months: list[str]) -> pd.DataFrame:\n",
    "    \"\"\"\n",
    "    Filter a dataframe by keeping only rows where the 'date_forecast' column is within the specified months.\n",
    "\n",
    "    Parameters:\n",
    "    df (pandas.DataFrame): The dataframe to filter.\n",
    "    months (list[str]): A list of months to keep, in the format 'MM'.\n",
    "\n",
    "    Returns:\n",
    "    pandas.DataFrame: The filtered dataframe.\n",
    "    \"\"\"\n",
    "    return df[df['date_forecast'].dt.strftime('%m').isin(months)]"
   ]
  },
  {
   "cell_type": "code",
   "execution_count": null,
   "metadata": {},
   "outputs": [],
   "source": [
    "from helpers import filter_by_month\n",
    "\n",
    "dml.data_A = filter_by_month(dml.data_A, ['04','05','06','07'])\n",
    "dml.data_B = filter_by_month(dml.data_B, ['04','05','06','07'])\n",
    "dml.data_C = filter_by_month(dml.data_C, ['04','05','06','07'])\n",
    "%store dml"
   ]
  },
  {
   "cell_type": "markdown",
   "metadata": {},
   "source": [
    "Though this did not improve the score. \n",
    "\n"
   ]
  }
 ],
 "metadata": {
  "kernelspec": {
   "display_name": "Python 3",
   "language": "python",
   "name": "python3"
  },
  "language_info": {
   "codemirror_mode": {
    "name": "ipython",
    "version": 3
   },
   "file_extension": ".py",
   "mimetype": "text/x-python",
   "name": "python",
   "nbconvert_exporter": "python",
   "pygments_lexer": "ipython3",
   "version": "3.10.11"
  }
 },
 "nbformat": 4,
 "nbformat_minor": 2
}
