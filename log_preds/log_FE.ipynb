{
 "cells": [
  {
   "cell_type": "code",
   "execution_count": 25,
   "metadata": {},
   "outputs": [
    {
     "name": "stdout",
     "output_type": "stream",
     "text": [
      "The autoreload extension is already loaded. To reload it, use:\n",
      "  %reload_ext autoreload\n"
     ]
    }
   ],
   "source": [
    "import sys\n",
    "import numpy as np\n",
    "import pandas as pd\n",
    "\n",
    "%load_ext autoreload\n",
    "%autoreload 2"
   ]
  },
  {
   "cell_type": "markdown",
   "metadata": {},
   "source": [
    "## Load DMS and store object"
   ]
  },
  {
   "cell_type": "code",
   "execution_count": 26,
   "metadata": {},
   "outputs": [
    {
     "name": "stdout",
     "output_type": "stream",
     "text": [
      "Stored 'dml' (Data_Manager)\n"
     ]
    }
   ],
   "source": [
    "sys.path.append('../')\n",
    "\n",
    "from data_prep import dm_saver, data_manager\n",
    "\n",
    "dms = dm_saver.DM_Saver.load('../dms')\n",
    "\n",
    "dml = data_manager.Data_Manager()\n",
    "\n",
    "dml.dms2dm(dms)\n",
    "%store dml"
   ]
  },
  {
   "cell_type": "markdown",
   "metadata": {},
   "source": [
    "## Donating rows\n",
    "At this point dataset B and C has a lot of missing values. We will exploit the fact that the two training sets are quite similar and donate missing values to each other."
   ]
  },
  {
   "cell_type": "code",
   "execution_count": 27,
   "metadata": {},
   "outputs": [
    {
     "name": "stdout",
     "output_type": "stream",
     "text": [
      "donated rows from C to B:  2660\n",
      "donated rows from B to C:  6271\n"
     ]
    }
   ],
   "source": [
    "from helpers import donate_missing_rows\n",
    "\n",
    "rB, count_b = donate_missing_rows(dml.data_B, dml.data_C)\n",
    "print('donated rows from C to B: ', count_b)\n",
    "rC, count_c = donate_missing_rows(dml.data_C, dml.data_B)\n",
    "print('donated rows from B to C: ', count_c)"
   ]
  },
  {
   "cell_type": "code",
   "execution_count": 28,
   "metadata": {},
   "outputs": [],
   "source": [
    "# set donated data\n",
    "\n",
    "dml.data_B = rB\n",
    "dml.data_C = rC"
   ]
  },
  {
   "cell_type": "markdown",
   "metadata": {},
   "source": [
    "## Storing"
   ]
  },
  {
   "cell_type": "code",
   "execution_count": 29,
   "metadata": {},
   "outputs": [
    {
     "name": "stdout",
     "output_type": "stream",
     "text": [
      "Stored 'dml' (Data_Manager)\n"
     ]
    }
   ],
   "source": [
    "%store dml"
   ]
  },
  {
   "cell_type": "code",
   "execution_count": 18,
   "metadata": {},
   "outputs": [],
   "source": [
    "# Save train data as csv (without id and date_foeecast)\n",
    "XA_csv = dml.data_A.drop(['date_forecast'], axis=1)\n",
    "XB_csv = dml.data_B.drop(['date_forecast'], axis=1)\n",
    "XC_csv = dml.data_C.drop(['date_forecast'], axis=1)\n",
    "\n",
    "XA_csv.to_csv('train_A.csv', index=False)\n",
    "XB_csv.to_csv('train_B.csv', index=False)\n",
    "XC_csv.to_csv('train_C.csv', index=False)"
   ]
  }
 ],
 "metadata": {
  "kernelspec": {
   "display_name": "Python 3",
   "language": "python",
   "name": "python3"
  },
  "language_info": {
   "codemirror_mode": {
    "name": "ipython",
    "version": 3
   },
   "file_extension": ".py",
   "mimetype": "text/x-python",
   "name": "python",
   "nbconvert_exporter": "python",
   "pygments_lexer": "ipython3",
   "version": "3.10.11"
  }
 },
 "nbformat": 4,
 "nbformat_minor": 2
}
