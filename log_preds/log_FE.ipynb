{
 "cells": [
  {
   "cell_type": "code",
   "execution_count": 11,
   "metadata": {},
   "outputs": [],
   "source": [
    "import sys\n",
    "import numpy as np\n",
    "import pandas as pd"
   ]
  },
  {
   "cell_type": "markdown",
   "metadata": {},
   "source": [
    "## Load DMS and store object"
   ]
  },
  {
   "cell_type": "code",
   "execution_count": 12,
   "metadata": {},
   "outputs": [],
   "source": [
    "sys.path.append('../')\n",
    "\n",
    "from data_prep import dm_saver, data_manager\n",
    "\n",
    "dms = dm_saver.DM_Saver.load('../dms')\n",
    "\n",
    "dml = data_manager.Data_Manager()\n",
    "\n",
    "dml.dms2dm(dms)"
   ]
  },
  {
   "cell_type": "markdown",
   "metadata": {},
   "source": [
    "## Locating constant pvm y-intervals\n",
    "Dataset B and C has 'holes' in y_train, where pv_measurement is constant. Therefore we don't want to train on this data and can remove the corresponding rows for both X and Y"
   ]
  },
  {
   "cell_type": "code",
   "execution_count": 14,
   "metadata": {},
   "outputs": [],
   "source": [
    "y_hole_length = 200\n",
    "from helpers import find_const_interval"
   ]
  },
  {
   "cell_type": "code",
   "execution_count": 15,
   "metadata": {},
   "outputs": [
    {
     "name": "stdout",
     "output_type": "stream",
     "text": [
      "y_train_a anomalies: 4\n",
      "y_train_b anomalies: 60\n",
      "y_train_c anomalies: 47\n"
     ]
    }
   ],
   "source": [
    "# TAKES A WHILE TO RUN\n",
    "y_train_a_const_idx, ca = find_const_interval(dml.train_a, 'pv_measurement', y_hole_length)\n",
    "print('y_train_a anomalies:',ca)\n",
    "y_train_b_const_idx, cb = find_const_interval(dml.train_b, 'pv_measurement', y_hole_length)\n",
    "print('y_train_b anomalies:',cb)\n",
    "y_train_c_const_idx, cc = find_const_interval(dml.train_c, 'pv_measurement', y_hole_length)\n",
    "print('y_train_c anomalies:',cc)\n"
   ]
  },
  {
   "cell_type": "markdown",
   "metadata": {},
   "source": [
    "### Deleting the rows where pvm is const"
   ]
  },
  {
   "cell_type": "code",
   "execution_count": 18,
   "metadata": {},
   "outputs": [],
   "source": [
    "train_a = pd.concat([dml.data_A_obs, dml.data_A_es])\n",
    "train_b = pd.concat([dml.data_B_obs, dml.data_B_es])\n",
    "train_c = pd.concat([dml.data_C_obs, dml.data_C_es])"
   ]
  },
  {
   "cell_type": "code",
   "execution_count": 6,
   "metadata": {},
   "outputs": [],
   "source": [
    "date_forecast_a_const = dml.train_a.iloc[y_train_a_const_idx]['date_forecast']\n",
    "date_forecast_a_const_values = date_forecast_a_const.values\n",
    "train_a = train_a[~train_a['date_forecast'].isin(date_forecast_a_const_values)]\n",
    "\n",
    "date_forecast_b_const = dml.train_b.iloc[y_train_b_const_idx]['date_forecast']\n",
    "date_forecast_b_const_values = date_forecast_b_const.values\n",
    "train_b = train_b[~train_b['date_forecast'].isin(date_forecast_b_const_values)]\n",
    "\n",
    "date_forecast_c_const = dml.train_c.iloc[y_train_c_const_idx]['date_forecast']\n",
    "date_forecast_c_const_values = date_forecast_c_const.values\n",
    "train_c = train_c[~train_c['date_forecast'].isin(date_forecast_c_const_values)]\n"
   ]
  },
  {
   "cell_type": "code",
   "execution_count": 7,
   "metadata": {},
   "outputs": [],
   "source": [
    "# By running this block, the dm train_a etc. will consist of combined x and y obs and est data\n",
    "\n",
    "dml.train_a = train_a\n",
    "dml.train_b = train_b\n",
    "dml.train_c = train_c"
   ]
  },
  {
   "cell_type": "markdown",
   "metadata": {},
   "source": [
    "### Mean value"
   ]
  },
  {
   "cell_type": "code",
   "execution_count": 8,
   "metadata": {},
   "outputs": [
    {
     "name": "stdout",
     "output_type": "stream",
     "text": [
      "Stored 'dml' (Data_Manager)\n"
     ]
    }
   ],
   "source": [
    "%store dml"
   ]
  }
 ],
 "metadata": {
  "kernelspec": {
   "display_name": "Python 3",
   "language": "python",
   "name": "python3"
  },
  "language_info": {
   "codemirror_mode": {
    "name": "ipython",
    "version": 3
   },
   "file_extension": ".py",
   "mimetype": "text/x-python",
   "name": "python",
   "nbconvert_exporter": "python",
   "pygments_lexer": "ipython3",
   "version": "3.10.11"
  }
 },
 "nbformat": 4,
 "nbformat_minor": 2
}
