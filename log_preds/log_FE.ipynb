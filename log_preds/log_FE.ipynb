{
 "cells": [
  {
   "cell_type": "code",
   "execution_count": 19,
   "metadata": {},
   "outputs": [],
   "source": [
    "import sys\n",
    "import numpy as np\n",
    "import pandas as pd"
   ]
  },
  {
   "cell_type": "markdown",
   "metadata": {},
   "source": [
    "## Load DMS and store object"
   ]
  },
  {
   "cell_type": "code",
   "execution_count": 1,
   "metadata": {},
   "outputs": [],
   "source": [
    "sys.path.append('../')\n",
    "\n",
    "from data_prep import dm_saver, data_manager\n",
    "\n",
    "dms = dm_saver.DM_Saver.load('../dms')\n",
    "\n",
    "dml = data_manager.Data_Manager()\n",
    "\n",
    "dml.dms2dm(dms)"
   ]
  },
  {
   "cell_type": "markdown",
   "metadata": {},
   "source": [
    "## Normalizing the train data and saving the amplitude"
   ]
  },
  {
   "cell_type": "code",
   "execution_count": 13,
   "metadata": {},
   "outputs": [
    {
     "name": "stdout",
     "output_type": "stream",
     "text": [
      "A:\n",
      " count    136517.000000\n",
      "mean        629.777115\n",
      "std        1150.977480\n",
      "min           0.000000\n",
      "25%           0.000000\n",
      "50%          12.980000\n",
      "75%         694.760000\n",
      "max        5733.420000\n",
      "Name: pv_measurement, dtype: float64\n",
      "B:\n",
      " count    132097.000000\n",
      "mean         96.317876\n",
      "std         191.725332\n",
      "min           0.000000\n",
      "25%           0.000000\n",
      "50%           0.000000\n",
      "75%          96.600000\n",
      "max        1152.300000\n",
      "Name: pv_measurement, dtype: float64\n",
      "C:\n",
      " count    105661.000000\n",
      "mean         77.010242\n",
      "std         163.431271\n",
      "min           0.000000\n",
      "25%           0.000000\n",
      "50%           0.000000\n",
      "75%          61.250000\n",
      "max         999.600000\n",
      "Name: pv_measurement, dtype: float64\n"
     ]
    }
   ],
   "source": [
    "pv_a = dml.train_a['pv_measurement']\n",
    "pv_b = dml.train_b['pv_measurement']\n",
    "pv_c = dml.train_c['pv_measurement']\n",
    "\n",
    "print('A:\\n',pv_a.describe())\n",
    "print('B:\\n',pv_b.describe())\n",
    "print('C:\\n',pv_c.describe())"
   ]
  },
  {
   "cell_type": "markdown",
   "metadata": {},
   "source": [
    "### Mean value"
   ]
  },
  {
   "cell_type": "code",
   "execution_count": 20,
   "metadata": {},
   "outputs": [],
   "source": [
    "dml.amplitude = np.array([pv_a.mean(), pv_b.mean(),pv_c.mean()])"
   ]
  },
  {
   "cell_type": "markdown",
   "metadata": {},
   "source": [
    "### Downscaling"
   ]
  },
  {
   "cell_type": "code",
   "execution_count": 23,
   "metadata": {},
   "outputs": [],
   "source": [
    "dml.train_a['pv_measurement'] = pv_a / dml.amplitude[0]\n",
    "dml.train_b['pv_measurement'] = pv_b / dml.amplitude[1]\n",
    "dml.train_c['pv_measurement'] = pv_c / dml.amplitude[2]"
   ]
  },
  {
   "cell_type": "code",
   "execution_count": 24,
   "metadata": {},
   "outputs": [
    {
     "name": "stdout",
     "output_type": "stream",
     "text": [
      "Stored 'dml' (Data_Manager)\n"
     ]
    }
   ],
   "source": [
    "%store dml"
   ]
  }
 ],
 "metadata": {
  "kernelspec": {
   "display_name": "Python 3",
   "language": "python",
   "name": "python3"
  },
  "language_info": {
   "codemirror_mode": {
    "name": "ipython",
    "version": 3
   },
   "file_extension": ".py",
   "mimetype": "text/x-python",
   "name": "python",
   "nbconvert_exporter": "python",
   "pygments_lexer": "ipython3",
   "version": "3.10.11"
  }
 },
 "nbformat": 4,
 "nbformat_minor": 2
}
