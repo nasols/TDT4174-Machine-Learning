{
 "cells": [
  {
   "cell_type": "code",
   "execution_count": 1,
   "metadata": {},
   "outputs": [],
   "source": [
    "import sys\n",
    "import numpy as np\n",
    "import pandas as pd"
   ]
  },
  {
   "cell_type": "markdown",
   "metadata": {},
   "source": [
    "## Load DMS and store object"
   ]
  },
  {
   "cell_type": "code",
   "execution_count": 2,
   "metadata": {},
   "outputs": [],
   "source": [
    "sys.path.append('../')\n",
    "\n",
    "from data_prep import dm_saver, data_manager\n",
    "\n",
    "dms = dm_saver.DM_Saver.load('../dms')\n",
    "\n",
    "dml = data_manager.Data_Manager()\n",
    "\n",
    "dml.dms2dm(dms)"
   ]
  },
  {
   "cell_type": "markdown",
   "metadata": {},
   "source": [
    "## Locating constant y-intervals\n",
    "Dataset B and C has 'holes' in y_train, where pv_measurement is constant. Therefore we don't want to train on this data and can remove the corresponding rows for both X and Y"
   ]
  },
  {
   "cell_type": "code",
   "execution_count": 3,
   "metadata": {},
   "outputs": [],
   "source": [
    "y_hole_length = 200\n",
    "from helpers import find_const_interval"
   ]
  },
  {
   "cell_type": "code",
   "execution_count": 5,
   "metadata": {},
   "outputs": [
    {
     "name": "stdout",
     "output_type": "stream",
     "text": [
      "y_train_a anomalies: 4\n",
      "y_train_b anomalies: 60\n",
      "y_train_c anomalies: 47\n"
     ]
    }
   ],
   "source": [
    "# TAKES A WHILE TO RUN\n",
    "y_train_a_const_idx, ca = find_const_interval(dml.train_a, 'pv_measurement', y_hole_length)\n",
    "print('y_train_a anomalies:',ca)\n",
    "y_train_b_const_idx, cb = find_const_interval(dml.train_b, 'pv_measurement', y_hole_length)\n",
    "print('y_train_b anomalies:',cb)\n",
    "y_train_c_const_idx, cc = find_const_interval(dml.train_c, 'pv_measurement', y_hole_length)\n",
    "print('y_train_c anomalies:',cc)\n"
   ]
  },
  {
   "cell_type": "markdown",
   "metadata": {},
   "source": [
    "## Normalizing the train data and saving the amplitude"
   ]
  },
  {
   "cell_type": "code",
   "execution_count": 18,
   "metadata": {},
   "outputs": [
    {
     "name": "stdout",
     "output_type": "stream",
     "text": [
      "A:\n",
      " count    136517.000000\n",
      "mean        629.777115\n",
      "std        1150.977480\n",
      "min           0.000000\n",
      "25%           0.000000\n",
      "50%          12.980000\n",
      "75%         694.760000\n",
      "max        5733.420000\n",
      "Name: pv_measurement, dtype: float64\n",
      "B:\n",
      " count    132097.000000\n",
      "mean         96.317876\n",
      "std         191.725332\n",
      "min           0.000000\n",
      "25%           0.000000\n",
      "50%           0.000000\n",
      "75%          96.600000\n",
      "max        1152.300000\n",
      "Name: pv_measurement, dtype: float64\n",
      "C:\n",
      " count    105661.000000\n",
      "mean         77.010242\n",
      "std         163.431271\n",
      "min           0.000000\n",
      "25%           0.000000\n",
      "50%           0.000000\n",
      "75%          61.250000\n",
      "max         999.600000\n",
      "Name: pv_measurement, dtype: float64\n"
     ]
    }
   ],
   "source": [
    "pv_a = dml.train_a['pv_measurement']\n",
    "pv_b = dml.train_b['pv_measurement']\n",
    "pv_c = dml.train_c['pv_measurement']\n",
    "\n",
    "print('A:\\n',pv_a.describe())\n",
    "print('B:\\n',pv_b.describe())\n",
    "print('C:\\n',pv_c.describe())"
   ]
  },
  {
   "cell_type": "markdown",
   "metadata": {},
   "source": [
    "### Mean value"
   ]
  },
  {
   "cell_type": "code",
   "execution_count": 19,
   "metadata": {},
   "outputs": [
    {
     "data": {
      "text/plain": [
       "array([629.77711465,  96.31787607,  77.01024219])"
      ]
     },
     "execution_count": 19,
     "metadata": {},
     "output_type": "execute_result"
    }
   ],
   "source": [
    "dml.amplitude = np.array([pv_a.mean(), pv_b.mean(),pv_c.mean()])\n",
    "dml.amplitude"
   ]
  },
  {
   "cell_type": "code",
   "execution_count": 4,
   "metadata": {},
   "outputs": [
    {
     "name": "stdout",
     "output_type": "stream",
     "text": [
      "Stored 'dml' (Data_Manager)\n"
     ]
    }
   ],
   "source": [
    "%store dml"
   ]
  }
 ],
 "metadata": {
  "kernelspec": {
   "display_name": "Python 3",
   "language": "python",
   "name": "python3"
  },
  "language_info": {
   "codemirror_mode": {
    "name": "ipython",
    "version": 3
   },
   "file_extension": ".py",
   "mimetype": "text/x-python",
   "name": "python",
   "nbconvert_exporter": "python",
   "pygments_lexer": "ipython3",
   "version": "3.10.11"
  }
 },
 "nbformat": 4,
 "nbformat_minor": 2
}
