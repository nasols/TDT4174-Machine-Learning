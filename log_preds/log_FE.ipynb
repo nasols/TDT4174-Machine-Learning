{
 "cells": [
  {
   "cell_type": "code",
   "execution_count": 1,
   "metadata": {},
   "outputs": [],
   "source": [
    "import sys\n",
    "import numpy as np\n",
    "import pandas as pd\n",
    "\n",
    "%load_ext autoreload\n",
    "%autoreload 2"
   ]
  },
  {
   "cell_type": "markdown",
   "metadata": {},
   "source": [
    "## Load DMS and store object"
   ]
  },
  {
   "cell_type": "code",
   "execution_count": 2,
   "metadata": {},
   "outputs": [],
   "source": [
    "sys.path.append('../')\n",
    "\n",
    "from data_prep import dm_saver, data_manager\n",
    "\n",
    "dms = dm_saver.DM_Saver.load('../dms')\n",
    "\n",
    "dml = data_manager.Data_Manager()\n",
    "\n",
    "dml.dms2dm(dms)"
   ]
  },
  {
   "cell_type": "code",
   "execution_count": 3,
   "metadata": {},
   "outputs": [
    {
     "name": "stdout",
     "output_type": "stream",
     "text": [
      "(34061, 47)\n",
      "(32819, 47)\n",
      "(26071, 47)\n"
     ]
    }
   ],
   "source": [
    "print(dml.data_A.shape)\n",
    "print(dml.data_B.shape)\n",
    "print(dml.data_C.shape)"
   ]
  },
  {
   "cell_type": "markdown",
   "metadata": {},
   "source": [
    "## Locating constant pvm y-intervals\n",
    "Dataset B and C has 'holes' in y_train, where pv_measurement is constant. Therefore we don't want to train on this data and can remove the corresponding rows for both X and Y"
   ]
  },
  {
   "cell_type": "code",
   "execution_count": 4,
   "metadata": {},
   "outputs": [],
   "source": [
    "y_hole_length = 30\n",
    "from helpers import find_const_interval"
   ]
  },
  {
   "cell_type": "code",
   "execution_count": 13,
   "metadata": {},
   "outputs": [],
   "source": [
    "\n",
    "#print(dml.data_B['pv_measurement'][19608])\n",
    "dml.data_B.to_csv('data_B.csv')\n"
   ]
  },
  {
   "cell_type": "code",
   "execution_count": 5,
   "metadata": {},
   "outputs": [
    {
     "name": "stdout",
     "output_type": "stream",
     "text": [
      "326\n",
      "327\n",
      "444\n",
      "445\n",
      "975\n",
      "976\n",
      "1961\n",
      "1962\n",
      "3606\n",
      "3607\n",
      "3608\n",
      "7210\n",
      "7211\n",
      "7212\n",
      "7213\n",
      "7214\n",
      "8025\n",
      "8028\n",
      "8029\n",
      "8170\n",
      "8171\n",
      "8172\n",
      "8173\n",
      "8174\n",
      "8434\n",
      "8435\n",
      "8436\n",
      "8437\n",
      "8438\n",
      "8602\n",
      "8603\n",
      "8604\n",
      "8605\n",
      "8606\n",
      "8794\n",
      "8795\n",
      "8796\n",
      "8797\n",
      "8798\n",
      "8843\n",
      "8844\n",
      "8845\n",
      "8846\n",
      "9320\n",
      "9321\n",
      "9324\n",
      "9610\n",
      "9611\n",
      "9612\n",
      "9613\n",
      "9614\n",
      "10045\n",
      "10046\n",
      "10047\n",
      "10048\n",
      "10049\n",
      "10810\n",
      "10811\n",
      "10812\n",
      "10813\n",
      "10965\n",
      "10971\n",
      "13408\n",
      "13409\n",
      "13410\n",
      "13411\n",
      "13412\n",
      "13413\n",
      "15176\n",
      "15177\n",
      "15178\n",
      "15179\n",
      "15180\n",
      "17166\n",
      "17171\n",
      "17172\n",
      "17173\n",
      "17174\n",
      "17406\n",
      "17414\n",
      "17742\n",
      "17748\n",
      "17749\n",
      "17750\n",
      "17981\n",
      "17988\n",
      "17989\n",
      "18056\n",
      "18059\n",
      "18060\n",
      "18061\n",
      "18062\n",
      "18063\n",
      "18064\n",
      "18200\n",
      "18203\n",
      "18204\n",
      "18205\n",
      "18206\n",
      "18207\n",
      "18208\n",
      "18251\n",
      "18255\n",
      "18299\n",
      "18688\n",
      "18689\n",
      "18697\n",
      "19145\n"
     ]
    },
    {
     "ename": "KeyError",
     "evalue": "19608",
     "output_type": "error",
     "traceback": [
      "\u001b[1;31m---------------------------------------------------------------------------\u001b[0m",
      "\u001b[1;31mKeyError\u001b[0m                                  Traceback (most recent call last)",
      "File \u001b[1;32m~\\AppData\\Local\\Packages\\PythonSoftwareFoundation.Python.3.10_qbz5n2kfra8p0\\LocalCache\\local-packages\\Python310\\site-packages\\pandas\\core\\indexes\\base.py:3653\u001b[0m, in \u001b[0;36mIndex.get_loc\u001b[1;34m(self, key)\u001b[0m\n\u001b[0;32m   3652\u001b[0m \u001b[39mtry\u001b[39;00m:\n\u001b[1;32m-> 3653\u001b[0m     \u001b[39mreturn\u001b[39;00m \u001b[39mself\u001b[39;49m\u001b[39m.\u001b[39;49m_engine\u001b[39m.\u001b[39;49mget_loc(casted_key)\n\u001b[0;32m   3654\u001b[0m \u001b[39mexcept\u001b[39;00m \u001b[39mKeyError\u001b[39;00m \u001b[39mas\u001b[39;00m err:\n",
      "File \u001b[1;32m~\\AppData\\Local\\Packages\\PythonSoftwareFoundation.Python.3.10_qbz5n2kfra8p0\\LocalCache\\local-packages\\Python310\\site-packages\\pandas\\_libs\\index.pyx:147\u001b[0m, in \u001b[0;36mpandas._libs.index.IndexEngine.get_loc\u001b[1;34m()\u001b[0m\n",
      "File \u001b[1;32m~\\AppData\\Local\\Packages\\PythonSoftwareFoundation.Python.3.10_qbz5n2kfra8p0\\LocalCache\\local-packages\\Python310\\site-packages\\pandas\\_libs\\index.pyx:176\u001b[0m, in \u001b[0;36mpandas._libs.index.IndexEngine.get_loc\u001b[1;34m()\u001b[0m\n",
      "File \u001b[1;32mpandas\\_libs\\hashtable_class_helper.pxi:2606\u001b[0m, in \u001b[0;36mpandas._libs.hashtable.Int64HashTable.get_item\u001b[1;34m()\u001b[0m\n",
      "File \u001b[1;32mpandas\\_libs\\hashtable_class_helper.pxi:2630\u001b[0m, in \u001b[0;36mpandas._libs.hashtable.Int64HashTable.get_item\u001b[1;34m()\u001b[0m\n",
      "\u001b[1;31mKeyError\u001b[0m: 19608",
      "\nThe above exception was the direct cause of the following exception:\n",
      "\u001b[1;31mKeyError\u001b[0m                                  Traceback (most recent call last)",
      "\u001b[1;32mc:\\Users\\loghe\\OneDrive\\Dokumenter\\Skole\\Host23\\ML\\main_project\\TDT4174-Machine-Learning\\log_preds\\log_FE.ipynb Cell 8\u001b[0m line \u001b[0;36m4\n\u001b[0;32m      <a href='vscode-notebook-cell:/c%3A/Users/loghe/OneDrive/Dokumenter/Skole/Host23/ML/main_project/TDT4174-Machine-Learning/log_preds/log_FE.ipynb#W5sZmlsZQ%3D%3D?line=0'>1</a>\u001b[0m \u001b[39m# TAKES A WHILE TO RUN\u001b[39;00m\n\u001b[0;32m      <a href='vscode-notebook-cell:/c%3A/Users/loghe/OneDrive/Dokumenter/Skole/Host23/ML/main_project/TDT4174-Machine-Learning/log_preds/log_FE.ipynb#W5sZmlsZQ%3D%3D?line=1'>2</a>\u001b[0m \u001b[39m# y_train_a_const_idx, ca = find_const_interval(dml.data_A, 'pv_measurement', y_hole_length)\u001b[39;00m\n\u001b[0;32m      <a href='vscode-notebook-cell:/c%3A/Users/loghe/OneDrive/Dokumenter/Skole/Host23/ML/main_project/TDT4174-Machine-Learning/log_preds/log_FE.ipynb#W5sZmlsZQ%3D%3D?line=2'>3</a>\u001b[0m \u001b[39m# print('y_train_a anomalies:',ca)\u001b[39;00m\n\u001b[1;32m----> <a href='vscode-notebook-cell:/c%3A/Users/loghe/OneDrive/Dokumenter/Skole/Host23/ML/main_project/TDT4174-Machine-Learning/log_preds/log_FE.ipynb#W5sZmlsZQ%3D%3D?line=3'>4</a>\u001b[0m y_train_b_const_idx, cb \u001b[39m=\u001b[39m find_const_interval(dml\u001b[39m.\u001b[39;49mdata_B, \u001b[39m'\u001b[39;49m\u001b[39mpv_measurement\u001b[39;49m\u001b[39m'\u001b[39;49m, y_hole_length)\n\u001b[0;32m      <a href='vscode-notebook-cell:/c%3A/Users/loghe/OneDrive/Dokumenter/Skole/Host23/ML/main_project/TDT4174-Machine-Learning/log_preds/log_FE.ipynb#W5sZmlsZQ%3D%3D?line=4'>5</a>\u001b[0m \u001b[39mprint\u001b[39m(\u001b[39m'\u001b[39m\u001b[39my_train_b anomalies:\u001b[39m\u001b[39m'\u001b[39m,cb)\n\u001b[0;32m      <a href='vscode-notebook-cell:/c%3A/Users/loghe/OneDrive/Dokumenter/Skole/Host23/ML/main_project/TDT4174-Machine-Learning/log_preds/log_FE.ipynb#W5sZmlsZQ%3D%3D?line=5'>6</a>\u001b[0m y_train_c_const_idx, cc \u001b[39m=\u001b[39m find_const_interval(dml\u001b[39m.\u001b[39mdata_C, \u001b[39m'\u001b[39m\u001b[39mpv_measurement\u001b[39m\u001b[39m'\u001b[39m, y_hole_length)\n",
      "File \u001b[1;32mc:\\Users\\loghe\\OneDrive\\Dokumenter\\Skole\\Host23\\ML\\main_project\\TDT4174-Machine-Learning\\log_preds\\..\\helpers.py:91\u001b[0m, in \u001b[0;36mfind_const_interval\u001b[1;34m(df, target_attribute, interval_length)\u001b[0m\n\u001b[0;32m     89\u001b[0m j \u001b[39m=\u001b[39m i \u001b[39m-\u001b[39m \u001b[39m1\u001b[39m\n\u001b[0;32m     90\u001b[0m value \u001b[39m=\u001b[39m df[target_attribute][i]\n\u001b[1;32m---> 91\u001b[0m \u001b[39mwhile\u001b[39;00m value \u001b[39m==\u001b[39m df[target_attribute][j] \u001b[39mand\u001b[39;00m j \u001b[39m<\u001b[39m \u001b[39mlen\u001b[39m(df) \u001b[39m-\u001b[39m \u001b[39m1\u001b[39m:\n\u001b[0;32m     92\u001b[0m     j \u001b[39m+\u001b[39m\u001b[39m=\u001b[39m \u001b[39m1\u001b[39m\n\u001b[0;32m     93\u001b[0m idxs\u001b[39m.\u001b[39mextend(\u001b[39mlist\u001b[39m(\u001b[39mrange\u001b[39m(i, j)))\n",
      "File \u001b[1;32m~\\AppData\\Local\\Packages\\PythonSoftwareFoundation.Python.3.10_qbz5n2kfra8p0\\LocalCache\\local-packages\\Python310\\site-packages\\pandas\\core\\series.py:1007\u001b[0m, in \u001b[0;36mSeries.__getitem__\u001b[1;34m(self, key)\u001b[0m\n\u001b[0;32m   1004\u001b[0m     \u001b[39mreturn\u001b[39;00m \u001b[39mself\u001b[39m\u001b[39m.\u001b[39m_values[key]\n\u001b[0;32m   1006\u001b[0m \u001b[39melif\u001b[39;00m key_is_scalar:\n\u001b[1;32m-> 1007\u001b[0m     \u001b[39mreturn\u001b[39;00m \u001b[39mself\u001b[39;49m\u001b[39m.\u001b[39;49m_get_value(key)\n\u001b[0;32m   1009\u001b[0m \u001b[39mif\u001b[39;00m is_hashable(key):\n\u001b[0;32m   1010\u001b[0m     \u001b[39m# Otherwise index.get_value will raise InvalidIndexError\u001b[39;00m\n\u001b[0;32m   1011\u001b[0m     \u001b[39mtry\u001b[39;00m:\n\u001b[0;32m   1012\u001b[0m         \u001b[39m# For labels that don't resolve as scalars like tuples and frozensets\u001b[39;00m\n",
      "File \u001b[1;32m~\\AppData\\Local\\Packages\\PythonSoftwareFoundation.Python.3.10_qbz5n2kfra8p0\\LocalCache\\local-packages\\Python310\\site-packages\\pandas\\core\\series.py:1116\u001b[0m, in \u001b[0;36mSeries._get_value\u001b[1;34m(self, label, takeable)\u001b[0m\n\u001b[0;32m   1113\u001b[0m     \u001b[39mreturn\u001b[39;00m \u001b[39mself\u001b[39m\u001b[39m.\u001b[39m_values[label]\n\u001b[0;32m   1115\u001b[0m \u001b[39m# Similar to Index.get_value, but we do not fall back to positional\u001b[39;00m\n\u001b[1;32m-> 1116\u001b[0m loc \u001b[39m=\u001b[39m \u001b[39mself\u001b[39;49m\u001b[39m.\u001b[39;49mindex\u001b[39m.\u001b[39;49mget_loc(label)\n\u001b[0;32m   1118\u001b[0m \u001b[39mif\u001b[39;00m is_integer(loc):\n\u001b[0;32m   1119\u001b[0m     \u001b[39mreturn\u001b[39;00m \u001b[39mself\u001b[39m\u001b[39m.\u001b[39m_values[loc]\n",
      "File \u001b[1;32m~\\AppData\\Local\\Packages\\PythonSoftwareFoundation.Python.3.10_qbz5n2kfra8p0\\LocalCache\\local-packages\\Python310\\site-packages\\pandas\\core\\indexes\\base.py:3655\u001b[0m, in \u001b[0;36mIndex.get_loc\u001b[1;34m(self, key)\u001b[0m\n\u001b[0;32m   3653\u001b[0m     \u001b[39mreturn\u001b[39;00m \u001b[39mself\u001b[39m\u001b[39m.\u001b[39m_engine\u001b[39m.\u001b[39mget_loc(casted_key)\n\u001b[0;32m   3654\u001b[0m \u001b[39mexcept\u001b[39;00m \u001b[39mKeyError\u001b[39;00m \u001b[39mas\u001b[39;00m err:\n\u001b[1;32m-> 3655\u001b[0m     \u001b[39mraise\u001b[39;00m \u001b[39mKeyError\u001b[39;00m(key) \u001b[39mfrom\u001b[39;00m \u001b[39merr\u001b[39;00m\n\u001b[0;32m   3656\u001b[0m \u001b[39mexcept\u001b[39;00m \u001b[39mTypeError\u001b[39;00m:\n\u001b[0;32m   3657\u001b[0m     \u001b[39m# If we have a listlike key, _check_indexing_error will raise\u001b[39;00m\n\u001b[0;32m   3658\u001b[0m     \u001b[39m#  InvalidIndexError. Otherwise we fall through and re-raise\u001b[39;00m\n\u001b[0;32m   3659\u001b[0m     \u001b[39m#  the TypeError.\u001b[39;00m\n\u001b[0;32m   3660\u001b[0m     \u001b[39mself\u001b[39m\u001b[39m.\u001b[39m_check_indexing_error(key)\n",
      "\u001b[1;31mKeyError\u001b[0m: 19608"
     ]
    }
   ],
   "source": [
    "# TAKES A WHILE TO RUN\n",
    "# y_train_a_const_idx, ca = find_const_interval(dml.data_A, 'pv_measurement', y_hole_length)\n",
    "# print('y_train_a anomalies:',ca)\n",
    "y_train_b_const_idx, cb = find_const_interval(dml.data_B, 'pv_measurement', y_hole_length)\n",
    "print('y_train_b anomalies:',cb)\n",
    "y_train_c_const_idx, cc = find_const_interval(dml.data_C, 'pv_measurement', y_hole_length)\n",
    "print('y_train_c anomalies:',cc)\n"
   ]
  },
  {
   "cell_type": "markdown",
   "metadata": {},
   "source": [
    "### Deleting the rows where pvm is const"
   ]
  },
  {
   "cell_type": "code",
   "execution_count": 32,
   "metadata": {},
   "outputs": [],
   "source": [
    "train_a = dml.data_A\n",
    "train_b = dml.data_B\n",
    "train_c = dml.data_C"
   ]
  },
  {
   "cell_type": "code",
   "execution_count": 34,
   "metadata": {},
   "outputs": [
    {
     "data": {
      "text/plain": [
       "(0, 0)"
      ]
     },
     "execution_count": 34,
     "metadata": {},
     "output_type": "execute_result"
    }
   ],
   "source": [
    "train_a.shape"
   ]
  },
  {
   "cell_type": "code",
   "execution_count": 19,
   "metadata": {},
   "outputs": [
    {
     "ename": "KeyError",
     "evalue": "'date_forecast'",
     "output_type": "error",
     "traceback": [
      "\u001b[1;31m---------------------------------------------------------------------------\u001b[0m",
      "\u001b[1;31mKeyError\u001b[0m                                  Traceback (most recent call last)",
      "\u001b[1;32mc:\\Users\\loghe\\OneDrive\\Dokumenter\\Skole\\Host23\\ML\\main_project\\TDT4174-Machine-Learning\\log_preds\\log_FE.ipynb Cell 9\u001b[0m line \u001b[0;36m3\n\u001b[0;32m      <a href='vscode-notebook-cell:/c%3A/Users/loghe/OneDrive/Dokumenter/Skole/Host23/ML/main_project/TDT4174-Machine-Learning/log_preds/log_FE.ipynb#X11sZmlsZQ%3D%3D?line=0'>1</a>\u001b[0m date_forecast_a_const \u001b[39m=\u001b[39m dml\u001b[39m.\u001b[39mtrain_a\u001b[39m.\u001b[39miloc[y_train_a_const_idx][\u001b[39m'\u001b[39m\u001b[39mdate_forecast\u001b[39m\u001b[39m'\u001b[39m]\n\u001b[0;32m      <a href='vscode-notebook-cell:/c%3A/Users/loghe/OneDrive/Dokumenter/Skole/Host23/ML/main_project/TDT4174-Machine-Learning/log_preds/log_FE.ipynb#X11sZmlsZQ%3D%3D?line=1'>2</a>\u001b[0m date_forecast_a_const_values \u001b[39m=\u001b[39m date_forecast_a_const\u001b[39m.\u001b[39mvalues\n\u001b[1;32m----> <a href='vscode-notebook-cell:/c%3A/Users/loghe/OneDrive/Dokumenter/Skole/Host23/ML/main_project/TDT4174-Machine-Learning/log_preds/log_FE.ipynb#X11sZmlsZQ%3D%3D?line=2'>3</a>\u001b[0m train_a \u001b[39m=\u001b[39m train_a[\u001b[39m~\u001b[39mtrain_a[\u001b[39m'\u001b[39;49m\u001b[39mdate_forecast\u001b[39;49m\u001b[39m'\u001b[39;49m]\u001b[39m.\u001b[39misin(date_forecast_a_const_values)]\n\u001b[0;32m      <a href='vscode-notebook-cell:/c%3A/Users/loghe/OneDrive/Dokumenter/Skole/Host23/ML/main_project/TDT4174-Machine-Learning/log_preds/log_FE.ipynb#X11sZmlsZQ%3D%3D?line=4'>5</a>\u001b[0m date_forecast_b_const \u001b[39m=\u001b[39m dml\u001b[39m.\u001b[39mtrain_b\u001b[39m.\u001b[39miloc[y_train_b_const_idx][\u001b[39m'\u001b[39m\u001b[39mdate_forecast\u001b[39m\u001b[39m'\u001b[39m]\n\u001b[0;32m      <a href='vscode-notebook-cell:/c%3A/Users/loghe/OneDrive/Dokumenter/Skole/Host23/ML/main_project/TDT4174-Machine-Learning/log_preds/log_FE.ipynb#X11sZmlsZQ%3D%3D?line=5'>6</a>\u001b[0m date_forecast_b_const_values \u001b[39m=\u001b[39m date_forecast_b_const\u001b[39m.\u001b[39mvalues\n",
      "File \u001b[1;32m~\\AppData\\Local\\Packages\\PythonSoftwareFoundation.Python.3.10_qbz5n2kfra8p0\\LocalCache\\local-packages\\Python310\\site-packages\\pandas\\core\\frame.py:3761\u001b[0m, in \u001b[0;36mDataFrame.__getitem__\u001b[1;34m(self, key)\u001b[0m\n\u001b[0;32m   3759\u001b[0m \u001b[39mif\u001b[39;00m \u001b[39mself\u001b[39m\u001b[39m.\u001b[39mcolumns\u001b[39m.\u001b[39mnlevels \u001b[39m>\u001b[39m \u001b[39m1\u001b[39m:\n\u001b[0;32m   3760\u001b[0m     \u001b[39mreturn\u001b[39;00m \u001b[39mself\u001b[39m\u001b[39m.\u001b[39m_getitem_multilevel(key)\n\u001b[1;32m-> 3761\u001b[0m indexer \u001b[39m=\u001b[39m \u001b[39mself\u001b[39;49m\u001b[39m.\u001b[39;49mcolumns\u001b[39m.\u001b[39;49mget_loc(key)\n\u001b[0;32m   3762\u001b[0m \u001b[39mif\u001b[39;00m is_integer(indexer):\n\u001b[0;32m   3763\u001b[0m     indexer \u001b[39m=\u001b[39m [indexer]\n",
      "File \u001b[1;32m~\\AppData\\Local\\Packages\\PythonSoftwareFoundation.Python.3.10_qbz5n2kfra8p0\\LocalCache\\local-packages\\Python310\\site-packages\\pandas\\core\\indexes\\range.py:349\u001b[0m, in \u001b[0;36mRangeIndex.get_loc\u001b[1;34m(self, key)\u001b[0m\n\u001b[0;32m    347\u001b[0m         \u001b[39mraise\u001b[39;00m \u001b[39mKeyError\u001b[39;00m(key) \u001b[39mfrom\u001b[39;00m \u001b[39merr\u001b[39;00m\n\u001b[0;32m    348\u001b[0m \u001b[39mif\u001b[39;00m \u001b[39misinstance\u001b[39m(key, Hashable):\n\u001b[1;32m--> 349\u001b[0m     \u001b[39mraise\u001b[39;00m \u001b[39mKeyError\u001b[39;00m(key)\n\u001b[0;32m    350\u001b[0m \u001b[39mself\u001b[39m\u001b[39m.\u001b[39m_check_indexing_error(key)\n\u001b[0;32m    351\u001b[0m \u001b[39mraise\u001b[39;00m \u001b[39mKeyError\u001b[39;00m(key)\n",
      "\u001b[1;31mKeyError\u001b[0m: 'date_forecast'"
     ]
    }
   ],
   "source": [
    "date_forecast_a_const = train_a.iloc[y_train_a_const_idx]['date_forecast']\n",
    "date_forecast_a_const_values = date_forecast_a_const.values\n",
    "train_a = train_a[~train_a['date_forecast'].isin(date_forecast_a_const_values)]\n",
    "\n",
    "date_forecast_b_const = train_b.iloc[y_train_b_const_idx]['date_forecast']\n",
    "date_forecast_b_const_values = date_forecast_b_const.values\n",
    "train_b = train_b[~train_b['date_forecast'].isin(date_forecast_b_const_values)]\n",
    "\n",
    "date_forecast_c_const = train_c.iloc[y_train_c_const_idx]['date_forecast']\n",
    "date_forecast_c_const_values = date_forecast_c_const.values\n",
    "train_c = train_c[~train_c['date_forecast'].isin(date_forecast_c_const_values)]\n"
   ]
  },
  {
   "cell_type": "code",
   "execution_count": 7,
   "metadata": {},
   "outputs": [],
   "source": [
    "\n",
    "dml.data_A = train_a\n",
    "dml.data_B = train_b\n",
    "dml.data_C = train_c"
   ]
  },
  {
   "cell_type": "markdown",
   "metadata": {},
   "source": [
    "### Mean value"
   ]
  },
  {
   "cell_type": "code",
   "execution_count": 4,
   "metadata": {},
   "outputs": [
    {
     "name": "stdout",
     "output_type": "stream",
     "text": [
      "Stored 'dml' (Data_Manager)\n"
     ]
    }
   ],
   "source": [
    "%store dml"
   ]
  }
 ],
 "metadata": {
  "kernelspec": {
   "display_name": "Python 3",
   "language": "python",
   "name": "python3"
  },
  "language_info": {
   "codemirror_mode": {
    "name": "ipython",
    "version": 3
   },
   "file_extension": ".py",
   "mimetype": "text/x-python",
   "name": "python",
   "nbconvert_exporter": "python",
   "pygments_lexer": "ipython3",
   "version": "3.10.11"
  }
 },
 "nbformat": 4,
 "nbformat_minor": 2
}
