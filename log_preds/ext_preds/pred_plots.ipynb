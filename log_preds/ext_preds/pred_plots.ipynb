{
 "cells": [
  {
   "cell_type": "code",
   "execution_count": 131,
   "metadata": {},
   "outputs": [],
   "source": [
    "import matplotlib.pyplot as plt \n",
    "import csv \n",
    "import numpy as np \n",
    "import pandas as pd\n",
    "from sklearn.metrics import mean_absolute_error"
   ]
  },
  {
   "cell_type": "code",
   "execution_count": 132,
   "metadata": {},
   "outputs": [],
   "source": [
    "goodpred = pd.read_csv(\"log_sub_4.csv\") # 154.98\n",
    "bestpred = pd.read_csv(\"log_sub_11.csv\") # 152.69"
   ]
  },
  {
   "cell_type": "code",
   "execution_count": 133,
   "metadata": {},
   "outputs": [],
   "source": [
    "def compare_new(newpred):\n",
    "    good_best = mean_absolute_error(goodpred['predict'], bestpred['predict'])\n",
    "    print('mae between good and best: ', good_best)\n",
    "    good_new = mean_absolute_error(goodpred['predict'], newpred['predict'])\n",
    "    print('mae between good and new: ', good_new)\n",
    "    best_new = mean_absolute_error(bestpred['predict'], newpred['predict'])\n",
    "    print('mae between best and new: ', best_new)\n",
    "\n",
    "    new_better = best_new < good_new and good_new > good_best\n",
    "\n",
    "    return new_better"
   ]
  },
  {
   "cell_type": "code",
   "execution_count": 134,
   "metadata": {},
   "outputs": [
    {
     "name": "stdout",
     "output_type": "stream",
     "text": [
      "mae between good and best:  35.848021529991975\n",
      "mae between good and new:  36.88141718163111\n",
      "mae between best and new:  10.922353793527048\n",
      "new is better: True\n"
     ]
    }
   ],
   "source": [
    "newpred = pd.read_csv(\"log_sub_1d.csv\")\n",
    "print('new is better:',compare_new(newpred))"
   ]
  }
 ],
 "metadata": {
  "kernelspec": {
   "display_name": "Python 3",
   "language": "python",
   "name": "python3"
  },
  "language_info": {
   "codemirror_mode": {
    "name": "ipython",
    "version": 3
   },
   "file_extension": ".py",
   "mimetype": "text/x-python",
   "name": "python",
   "nbconvert_exporter": "python",
   "pygments_lexer": "ipython3",
   "version": "3.10.11"
  }
 },
 "nbformat": 4,
 "nbformat_minor": 2
}
