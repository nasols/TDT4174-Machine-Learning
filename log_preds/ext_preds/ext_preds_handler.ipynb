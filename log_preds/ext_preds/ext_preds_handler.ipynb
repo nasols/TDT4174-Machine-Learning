{
 "cells": [
  {
   "cell_type": "markdown",
   "metadata": {},
   "source": [
    "# Notebook for handling external pred files"
   ]
  },
  {
   "cell_type": "code",
   "execution_count": 5,
   "metadata": {},
   "outputs": [],
   "source": [
    "import pandas as pd"
   ]
  },
  {
   "cell_type": "code",
   "execution_count": 6,
   "metadata": {},
   "outputs": [],
   "source": [
    "# Read CSV files\n",
    "df_A = pd.read_csv('pred_A1.csv')\n",
    "df_B = pd.read_csv('pred_b2.csv')\n",
    "df_C = pd.read_csv('pred_c2.csv')"
   ]
  },
  {
   "cell_type": "code",
   "execution_count": 7,
   "metadata": {},
   "outputs": [
    {
     "data": {
      "text/plain": [
       "(2160, 1)"
      ]
     },
     "execution_count": 7,
     "metadata": {},
     "output_type": "execute_result"
    }
   ],
   "source": [
    "df_A[\"location\"] = \"A\"\n",
    "df_B[\"location\"] = \"B\"\n",
    "df_C[\"location\"] = \"C\"\n",
    "\n",
    "df_mid = pd.concat([df_A, df_B], ignore_index=True)\n",
    "\n",
    "df = pd.concat([df_mid, df_C], join=\"inner\", ignore_index=True)\n",
    "\n",
    "df = df.drop(\"location\", axis=1)\n",
    "\n",
    "df[df<0] = 0\n",
    "\n",
    "# NAME THE FILE \n",
    "df.to_csv(\"log_sub_3.csv\")\n",
    "\n",
    "df.shape"
   ]
  }
 ],
 "metadata": {
  "kernelspec": {
   "display_name": "Python 3",
   "language": "python",
   "name": "python3"
  },
  "language_info": {
   "codemirror_mode": {
    "name": "ipython",
    "version": 3
   },
   "file_extension": ".py",
   "mimetype": "text/x-python",
   "name": "python",
   "nbconvert_exporter": "python",
   "pygments_lexer": "ipython3",
   "version": "3.10.11"
  }
 },
 "nbformat": 4,
 "nbformat_minor": 2
}
