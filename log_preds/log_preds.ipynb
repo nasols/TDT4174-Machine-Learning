{
 "cells": [
  {
   "cell_type": "markdown",
   "metadata": {},
   "source": [
    "## Notebook for making predictions with Normalized train data\n"
   ]
  },
  {
   "cell_type": "code",
   "execution_count": 5,
   "metadata": {},
   "outputs": [],
   "source": [
    "import pandas as pd\n",
    "import sys\n",
    "from sklearn.model_selection import train_test_split\n",
    "from catboost import CatBoostRegressor"
   ]
  },
  {
   "cell_type": "markdown",
   "metadata": {},
   "source": [
    "### Reading dataset stored in other notebooks"
   ]
  },
  {
   "cell_type": "code",
   "execution_count": 3,
   "metadata": {},
   "outputs": [],
   "source": [
    "sys.path.append('../')\n",
    "\n",
    "%store -r dml\n",
    "\n",
    "dm = dml"
   ]
  },
  {
   "cell_type": "markdown",
   "metadata": {},
   "source": [
    "## Getting data"
   ]
  },
  {
   "cell_type": "code",
   "execution_count": 4,
   "metadata": {},
   "outputs": [],
   "source": [
    "X_A_train = dm.data_A_obs.iloc[:, 2:-1]\n",
    "y_A_train = dm.data_A_obs.iloc[:,0]\n",
    "X_B_train = dm.data_B_obs.iloc[:, 2:-1]\n",
    "y_B_train = dm.data_B_obs.iloc[:,0]\n",
    "X_C_train = dm.data_C_obs.iloc[:, 2:-1]\n",
    "y_C_train = dm.data_C_obs.iloc[:,0]\n",
    "\n",
    "X_A_val = dm.data_A_es.iloc[:, 2:-1]\n",
    "y_A_val = dm.data_A_es.iloc[:,0]\n",
    "X_B_val = dm.data_B_es.iloc[:, 2:-1]\n",
    "y_B_val = dm.data_B_es.iloc[:,0]\n",
    "\n",
    "X_C_val = dm.data_C_es.iloc[:, 2:-1]\n",
    "y_C_val = dm.data_C_es.iloc[:,0]\n",
    "\n",
    "X_A_test = dm.X_test_estimated_a[dm.X_test_estimated_a.columns.intersection(X_A_train.columns)]\n",
    "X_B_test = dm.X_test_estimated_b[dm.X_test_estimated_b.columns.intersection(X_B_train.columns)]\n",
    "X_C_test = dm.X_test_estimated_c[dm.X_test_estimated_c.columns.intersection(X_C_train.columns)]"
   ]
  },
  {
   "cell_type": "markdown",
   "metadata": {},
   "source": [
    "## Catboost models"
   ]
  },
  {
   "cell_type": "code",
   "execution_count": null,
   "metadata": {},
   "outputs": [],
   "source": [
    "catModel_A = CatBoostRegressor()\n",
    "catModel_B = CatBoostRegressor()\n",
    "catModel_C = CatBoostRegressor()\n",
    "\n",
    "catModel = CatBoostRegressor()"
   ]
  },
  {
   "cell_type": "code",
   "execution_count": null,
   "metadata": {},
   "outputs": [],
   "source": []
  }
 ],
 "metadata": {
  "kernelspec": {
   "display_name": "Python 3",
   "language": "python",
   "name": "python3"
  },
  "language_info": {
   "codemirror_mode": {
    "name": "ipython",
    "version": 3
   },
   "file_extension": ".py",
   "mimetype": "text/x-python",
   "name": "python",
   "nbconvert_exporter": "python",
   "pygments_lexer": "ipython3",
   "version": "3.10.11"
  },
  "orig_nbformat": 4
 },
 "nbformat": 4,
 "nbformat_minor": 2
}
